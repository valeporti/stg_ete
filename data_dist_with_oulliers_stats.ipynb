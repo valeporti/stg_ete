{
 "cells": [
  {
   "cell_type": "code",
   "execution_count": 1,
   "metadata": {},
   "outputs": [],
   "source": [
    "import gc\n",
    "import math\n",
    "\n",
    "import numpy as np\n",
    "import pandas as pd\n",
    "\n",
    "import matplotlib.pyplot as plt\n",
    "import seaborn as sns\n",
    "import matplotlib as mpl\n",
    "\n",
    "import scipy.stats as st\n",
    "from sklearn.impute import SimpleImputer\n",
    "from sklearn.preprocessing import StandardScaler\n",
    "from sklearn.base import BaseEstimator, TransformerMixin\n",
    "from sklearn.pipeline import Pipeline, FeatureUnion\n",
    "\n",
    "from sklearn.decomposition import PCA\n",
    "\n",
    "import helpers as hp"
   ]
  },
  {
   "cell_type": "code",
   "execution_count": 2,
   "metadata": {},
   "outputs": [],
   "source": [
    "MDIR = '/sanssauvegarde/homes/v18porti/info/'"
   ]
  },
  {
   "cell_type": "code",
   "execution_count": 3,
   "metadata": {},
   "outputs": [],
   "source": [
    "df_ALL = pd.read_feather(MDIR + '200_32.feather')"
   ]
  },
  {
   "cell_type": "code",
   "execution_count": 4,
   "metadata": {},
   "outputs": [
    {
     "data": {
      "text/plain": [
       "\"dfgb = df_ALL.groupby('vectorUFAmpKLD_ALL')['vectorUFAmpKLD_ALL'].nunique()\\nprint(dfgb)\""
      ]
     },
     "execution_count": 4,
     "metadata": {},
     "output_type": "execute_result"
    }
   ],
   "source": [
    "\"\"\"dfgb = df_ALL.groupby('vectorUFAmpKLD_ALL')['vectorUFAmpKLD_ALL'].nunique()\n",
    "print(dfgb)\"\"\""
   ]
  },
  {
   "cell_type": "code",
   "execution_count": 5,
   "metadata": {},
   "outputs": [
    {
     "data": {
      "text/html": [
       "<div>\n",
       "<style scoped>\n",
       "    .dataframe tbody tr th:only-of-type {\n",
       "        vertical-align: middle;\n",
       "    }\n",
       "\n",
       "    .dataframe tbody tr th {\n",
       "        vertical-align: top;\n",
       "    }\n",
       "\n",
       "    .dataframe thead th {\n",
       "        text-align: right;\n",
       "    }\n",
       "</style>\n",
       "<table border=\"1\" class=\"dataframe\">\n",
       "  <thead>\n",
       "    <tr style=\"text-align: right;\">\n",
       "      <th></th>\n",
       "      <th>vectorRRKLD_ALL</th>\n",
       "      <th>vectorFAmpKLD_ALL</th>\n",
       "      <th>vectorUFAmpKLD_ALL</th>\n",
       "      <th>vectorCorrKLD_ALL</th>\n",
       "    </tr>\n",
       "  </thead>\n",
       "  <tbody>\n",
       "    <tr>\n",
       "      <th>count</th>\n",
       "      <td>5.035840e+07</td>\n",
       "      <td>5.035947e+07</td>\n",
       "      <td>5.035947e+07</td>\n",
       "      <td>4.943770e+07</td>\n",
       "    </tr>\n",
       "    <tr>\n",
       "      <th>mean</th>\n",
       "      <td>2.868624e+14</td>\n",
       "      <td>1.002450e+02</td>\n",
       "      <td>1.832059e+14</td>\n",
       "      <td>1.364339e+01</td>\n",
       "    </tr>\n",
       "    <tr>\n",
       "      <th>std</th>\n",
       "      <td>inf</td>\n",
       "      <td>3.779417e+03</td>\n",
       "      <td>inf</td>\n",
       "      <td>3.970723e+01</td>\n",
       "    </tr>\n",
       "    <tr>\n",
       "      <th>min</th>\n",
       "      <td>-1.196758e+01</td>\n",
       "      <td>0.000000e+00</td>\n",
       "      <td>-1.520206e+00</td>\n",
       "      <td>0.000000e+00</td>\n",
       "    </tr>\n",
       "    <tr>\n",
       "      <th>25%</th>\n",
       "      <td>8.376141e+00</td>\n",
       "      <td>3.713027e+00</td>\n",
       "      <td>1.080568e+01</td>\n",
       "      <td>4.991102e+00</td>\n",
       "    </tr>\n",
       "    <tr>\n",
       "      <th>50%</th>\n",
       "      <td>1.086889e+01</td>\n",
       "      <td>5.205714e+00</td>\n",
       "      <td>1.434603e+01</td>\n",
       "      <td>7.447418e+00</td>\n",
       "    </tr>\n",
       "    <tr>\n",
       "      <th>75%</th>\n",
       "      <td>1.583047e+01</td>\n",
       "      <td>7.720136e+00</td>\n",
       "      <td>2.120557e+01</td>\n",
       "      <td>1.173964e+01</td>\n",
       "    </tr>\n",
       "    <tr>\n",
       "      <th>max</th>\n",
       "      <td>3.421422e+19</td>\n",
       "      <td>8.780618e+05</td>\n",
       "      <td>2.250281e+20</td>\n",
       "      <td>1.712306e+03</td>\n",
       "    </tr>\n",
       "  </tbody>\n",
       "</table>\n",
       "</div>"
      ],
      "text/plain": [
       "       vectorRRKLD_ALL  vectorFAmpKLD_ALL  vectorUFAmpKLD_ALL  \\\n",
       "count     5.035840e+07       5.035947e+07        5.035947e+07   \n",
       "mean      2.868624e+14       1.002450e+02        1.832059e+14   \n",
       "std                inf       3.779417e+03                 inf   \n",
       "min      -1.196758e+01       0.000000e+00       -1.520206e+00   \n",
       "25%       8.376141e+00       3.713027e+00        1.080568e+01   \n",
       "50%       1.086889e+01       5.205714e+00        1.434603e+01   \n",
       "75%       1.583047e+01       7.720136e+00        2.120557e+01   \n",
       "max       3.421422e+19       8.780618e+05        2.250281e+20   \n",
       "\n",
       "       vectorCorrKLD_ALL  \n",
       "count       4.943770e+07  \n",
       "mean        1.364339e+01  \n",
       "std         3.970723e+01  \n",
       "min         0.000000e+00  \n",
       "25%         4.991102e+00  \n",
       "50%         7.447418e+00  \n",
       "75%         1.173964e+01  \n",
       "max         1.712306e+03  "
      ]
     },
     "execution_count": 5,
     "metadata": {},
     "output_type": "execute_result"
    }
   ],
   "source": [
    "df_ALL.describe()"
   ]
  },
  {
   "cell_type": "markdown",
   "metadata": {},
   "source": [
    ">200 - 921773/50358400 = 1.83% null values (for most unfavorable feature vectorCorrKLD_ALL)\n",
    "\n",
    ">300 - 1377982/81318210 = 1.7% null values (for most unfavorable feature vectorCorrKLD_ALL)"
   ]
  },
  {
   "cell_type": "code",
   "execution_count": 6,
   "metadata": {},
   "outputs": [
    {
     "data": {
      "text/plain": [
       "vectorRRKLD_ALL         1069\n",
       "vectorFAmpKLD_ALL          0\n",
       "vectorUFAmpKLD_ALL         0\n",
       "vectorCorrKLD_ALL     921773\n",
       "dtype: int64"
      ]
     },
     "execution_count": 6,
     "metadata": {},
     "output_type": "execute_result"
    }
   ],
   "source": [
    "len(df_ALL) - df_ALL.count()"
   ]
  },
  {
   "cell_type": "code",
   "execution_count": 7,
   "metadata": {},
   "outputs": [],
   "source": [
    "X = df_ALL.to_numpy()"
   ]
  },
  {
   "cell_type": "code",
   "execution_count": 8,
   "metadata": {},
   "outputs": [],
   "source": [
    "imp_mean = SimpleImputer(missing_values=np.nan, strategy='mean')\n",
    "imp_mean.fit(X)\n",
    "X = imp_mean.transform(X)"
   ]
  },
  {
   "cell_type": "code",
   "execution_count": 9,
   "metadata": {},
   "outputs": [],
   "source": [
    "df_ALL = hp.convertDictInDF(hp.putDataInDict(\n",
    "        [X[:,0], X[:,1], X[:,2], X[:,3]],\n",
    "        ['vectorRRKLD', 'vectorFAmpKLD', 'vectorUFAmpKLD', 'vectorCorrKLD']\n",
    "    ))\n",
    "#['vectorRRKLD', 'vectorFAmpKLD', 'vectorUFAmpKLD', 'vectorCorrKLD']"
   ]
  },
  {
   "cell_type": "code",
   "execution_count": 10,
   "metadata": {
    "scrolled": true
   },
   "outputs": [
    {
     "data": {
      "text/html": [
       "<div>\n",
       "<style scoped>\n",
       "    .dataframe tbody tr th:only-of-type {\n",
       "        vertical-align: middle;\n",
       "    }\n",
       "\n",
       "    .dataframe tbody tr th {\n",
       "        vertical-align: top;\n",
       "    }\n",
       "\n",
       "    .dataframe thead th {\n",
       "        text-align: right;\n",
       "    }\n",
       "</style>\n",
       "<table border=\"1\" class=\"dataframe\">\n",
       "  <thead>\n",
       "    <tr style=\"text-align: right;\">\n",
       "      <th></th>\n",
       "      <th>vectorRRKLD</th>\n",
       "      <th>vectorFAmpKLD</th>\n",
       "      <th>vectorUFAmpKLD</th>\n",
       "      <th>vectorCorrKLD</th>\n",
       "    </tr>\n",
       "  </thead>\n",
       "  <tbody>\n",
       "    <tr>\n",
       "      <th>count</th>\n",
       "      <td>5.035947e+07</td>\n",
       "      <td>5.035947e+07</td>\n",
       "      <td>5.035947e+07</td>\n",
       "      <td>5.035947e+07</td>\n",
       "    </tr>\n",
       "    <tr>\n",
       "      <th>mean</th>\n",
       "      <td>2.868624e+14</td>\n",
       "      <td>1.002450e+02</td>\n",
       "      <td>1.832059e+14</td>\n",
       "      <td>1.364339e+01</td>\n",
       "    </tr>\n",
       "    <tr>\n",
       "      <th>std</th>\n",
       "      <td>inf</td>\n",
       "      <td>3.779417e+03</td>\n",
       "      <td>inf</td>\n",
       "      <td>3.934215e+01</td>\n",
       "    </tr>\n",
       "    <tr>\n",
       "      <th>min</th>\n",
       "      <td>-1.196758e+01</td>\n",
       "      <td>0.000000e+00</td>\n",
       "      <td>-1.520206e+00</td>\n",
       "      <td>0.000000e+00</td>\n",
       "    </tr>\n",
       "    <tr>\n",
       "      <th>25%</th>\n",
       "      <td>8.376195e+00</td>\n",
       "      <td>3.713027e+00</td>\n",
       "      <td>1.080568e+01</td>\n",
       "      <td>5.036375e+00</td>\n",
       "    </tr>\n",
       "    <tr>\n",
       "      <th>50%</th>\n",
       "      <td>1.086902e+01</td>\n",
       "      <td>5.205714e+00</td>\n",
       "      <td>1.434603e+01</td>\n",
       "      <td>7.554125e+00</td>\n",
       "    </tr>\n",
       "    <tr>\n",
       "      <th>75%</th>\n",
       "      <td>1.583089e+01</td>\n",
       "      <td>7.720136e+00</td>\n",
       "      <td>2.120557e+01</td>\n",
       "      <td>1.215418e+01</td>\n",
       "    </tr>\n",
       "    <tr>\n",
       "      <th>max</th>\n",
       "      <td>3.421422e+19</td>\n",
       "      <td>8.780618e+05</td>\n",
       "      <td>2.250281e+20</td>\n",
       "      <td>1.712306e+03</td>\n",
       "    </tr>\n",
       "  </tbody>\n",
       "</table>\n",
       "</div>"
      ],
      "text/plain": [
       "        vectorRRKLD  vectorFAmpKLD  vectorUFAmpKLD  vectorCorrKLD\n",
       "count  5.035947e+07   5.035947e+07    5.035947e+07   5.035947e+07\n",
       "mean   2.868624e+14   1.002450e+02    1.832059e+14   1.364339e+01\n",
       "std             inf   3.779417e+03             inf   3.934215e+01\n",
       "min   -1.196758e+01   0.000000e+00   -1.520206e+00   0.000000e+00\n",
       "25%    8.376195e+00   3.713027e+00    1.080568e+01   5.036375e+00\n",
       "50%    1.086902e+01   5.205714e+00    1.434603e+01   7.554125e+00\n",
       "75%    1.583089e+01   7.720136e+00    2.120557e+01   1.215418e+01\n",
       "max    3.421422e+19   8.780618e+05    2.250281e+20   1.712306e+03"
      ]
     },
     "execution_count": 10,
     "metadata": {},
     "output_type": "execute_result"
    }
   ],
   "source": [
    "df_ALL.describe()"
   ]
  },
  {
   "cell_type": "code",
   "execution_count": null,
   "metadata": {},
   "outputs": [],
   "source": [
    "\"\"\"stat, p = st.normaltest(X)\"\"\""
   ]
  },
  {
   "cell_type": "code",
   "execution_count": null,
   "metadata": {},
   "outputs": [],
   "source": []
  },
  {
   "cell_type": "markdown",
   "metadata": {},
   "source": [
    "> From description, we can see that \"vectorRRKLD\" and \"vectorUFAmpKLD\" have a strange behavior (inf std dev??)"
   ]
  },
  {
   "cell_type": "markdown",
   "metadata": {},
   "source": [
    "# Take out outliers \n",
    "\n",
    "## Zscore \n",
    "\n",
    "> Tried other statistical methods (listed below) but got not conclusive results (the ouliers I wanted to be removed weren't) and the complexity was too high for some (KNN) so time and memory were an issue\n",
    "```python\n",
    "from sklearn.neighbors import LocalOutlierFactor\n",
    "from pyod.models.hbos import HBOS # Histogram-based Outlier Detection\n",
    "from pyod.models.knn import KNN # K Nearest Neighbors\n",
    "```\n"
   ]
  },
  {
   "cell_type": "code",
   "execution_count": 11,
   "metadata": {},
   "outputs": [],
   "source": [
    "df_1 = df_ALL"
   ]
  },
  {
   "cell_type": "code",
   "execution_count": 12,
   "metadata": {},
   "outputs": [],
   "source": [
    "threshold = 10"
   ]
  },
  {
   "cell_type": "code",
   "execution_count": 12,
   "metadata": {},
   "outputs": [
    {
     "name": "stderr",
     "output_type": "stream",
     "text": [
      "/homes/v18porti/.local/lib/python3.6/site-packages/numpy/core/_methods.py:195: RuntimeWarning: overflow encountered in multiply\n",
      "  x = um.multiply(x, x, out=x)\n",
      "/homes/v18porti/.local/lib/python3.6/site-packages/numpy/core/_methods.py:199: RuntimeWarning: overflow encountered in reduce\n",
      "  ret = umr_sum(x, axis, dtype, out, keepdims)\n"
     ]
    },
    {
     "name": "stdout",
     "output_type": "stream",
     "text": [
      "[0. 0. 0. ... 0. 0. 0.]\n",
      "[0.03516507 0.03523961 0.03523359 ... 0.03529376 0.03529376 0.03539162]\n",
      "[0. 0. 0. ... 0. 0. 0.]\n",
      "[0.34297556 0.34216455 0.34216455 ... 0.29440117 0.29440117 0.32050768]\n"
     ]
    }
   ],
   "source": [
    "print(np.abs(st.zscore(df_1['vectorRRKLD'])))\n",
    "print(np.abs(st.zscore(df_1['vectorFAmpKLD'])))\n",
    "print(np.abs(st.zscore(df_1['vectorUFAmpKLD'])))\n",
    "print(np.abs(st.zscore(df_1['vectorCorrKLD'])))"
   ]
  },
  {
   "cell_type": "markdown",
   "metadata": {},
   "source": [
    "## HARD REMOVE \n",
    "(Columns showing resistence to statistical removal: vectorUFAmpKLD, vectorRRKLD)"
   ]
  },
  {
   "cell_type": "markdown",
   "metadata": {},
   "source": [
    "> Used 2e+2 as manual limit for both vectorUFAmpKLD and 0.5e+2 vectorRRKLD\n",
    "\n",
    ">Just deleted this way maximum 95% of the data (for 200 patients && 300)"
   ]
  },
  {
   "cell_type": "markdown",
   "metadata": {},
   "source": [
    "### vectorUFAmpKLD"
   ]
  },
  {
   "cell_type": "code",
   "execution_count": 17,
   "metadata": {
    "scrolled": true
   },
   "outputs": [
    {
     "name": "stdout",
     "output_type": "stream",
     "text": [
      "(81320065, 4)\n",
      "(77762533, 4)\n",
      "95.62527157350404\n"
     ]
    }
   ],
   "source": [
    "df_2 = df_1.copy()\n",
    "df_2 = df_1[(df_1['vectorUFAmpKLD'] < 5e+10)]\n",
    "print(df_1.shape)\n",
    "print(df_2.shape)\n",
    "print(100*df_2.shape[0]/df_1.shape[0])"
   ]
  },
  {
   "cell_type": "code",
   "execution_count": 18,
   "metadata": {},
   "outputs": [
    {
     "data": {
      "text/plain": [
       "<matplotlib.axes._subplots.AxesSubplot at 0x7ff2dad9bb38>"
      ]
     },
     "execution_count": 18,
     "metadata": {},
     "output_type": "execute_result"
    },
    {
     "data": {
      "image/png": "[encoded data removed]",
      "text/plain": [
       "<Figure size 432x288 with 1 Axes>"
      ]
     },
     "metadata": {},
     "output_type": "display_data"
    }
   ],
   "source": [
    "df_2.boxplot('vectorUFAmpKLD') # 300"
   ]
  },
  {
   "cell_type": "markdown",
   "metadata": {},
   "source": [
    "> Now, the distribution is more obvious"
   ]
  },
  {
   "cell_type": "code",
   "execution_count": 20,
   "metadata": {},
   "outputs": [
    {
     "data": {
      "text/plain": [
       "<matplotlib.axes._subplots.AxesSubplot at 0x7ff2dacfd2b0>"
      ]
     },
     "execution_count": 20,
     "metadata": {},
     "output_type": "execute_result"
    },
    {
     "data": {
      "image/png": "[encoded data removed]",
      "text/plain": [
       "<Figure size 432x288 with 1 Axes>"
      ]
     },
     "metadata": {},
     "output_type": "display_data"
    }
   ],
   "source": [
    "sns.distplot(df_2['vectorUFAmpKLD']) # 300"
   ]
  },
  {
   "cell_type": "markdown",
   "metadata": {},
   "source": [
    "> just after removal, zscore is now available"
   ]
  },
  {
   "cell_type": "code",
   "execution_count": 19,
   "metadata": {},
   "outputs": [
    {
     "name": "stdout",
     "output_type": "stream",
     "text": [
      "8.202746\n"
     ]
    }
   ],
   "source": [
    "np.abs(st.zscore(df_2['vectorUFAmpKLD']))\n",
    "print(max(np.abs(st.zscore(df_2['vectorUFAmpKLD']))))"
   ]
  },
  {
   "cell_type": "markdown",
   "metadata": {},
   "source": [
    "### vectorRRKLD"
   ]
  },
  {
   "cell_type": "code",
   "execution_count": 21,
   "metadata": {},
   "outputs": [
    {
     "name": "stdout",
     "output_type": "stream",
     "text": [
      "(81320065, 4)\n",
      "(79528675, 4)\n",
      "97.79711194279051\n"
     ]
    }
   ],
   "source": [
    "df_2 = df_1.copy()\n",
    "df_2 = df_1[(df_1['vectorRRKLD'] < 0.5e+2)]\n",
    "print(df_1.shape)\n",
    "print(df_2.shape)\n",
    "print(100*df_2.shape[0]/df_1.shape[0])"
   ]
  },
  {
   "cell_type": "code",
   "execution_count": 22,
   "metadata": {},
   "outputs": [
    {
     "data": {
      "text/plain": [
       "<matplotlib.axes._subplots.AxesSubplot at 0x7ff2dacbbcf8>"
      ]
     },
     "execution_count": 22,
     "metadata": {},
     "output_type": "execute_result"
    },
    {
     "data": {
      "image/png": "[encoded data removed]",
      "text/plain": [
       "<Figure size 432x288 with 1 Axes>"
      ]
     },
     "metadata": {},
     "output_type": "display_data"
    }
   ],
   "source": [
    "df_2.boxplot('vectorRRKLD') # 300"
   ]
  },
  {
   "cell_type": "code",
   "execution_count": 24,
   "metadata": {},
   "outputs": [
    {
     "data": {
      "text/plain": [
       "<matplotlib.axes._subplots.AxesSubplot at 0x7ff2d9366b38>"
      ]
     },
     "execution_count": 24,
     "metadata": {},
     "output_type": "execute_result"
    },
    {
     "data": {
      "image/png": "[encoded data removed]",
      "text/plain": [
       "<Figure size 432x288 with 1 Axes>"
      ]
     },
     "metadata": {},
     "output_type": "display_data"
    }
   ],
   "source": [
    "sns.distplot(df_2['vectorRRKLD']) # 300"
   ]
  },
  {
   "cell_type": "code",
   "execution_count": 23,
   "metadata": {},
   "outputs": [
    {
     "name": "stdout",
     "output_type": "stream",
     "text": [
      "[0.41320977 0.46862367 0.4463541  ... 0.56082994 0.56082994 0.55804116]\n",
      "6.1892967\n"
     ]
    }
   ],
   "source": [
    "print(np.abs(st.zscore(df_2['vectorRRKLD'])))\n",
    "print(max(np.abs(st.zscore(df_2['vectorRRKLD']))))"
   ]
  },
  {
   "cell_type": "markdown",
   "metadata": {},
   "source": [
    "## Soft Remove"
   ]
  },
  {
   "cell_type": "markdown",
   "metadata": {},
   "source": [
    "### vectorFAmpKLD \n",
    "> threshold 100, 50, 10, 2 ≈ 99 %"
   ]
  },
  {
   "cell_type": "code",
   "execution_count": 20,
   "metadata": {},
   "outputs": [],
   "source": [
    "threshold = 2"
   ]
  },
  {
   "cell_type": "code",
   "execution_count": 21,
   "metadata": {},
   "outputs": [
    {
     "name": "stdout",
     "output_type": "stream",
     "text": [
      "288.5417\n",
      "(array([  408614,   408615,   408616, ..., 78151875, 78151876, 78151877]),)\n"
     ]
    }
   ],
   "source": [
    "df_2 = df_1.copy()\n",
    "z = np.abs(st.zscore(df_2['vectorFAmpKLD']))\n",
    "print(max( z ))\n",
    "print(np.where(z > threshold))"
   ]
  },
  {
   "cell_type": "code",
   "execution_count": 22,
   "metadata": {},
   "outputs": [
    {
     "name": "stdout",
     "output_type": "stream",
     "text": [
      "(81320065, 4)\n",
      "(81037471, 4)\n",
      "99.65249166979883\n"
     ]
    }
   ],
   "source": [
    "df_2 = df_2[(z <= threshold)]\n",
    "print(df_1.shape)\n",
    "print(df_2.shape)\n",
    "print(100*df_2.shape[0]/df_1.shape[0])"
   ]
  },
  {
   "cell_type": "markdown",
   "metadata": {},
   "source": [
    "> BEFORE / AFTER"
   ]
  },
  {
   "cell_type": "code",
   "execution_count": 23,
   "metadata": {},
   "outputs": [
    {
     "data": {
      "image/png": "[encoded data removed]",
      "text/plain": [
       "<Figure size 1152x360 with 2 Axes>"
      ]
     },
     "metadata": {},
     "output_type": "display_data"
    }
   ],
   "source": [
    "fig, ax = plt.subplots(1, 2, figsize=(16, 5)) # 300\n",
    "df_ALL.boxplot(column='vectorFAmpKLD', ax=ax[0])\n",
    "df_2.boxplot(column='vectorFAmpKLD', ax=ax[1])\n",
    "plt.show(); fig.clf(); plt.close()"
   ]
  },
  {
   "cell_type": "code",
   "execution_count": 45,
   "metadata": {},
   "outputs": [
    {
     "data": {
      "text/plain": [
       "<matplotlib.axes._subplots.AxesSubplot at 0x7ff2d90de080>"
      ]
     },
     "execution_count": 45,
     "metadata": {},
     "output_type": "execute_result"
    },
    {
     "data": {
      "image/png": "[encoded data removed]",
      "text/plain": [
       "<Figure size 432x288 with 1 Axes>"
      ]
     },
     "metadata": {},
     "output_type": "display_data"
    }
   ],
   "source": [
    "sns.distplot(df_2['vectorFAmpKLD']) # 300"
   ]
  },
  {
   "cell_type": "markdown",
   "metadata": {},
   "source": [
    "### vectorCorrKLD \n",
    "> threshold 100, 50, 10 ≈ 99 %\n",
    "\n",
    "> threshold 2 ≈ 98 %"
   ]
  },
  {
   "cell_type": "code",
   "execution_count": 8,
   "metadata": {},
   "outputs": [],
   "source": [
    "threshold = 2"
   ]
  },
  {
   "cell_type": "code",
   "execution_count": 9,
   "metadata": {},
   "outputs": [
    {
     "name": "stdout",
     "output_type": "stream",
     "text": [
      "594.34607\n",
      "(array([  203093,   203094,   203095, ..., 81261863, 81261864, 81261865]),)\n"
     ]
    }
   ],
   "source": [
    "df_2 = df_1.copy()\n",
    "z = np.abs(st.zscore(df_2['vectorCorrKLD']))\n",
    "print(max( z ))\n",
    "print(np.where(z > threshold))"
   ]
  },
  {
   "cell_type": "code",
   "execution_count": 10,
   "metadata": {},
   "outputs": [
    {
     "name": "stdout",
     "output_type": "stream",
     "text": [
      "(81320065, 4)\n",
      "(80215488, 4)\n",
      "98.64169193667024\n"
     ]
    }
   ],
   "source": [
    "df_2 = df_2[(z <= threshold)]\n",
    "print(df_1.shape)\n",
    "print(df_2.shape)\n",
    "print(100*df_2.shape[0]/df_1.shape[0])"
   ]
  },
  {
   "cell_type": "markdown",
   "metadata": {},
   "source": [
    "> BEFORE / AFTER"
   ]
  },
  {
   "cell_type": "code",
   "execution_count": 11,
   "metadata": {},
   "outputs": [
    {
     "data": {
      "image/png": "[encoded data removed]",
      "text/plain": [
       "<Figure size 1152x360 with 2 Axes>"
      ]
     },
     "metadata": {},
     "output_type": "display_data"
    }
   ],
   "source": [
    "fig, ax = plt.subplots(1, 2, figsize=(16, 5)) # 300\n",
    "df_ALL.boxplot(column='vectorCorrKLD', ax=ax[0])\n",
    "df_2.boxplot(column='vectorCorrKLD', ax=ax[1])\n",
    "plt.show(); fig.clf(); plt.close()"
   ]
  },
  {
   "cell_type": "code",
   "execution_count": 12,
   "metadata": {},
   "outputs": [
    {
     "data": {
      "text/plain": [
       "<matplotlib.axes._subplots.AxesSubplot at 0x7f9b3bc85518>"
      ]
     },
     "execution_count": 12,
     "metadata": {},
     "output_type": "execute_result"
    },
    {
     "data": {
      "image/png": "[encoded data removed]",
      "text/plain": [
       "<Figure size 432x288 with 1 Axes>"
      ]
     },
     "metadata": {},
     "output_type": "display_data"
    }
   ],
   "source": [
    "sns.distplot(df_2['vectorCorrKLD']) # 300"
   ]
  },
  {
   "cell_type": "markdown",
   "metadata": {},
   "source": [
    "## RECAP, Remove outliers\n",
    "\n",
    "> 1° with the Z Score, 2° the others"
   ]
  },
  {
   "cell_type": "code",
   "execution_count": 13,
   "metadata": {},
   "outputs": [],
   "source": [
    "df_1 = df_ALL\n",
    "df_2 = df_1.copy()"
   ]
  },
  {
   "cell_type": "code",
   "execution_count": 14,
   "metadata": {},
   "outputs": [],
   "source": [
    "zCorrKLD = np.abs(st.zscore(df_1['vectorCorrKLD']))\n",
    "zFAmpKLD = np.abs(st.zscore(df_1['vectorFAmpKLD']))"
   ]
  },
  {
   "cell_type": "code",
   "execution_count": 15,
   "metadata": {},
   "outputs": [],
   "source": [
    "threshold = 20\n",
    "toMaintain_CorrKLD = zCorrKLD <= threshold\n",
    "toMaintain_FAmpKLD = zFAmpKLD <= threshold\n",
    "toMaintain = np.logical_and(toMaintain_CorrKLD, toMaintain_FAmpKLD) # boolan array"
   ]
  },
  {
   "cell_type": "code",
   "execution_count": 16,
   "metadata": {},
   "outputs": [
    {
     "name": "stdout",
     "output_type": "stream",
     "text": [
      "(50328609, 4)\n"
     ]
    }
   ],
   "source": [
    "df_2 = df_2[toMaintain]\n",
    "print(df_2.shape)"
   ]
  },
  {
   "cell_type": "code",
   "execution_count": 17,
   "metadata": {},
   "outputs": [],
   "source": [
    "df_3 = df_2.copy()"
   ]
  },
  {
   "cell_type": "code",
   "execution_count": 18,
   "metadata": {},
   "outputs": [
    {
     "name": "stdout",
     "output_type": "stream",
     "text": [
      "(50320227, 4)\n"
     ]
    }
   ],
   "source": [
    "df_3 = df_2[(df_2['vectorUFAmpKLD'] < 2e+10)]\n",
    "df_3 = df_3[(df_3['vectorRRKLD'] < 0.5e+10)]\n",
    "print(df_3.shape)"
   ]
  },
  {
   "cell_type": "markdown",
   "metadata": {},
   "source": [
    "> get rid of unuserd variables"
   ]
  },
  {
   "cell_type": "code",
   "execution_count": 19,
   "metadata": {},
   "outputs": [
    {
     "data": {
      "text/plain": [
       "14"
      ]
     },
     "execution_count": 19,
     "metadata": {},
     "output_type": "execute_result"
    }
   ],
   "source": [
    "df_nout = df_3.copy()\n",
    "del toMaintain_CorrKLD, toMaintain_FAmpKLD, toMaintain, zCorrKLD, zFAmpKLD, df_1, df_2, df_3\n",
    "gc.collect()"
   ]
  },
  {
   "cell_type": "code",
   "execution_count": 20,
   "metadata": {},
   "outputs": [
    {
     "data": {
      "image/png": "[encoded data removed]",
      "text/plain": [
       "<Figure size 1440x432 with 4 Axes>"
      ]
     },
     "metadata": {},
     "output_type": "display_data"
    }
   ],
   "source": [
    "fig, ax = plt.subplots(1, 4, figsize=(20, 6))\n",
    "df_nout.boxplot(column='vectorCorrKLD', ax=ax[0])\n",
    "df_nout.boxplot(column='vectorFAmpKLD', ax=ax[1])\n",
    "df_nout.boxplot(column='vectorUFAmpKLD', ax=ax[2])\n",
    "df_nout.boxplot(column='vectorRRKLD', ax=ax[3])\n",
    "plt.show()\n",
    "fig.clf()\n",
    "plt.close()"
   ]
  },
  {
   "cell_type": "code",
   "execution_count": null,
   "metadata": {},
   "outputs": [],
   "source": []
  },
  {
   "cell_type": "code",
   "execution_count": null,
   "metadata": {},
   "outputs": [],
   "source": []
  },
  {
   "cell_type": "code",
   "execution_count": null,
   "metadata": {},
   "outputs": [],
   "source": []
  },
  {
   "cell_type": "code",
   "execution_count": null,
   "metadata": {},
   "outputs": [],
   "source": []
  },
  {
   "cell_type": "code",
   "execution_count": null,
   "metadata": {},
   "outputs": [],
   "source": [
    "np.where(zFAmpKLD <= threshold)"
   ]
  },
  {
   "cell_type": "code",
   "execution_count": null,
   "metadata": {},
   "outputs": [],
   "source": []
  },
  {
   "cell_type": "code",
   "execution_count": null,
   "metadata": {},
   "outputs": [],
   "source": [
    "percentage_to_maintain = 0.99\n",
    "label = 'vectorUFAmpKLD'\n",
    "math.floor( df_1[label].shape[0] * percentage_to_maintain )"
   ]
  },
  {
   "cell_type": "code",
   "execution_count": 14,
   "metadata": {},
   "outputs": [],
   "source": [
    "dfs = df_1.sort_values(by=label)"
   ]
  },
  {
   "cell_type": "code",
   "execution_count": 15,
   "metadata": {},
   "outputs": [
    {
     "data": {
      "text/html": [
       "<div>\n",
       "<style scoped>\n",
       "    .dataframe tbody tr th:only-of-type {\n",
       "        vertical-align: middle;\n",
       "    }\n",
       "\n",
       "    .dataframe tbody tr th {\n",
       "        vertical-align: top;\n",
       "    }\n",
       "\n",
       "    .dataframe thead th {\n",
       "        text-align: right;\n",
       "    }\n",
       "</style>\n",
       "<table border=\"1\" class=\"dataframe\">\n",
       "  <thead>\n",
       "    <tr style=\"text-align: right;\">\n",
       "      <th></th>\n",
       "      <th>vectorRRKLD</th>\n",
       "      <th>vectorFAmpKLD</th>\n",
       "      <th>vectorUFAmpKLD</th>\n",
       "      <th>vectorCorrKLD</th>\n",
       "    </tr>\n",
       "  </thead>\n",
       "  <tbody>\n",
       "    <tr>\n",
       "      <th>14239790</th>\n",
       "      <td>6.630342e+00</td>\n",
       "      <td>2.599939</td>\n",
       "      <td>-1.520206e+00</td>\n",
       "      <td>1.079733</td>\n",
       "    </tr>\n",
       "    <tr>\n",
       "      <th>14239789</th>\n",
       "      <td>6.573077e+00</td>\n",
       "      <td>2.608436</td>\n",
       "      <td>-1.498417e+00</td>\n",
       "      <td>1.110019</td>\n",
       "    </tr>\n",
       "    <tr>\n",
       "      <th>14239788</th>\n",
       "      <td>6.573077e+00</td>\n",
       "      <td>2.608436</td>\n",
       "      <td>-1.498417e+00</td>\n",
       "      <td>1.110019</td>\n",
       "    </tr>\n",
       "    <tr>\n",
       "      <th>14239787</th>\n",
       "      <td>6.551005e+00</td>\n",
       "      <td>2.638307</td>\n",
       "      <td>-1.468318e+00</td>\n",
       "      <td>1.169989</td>\n",
       "    </tr>\n",
       "    <tr>\n",
       "      <th>14239786</th>\n",
       "      <td>6.551005e+00</td>\n",
       "      <td>2.638307</td>\n",
       "      <td>-1.468318e+00</td>\n",
       "      <td>1.169989</td>\n",
       "    </tr>\n",
       "    <tr>\n",
       "      <th>14239785</th>\n",
       "      <td>6.578772e+00</td>\n",
       "      <td>2.554001</td>\n",
       "      <td>-1.395731e+00</td>\n",
       "      <td>1.158270</td>\n",
       "    </tr>\n",
       "    <tr>\n",
       "      <th>14239791</th>\n",
       "      <td>6.705580e+00</td>\n",
       "      <td>2.435985</td>\n",
       "      <td>-1.327465e+00</td>\n",
       "      <td>1.108520</td>\n",
       "    </tr>\n",
       "    <tr>\n",
       "      <th>14239792</th>\n",
       "      <td>6.749278e+00</td>\n",
       "      <td>2.631423</td>\n",
       "      <td>-1.318953e+00</td>\n",
       "      <td>1.312470</td>\n",
       "    </tr>\n",
       "    <tr>\n",
       "      <th>14239779</th>\n",
       "      <td>6.239830e+00</td>\n",
       "      <td>2.704632</td>\n",
       "      <td>-1.236722e+00</td>\n",
       "      <td>1.467910</td>\n",
       "    </tr>\n",
       "    <tr>\n",
       "      <th>14239778</th>\n",
       "      <td>6.246092e+00</td>\n",
       "      <td>2.553950</td>\n",
       "      <td>-1.235644e+00</td>\n",
       "      <td>1.318306</td>\n",
       "    </tr>\n",
       "    <tr>\n",
       "      <th>14239780</th>\n",
       "      <td>6.266813e+00</td>\n",
       "      <td>2.696227</td>\n",
       "      <td>-1.232167e+00</td>\n",
       "      <td>1.464060</td>\n",
       "    </tr>\n",
       "    <tr>\n",
       "      <th>14239781</th>\n",
       "      <td>6.266813e+00</td>\n",
       "      <td>2.696227</td>\n",
       "      <td>-1.232167e+00</td>\n",
       "      <td>1.464060</td>\n",
       "    </tr>\n",
       "    <tr>\n",
       "      <th>6596862</th>\n",
       "      <td>9.005696e+00</td>\n",
       "      <td>3.313439</td>\n",
       "      <td>-1.230336e+00</td>\n",
       "      <td>4.543775</td>\n",
       "    </tr>\n",
       "    <tr>\n",
       "      <th>14239782</th>\n",
       "      <td>6.254466e+00</td>\n",
       "      <td>2.754535</td>\n",
       "      <td>-1.229377e+00</td>\n",
       "      <td>1.525159</td>\n",
       "    </tr>\n",
       "    <tr>\n",
       "      <th>14239777</th>\n",
       "      <td>6.252970e+00</td>\n",
       "      <td>2.821597</td>\n",
       "      <td>-1.228676e+00</td>\n",
       "      <td>1.592921</td>\n",
       "    </tr>\n",
       "    <tr>\n",
       "      <th>14239776</th>\n",
       "      <td>6.168015e+00</td>\n",
       "      <td>2.840270</td>\n",
       "      <td>-1.227927e+00</td>\n",
       "      <td>1.612343</td>\n",
       "    </tr>\n",
       "    <tr>\n",
       "      <th>14239774</th>\n",
       "      <td>6.047265e+00</td>\n",
       "      <td>3.130610</td>\n",
       "      <td>-1.226643e+00</td>\n",
       "      <td>1.903967</td>\n",
       "    </tr>\n",
       "    <tr>\n",
       "      <th>14239737</th>\n",
       "      <td>5.182338e+00</td>\n",
       "      <td>4.762596</td>\n",
       "      <td>-1.225383e+00</td>\n",
       "      <td>3.537213</td>\n",
       "    </tr>\n",
       "    <tr>\n",
       "      <th>14239783</th>\n",
       "      <td>6.302440e+00</td>\n",
       "      <td>2.863678</td>\n",
       "      <td>-1.225132e+00</td>\n",
       "      <td>1.638545</td>\n",
       "    </tr>\n",
       "    <tr>\n",
       "      <th>14239784</th>\n",
       "      <td>6.395780e+00</td>\n",
       "      <td>2.595652</td>\n",
       "      <td>-1.224977e+00</td>\n",
       "      <td>1.370675</td>\n",
       "    </tr>\n",
       "    <tr>\n",
       "      <th>14239775</th>\n",
       "      <td>6.081025e+00</td>\n",
       "      <td>3.116379</td>\n",
       "      <td>-1.222533e+00</td>\n",
       "      <td>1.893846</td>\n",
       "    </tr>\n",
       "    <tr>\n",
       "      <th>14239773</th>\n",
       "      <td>6.027036e+00</td>\n",
       "      <td>3.083760</td>\n",
       "      <td>-1.220447e+00</td>\n",
       "      <td>1.863313</td>\n",
       "    </tr>\n",
       "    <tr>\n",
       "      <th>14239772</th>\n",
       "      <td>5.972298e+00</td>\n",
       "      <td>3.024527</td>\n",
       "      <td>-1.211126e+00</td>\n",
       "      <td>1.813401</td>\n",
       "    </tr>\n",
       "    <tr>\n",
       "      <th>14239771</th>\n",
       "      <td>5.899876e+00</td>\n",
       "      <td>3.014338</td>\n",
       "      <td>-1.209215e+00</td>\n",
       "      <td>1.805123</td>\n",
       "    </tr>\n",
       "    <tr>\n",
       "      <th>14239769</th>\n",
       "      <td>5.823225e+00</td>\n",
       "      <td>3.236433</td>\n",
       "      <td>-1.209183e+00</td>\n",
       "      <td>2.027250</td>\n",
       "    </tr>\n",
       "    <tr>\n",
       "      <th>14239770</th>\n",
       "      <td>5.819880e+00</td>\n",
       "      <td>3.277487</td>\n",
       "      <td>-1.206021e+00</td>\n",
       "      <td>2.071465</td>\n",
       "    </tr>\n",
       "    <tr>\n",
       "      <th>14239766</th>\n",
       "      <td>5.911744e+00</td>\n",
       "      <td>3.259535</td>\n",
       "      <td>-1.204789e+00</td>\n",
       "      <td>2.054746</td>\n",
       "    </tr>\n",
       "    <tr>\n",
       "      <th>14239767</th>\n",
       "      <td>5.820673e+00</td>\n",
       "      <td>3.337680</td>\n",
       "      <td>-1.204065e+00</td>\n",
       "      <td>2.133615</td>\n",
       "    </tr>\n",
       "    <tr>\n",
       "      <th>14239768</th>\n",
       "      <td>5.818896e+00</td>\n",
       "      <td>3.226361</td>\n",
       "      <td>-1.202700e+00</td>\n",
       "      <td>2.023662</td>\n",
       "    </tr>\n",
       "    <tr>\n",
       "      <th>14239765</th>\n",
       "      <td>6.003763e+00</td>\n",
       "      <td>3.263387</td>\n",
       "      <td>-1.200219e+00</td>\n",
       "      <td>2.063168</td>\n",
       "    </tr>\n",
       "    <tr>\n",
       "      <th>...</th>\n",
       "      <td>...</td>\n",
       "      <td>...</td>\n",
       "      <td>...</td>\n",
       "      <td>...</td>\n",
       "    </tr>\n",
       "    <tr>\n",
       "      <th>18621184</th>\n",
       "      <td>7.285716e+12</td>\n",
       "      <td>9704.577148</td>\n",
       "      <td>2.250281e+20</td>\n",
       "      <td>13.643391</td>\n",
       "    </tr>\n",
       "    <tr>\n",
       "      <th>18621186</th>\n",
       "      <td>7.285716e+12</td>\n",
       "      <td>9704.577148</td>\n",
       "      <td>2.250281e+20</td>\n",
       "      <td>13.643391</td>\n",
       "    </tr>\n",
       "    <tr>\n",
       "      <th>18621187</th>\n",
       "      <td>7.285716e+12</td>\n",
       "      <td>9704.577148</td>\n",
       "      <td>2.250281e+20</td>\n",
       "      <td>13.643391</td>\n",
       "    </tr>\n",
       "    <tr>\n",
       "      <th>18621188</th>\n",
       "      <td>7.285716e+12</td>\n",
       "      <td>9704.577148</td>\n",
       "      <td>2.250281e+20</td>\n",
       "      <td>13.643391</td>\n",
       "    </tr>\n",
       "    <tr>\n",
       "      <th>18621172</th>\n",
       "      <td>7.285716e+12</td>\n",
       "      <td>9704.577148</td>\n",
       "      <td>2.250281e+20</td>\n",
       "      <td>13.643391</td>\n",
       "    </tr>\n",
       "    <tr>\n",
       "      <th>18621189</th>\n",
       "      <td>7.285716e+12</td>\n",
       "      <td>9704.577148</td>\n",
       "      <td>2.250281e+20</td>\n",
       "      <td>13.643391</td>\n",
       "    </tr>\n",
       "    <tr>\n",
       "      <th>18621181</th>\n",
       "      <td>7.285716e+12</td>\n",
       "      <td>9704.577148</td>\n",
       "      <td>2.250281e+20</td>\n",
       "      <td>13.643391</td>\n",
       "    </tr>\n",
       "    <tr>\n",
       "      <th>18621171</th>\n",
       "      <td>7.285716e+12</td>\n",
       "      <td>9704.577148</td>\n",
       "      <td>2.250281e+20</td>\n",
       "      <td>13.643391</td>\n",
       "    </tr>\n",
       "    <tr>\n",
       "      <th>18621158</th>\n",
       "      <td>7.285716e+12</td>\n",
       "      <td>9704.577148</td>\n",
       "      <td>2.250281e+20</td>\n",
       "      <td>13.643391</td>\n",
       "    </tr>\n",
       "    <tr>\n",
       "      <th>18621169</th>\n",
       "      <td>7.285716e+12</td>\n",
       "      <td>9704.577148</td>\n",
       "      <td>2.250281e+20</td>\n",
       "      <td>13.643391</td>\n",
       "    </tr>\n",
       "    <tr>\n",
       "      <th>18621191</th>\n",
       "      <td>7.285716e+12</td>\n",
       "      <td>9704.577148</td>\n",
       "      <td>2.250281e+20</td>\n",
       "      <td>13.643391</td>\n",
       "    </tr>\n",
       "    <tr>\n",
       "      <th>18621151</th>\n",
       "      <td>7.285716e+12</td>\n",
       "      <td>9704.577148</td>\n",
       "      <td>2.250281e+20</td>\n",
       "      <td>13.643391</td>\n",
       "    </tr>\n",
       "    <tr>\n",
       "      <th>18621152</th>\n",
       "      <td>7.285716e+12</td>\n",
       "      <td>9704.577148</td>\n",
       "      <td>2.250281e+20</td>\n",
       "      <td>13.643391</td>\n",
       "    </tr>\n",
       "    <tr>\n",
       "      <th>18621153</th>\n",
       "      <td>7.285716e+12</td>\n",
       "      <td>9704.577148</td>\n",
       "      <td>2.250281e+20</td>\n",
       "      <td>13.643391</td>\n",
       "    </tr>\n",
       "    <tr>\n",
       "      <th>18621154</th>\n",
       "      <td>7.285716e+12</td>\n",
       "      <td>9704.577148</td>\n",
       "      <td>2.250281e+20</td>\n",
       "      <td>13.643391</td>\n",
       "    </tr>\n",
       "    <tr>\n",
       "      <th>18621155</th>\n",
       "      <td>7.285716e+12</td>\n",
       "      <td>9704.577148</td>\n",
       "      <td>2.250281e+20</td>\n",
       "      <td>13.643391</td>\n",
       "    </tr>\n",
       "    <tr>\n",
       "      <th>18621156</th>\n",
       "      <td>7.285716e+12</td>\n",
       "      <td>9704.577148</td>\n",
       "      <td>2.250281e+20</td>\n",
       "      <td>13.643391</td>\n",
       "    </tr>\n",
       "    <tr>\n",
       "      <th>18621157</th>\n",
       "      <td>7.285716e+12</td>\n",
       "      <td>9704.577148</td>\n",
       "      <td>2.250281e+20</td>\n",
       "      <td>13.643391</td>\n",
       "    </tr>\n",
       "    <tr>\n",
       "      <th>18621170</th>\n",
       "      <td>7.285716e+12</td>\n",
       "      <td>9704.577148</td>\n",
       "      <td>2.250281e+20</td>\n",
       "      <td>13.643391</td>\n",
       "    </tr>\n",
       "    <tr>\n",
       "      <th>18621159</th>\n",
       "      <td>7.285716e+12</td>\n",
       "      <td>9704.577148</td>\n",
       "      <td>2.250281e+20</td>\n",
       "      <td>13.643391</td>\n",
       "    </tr>\n",
       "    <tr>\n",
       "      <th>18621161</th>\n",
       "      <td>7.285716e+12</td>\n",
       "      <td>9704.577148</td>\n",
       "      <td>2.250281e+20</td>\n",
       "      <td>13.643391</td>\n",
       "    </tr>\n",
       "    <tr>\n",
       "      <th>18621162</th>\n",
       "      <td>7.285716e+12</td>\n",
       "      <td>9704.577148</td>\n",
       "      <td>2.250281e+20</td>\n",
       "      <td>13.643391</td>\n",
       "    </tr>\n",
       "    <tr>\n",
       "      <th>18621163</th>\n",
       "      <td>7.285716e+12</td>\n",
       "      <td>9704.577148</td>\n",
       "      <td>2.250281e+20</td>\n",
       "      <td>13.643391</td>\n",
       "    </tr>\n",
       "    <tr>\n",
       "      <th>18621164</th>\n",
       "      <td>7.285716e+12</td>\n",
       "      <td>9704.577148</td>\n",
       "      <td>2.250281e+20</td>\n",
       "      <td>13.643391</td>\n",
       "    </tr>\n",
       "    <tr>\n",
       "      <th>18621165</th>\n",
       "      <td>7.285716e+12</td>\n",
       "      <td>9704.577148</td>\n",
       "      <td>2.250281e+20</td>\n",
       "      <td>13.643391</td>\n",
       "    </tr>\n",
       "    <tr>\n",
       "      <th>18621166</th>\n",
       "      <td>7.285716e+12</td>\n",
       "      <td>9704.577148</td>\n",
       "      <td>2.250281e+20</td>\n",
       "      <td>13.643391</td>\n",
       "    </tr>\n",
       "    <tr>\n",
       "      <th>18621167</th>\n",
       "      <td>7.285716e+12</td>\n",
       "      <td>9704.577148</td>\n",
       "      <td>2.250281e+20</td>\n",
       "      <td>13.643391</td>\n",
       "    </tr>\n",
       "    <tr>\n",
       "      <th>18621168</th>\n",
       "      <td>7.285716e+12</td>\n",
       "      <td>9704.577148</td>\n",
       "      <td>2.250281e+20</td>\n",
       "      <td>13.643391</td>\n",
       "    </tr>\n",
       "    <tr>\n",
       "      <th>18621160</th>\n",
       "      <td>7.285716e+12</td>\n",
       "      <td>9704.577148</td>\n",
       "      <td>2.250281e+20</td>\n",
       "      <td>13.643391</td>\n",
       "    </tr>\n",
       "    <tr>\n",
       "      <th>18621190</th>\n",
       "      <td>7.285716e+12</td>\n",
       "      <td>9704.577148</td>\n",
       "      <td>2.250281e+20</td>\n",
       "      <td>13.643391</td>\n",
       "    </tr>\n",
       "  </tbody>\n",
       "</table>\n",
       "<p>50359472 rows × 4 columns</p>\n",
       "</div>"
      ],
      "text/plain": [
       "           vectorRRKLD  vectorFAmpKLD  vectorUFAmpKLD  vectorCorrKLD\n",
       "14239790  6.630342e+00       2.599939   -1.520206e+00       1.079733\n",
       "14239789  6.573077e+00       2.608436   -1.498417e+00       1.110019\n",
       "14239788  6.573077e+00       2.608436   -1.498417e+00       1.110019\n",
       "14239787  6.551005e+00       2.638307   -1.468318e+00       1.169989\n",
       "14239786  6.551005e+00       2.638307   -1.468318e+00       1.169989\n",
       "...                ...            ...             ...            ...\n",
       "18621166  7.285716e+12    9704.577148    2.250281e+20      13.643391\n",
       "18621167  7.285716e+12    9704.577148    2.250281e+20      13.643391\n",
       "18621168  7.285716e+12    9704.577148    2.250281e+20      13.643391\n",
       "18621160  7.285716e+12    9704.577148    2.250281e+20      13.643391\n",
       "18621190  7.285716e+12    9704.577148    2.250281e+20      13.643391\n",
       "\n",
       "[50359472 rows x 4 columns]"
      ]
     },
     "execution_count": 15,
     "metadata": {},
     "output_type": "execute_result"
    }
   ],
   "source": [
    "dfs"
   ]
  },
  {
   "cell_type": "code",
   "execution_count": 21,
   "metadata": {},
   "outputs": [],
   "source": [
    "from sklearn.neighbors import LocalOutlierFactor, KNeighborsClassifier, NearestNeighbors"
   ]
  },
  {
   "cell_type": "code",
   "execution_count": 22,
   "metadata": {},
   "outputs": [],
   "source": [
    "neigh = LocalOutlierFactor(n_neighbors=2)"
   ]
  },
  {
   "cell_type": "code",
   "execution_count": 26,
   "metadata": {},
   "outputs": [],
   "source": [
    "X = df_nout.to_numpy()"
   ]
  },
  {
   "cell_type": "code",
   "execution_count": 27,
   "metadata": {},
   "outputs": [
    {
     "data": {
      "text/plain": [
       "(50320227, 4)"
      ]
     },
     "execution_count": 27,
     "metadata": {},
     "output_type": "execute_result"
    }
   ],
   "source": [
    "\n",
    "X.shape"
   ]
  },
  {
   "cell_type": "code",
   "execution_count": 28,
   "metadata": {},
   "outputs": [],
   "source": [
    "X_UFAMP = X[:,2]"
   ]
  },
  {
   "cell_type": "code",
   "execution_count": 29,
   "metadata": {},
   "outputs": [
    {
     "data": {
      "text/plain": [
       "(50320227,)"
      ]
     },
     "execution_count": 29,
     "metadata": {},
     "output_type": "execute_result"
    }
   ],
   "source": [
    "X_UFAMP.shape"
   ]
  },
  {
   "cell_type": "code",
   "execution_count": 30,
   "metadata": {},
   "outputs": [],
   "source": [
    "X_UFAMP = X_UFAMP.reshape((X_UFAMP.shape[0],1))"
   ]
  },
  {
   "cell_type": "code",
   "execution_count": 31,
   "metadata": {},
   "outputs": [
    {
     "data": {
      "text/plain": [
       "(50320227, 1)"
      ]
     },
     "execution_count": 31,
     "metadata": {},
     "output_type": "execute_result"
    }
   ],
   "source": [
    "X_UFAMP.shape"
   ]
  },
  {
   "cell_type": "code",
   "execution_count": 32,
   "metadata": {},
   "outputs": [
    {
     "data": {
      "text/plain": [
       "array([5.01015], dtype=float32)"
      ]
     },
     "execution_count": 32,
     "metadata": {},
     "output_type": "execute_result"
    }
   ],
   "source": [
    "X_UFAMP[0]"
   ]
  },
  {
   "cell_type": "code",
   "execution_count": 33,
   "metadata": {},
   "outputs": [],
   "source": [
    "X_UFAMP = np.insert(X_UFAMP, 1, 0, axis=1)"
   ]
  },
  {
   "cell_type": "code",
   "execution_count": 34,
   "metadata": {},
   "outputs": [
    {
     "data": {
      "text/plain": [
       "(50320227, 2)"
      ]
     },
     "execution_count": 34,
     "metadata": {},
     "output_type": "execute_result"
    }
   ],
   "source": [
    "X_UFAMP.shape"
   ]
  },
  {
   "cell_type": "code",
   "execution_count": 35,
   "metadata": {},
   "outputs": [
    {
     "data": {
      "text/plain": [
       "array([[ 5.01015 ,  0.      ],\n",
       "       [ 4.936006,  0.      ],\n",
       "       [ 5.059862,  0.      ],\n",
       "       ...,\n",
       "       [43.095245,  0.      ],\n",
       "       [42.66961 ,  0.      ],\n",
       "       [46.24449 ,  0.      ]], dtype=float32)"
      ]
     },
     "execution_count": 35,
     "metadata": {},
     "output_type": "execute_result"
    }
   ],
   "source": [
    "X_UFAMP"
   ]
  },
  {
   "cell_type": "code",
   "execution_count": 36,
   "metadata": {},
   "outputs": [
    {
     "name": "stderr",
     "output_type": "stream",
     "text": [
      "/homes/v18porti/.local/lib/python3.6/site-packages/sklearn/neighbors/lof.py:236: FutureWarning: default contamination parameter 0.1 will change in version 0.22 to \"auto\". This will change the predict method behavior.\n",
      "  FutureWarning)\n"
     ]
    },
    {
     "data": {
      "text/plain": [
       "LocalOutlierFactor(algorithm='auto', contamination='legacy', leaf_size=30,\n",
       "                   metric='minkowski', metric_params=None, n_jobs=None,\n",
       "                   n_neighbors=2, novelty=False, p=2)"
      ]
     },
     "execution_count": 36,
     "metadata": {},
     "output_type": "execute_result"
    }
   ],
   "source": [
    "neigh.fit(X_UFAMP)"
   ]
  },
  {
   "cell_type": "code",
   "execution_count": 37,
   "metadata": {},
   "outputs": [
    {
     "name": "stderr",
     "output_type": "stream",
     "text": [
      "/homes/v18porti/.local/lib/python3.6/site-packages/sklearn/neighbors/lof.py:236: FutureWarning: default contamination parameter 0.1 will change in version 0.22 to \"auto\". This will change the predict method behavior.\n",
      "  FutureWarning)\n"
     ]
    }
   ],
   "source": [
    "Y = neigh.fit_predict(X_UFAMP)#.predict(X)"
   ]
  },
  {
   "cell_type": "code",
   "execution_count": 38,
   "metadata": {},
   "outputs": [
    {
     "data": {
      "text/plain": [
       "(50320227,)"
      ]
     },
     "execution_count": 38,
     "metadata": {},
     "output_type": "execute_result"
    }
   ],
   "source": [
    "Y.shape"
   ]
  },
  {
   "cell_type": "code",
   "execution_count": 39,
   "metadata": {},
   "outputs": [
    {
     "data": {
      "text/plain": [
       "43216445"
      ]
     },
     "execution_count": 39,
     "metadata": {},
     "output_type": "execute_result"
    }
   ],
   "source": [
    "sum(Y)"
   ]
  },
  {
   "cell_type": "code",
   "execution_count": 40,
   "metadata": {},
   "outputs": [
    {
     "data": {
      "text/plain": [
       "array([-1,  1])"
      ]
     },
     "execution_count": 40,
     "metadata": {},
     "output_type": "execute_result"
    }
   ],
   "source": [
    "np.unique(Y)"
   ]
  },
  {
   "cell_type": "code",
   "execution_count": 47,
   "metadata": {},
   "outputs": [
    {
     "name": "stdout",
     "output_type": "stream",
     "text": [
      "(50320227, 4)\n",
      "(46768336, 4)\n"
     ]
    }
   ],
   "source": [
    "df_2 = df_nout.copy()\n",
    "df_2 = df_nout[(Y == 1)]\n",
    "print(df_nout.shape)\n",
    "print(df_2.shape)"
   ]
  },
  {
   "cell_type": "code",
   "execution_count": 48,
   "metadata": {},
   "outputs": [
    {
     "data": {
      "image/png": "[encoded data removed]",
      "text/plain": [
       "<Figure size 1440x432 with 4 Axes>"
      ]
     },
     "metadata": {},
     "output_type": "display_data"
    }
   ],
   "source": [
    "fig, ax = plt.subplots(1, 4, figsize=(20, 6))\n",
    "df_2.boxplot(column='vectorCorrKLD', ax=ax[0])\n",
    "df_2.boxplot(column='vectorFAmpKLD', ax=ax[1])\n",
    "df_2.boxplot(column='vectorUFAmpKLD', ax=ax[2])\n",
    "df_2.boxplot(column='vectorRRKLD', ax=ax[3])\n",
    "plt.show(); fig.clf(); plt.close();"
   ]
  },
  {
   "cell_type": "code",
   "execution_count": 43,
   "metadata": {},
   "outputs": [],
   "source": [
    "num_attribs = list(df_2)\n",
    "\n",
    "pipeline = Pipeline([\n",
    "        ('selector', hp.DataFrameSelector(num_attribs)), # to handle pandas data frame\n",
    "        ('std_scaler', StandardScaler(copy=True))\n",
    "    ])\n",
    "\n",
    "full_pipeline = FeatureUnion(transformer_list=[\n",
    "    (\"main\", pipeline),\n",
    "    ])\n",
    "\n",
    "X = full_pipeline.fit_transform(df_2)"
   ]
  },
  {
   "cell_type": "code",
   "execution_count": 44,
   "metadata": {},
   "outputs": [
    {
     "data": {
      "text/plain": [
       "2936"
      ]
     },
     "execution_count": 44,
     "metadata": {},
     "output_type": "execute_result"
    }
   ],
   "source": [
    "del df_2, pipeline, full_pipeline\n",
    "gc.collect()"
   ]
  },
  {
   "cell_type": "code",
   "execution_count": 45,
   "metadata": {},
   "outputs": [
    {
     "name": "stdout",
     "output_type": "stream",
     "text": [
      "[0.260345   0.25697971 0.24277369 0.2399016 ]\n",
      "[6978.798  6933.5464 6739.1763 6699.1943]\n",
      "[[ 0.34035164  0.6100651   0.5536263   0.4532982 ]\n",
      " [ 0.6249988  -0.35582703 -0.4354442   0.54143524]\n",
      " [ 0.6072527  -0.337668    0.45487782 -0.55705583]\n",
      " [ 0.35324448  0.6222446  -0.5449519  -0.43710154]]\n"
     ]
    }
   ],
   "source": [
    "pca = PCA(n_components=0.95)\n",
    "pca.fit(X)  \n",
    "print(pca.explained_variance_ratio_) \n",
    "print(pca.singular_values_)\n",
    "print(pca.components_)"
   ]
  },
  {
   "cell_type": "code",
   "execution_count": 30,
   "metadata": {},
   "outputs": [],
   "source": [
    "X = pca.transform(X).astype(np.float32)"
   ]
  },
  {
   "cell_type": "code",
   "execution_count": 31,
   "metadata": {},
   "outputs": [],
   "source": [
    "principalDf = pd.DataFrame(data=X, columns=['pc1', 'pc2'])"
   ]
  },
  {
   "cell_type": "code",
   "execution_count": 32,
   "metadata": {},
   "outputs": [
    {
     "name": "stdout",
     "output_type": "stream",
     "text": [
      "<class 'pandas.core.frame.DataFrame'>\n",
      "RangeIndex: 46798282 entries, 0 to 46798281\n",
      "Data columns (total 2 columns):\n",
      "pc1    float32\n",
      "pc2    float32\n",
      "dtypes: float32(2)\n",
      "memory usage: 357.0 MB\n"
     ]
    },
    {
     "data": {
      "text/plain": [
       "0"
      ]
     },
     "execution_count": 32,
     "metadata": {},
     "output_type": "execute_result"
    }
   ],
   "source": [
    "principalDf.info()\n",
    "del pca\n",
    "gc.collect()"
   ]
  },
  {
   "cell_type": "code",
   "execution_count": 33,
   "metadata": {},
   "outputs": [
    {
     "data": {
      "image/png": "[encoded data removed]",
      "text/plain": [
       "<Figure size 432x288 with 1 Axes>"
      ]
     },
     "metadata": {},
     "output_type": "display_data"
    }
   ],
   "source": [
    "plt.scatter(principalDf['pc1'], principalDf['pc2'],  s=0.8, c='midnightblue')\n",
    "plt.show(); plt.clf(); plt.close();"
   ]
  },
  {
   "cell_type": "code",
   "execution_count": null,
   "metadata": {},
   "outputs": [],
   "source": []
  },
  {
   "cell_type": "code",
   "execution_count": null,
   "metadata": {},
   "outputs": [],
   "source": []
  },
  {
   "cell_type": "code",
   "execution_count": null,
   "metadata": {},
   "outputs": [],
   "source": []
  },
  {
   "cell_type": "code",
   "execution_count": null,
   "metadata": {},
   "outputs": [],
   "source": []
  },
  {
   "cell_type": "code",
   "execution_count": null,
   "metadata": {},
   "outputs": [],
   "source": []
  },
  {
   "cell_type": "code",
   "execution_count": null,
   "metadata": {},
   "outputs": [],
   "source": []
  },
  {
   "cell_type": "code",
   "execution_count": null,
   "metadata": {},
   "outputs": [],
   "source": []
  },
  {
   "cell_type": "code",
   "execution_count": null,
   "metadata": {},
   "outputs": [],
   "source": []
  },
  {
   "cell_type": "code",
   "execution_count": null,
   "metadata": {},
   "outputs": [],
   "source": []
  },
  {
   "cell_type": "code",
   "execution_count": 64,
   "metadata": {},
   "outputs": [
    {
     "ename": "AttributeError",
     "evalue": "predict is not available when novelty=False, use fit_predict if you want to predict on training data. Use novelty=True if you want to use LOF for novelty detection and predict on new unseen data.",
     "output_type": "error",
     "traceback": [
      "\u001b[0;31m---------------------------------------------------------------------------\u001b[0m",
      "\u001b[0;31mAttributeError\u001b[0m                            Traceback (most recent call last)",
      "\u001b[0;32m<ipython-input-64-882d11e51b13>\u001b[0m in \u001b[0;36m<module>\u001b[0;34m()\u001b[0m\n\u001b[0;32m----> 1\u001b[0;31m \u001b[0mZ\u001b[0m \u001b[0;34m=\u001b[0m \u001b[0mneigh\u001b[0m\u001b[0;34m.\u001b[0m\u001b[0mpredict\u001b[0m\u001b[0;34m(\u001b[0m\u001b[0mX_UFAMP\u001b[0m\u001b[0;34m)\u001b[0m\u001b[0;31m#.predict(X)\u001b[0m\u001b[0;34m\u001b[0m\u001b[0;34m\u001b[0m\u001b[0m\n\u001b[0m",
      "\u001b[0;32m/homes/v18porti/.local/lib/python3.6/site-packages/sklearn/neighbors/lof.py\u001b[0m in \u001b[0;36mpredict\u001b[0;34m(self)\u001b[0m\n\u001b[1;32m    299\u001b[0m                    \u001b[0;34m'novelty=True if you want to use LOF for novelty detection '\u001b[0m\u001b[0;34m\u001b[0m\u001b[0;34m\u001b[0m\u001b[0m\n\u001b[1;32m    300\u001b[0m                    'and predict on new unseen data.')\n\u001b[0;32m--> 301\u001b[0;31m             \u001b[0;32mraise\u001b[0m \u001b[0mAttributeError\u001b[0m\u001b[0;34m(\u001b[0m\u001b[0mmsg\u001b[0m\u001b[0;34m)\u001b[0m\u001b[0;34m\u001b[0m\u001b[0;34m\u001b[0m\u001b[0m\n\u001b[0m\u001b[1;32m    302\u001b[0m \u001b[0;34m\u001b[0m\u001b[0m\n\u001b[1;32m    303\u001b[0m         \u001b[0;32mreturn\u001b[0m \u001b[0mself\u001b[0m\u001b[0;34m.\u001b[0m\u001b[0m_predict\u001b[0m\u001b[0;34m\u001b[0m\u001b[0;34m\u001b[0m\u001b[0m\n",
      "\u001b[0;31mAttributeError\u001b[0m: predict is not available when novelty=False, use fit_predict if you want to predict on training data. Use novelty=True if you want to use LOF for novelty detection and predict on new unseen data."
     ]
    }
   ],
   "source": [
    "Z = neigh.predict(X_UFAMP)#.predict(X)"
   ]
  },
  {
   "cell_type": "code",
   "execution_count": null,
   "metadata": {},
   "outputs": [],
   "source": [
    "Z.shape"
   ]
  },
  {
   "cell_type": "code",
   "execution_count": null,
   "metadata": {},
   "outputs": [],
   "source": [
    "sum(Z)"
   ]
  },
  {
   "cell_type": "code",
   "execution_count": null,
   "metadata": {},
   "outputs": [],
   "source": [
    "np.unique(Z)"
   ]
  },
  {
   "cell_type": "code",
   "execution_count": null,
   "metadata": {},
   "outputs": [],
   "source": []
  },
  {
   "cell_type": "code",
   "execution_count": null,
   "metadata": {},
   "outputs": [],
   "source": []
  },
  {
   "cell_type": "code",
   "execution_count": null,
   "metadata": {},
   "outputs": [],
   "source": []
  },
  {
   "cell_type": "code",
   "execution_count": null,
   "metadata": {},
   "outputs": [],
   "source": [
    "stat, p = st.normaltest(X)"
   ]
  },
  {
   "cell_type": "code",
   "execution_count": null,
   "metadata": {},
   "outputs": [],
   "source": []
  },
  {
   "cell_type": "code",
   "execution_count": null,
   "metadata": {},
   "outputs": [],
   "source": []
  },
  {
   "cell_type": "code",
   "execution_count": null,
   "metadata": {},
   "outputs": [],
   "source": [
    "#https://www.analyticsvidhya.com/blog/2019/02/outlier-detection-python-pyod/\n",
    "\"\"\"classifiers = {\n",
    "     'Histogram-based Outlier Detection (HBOS)'   : HBOS(),\n",
    "}\"\"\""
   ]
  },
  {
   "cell_type": "code",
   "execution_count": null,
   "metadata": {},
   "outputs": [],
   "source": [
    "\"\"\"for i, (clf_name, clf) in enumerate(classifiers.items()) :\n",
    "    clf.fit(X)\"\"\""
   ]
  },
  {
   "cell_type": "markdown",
   "metadata": {},
   "source": [
    "# NEXT TIME"
   ]
  },
  {
   "cell_type": "code",
   "execution_count": 13,
   "metadata": {},
   "outputs": [
    {
     "name": "stderr",
     "output_type": "stream",
     "text": [
      "/homes/v18porti/.local/lib/python3.6/site-packages/numba/errors.py:131: UserWarning: Insufficiently recent colorama version found. Numba requires colorama >= 0.3.9\n",
      "  warnings.warn(msg)\n"
     ]
    }
   ],
   "source": [
    "from pyod.models.hbos import HBOS"
   ]
  },
  {
   "cell_type": "code",
   "execution_count": 7,
   "metadata": {},
   "outputs": [],
   "source": [
    "X_UFAMP = X[:,2]"
   ]
  },
  {
   "cell_type": "code",
   "execution_count": 8,
   "metadata": {},
   "outputs": [
    {
     "data": {
      "text/html": [
       "<div>\n",
       "<style scoped>\n",
       "    .dataframe tbody tr th:only-of-type {\n",
       "        vertical-align: middle;\n",
       "    }\n",
       "\n",
       "    .dataframe tbody tr th {\n",
       "        vertical-align: top;\n",
       "    }\n",
       "\n",
       "    .dataframe thead th {\n",
       "        text-align: right;\n",
       "    }\n",
       "</style>\n",
       "<table border=\"1\" class=\"dataframe\">\n",
       "  <thead>\n",
       "    <tr style=\"text-align: right;\">\n",
       "      <th></th>\n",
       "      <th>vectorRRKLD</th>\n",
       "      <th>vectorFAmpKLD</th>\n",
       "      <th>vectorUFAmpKLD</th>\n",
       "      <th>vectorCorrKLD</th>\n",
       "    </tr>\n",
       "  </thead>\n",
       "  <tbody>\n",
       "    <tr>\n",
       "      <th>0</th>\n",
       "      <td>14.824769</td>\n",
       "      <td>3.782338</td>\n",
       "      <td>5.010150</td>\n",
       "      <td>0.155980</td>\n",
       "    </tr>\n",
       "    <tr>\n",
       "      <th>1</th>\n",
       "      <td>15.162229</td>\n",
       "      <td>3.555532</td>\n",
       "      <td>4.936006</td>\n",
       "      <td>0.182778</td>\n",
       "    </tr>\n",
       "    <tr>\n",
       "      <th>2</th>\n",
       "      <td>15.026611</td>\n",
       "      <td>3.573871</td>\n",
       "      <td>5.059862</td>\n",
       "      <td>0.182778</td>\n",
       "    </tr>\n",
       "    <tr>\n",
       "      <th>3</th>\n",
       "      <td>14.735096</td>\n",
       "      <td>3.568545</td>\n",
       "      <td>5.038576</td>\n",
       "      <td>0.182777</td>\n",
       "    </tr>\n",
       "    <tr>\n",
       "      <th>4</th>\n",
       "      <td>14.735096</td>\n",
       "      <td>3.568545</td>\n",
       "      <td>5.038576</td>\n",
       "      <td>0.182777</td>\n",
       "    </tr>\n",
       "  </tbody>\n",
       "</table>\n",
       "</div>"
      ],
      "text/plain": [
       "   vectorRRKLD  vectorFAmpKLD  vectorUFAmpKLD  vectorCorrKLD\n",
       "0    14.824769       3.782338        5.010150       0.155980\n",
       "1    15.162229       3.555532        4.936006       0.182778\n",
       "2    15.026611       3.573871        5.059862       0.182778\n",
       "3    14.735096       3.568545        5.038576       0.182777\n",
       "4    14.735096       3.568545        5.038576       0.182777"
      ]
     },
     "execution_count": 8,
     "metadata": {},
     "output_type": "execute_result"
    }
   ],
   "source": [
    "df_ALL.head()"
   ]
  },
  {
   "cell_type": "code",
   "execution_count": 9,
   "metadata": {},
   "outputs": [
    {
     "data": {
      "text/plain": [
       "(50359472,)"
      ]
     },
     "execution_count": 9,
     "metadata": {},
     "output_type": "execute_result"
    }
   ],
   "source": [
    "X_UFAMP.shape"
   ]
  },
  {
   "cell_type": "code",
   "execution_count": 10,
   "metadata": {},
   "outputs": [],
   "source": [
    "X_UFAMP = X_UFAMP.reshape(-1, 1) #X_UFAMP = X_UFAMP.reshape((X_UFAMP.shape[0],1))"
   ]
  },
  {
   "cell_type": "code",
   "execution_count": 11,
   "metadata": {},
   "outputs": [],
   "source": [
    "X_UFAMP = np.insert(X_UFAMP, 1, 0, axis=1)"
   ]
  },
  {
   "cell_type": "code",
   "execution_count": 12,
   "metadata": {},
   "outputs": [
    {
     "data": {
      "text/plain": [
       "array([[ 5.01015 ,  0.      ],\n",
       "       [ 4.936006,  0.      ],\n",
       "       [ 5.059862,  0.      ],\n",
       "       ...,\n",
       "       [43.095245,  0.      ],\n",
       "       [42.66961 ,  0.      ],\n",
       "       [46.24449 ,  0.      ]], dtype=float32)"
      ]
     },
     "execution_count": 12,
     "metadata": {},
     "output_type": "execute_result"
    }
   ],
   "source": [
    "X_UFAMP"
   ]
  },
  {
   "cell_type": "code",
   "execution_count": 14,
   "metadata": {},
   "outputs": [
    {
     "data": {
      "text/plain": [
       "HBOS(alpha=0.1, contamination=0.1, n_bins=10, tol=0.5)"
      ]
     },
     "execution_count": 14,
     "metadata": {},
     "output_type": "execute_result"
    }
   ],
   "source": [
    "clf = HBOS()\n",
    "clf.fit(X_UFAMP)"
   ]
  },
  {
   "cell_type": "code",
   "execution_count": 15,
   "metadata": {},
   "outputs": [],
   "source": [
    "scores_pred = clf.decision_function(X_UFAMP)*-1"
   ]
  },
  {
   "cell_type": "code",
   "execution_count": 16,
   "metadata": {},
   "outputs": [],
   "source": [
    "y_pred = clf.predict(X_UFAMP)"
   ]
  },
  {
   "cell_type": "code",
   "execution_count": 17,
   "metadata": {},
   "outputs": [
    {
     "data": {
      "text/plain": [
       "(50359472,)"
      ]
     },
     "execution_count": 17,
     "metadata": {},
     "output_type": "execute_result"
    }
   ],
   "source": [
    "y_pred.shape"
   ]
  },
  {
   "cell_type": "code",
   "execution_count": 18,
   "metadata": {},
   "outputs": [
    {
     "data": {
      "text/plain": [
       "0"
      ]
     },
     "execution_count": 18,
     "metadata": {},
     "output_type": "execute_result"
    }
   ],
   "source": [
    "sum(y_pred)"
   ]
  },
  {
   "cell_type": "code",
   "execution_count": 19,
   "metadata": {},
   "outputs": [
    {
     "data": {
      "text/plain": [
       "array([0])"
      ]
     },
     "execution_count": 19,
     "metadata": {},
     "output_type": "execute_result"
    }
   ],
   "source": [
    "np.unique(y_pred)"
   ]
  },
  {
   "cell_type": "code",
   "execution_count": 22,
   "metadata": {},
   "outputs": [
    {
     "name": "stdout",
     "output_type": "stream",
     "text": [
      "(50359472, 4)\n",
      "(50005387, 4)\n"
     ]
    },
    {
     "data": {
      "text/plain": [
       "<matplotlib.axes._subplots.AxesSubplot at 0x7fda9743a208>"
      ]
     },
     "execution_count": 22,
     "metadata": {},
     "output_type": "execute_result"
    },
    {
     "data": {
      "image/png": "[encoded data removed]",
      "text/plain": [
       "<Figure size 432x288 with 1 Axes>"
      ]
     },
     "metadata": {},
     "output_type": "display_data"
    }
   ],
   "source": [
    "df_2 = df_1.copy()\n",
    "df_2 = df_1[(y_pred == 0)]\n",
    "print(df_1.shape)\n",
    "print(df_2.shape)\n",
    "df_2.boxplot('vectorUFAmpKLD')"
   ]
  },
  {
   "cell_type": "code",
   "execution_count": 23,
   "metadata": {},
   "outputs": [
    {
     "data": {
      "text/plain": [
       "<matplotlib.axes._subplots.AxesSubplot at 0x7fda974357f0>"
      ]
     },
     "execution_count": 23,
     "metadata": {},
     "output_type": "execute_result"
    },
    {
     "data": {
      "image/png": "[encoded data removed]",
      "text/plain": [
       "<Figure size 432x288 with 1 Axes>"
      ]
     },
     "metadata": {},
     "output_type": "display_data"
    }
   ],
   "source": [
    "sns.distplot(df_2['vectorUFAmpKLD'])"
   ]
  },
  {
   "cell_type": "code",
   "execution_count": 22,
   "metadata": {},
   "outputs": [],
   "source": [
    "from pyod.models.knn import KNN"
   ]
  },
  {
   "cell_type": "code",
   "execution_count": 23,
   "metadata": {},
   "outputs": [
    {
     "data": {
      "text/plain": [
       "KNN(algorithm='auto', contamination=0.1, leaf_size=30, method='largest',\n",
       "  metric='minkowski', metric_params=None, n_jobs=1, n_neighbors=5, p=2,\n",
       "  radius=1.0)"
      ]
     },
     "execution_count": 23,
     "metadata": {},
     "output_type": "execute_result"
    }
   ],
   "source": [
    "clf = KNN()\n",
    "clf.fit(X_UFAMP)"
   ]
  },
  {
   "cell_type": "code",
   "execution_count": 24,
   "metadata": {},
   "outputs": [
    {
     "ename": "ValueError",
     "evalue": "query data dimension must match training data dimension",
     "output_type": "error",
     "traceback": [
      "\u001b[0;31m---------------------------------------------------------------------------\u001b[0m",
      "\u001b[0;31mValueError\u001b[0m                                Traceback (most recent call last)",
      "\u001b[0;32m<ipython-input-24-1199d9b3aae0>\u001b[0m in \u001b[0;36m<module>\u001b[0;34m()\u001b[0m\n\u001b[0;32m----> 1\u001b[0;31m \u001b[0mscores_pred\u001b[0m \u001b[0;34m=\u001b[0m \u001b[0mclf\u001b[0m\u001b[0;34m.\u001b[0m\u001b[0mdecision_function\u001b[0m\u001b[0;34m(\u001b[0m\u001b[0mX\u001b[0m\u001b[0;34m)\u001b[0m\u001b[0;34m*\u001b[0m\u001b[0;34m-\u001b[0m\u001b[0;36m1\u001b[0m\u001b[0;34m\u001b[0m\u001b[0;34m\u001b[0m\u001b[0m\n\u001b[0m",
      "\u001b[0;32m/homes/v18porti/.local/lib/python3.6/site-packages/pyod/models/knn.py\u001b[0m in \u001b[0;36mdecision_function\u001b[0;34m(self, X)\u001b[0m\n\u001b[1;32m    220\u001b[0m \u001b[0;34m\u001b[0m\u001b[0m\n\u001b[1;32m    221\u001b[0m             \u001b[0;31m# get the distance of the current point\u001b[0m\u001b[0;34m\u001b[0m\u001b[0;34m\u001b[0m\u001b[0;34m\u001b[0m\u001b[0m\n\u001b[0;32m--> 222\u001b[0;31m             \u001b[0mdist_arr\u001b[0m\u001b[0;34m,\u001b[0m \u001b[0m_\u001b[0m \u001b[0;34m=\u001b[0m \u001b[0mself\u001b[0m\u001b[0;34m.\u001b[0m\u001b[0mtree_\u001b[0m\u001b[0;34m.\u001b[0m\u001b[0mquery\u001b[0m\u001b[0;34m(\u001b[0m\u001b[0mx_i\u001b[0m\u001b[0;34m,\u001b[0m \u001b[0mk\u001b[0m\u001b[0;34m=\u001b[0m\u001b[0mself\u001b[0m\u001b[0;34m.\u001b[0m\u001b[0mn_neighbors\u001b[0m\u001b[0;34m)\u001b[0m\u001b[0;34m\u001b[0m\u001b[0;34m\u001b[0m\u001b[0m\n\u001b[0m\u001b[1;32m    223\u001b[0m             \u001b[0mdist\u001b[0m \u001b[0;34m=\u001b[0m \u001b[0mself\u001b[0m\u001b[0;34m.\u001b[0m\u001b[0m_get_dist_by_method\u001b[0m\u001b[0;34m(\u001b[0m\u001b[0mdist_arr\u001b[0m\u001b[0;34m)\u001b[0m\u001b[0;34m\u001b[0m\u001b[0;34m\u001b[0m\u001b[0m\n\u001b[1;32m    224\u001b[0m             \u001b[0mpred_score_i\u001b[0m \u001b[0;34m=\u001b[0m \u001b[0mdist\u001b[0m\u001b[0;34m[\u001b[0m\u001b[0;34m-\u001b[0m\u001b[0;36m1\u001b[0m\u001b[0;34m]\u001b[0m\u001b[0;34m\u001b[0m\u001b[0;34m\u001b[0m\u001b[0m\n",
      "\u001b[0;32msklearn/neighbors/binary_tree.pxi\u001b[0m in \u001b[0;36msklearn.neighbors.ball_tree.BinaryTree.query\u001b[0;34m()\u001b[0m\n",
      "\u001b[0;31mValueError\u001b[0m: query data dimension must match training data dimension"
     ]
    }
   ],
   "source": [
    "scores_pred = clf.decision_function(X)*-1"
   ]
  },
  {
   "cell_type": "code",
   "execution_count": null,
   "metadata": {},
   "outputs": [],
   "source": [
    "y_pred = clf.predict(X)"
   ]
  },
  {
   "cell_type": "code",
   "execution_count": null,
   "metadata": {},
   "outputs": [],
   "source": [
    "sum(y_pred)"
   ]
  },
  {
   "cell_type": "code",
   "execution_count": null,
   "metadata": {},
   "outputs": [],
   "source": [
    "np.unique(y_pred)"
   ]
  },
  {
   "cell_type": "code",
   "execution_count": null,
   "metadata": {},
   "outputs": [],
   "source": [
    "df_2 = df_1.copy()\n",
    "df_2 = df_1[(y_pred == 0)]\n",
    "print(df_1.shape)\n",
    "print(df_2.shape)\n",
    "df_2.boxplot('vectorUFAmpKLD')"
   ]
  },
  {
   "cell_type": "code",
   "execution_count": 20,
   "metadata": {},
   "outputs": [],
   "source": []
  },
  {
   "cell_type": "code",
   "execution_count": null,
   "metadata": {},
   "outputs": [],
   "source": []
  },
  {
   "cell_type": "code",
   "execution_count": null,
   "metadata": {},
   "outputs": [],
   "source": []
  },
  {
   "cell_type": "code",
   "execution_count": null,
   "metadata": {},
   "outputs": [],
   "source": []
  },
  {
   "cell_type": "code",
   "execution_count": null,
   "metadata": {},
   "outputs": [],
   "source": []
  },
  {
   "cell_type": "code",
   "execution_count": null,
   "metadata": {},
   "outputs": [],
   "source": []
  },
  {
   "cell_type": "code",
   "execution_count": null,
   "metadata": {},
   "outputs": [],
   "source": []
  },
  {
   "cell_type": "markdown",
   "metadata": {},
   "source": [
    "### ------------------------------ START --------------------------------------"
   ]
  },
  {
   "cell_type": "code",
   "execution_count": 10,
   "metadata": {
    "scrolled": true
   },
   "outputs": [
    {
     "data": {
      "text/plain": [
       "<matplotlib.axes._subplots.AxesSubplot at 0x7f9e8f67d8d0>"
      ]
     },
     "execution_count": 10,
     "metadata": {},
     "output_type": "execute_result"
    },
    {
     "data": {
      "image/png": "[encoded data removed]",
      "text/plain": [
       "<Figure size 432x288 with 1 Axes>"
      ]
     },
     "metadata": {},
     "output_type": "display_data"
    }
   ],
   "source": [
    "sns.distplot(df_ALL['vectorFAmpKLD']) # 200"
   ]
  },
  {
   "cell_type": "code",
   "execution_count": 11,
   "metadata": {
    "scrolled": false
   },
   "outputs": [
    {
     "data": {
      "text/plain": [
       "<matplotlib.axes._subplots.AxesSubplot at 0x7f9e8f570208>"
      ]
     },
     "execution_count": 11,
     "metadata": {},
     "output_type": "execute_result"
    },
    {
     "data": {
      "image/png": "[encoded data removed]",
      "text/plain": [
       "<Figure size 432x288 with 1 Axes>"
      ]
     },
     "metadata": {},
     "output_type": "display_data"
    }
   ],
   "source": [
    "sns.distplot(df_ALL['vectorRRKLD']) # 200"
   ]
  },
  {
   "cell_type": "code",
   "execution_count": 12,
   "metadata": {},
   "outputs": [
    {
     "data": {
      "text/plain": [
       "<matplotlib.axes._subplots.AxesSubplot at 0x7f9e8f559438>"
      ]
     },
     "execution_count": 12,
     "metadata": {},
     "output_type": "execute_result"
    },
    {
     "data": {
      "image/png": "[encoded data removed]",
      "text/plain": [
       "<Figure size 432x288 with 1 Axes>"
      ]
     },
     "metadata": {},
     "output_type": "display_data"
    }
   ],
   "source": [
    "sns.distplot(df_ALL['vectorUFAmpKLD']) # 200"
   ]
  },
  {
   "cell_type": "code",
   "execution_count": null,
   "metadata": {
    "scrolled": false
   },
   "outputs": [
    {
     "data": {
      "text/plain": [
       "<matplotlib.axes._subplots.AxesSubplot at 0x7f9e8f67d518>"
      ]
     },
     "execution_count": 14,
     "metadata": {},
     "output_type": "execute_result"
    },
    {
     "data": {
      "image/png": "[encoded data removed]",
      "text/plain": [
       "<Figure size 432x288 with 1 Axes>"
      ]
     },
     "metadata": {},
     "output_type": "display_data"
    }
   ],
   "source": [
    "sns.distplot(df_ALL['vectorCorrKLD']) # 200"
   ]
  },
  {
   "cell_type": "code",
   "execution_count": 17,
   "metadata": {},
   "outputs": [
    {
     "data": {
      "image/png": "[encoded data removed]",
      "text/plain": [
       "<Figure size 1440x432 with 4 Axes>"
      ]
     },
     "metadata": {},
     "output_type": "display_data"
    }
   ],
   "source": [
    "fig, ax = plt.subplots(1, 4, figsize=(20, 6)) # 300\n",
    "df_ALL.boxplot(column='vectorCorrKLD', ax=ax[0])\n",
    "df_ALL.boxplot(column='vectorFAmpKLD', ax=ax[1])\n",
    "df_ALL.boxplot(column='vectorUFAmpKLD', ax=ax[2])\n",
    "df_ALL.boxplot(column='vectorRRKLD', ax=ax[3])\n",
    "plt.show()\n",
    "fig.clf()\n",
    "plt.close()"
   ]
  },
  {
   "cell_type": "code",
   "execution_count": null,
   "metadata": {},
   "outputs": [],
   "source": []
  }
 ],
 "metadata": {
  "kernelspec": {
   "display_name": "Python 3",
   "language": "python",
   "name": "python3"
  },
  "language_info": {
   "codemirror_mode": {
    "name": "ipython",
    "version": 3
   },
   "file_extension": ".py",
   "mimetype": "text/x-python",
   "name": "python",
   "nbconvert_exporter": "python",
   "pygments_lexer": "ipython3",
   "version": "3.6.8"
  }
 },
 "nbformat": 4,
 "nbformat_minor": 2
}
