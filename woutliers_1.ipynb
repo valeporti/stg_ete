{
 "cells": [
  {
   "cell_type": "code",
   "execution_count": 1,
   "metadata": {},
   "outputs": [],
   "source": [
    "# %matplotlib notebook\n",
    "import matplotlib.pyplot as plt\n",
    "from scipy import linalg\n",
    "import scipy.io as sio\n",
    "import pprint as pp\n",
    "import numpy as np\n",
    "import seaborn as sns\n",
    "import pandas as pd\n",
    "import os\n",
    "import re\n",
    "import gc\n",
    "# pre\n",
    "from sklearn.decomposition import PCA\n",
    "from sklearn.base import BaseEstimator, TransformerMixin\n",
    "from sklearn.pipeline import Pipeline, FeatureUnion\n",
    "from sklearn.preprocessing import StandardScaler, Imputer\n",
    "# Study\n",
    "from sklearn.mixture import GaussianMixture, BayesianGaussianMixture\n",
    "from sklearn.cluster import KMeans, MeanShift, estimate_bandwidth\n",
    "import matplotlib as mpl\n",
    "import numpy as np\n",
    "import itertools\n",
    "from mpl_toolkits.mplot3d import Axes3D\n",
    "from time import time\n",
    "from scipy import stats\n",
    "\n",
    "# helpers files\n",
    "import infoStructure as ins\n",
    "import helpers as hp\n",
    "import display as dp\n",
    "import clustering as cl\n",
    "import importlib #importlib.reload(foo)"
   ]
  },
  {
   "cell_type": "code",
   "execution_count": 2,
   "metadata": {},
   "outputs": [],
   "source": [
    "FEATHDir = '/sanssauvegarde/homes/v18porti/info/'\n",
    "MDIR = FEATHDir"
   ]
  },
  {
   "cell_type": "markdown",
   "metadata": {},
   "source": [
    "### Get saved DataFrame"
   ]
  },
  {
   "cell_type": "code",
   "execution_count": 3,
   "metadata": {},
   "outputs": [],
   "source": [
    "df_ALL = pd.read_feather(FEATHDir + '200.feather')"
   ]
  },
  {
   "cell_type": "code",
   "execution_count": 4,
   "metadata": {},
   "outputs": [
    {
     "name": "stdout",
     "output_type": "stream",
     "text": [
      "<class 'pandas.core.frame.DataFrame'>\n",
      "RangeIndex: 50253405 entries, 0 to 50253404\n",
      "Data columns (total 4 columns):\n",
      "vectorRRKLD_ALL       float64\n",
      "vectorFAmpKLD_ALL     float64\n",
      "vectorUFAmpKLD_ALL    float64\n",
      "vectorCorrKLD_ALL     float64\n",
      "dtypes: float64(4)\n",
      "memory usage: 1.5 GB\n"
     ]
    }
   ],
   "source": [
    "df_ALL.info()"
   ]
  },
  {
   "cell_type": "code",
   "execution_count": 5,
   "metadata": {},
   "outputs": [
    {
     "data": {
      "text/html": [
       "<div>\n",
       "<style scoped>\n",
       "    .dataframe tbody tr th:only-of-type {\n",
       "        vertical-align: middle;\n",
       "    }\n",
       "\n",
       "    .dataframe tbody tr th {\n",
       "        vertical-align: top;\n",
       "    }\n",
       "\n",
       "    .dataframe thead th {\n",
       "        text-align: right;\n",
       "    }\n",
       "</style>\n",
       "<table border=\"1\" class=\"dataframe\">\n",
       "  <thead>\n",
       "    <tr style=\"text-align: right;\">\n",
       "      <th></th>\n",
       "      <th>vectorRRKLD_ALL</th>\n",
       "      <th>vectorFAmpKLD_ALL</th>\n",
       "      <th>vectorUFAmpKLD_ALL</th>\n",
       "      <th>vectorCorrKLD_ALL</th>\n",
       "    </tr>\n",
       "  </thead>\n",
       "  <tbody>\n",
       "    <tr>\n",
       "      <th>count</th>\n",
       "      <td>5.025234e+07</td>\n",
       "      <td>5.025340e+07</td>\n",
       "      <td>5.025340e+07</td>\n",
       "      <td>4.933178e+07</td>\n",
       "    </tr>\n",
       "    <tr>\n",
       "      <th>mean</th>\n",
       "      <td>2.874678e+14</td>\n",
       "      <td>1.004443e+02</td>\n",
       "      <td>1.835926e+14</td>\n",
       "      <td>1.364375e+01</td>\n",
       "    </tr>\n",
       "    <tr>\n",
       "      <th>std</th>\n",
       "      <td>5.768096e+16</td>\n",
       "      <td>3.783401e+03</td>\n",
       "      <td>2.032571e+17</td>\n",
       "      <td>3.974665e+01</td>\n",
       "    </tr>\n",
       "    <tr>\n",
       "      <th>min</th>\n",
       "      <td>-1.196758e+01</td>\n",
       "      <td>0.000000e+00</td>\n",
       "      <td>-1.520206e+00</td>\n",
       "      <td>0.000000e+00</td>\n",
       "    </tr>\n",
       "    <tr>\n",
       "      <th>25%</th>\n",
       "      <td>8.378836e+00</td>\n",
       "      <td>3.710933e+00</td>\n",
       "      <td>1.080609e+01</td>\n",
       "      <td>4.991971e+00</td>\n",
       "    </tr>\n",
       "    <tr>\n",
       "      <th>50%</th>\n",
       "      <td>1.086595e+01</td>\n",
       "      <td>5.204808e+00</td>\n",
       "      <td>1.434429e+01</td>\n",
       "      <td>7.444819e+00</td>\n",
       "    </tr>\n",
       "    <tr>\n",
       "      <th>75%</th>\n",
       "      <td>1.581054e+01</td>\n",
       "      <td>7.724062e+00</td>\n",
       "      <td>2.119268e+01</td>\n",
       "      <td>1.172646e+01</td>\n",
       "    </tr>\n",
       "    <tr>\n",
       "      <th>max</th>\n",
       "      <td>3.421422e+19</td>\n",
       "      <td>8.780618e+05</td>\n",
       "      <td>2.250281e+20</td>\n",
       "      <td>1.712306e+03</td>\n",
       "    </tr>\n",
       "  </tbody>\n",
       "</table>\n",
       "</div>"
      ],
      "text/plain": [
       "       vectorRRKLD_ALL  vectorFAmpKLD_ALL  vectorUFAmpKLD_ALL  \\\n",
       "count     5.025234e+07       5.025340e+07        5.025340e+07   \n",
       "mean      2.874678e+14       1.004443e+02        1.835926e+14   \n",
       "std       5.768096e+16       3.783401e+03        2.032571e+17   \n",
       "min      -1.196758e+01       0.000000e+00       -1.520206e+00   \n",
       "25%       8.378836e+00       3.710933e+00        1.080609e+01   \n",
       "50%       1.086595e+01       5.204808e+00        1.434429e+01   \n",
       "75%       1.581054e+01       7.724062e+00        2.119268e+01   \n",
       "max       3.421422e+19       8.780618e+05        2.250281e+20   \n",
       "\n",
       "       vectorCorrKLD_ALL  \n",
       "count       4.933178e+07  \n",
       "mean        1.364375e+01  \n",
       "std         3.974665e+01  \n",
       "min         0.000000e+00  \n",
       "25%         4.991971e+00  \n",
       "50%         7.444819e+00  \n",
       "75%         1.172646e+01  \n",
       "max         1.712306e+03  "
      ]
     },
     "execution_count": 5,
     "metadata": {},
     "output_type": "execute_result"
    }
   ],
   "source": [
    "df_ALL.describe()"
   ]
  },
  {
   "cell_type": "code",
   "execution_count": 6,
   "metadata": {},
   "outputs": [
    {
     "data": {
      "text/html": [
       "<div>\n",
       "<style scoped>\n",
       "    .dataframe tbody tr th:only-of-type {\n",
       "        vertical-align: middle;\n",
       "    }\n",
       "\n",
       "    .dataframe tbody tr th {\n",
       "        vertical-align: top;\n",
       "    }\n",
       "\n",
       "    .dataframe thead th {\n",
       "        text-align: right;\n",
       "    }\n",
       "</style>\n",
       "<table border=\"1\" class=\"dataframe\">\n",
       "  <thead>\n",
       "    <tr style=\"text-align: right;\">\n",
       "      <th></th>\n",
       "      <th>vectorRRKLD_ALL</th>\n",
       "      <th>vectorFAmpKLD_ALL</th>\n",
       "      <th>vectorUFAmpKLD_ALL</th>\n",
       "      <th>vectorCorrKLD_ALL</th>\n",
       "    </tr>\n",
       "  </thead>\n",
       "  <tbody>\n",
       "    <tr>\n",
       "      <th>vectorRRKLD_ALL</th>\n",
       "      <td>1.000000</td>\n",
       "      <td>0.022457</td>\n",
       "      <td>-0.000004</td>\n",
       "      <td>0.001826</td>\n",
       "    </tr>\n",
       "    <tr>\n",
       "      <th>vectorFAmpKLD_ALL</th>\n",
       "      <td>0.022457</td>\n",
       "      <td>1.000000</td>\n",
       "      <td>0.002293</td>\n",
       "      <td>0.008833</td>\n",
       "    </tr>\n",
       "    <tr>\n",
       "      <th>vectorUFAmpKLD_ALL</th>\n",
       "      <td>-0.000004</td>\n",
       "      <td>0.002293</td>\n",
       "      <td>1.000000</td>\n",
       "      <td>0.043892</td>\n",
       "    </tr>\n",
       "    <tr>\n",
       "      <th>vectorCorrKLD_ALL</th>\n",
       "      <td>0.001826</td>\n",
       "      <td>0.008833</td>\n",
       "      <td>0.043892</td>\n",
       "      <td>1.000000</td>\n",
       "    </tr>\n",
       "  </tbody>\n",
       "</table>\n",
       "</div>"
      ],
      "text/plain": [
       "                    vectorRRKLD_ALL  vectorFAmpKLD_ALL  vectorUFAmpKLD_ALL  \\\n",
       "vectorRRKLD_ALL            1.000000           0.022457           -0.000004   \n",
       "vectorFAmpKLD_ALL          0.022457           1.000000            0.002293   \n",
       "vectorUFAmpKLD_ALL        -0.000004           0.002293            1.000000   \n",
       "vectorCorrKLD_ALL          0.001826           0.008833            0.043892   \n",
       "\n",
       "                    vectorCorrKLD_ALL  \n",
       "vectorRRKLD_ALL              0.001826  \n",
       "vectorFAmpKLD_ALL            0.008833  \n",
       "vectorUFAmpKLD_ALL           0.043892  \n",
       "vectorCorrKLD_ALL            1.000000  "
      ]
     },
     "execution_count": 6,
     "metadata": {},
     "output_type": "execute_result"
    }
   ],
   "source": [
    "df_ALL.corr()"
   ]
  },
  {
   "cell_type": "code",
   "execution_count": 7,
   "metadata": {},
   "outputs": [
    {
     "data": {
      "image/png": "[encoded data removed]",
      "text/plain": [
       "<Figure size 360x360 with 2 Axes>"
      ]
     },
     "metadata": {},
     "output_type": "display_data"
    }
   ],
   "source": [
    "%matplotlib inline\n",
    "dp.draw_correlation_matrix(df_ALL)"
   ]
  },
  {
   "cell_type": "markdown",
   "metadata": {},
   "source": [
    "### Pre processing"
   ]
  },
  {
   "cell_type": "code",
   "execution_count": 8,
   "metadata": {},
   "outputs": [],
   "source": [
    "df_final = df_ALL\n",
    "del df_ALL"
   ]
  },
  {
   "cell_type": "code",
   "execution_count": 9,
   "metadata": {},
   "outputs": [
    {
     "data": {
      "text/plain": [
       "vectorRRKLD_ALL         1066\n",
       "vectorFAmpKLD_ALL          0\n",
       "vectorUFAmpKLD_ALL         0\n",
       "vectorCorrKLD_ALL     921626\n",
       "dtype: int64"
      ]
     },
     "execution_count": 9,
     "metadata": {},
     "output_type": "execute_result"
    }
   ],
   "source": [
    "len(df_final) - df_final.count()"
   ]
  },
  {
   "cell_type": "code",
   "execution_count": 10,
   "metadata": {},
   "outputs": [],
   "source": [
    "num_attribs = list(df_final)\n",
    "\n",
    "pipeline = Pipeline([\n",
    "        ('selector', hp.DataFrameSelector(num_attribs)), # to handle pandas data frame\n",
    "        ('imputer', Imputer(strategy=\"median\")), # fill missing values with median\n",
    "        ('std_scaler', StandardScaler())\n",
    "    ])\n",
    "\n",
    "full_pipeline = FeatureUnion(transformer_list=[\n",
    "    (\"main\", pipeline),\n",
    "    ])\n",
    "\n",
    "data_prepared = full_pipeline.fit_transform(df_final)"
   ]
  },
  {
   "cell_type": "code",
   "execution_count": 11,
   "metadata": {},
   "outputs": [
    {
     "data": {
      "text/html": [
       "<div>\n",
       "<style scoped>\n",
       "    .dataframe tbody tr th:only-of-type {\n",
       "        vertical-align: middle;\n",
       "    }\n",
       "\n",
       "    .dataframe tbody tr th {\n",
       "        vertical-align: top;\n",
       "    }\n",
       "\n",
       "    .dataframe thead th {\n",
       "        text-align: right;\n",
       "    }\n",
       "</style>\n",
       "<table border=\"1\" class=\"dataframe\">\n",
       "  <thead>\n",
       "    <tr style=\"text-align: right;\">\n",
       "      <th></th>\n",
       "      <th>vectorRRKLD_N</th>\n",
       "      <th>vectorFAmpKLD_N</th>\n",
       "      <th>vectorUFAmpKLD_N</th>\n",
       "      <th>vectorCorrKLD_N</th>\n",
       "    </tr>\n",
       "  </thead>\n",
       "  <tbody>\n",
       "    <tr>\n",
       "      <th>count</th>\n",
       "      <td>5.025340e+07</td>\n",
       "      <td>5.025340e+07</td>\n",
       "      <td>5.025340e+07</td>\n",
       "      <td>5.025340e+07</td>\n",
       "    </tr>\n",
       "    <tr>\n",
       "      <th>mean</th>\n",
       "      <td>-6.448265e-17</td>\n",
       "      <td>-1.939332e-18</td>\n",
       "      <td>1.651471e-17</td>\n",
       "      <td>-1.969895e-16</td>\n",
       "    </tr>\n",
       "    <tr>\n",
       "      <th>std</th>\n",
       "      <td>1.000000e+00</td>\n",
       "      <td>1.000000e+00</td>\n",
       "      <td>1.000000e+00</td>\n",
       "      <td>1.000000e+00</td>\n",
       "    </tr>\n",
       "    <tr>\n",
       "      <th>min</th>\n",
       "      <td>-4.983703e-03</td>\n",
       "      <td>-2.654869e-02</td>\n",
       "      <td>-9.032529e-04</td>\n",
       "      <td>-3.434961e-01</td>\n",
       "    </tr>\n",
       "    <tr>\n",
       "      <th>25%</th>\n",
       "      <td>-4.983703e-03</td>\n",
       "      <td>-2.556784e-02</td>\n",
       "      <td>-9.032529e-04</td>\n",
       "      <td>-2.156115e-01</td>\n",
       "    </tr>\n",
       "    <tr>\n",
       "      <th>50%</th>\n",
       "      <td>-4.983703e-03</td>\n",
       "      <td>-2.517299e-02</td>\n",
       "      <td>-9.032529e-04</td>\n",
       "      <td>-1.544899e-01</td>\n",
       "    </tr>\n",
       "    <tr>\n",
       "      <th>75%</th>\n",
       "      <td>-4.983703e-03</td>\n",
       "      <td>-2.450712e-02</td>\n",
       "      <td>-9.032529e-04</td>\n",
       "      <td>-4.910455e-02</td>\n",
       "    </tr>\n",
       "    <tr>\n",
       "      <th>max</th>\n",
       "      <td>5.931645e+02</td>\n",
       "      <td>2.320561e+02</td>\n",
       "      <td>1.107110e+03</td>\n",
       "      <td>4.312788e+01</td>\n",
       "    </tr>\n",
       "  </tbody>\n",
       "</table>\n",
       "</div>"
      ],
      "text/plain": [
       "       vectorRRKLD_N  vectorFAmpKLD_N  vectorUFAmpKLD_N  vectorCorrKLD_N\n",
       "count   5.025340e+07     5.025340e+07      5.025340e+07     5.025340e+07\n",
       "mean   -6.448265e-17    -1.939332e-18      1.651471e-17    -1.969895e-16\n",
       "std     1.000000e+00     1.000000e+00      1.000000e+00     1.000000e+00\n",
       "min    -4.983703e-03    -2.654869e-02     -9.032529e-04    -3.434961e-01\n",
       "25%    -4.983703e-03    -2.556784e-02     -9.032529e-04    -2.156115e-01\n",
       "50%    -4.983703e-03    -2.517299e-02     -9.032529e-04    -1.544899e-01\n",
       "75%    -4.983703e-03    -2.450712e-02     -9.032529e-04    -4.910455e-02\n",
       "max     5.931645e+02     2.320561e+02      1.107110e+03     4.312788e+01"
      ]
     },
     "execution_count": 11,
     "metadata": {},
     "output_type": "execute_result"
    }
   ],
   "source": [
    "df_normalized = hp.convertDictInDF(hp.putDataInDict(\n",
    "        [data_prepared[:,0], data_prepared[:,1], data_prepared[:,2], data_prepared[:,3]],\n",
    "        ['vectorRRKLD_N', 'vectorFAmpKLD_N', 'vectorUFAmpKLD_N', 'vectorCorrKLD_N']\n",
    "    ))\n",
    "df_normalized.describe()"
   ]
  },
  {
   "cell_type": "code",
   "execution_count": 12,
   "metadata": {},
   "outputs": [],
   "source": [
    "del data_prepared, full_pipeline, pipeline"
   ]
  },
  {
   "cell_type": "markdown",
   "metadata": {},
   "source": [
    "### PCA"
   ]
  },
  {
   "cell_type": "markdown",
   "metadata": {},
   "source": [
    ">*[0.50219192 0.28210948 0.20605092 0.00964767]* : first 3 carries the most info with standarized data (95%)\n",
    ">\n",
    ">*[0.92169138 0.04827627 0.02278563 0.00724673]* : first 1 carries the most info without standarizing data\n",
    ">\n",
    "> This is how we know we should standarize since it permits the other 2 axes to participate"
   ]
  },
  {
   "cell_type": "code",
   "execution_count": 13,
   "metadata": {},
   "outputs": [
    {
     "data": {
      "text/plain": [
       "3159"
      ]
     },
     "execution_count": 13,
     "metadata": {},
     "output_type": "execute_result"
    }
   ],
   "source": [
    "X = df_normalized\n",
    "del df_normalized\n",
    "gc.collect()"
   ]
  },
  {
   "cell_type": "code",
   "execution_count": 14,
   "metadata": {},
   "outputs": [
    {
     "name": "stdout",
     "output_type": "stream",
     "text": [
      "[0.25571667 0.25005    0.24987723 0.2443561 ]\n",
      "[7169.55600176 7089.67243208 7087.222831   7008.48800293]\n",
      "[[ 0.69886122  0.70290819  0.06966168  0.11251809]\n",
      " [-0.03959818  0.04108673  0.84401921 -0.53326864]\n",
      " [-0.12508917 -0.06205298  0.52686904  0.83839796]\n",
      " [ 0.70311996 -0.70737641  0.07202666  0.00728682]]\n"
     ]
    }
   ],
   "source": [
    "pca = PCA(n_components=0.95)\n",
    "pca.fit(X)  \n",
    "print(pca.explained_variance_ratio_) \n",
    "print(pca.singular_values_)\n",
    "print(pca.components_)"
   ]
  },
  {
   "cell_type": "code",
   "execution_count": 15,
   "metadata": {},
   "outputs": [],
   "source": [
    "X = pca.transform(X)\n",
    "del pca\n",
    "gc.collect()\n",
    "principalDf = pd.DataFrame(data=X, columns=['pc1', 'pc2', 'pc3', 'pc4'])"
   ]
  },
  {
   "cell_type": "code",
   "execution_count": 16,
   "metadata": {},
   "outputs": [
    {
     "data": {
      "image/png": "[encoded data removed]",
      "text/plain": [
       "<Figure size 432x288 with 1 Axes>"
      ]
     },
     "metadata": {},
     "output_type": "display_data"
    },
    {
     "data": {
      "image/png": "[encoded data removed]",
      "text/plain": [
       "<Figure size 432x288 with 1 Axes>"
      ]
     },
     "metadata": {},
     "output_type": "display_data"
    },
    {
     "data": {
      "image/png": "[encoded data removed]",
      "text/plain": [
       "<Figure size 432x288 with 1 Axes>"
      ]
     },
     "metadata": {},
     "output_type": "display_data"
    },
    {
     "data": {
      "image/png": "[encoded data removed]",
      "text/plain": [
       "<Figure size 432x288 with 1 Axes>"
      ]
     },
     "metadata": {},
     "output_type": "display_data"
    },
    {
     "data": {
      "image/png": "[encoded data removed]",
      "text/plain": [
       "<Figure size 432x288 with 1 Axes>"
      ]
     },
     "metadata": {},
     "output_type": "display_data"
    },
    {
     "data": {
      "image/png": "[encoded data removed]",
      "text/plain": [
       "<Figure size 432x288 with 1 Axes>"
      ]
     },
     "metadata": {},
     "output_type": "display_data"
    }
   ],
   "source": [
    "dp.printScatter(principalDf['pc1'], principalDf['pc2'])\n",
    "dp.printScatter(principalDf['pc1'], principalDf['pc3'])\n",
    "dp.printScatter(principalDf['pc1'], principalDf['pc4'])\n",
    "dp.printScatter(principalDf['pc2'], principalDf['pc3'])\n",
    "dp.printScatter(principalDf['pc2'], principalDf['pc4'])\n",
    "dp.printScatter(principalDf['pc3'], principalDf['pc4'])"
   ]
  },
  {
   "cell_type": "code",
   "execution_count": 17,
   "metadata": {
    "scrolled": true
   },
   "outputs": [
    {
     "data": {
      "text/html": [
       "<div>\n",
       "<style scoped>\n",
       "    .dataframe tbody tr th:only-of-type {\n",
       "        vertical-align: middle;\n",
       "    }\n",
       "\n",
       "    .dataframe tbody tr th {\n",
       "        vertical-align: top;\n",
       "    }\n",
       "\n",
       "    .dataframe thead th {\n",
       "        text-align: right;\n",
       "    }\n",
       "</style>\n",
       "<table border=\"1\" class=\"dataframe\">\n",
       "  <thead>\n",
       "    <tr style=\"text-align: right;\">\n",
       "      <th></th>\n",
       "      <th>pc1</th>\n",
       "      <th>pc2</th>\n",
       "      <th>pc3</th>\n",
       "      <th>pc4</th>\n",
       "    </tr>\n",
       "  </thead>\n",
       "  <tbody>\n",
       "    <tr>\n",
       "      <th>count</th>\n",
       "      <td>5.025340e+07</td>\n",
       "      <td>5.025340e+07</td>\n",
       "      <td>5.025340e+07</td>\n",
       "      <td>5.025340e+07</td>\n",
       "    </tr>\n",
       "    <tr>\n",
       "      <th>mean</th>\n",
       "      <td>1.603294e-16</td>\n",
       "      <td>4.166425e-17</td>\n",
       "      <td>-6.496451e-17</td>\n",
       "      <td>1.453792e-16</td>\n",
       "    </tr>\n",
       "    <tr>\n",
       "      <th>std</th>\n",
       "      <td>1.011369e+00</td>\n",
       "      <td>1.000100e+00</td>\n",
       "      <td>9.997544e-01</td>\n",
       "      <td>9.886478e-01</td>\n",
       "    </tr>\n",
       "    <tr>\n",
       "      <th>min</th>\n",
       "      <td>-6.085666e-02</td>\n",
       "      <td>-2.340929e+01</td>\n",
       "      <td>-7.432325e+01</td>\n",
       "      <td>-1.641557e+02</td>\n",
       "    </tr>\n",
       "    <tr>\n",
       "      <th>25%</th>\n",
       "      <td>-4.467433e-02</td>\n",
       "      <td>2.509904e-02</td>\n",
       "      <td>-1.800782e-01</td>\n",
       "      <td>1.235073e-02</td>\n",
       "    </tr>\n",
       "    <tr>\n",
       "      <th>50%</th>\n",
       "      <td>-3.753271e-02</td>\n",
       "      <td>8.078166e-02</td>\n",
       "      <td>-1.278089e-01</td>\n",
       "      <td>1.302255e-02</td>\n",
       "    </tr>\n",
       "    <tr>\n",
       "      <th>75%</th>\n",
       "      <td>-2.362285e-02</td>\n",
       "      <td>1.140386e-01</td>\n",
       "      <td>-4.029823e-02</td>\n",
       "      <td>1.385280e-02</td>\n",
       "    </tr>\n",
       "    <tr>\n",
       "      <th>max</th>\n",
       "      <td>4.148030e+02</td>\n",
       "      <td>9.346087e+02</td>\n",
       "      <td>5.830154e+02</td>\n",
       "      <td>4.167864e+02</td>\n",
       "    </tr>\n",
       "  </tbody>\n",
       "</table>\n",
       "</div>"
      ],
      "text/plain": [
       "                pc1           pc2           pc3           pc4\n",
       "count  5.025340e+07  5.025340e+07  5.025340e+07  5.025340e+07\n",
       "mean   1.603294e-16  4.166425e-17 -6.496451e-17  1.453792e-16\n",
       "std    1.011369e+00  1.000100e+00  9.997544e-01  9.886478e-01\n",
       "min   -6.085666e-02 -2.340929e+01 -7.432325e+01 -1.641557e+02\n",
       "25%   -4.467433e-02  2.509904e-02 -1.800782e-01  1.235073e-02\n",
       "50%   -3.753271e-02  8.078166e-02 -1.278089e-01  1.302255e-02\n",
       "75%   -2.362285e-02  1.140386e-01 -4.029823e-02  1.385280e-02\n",
       "max    4.148030e+02  9.346087e+02  5.830154e+02  4.167864e+02"
      ]
     },
     "execution_count": 17,
     "metadata": {},
     "output_type": "execute_result"
    }
   ],
   "source": [
    "titles = principalDf.columns.tolist()\n",
    "principalDf.describe()"
   ]
  },
  {
   "cell_type": "markdown",
   "metadata": {},
   "source": [
    "## 1 Gaussian Mixture Model\n",
    "\n",
    "https://scikit-learn.org/stable/unsupervised_learning.html\n"
   ]
  },
  {
   "cell_type": "code",
   "execution_count": null,
   "metadata": {},
   "outputs": [],
   "source": [
    "n_components_range = range(1, 7)\n",
    "best_gmm, bic, cv_types = cl.getBestGMMUsingBIC(X, n_components_range)"
   ]
  },
  {
   "cell_type": "code",
   "execution_count": null,
   "metadata": {},
   "outputs": [],
   "source": [
    "bic = np.array(bic)\n",
    "color_iter = itertools.cycle(['navy', 'turquoise', 'cornflowerblue',\n",
    "                              'darkorange', 'gold', 'tomato'])\n",
    "dp.plotBICScores(bic, cv_types, color_iter, n_components_range)"
   ]
  },
  {
   "cell_type": "code",
   "execution_count": null,
   "metadata": {},
   "outputs": [],
   "source": [
    "fig, ax = plt.subplots(1, 3, figsize=(15, 6))\n",
    "dp.getPlotGMM(best_gmm, X, color_iter, 0, 1, ax[0], titles)\n",
    "dp.getPlotGMM(best_gmm, X, color_iter, 1, 2, ax[1], titles)\n",
    "dp.getPlotGMM(best_gmm, X, color_iter, 0, 2, ax[2], titles)\n",
    "plt.show()\n",
    "fig.clf()\n",
    "plt.close()"
   ]
  },
  {
   "cell_type": "code",
   "execution_count": null,
   "metadata": {},
   "outputs": [],
   "source": [
    "hp.getRepresentativeness(best_gmm, X, best_gmm.predict(X))"
   ]
  },
  {
   "cell_type": "code",
   "execution_count": null,
   "metadata": {},
   "outputs": [],
   "source": [
    "del bic, best_gmm"
   ]
  },
  {
   "cell_type": "markdown",
   "metadata": {},
   "source": [
    "## 2 K-Means\n",
    "\n",
    "[4, 5, 6] components"
   ]
  },
  {
   "cell_type": "code",
   "execution_count": null,
   "metadata": {},
   "outputs": [],
   "source": [
    "Y_, km = cl.getKmeanskClusters(4, X)\n",
    "dp.printThreeKMaeans(X, Y_, titles)\n",
    "print(hp.getRepresentativenessKM(km, X, Y_))\n",
    "del km, Y_\n",
    "plt.clf()\n",
    "plt.close()"
   ]
  },
  {
   "cell_type": "code",
   "execution_count": null,
   "metadata": {},
   "outputs": [],
   "source": [
    "Y_, km = cl.getKmeanskClusters(5, X)\n",
    "dp.printThreeKMaeans(X, Y_, titles)\n",
    "print(hp.getRepresentativenessKM(km, X, Y_))\n",
    "del km, Y_\n",
    "plt.clf()\n",
    "plt.close()"
   ]
  },
  {
   "cell_type": "code",
   "execution_count": null,
   "metadata": {},
   "outputs": [],
   "source": [
    "Y_, km = cl.getKmeanskClusters(6, X)\n",
    "dp.printThreeKMaeans(X, Y_, titles)\n",
    "print(hp.getRepresentativenessKM(km, X, Y_))\n",
    "del km, Y_\n",
    "plt.clf()\n",
    "plt.close()"
   ]
  },
  {
   "cell_type": "markdown",
   "metadata": {},
   "source": [
    "## 3 Mean Shift\n",
    "https://scikit-learn.org/stable/tutorial/machine_learning_map/index.html"
   ]
  },
  {
   "cell_type": "markdown",
   "metadata": {},
   "source": [
    "> Bandwidth is not very different with quantity of samples 50000 or 100000, so for ease of computation, we will use 50000.\n",
    "> \n",
    "> Quantile, it increases  the value of the bandwith, 0.3, gets 1.76 with 7 components, 0.5, gets 2.26 with 4 components"
   ]
  },
  {
   "cell_type": "code",
   "execution_count": null,
   "metadata": {},
   "outputs": [],
   "source": [
    "bandwidth = estimate_bandwidth(X, n_samples=50000, quantile=0.3)\n",
    "bandwidth"
   ]
  },
  {
   "cell_type": "code",
   "execution_count": null,
   "metadata": {},
   "outputs": [],
   "source": [
    "bandwidth2 = estimate_bandwidth(X, n_samples=50000, quantile=0.5)\n",
    "bandwidth2"
   ]
  },
  {
   "cell_type": "code",
   "execution_count": null,
   "metadata": {},
   "outputs": [],
   "source": [
    "bandwidth3 = estimate_bandwidth(X, n_samples=50000, quantile=0.7)\n",
    "bandwidth3"
   ]
  },
  {
   "cell_type": "code",
   "execution_count": null,
   "metadata": {},
   "outputs": [],
   "source": [
    "bandwidth4 = estimate_bandwidth(X, n_samples=50000, quantile=0.2)\n",
    "bandwidth4"
   ]
  },
  {
   "cell_type": "code",
   "execution_count": null,
   "metadata": {
    "scrolled": true
   },
   "outputs": [],
   "source": [
    "ms, n_clusters_, cluster_centers, labels = cl.meanClustering(X, 4)\n",
    "print(hp.getRepresentativenessKM(ms, X, ms.predict(X)))\n",
    "dp.plotMSh(X, ms, n_clusters_, cluster_centers, labels)"
   ]
  },
  {
   "cell_type": "code",
   "execution_count": null,
   "metadata": {},
   "outputs": [],
   "source": [
    "ms1, n_clusters_1, cluster_centers1, labels1 = cl.meanClustering(X, 5)\n",
    "print(hp.getRepresentativenessKM(ms1, X, ms1.predict(X)))\n",
    "dp.plotMSh(X, ms1, n_clusters_1, cluster_centers1, labels1)"
   ]
  },
  {
   "cell_type": "markdown",
   "metadata": {},
   "source": [
    "## 4 Variational Bayesian Gaussian Mixture"
   ]
  },
  {
   "cell_type": "markdown",
   "metadata": {},
   "source": [
    "Having 5 components, changig the n_init, it has a better distribution in \"representativeness\" with a value of 2 and max_iter = 200"
   ]
  },
  {
   "cell_type": "code",
   "execution_count": null,
   "metadata": {},
   "outputs": [],
   "source": [
    "dpgmm1 = BayesianGaussianMixture(n_components=5,\n",
    "                                max_iter=200, n_init=2,\n",
    "                                covariance_type='full').fit(X)\n",
    "#print(dpgmm1.means_)\n",
    "#print(dpgmm1.covariances_)\n",
    "Y_ = dpgmm1.predict(X)\n",
    "print(hp.getRepresentativeness(dpgmm1, X, Y_))\n",
    "fig, ax = plt.subplots(1, 3, figsize=(15, 6))\n",
    "dp.plotGM(X, Y_, dpgmm1.means_, dpgmm1.covariances_, ax[0], 0, 1, color_iter)\n",
    "dp.plotGM(X, Y_, dpgmm1.means_, dpgmm1.covariances_, ax[1], 1, 2, color_iter)\n",
    "dp.plotGM(X, Y_, dpgmm1.means_, dpgmm1.covariances_, ax[2], 0, 2, color_iter)\n",
    "plt.show()\n",
    "fig.clf()\n",
    "plt.close()"
   ]
  },
  {
   "cell_type": "code",
   "execution_count": null,
   "metadata": {},
   "outputs": [],
   "source": [
    "dpgmm3 = BayesianGaussianMixture(n_components=4,\n",
    "                                max_iter=200,n_init=2,\n",
    "                                covariance_type='full').fit(X)\n",
    "#print(dpgmm3.means_)\n",
    "#print(dpgmm3.covariances_)\n",
    "Y_ = dpgmm3.predict(X)\n",
    "print(hp.getRepresentativeness(dpgmm3, X, Y_))\n",
    "fig, ax = plt.subplots(1, 3, figsize=(15, 6))\n",
    "dp.plotGM(X, Y_, dpgmm3.means_, dpgmm3.covariances_, ax[0], 0, 1, color_iter)\n",
    "dp.plotGM(X, Y_, dpgmm3.means_, dpgmm3.covariances_, ax[1], 1, 2, color_iter)\n",
    "dp.plotGM(X, Y_, dpgmm3.means_, dpgmm3.covariances_, ax[2], 0, 2, color_iter)\n",
    "plt.show()\n",
    "fig.clf()\n",
    "plt.close()"
   ]
  },
  {
   "cell_type": "code",
   "execution_count": null,
   "metadata": {},
   "outputs": [],
   "source": [
    "# modify n_jobs maybe???,,"
   ]
  }
 ],
 "metadata": {
  "kernelspec": {
   "display_name": "Python 3",
   "language": "python",
   "name": "python3"
  },
  "language_info": {
   "codemirror_mode": {
    "name": "ipython",
    "version": 3
   },
   "file_extension": ".py",
   "mimetype": "text/x-python",
   "name": "python",
   "nbconvert_exporter": "python",
   "pygments_lexer": "ipython3",
   "version": "3.6.8"
  }
 },
 "nbformat": 4,
 "nbformat_minor": 2
}
