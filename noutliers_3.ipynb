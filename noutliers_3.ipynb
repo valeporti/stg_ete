{
 "cells": [
  {
   "cell_type": "code",
   "execution_count": 1,
   "metadata": {},
   "outputs": [],
   "source": [
    "# %matplotlib notebook\n",
    "import matplotlib.pyplot as plt\n",
    "from scipy import linalg\n",
    "import scipy.io as sio\n",
    "import pprint as pp\n",
    "import numpy as np\n",
    "import seaborn as sns\n",
    "import pandas as pd\n",
    "import os\n",
    "import re\n",
    "import gc\n",
    "# pre\n",
    "from sklearn.decomposition import PCA\n",
    "from sklearn.base import BaseEstimator, TransformerMixin\n",
    "from sklearn.pipeline import Pipeline, FeatureUnion\n",
    "from sklearn.preprocessing import StandardScaler, Imputer\n",
    "# Study\n",
    "from sklearn.mixture import GaussianMixture, BayesianGaussianMixture\n",
    "from sklearn.cluster import KMeans, MeanShift, estimate_bandwidth\n",
    "import matplotlib as mpl\n",
    "import numpy as np\n",
    "import itertools\n",
    "from mpl_toolkits.mplot3d import Axes3D\n",
    "from time import time\n",
    "from scipy import stats\n",
    "\n",
    "# helpers files\n",
    "import infoStructure as ins\n",
    "import helpers as hp\n",
    "import display as dp\n",
    "import clustering as cl\n",
    "import importlib #importlib.reload(foo)"
   ]
  },
  {
   "cell_type": "code",
   "execution_count": 2,
   "metadata": {},
   "outputs": [],
   "source": [
    "FEATHDir = '/sanssauvegarde/homes/v18porti/info/'\n",
    "BIGDir = '/media/v18porti/ADATA SH14/stg/Brest/'\n",
    "MDIR = FEATHDir"
   ]
  },
  {
   "cell_type": "markdown",
   "metadata": {},
   "source": [
    "### Get saved DataFrame"
   ]
  },
  {
   "cell_type": "code",
   "execution_count": 3,
   "metadata": {},
   "outputs": [],
   "source": [
    "df_ALL = pd.read_feather(MDIR + '200_32.feather') #100, 300, 10\n",
    "#dp.printScatter(principalDf['pc1'], principalDf['pc2'])"
   ]
  },
  {
   "cell_type": "code",
   "execution_count": 4,
   "metadata": {},
   "outputs": [
    {
     "data": {
      "text/html": [
       "<div>\n",
       "<style scoped>\n",
       "    .dataframe tbody tr th:only-of-type {\n",
       "        vertical-align: middle;\n",
       "    }\n",
       "\n",
       "    .dataframe tbody tr th {\n",
       "        vertical-align: top;\n",
       "    }\n",
       "\n",
       "    .dataframe thead th {\n",
       "        text-align: right;\n",
       "    }\n",
       "</style>\n",
       "<table border=\"1\" class=\"dataframe\">\n",
       "  <thead>\n",
       "    <tr style=\"text-align: right;\">\n",
       "      <th></th>\n",
       "      <th>vectorRRKLD_ALL</th>\n",
       "      <th>vectorFAmpKLD_ALL</th>\n",
       "      <th>vectorUFAmpKLD_ALL</th>\n",
       "      <th>vectorCorrKLD_ALL</th>\n",
       "    </tr>\n",
       "  </thead>\n",
       "  <tbody>\n",
       "    <tr>\n",
       "      <th>count</th>\n",
       "      <td>5.035840e+07</td>\n",
       "      <td>5.035947e+07</td>\n",
       "      <td>5.035947e+07</td>\n",
       "      <td>4.943770e+07</td>\n",
       "    </tr>\n",
       "    <tr>\n",
       "      <th>mean</th>\n",
       "      <td>2.868624e+14</td>\n",
       "      <td>1.002450e+02</td>\n",
       "      <td>1.832059e+14</td>\n",
       "      <td>1.364339e+01</td>\n",
       "    </tr>\n",
       "    <tr>\n",
       "      <th>std</th>\n",
       "      <td>inf</td>\n",
       "      <td>3.779417e+03</td>\n",
       "      <td>inf</td>\n",
       "      <td>3.970723e+01</td>\n",
       "    </tr>\n",
       "    <tr>\n",
       "      <th>min</th>\n",
       "      <td>-1.196758e+01</td>\n",
       "      <td>0.000000e+00</td>\n",
       "      <td>-1.520206e+00</td>\n",
       "      <td>0.000000e+00</td>\n",
       "    </tr>\n",
       "    <tr>\n",
       "      <th>25%</th>\n",
       "      <td>8.376141e+00</td>\n",
       "      <td>3.713027e+00</td>\n",
       "      <td>1.080568e+01</td>\n",
       "      <td>4.991102e+00</td>\n",
       "    </tr>\n",
       "    <tr>\n",
       "      <th>50%</th>\n",
       "      <td>1.086889e+01</td>\n",
       "      <td>5.205714e+00</td>\n",
       "      <td>1.434603e+01</td>\n",
       "      <td>7.447418e+00</td>\n",
       "    </tr>\n",
       "    <tr>\n",
       "      <th>75%</th>\n",
       "      <td>1.583047e+01</td>\n",
       "      <td>7.720136e+00</td>\n",
       "      <td>2.120557e+01</td>\n",
       "      <td>1.173964e+01</td>\n",
       "    </tr>\n",
       "    <tr>\n",
       "      <th>max</th>\n",
       "      <td>3.421422e+19</td>\n",
       "      <td>8.780618e+05</td>\n",
       "      <td>2.250281e+20</td>\n",
       "      <td>1.712306e+03</td>\n",
       "    </tr>\n",
       "  </tbody>\n",
       "</table>\n",
       "</div>"
      ],
      "text/plain": [
       "       vectorRRKLD_ALL  vectorFAmpKLD_ALL  vectorUFAmpKLD_ALL  \\\n",
       "count     5.035840e+07       5.035947e+07        5.035947e+07   \n",
       "mean      2.868624e+14       1.002450e+02        1.832059e+14   \n",
       "std                inf       3.779417e+03                 inf   \n",
       "min      -1.196758e+01       0.000000e+00       -1.520206e+00   \n",
       "25%       8.376141e+00       3.713027e+00        1.080568e+01   \n",
       "50%       1.086889e+01       5.205714e+00        1.434603e+01   \n",
       "75%       1.583047e+01       7.720136e+00        2.120557e+01   \n",
       "max       3.421422e+19       8.780618e+05        2.250281e+20   \n",
       "\n",
       "       vectorCorrKLD_ALL  \n",
       "count       4.943770e+07  \n",
       "mean        1.364339e+01  \n",
       "std         3.970723e+01  \n",
       "min         0.000000e+00  \n",
       "25%         4.991102e+00  \n",
       "50%         7.447418e+00  \n",
       "75%         1.173964e+01  \n",
       "max         1.712306e+03  "
      ]
     },
     "execution_count": 4,
     "metadata": {},
     "output_type": "execute_result"
    }
   ],
   "source": [
    "df_ALL.describe()"
   ]
  },
  {
   "cell_type": "code",
   "execution_count": 5,
   "metadata": {},
   "outputs": [
    {
     "data": {
      "text/html": [
       "<div>\n",
       "<style scoped>\n",
       "    .dataframe tbody tr th:only-of-type {\n",
       "        vertical-align: middle;\n",
       "    }\n",
       "\n",
       "    .dataframe tbody tr th {\n",
       "        vertical-align: top;\n",
       "    }\n",
       "\n",
       "    .dataframe thead th {\n",
       "        text-align: right;\n",
       "    }\n",
       "</style>\n",
       "<table border=\"1\" class=\"dataframe\">\n",
       "  <thead>\n",
       "    <tr style=\"text-align: right;\">\n",
       "      <th></th>\n",
       "      <th>vectorRRKLD_ALL</th>\n",
       "      <th>vectorFAmpKLD_ALL</th>\n",
       "      <th>vectorUFAmpKLD_ALL</th>\n",
       "      <th>vectorCorrKLD_ALL</th>\n",
       "    </tr>\n",
       "  </thead>\n",
       "  <tbody>\n",
       "    <tr>\n",
       "      <th>vectorRRKLD_ALL</th>\n",
       "      <td>1.000000</td>\n",
       "      <td>0.022458</td>\n",
       "      <td>-0.000004</td>\n",
       "      <td>0.001825</td>\n",
       "    </tr>\n",
       "    <tr>\n",
       "      <th>vectorFAmpKLD_ALL</th>\n",
       "      <td>0.022458</td>\n",
       "      <td>1.000000</td>\n",
       "      <td>0.002293</td>\n",
       "      <td>0.008832</td>\n",
       "    </tr>\n",
       "    <tr>\n",
       "      <th>vectorUFAmpKLD_ALL</th>\n",
       "      <td>-0.000004</td>\n",
       "      <td>0.002293</td>\n",
       "      <td>1.000000</td>\n",
       "      <td>0.043894</td>\n",
       "    </tr>\n",
       "    <tr>\n",
       "      <th>vectorCorrKLD_ALL</th>\n",
       "      <td>0.001825</td>\n",
       "      <td>0.008832</td>\n",
       "      <td>0.043894</td>\n",
       "      <td>1.000000</td>\n",
       "    </tr>\n",
       "  </tbody>\n",
       "</table>\n",
       "</div>"
      ],
      "text/plain": [
       "                    vectorRRKLD_ALL  vectorFAmpKLD_ALL  vectorUFAmpKLD_ALL  \\\n",
       "vectorRRKLD_ALL            1.000000           0.022458           -0.000004   \n",
       "vectorFAmpKLD_ALL          0.022458           1.000000            0.002293   \n",
       "vectorUFAmpKLD_ALL        -0.000004           0.002293            1.000000   \n",
       "vectorCorrKLD_ALL          0.001825           0.008832            0.043894   \n",
       "\n",
       "                    vectorCorrKLD_ALL  \n",
       "vectorRRKLD_ALL              0.001825  \n",
       "vectorFAmpKLD_ALL            0.008832  \n",
       "vectorUFAmpKLD_ALL           0.043894  \n",
       "vectorCorrKLD_ALL            1.000000  "
      ]
     },
     "execution_count": 5,
     "metadata": {},
     "output_type": "execute_result"
    }
   ],
   "source": [
    "df_ALL.corr()"
   ]
  },
  {
   "cell_type": "code",
   "execution_count": 6,
   "metadata": {},
   "outputs": [
    {
     "name": "stdout",
     "output_type": "stream",
     "text": [
      "<class 'pandas.core.frame.DataFrame'>\n",
      "RangeIndex: 50359472 entries, 0 to 50359471\n",
      "Data columns (total 4 columns):\n",
      "vectorRRKLD_ALL       float32\n",
      "vectorFAmpKLD_ALL     float32\n",
      "vectorUFAmpKLD_ALL    float32\n",
      "vectorCorrKLD_ALL     float32\n",
      "dtypes: float32(4)\n",
      "memory usage: 768.4 MB\n"
     ]
    }
   ],
   "source": [
    "df_ALL.info()"
   ]
  },
  {
   "cell_type": "markdown",
   "metadata": {},
   "source": [
    "# Outliers"
   ]
  },
  {
   "cell_type": "markdown",
   "metadata": {},
   "source": [
    "## Prepare Data"
   ]
  },
  {
   "cell_type": "code",
   "execution_count": 7,
   "metadata": {},
   "outputs": [
    {
     "data": {
      "text/plain": [
       "vectorRRKLD_ALL         1069\n",
       "vectorFAmpKLD_ALL          0\n",
       "vectorUFAmpKLD_ALL         0\n",
       "vectorCorrKLD_ALL     921773\n",
       "dtype: int64"
      ]
     },
     "execution_count": 7,
     "metadata": {},
     "output_type": "execute_result"
    }
   ],
   "source": [
    "len(df_ALL) - df_ALL.count()"
   ]
  },
  {
   "cell_type": "code",
   "execution_count": 8,
   "metadata": {},
   "outputs": [
    {
     "data": {
      "text/html": [
       "<div>\n",
       "<style scoped>\n",
       "    .dataframe tbody tr th:only-of-type {\n",
       "        vertical-align: middle;\n",
       "    }\n",
       "\n",
       "    .dataframe tbody tr th {\n",
       "        vertical-align: top;\n",
       "    }\n",
       "\n",
       "    .dataframe thead th {\n",
       "        text-align: right;\n",
       "    }\n",
       "</style>\n",
       "<table border=\"1\" class=\"dataframe\">\n",
       "  <thead>\n",
       "    <tr style=\"text-align: right;\">\n",
       "      <th></th>\n",
       "      <th>vectorRRKLD_ALL</th>\n",
       "      <th>vectorFAmpKLD_ALL</th>\n",
       "      <th>vectorUFAmpKLD_ALL</th>\n",
       "      <th>vectorCorrKLD_ALL</th>\n",
       "    </tr>\n",
       "  </thead>\n",
       "  <tbody>\n",
       "    <tr>\n",
       "      <th>0</th>\n",
       "      <td>14.824769</td>\n",
       "      <td>3.782338</td>\n",
       "      <td>5.010150</td>\n",
       "      <td>0.155980</td>\n",
       "    </tr>\n",
       "    <tr>\n",
       "      <th>1</th>\n",
       "      <td>15.162229</td>\n",
       "      <td>3.555532</td>\n",
       "      <td>4.936006</td>\n",
       "      <td>0.182778</td>\n",
       "    </tr>\n",
       "    <tr>\n",
       "      <th>2</th>\n",
       "      <td>15.026611</td>\n",
       "      <td>3.573871</td>\n",
       "      <td>5.059862</td>\n",
       "      <td>0.182778</td>\n",
       "    </tr>\n",
       "    <tr>\n",
       "      <th>3</th>\n",
       "      <td>14.735096</td>\n",
       "      <td>3.568545</td>\n",
       "      <td>5.038576</td>\n",
       "      <td>0.182777</td>\n",
       "    </tr>\n",
       "    <tr>\n",
       "      <th>4</th>\n",
       "      <td>14.735096</td>\n",
       "      <td>3.568545</td>\n",
       "      <td>5.038576</td>\n",
       "      <td>0.182777</td>\n",
       "    </tr>\n",
       "    <tr>\n",
       "      <th>5</th>\n",
       "      <td>14.735096</td>\n",
       "      <td>3.568545</td>\n",
       "      <td>5.038576</td>\n",
       "      <td>0.182777</td>\n",
       "    </tr>\n",
       "    <tr>\n",
       "      <th>6</th>\n",
       "      <td>13.762024</td>\n",
       "      <td>3.538424</td>\n",
       "      <td>5.014719</td>\n",
       "      <td>0.182778</td>\n",
       "    </tr>\n",
       "    <tr>\n",
       "      <th>7</th>\n",
       "      <td>13.762024</td>\n",
       "      <td>3.538424</td>\n",
       "      <td>5.014719</td>\n",
       "      <td>0.182778</td>\n",
       "    </tr>\n",
       "    <tr>\n",
       "      <th>8</th>\n",
       "      <td>13.316245</td>\n",
       "      <td>3.341414</td>\n",
       "      <td>5.034057</td>\n",
       "      <td>0.163617</td>\n",
       "    </tr>\n",
       "    <tr>\n",
       "      <th>9</th>\n",
       "      <td>12.728650</td>\n",
       "      <td>3.333261</td>\n",
       "      <td>5.036769</td>\n",
       "      <td>0.186373</td>\n",
       "    </tr>\n",
       "    <tr>\n",
       "      <th>10</th>\n",
       "      <td>12.149311</td>\n",
       "      <td>3.419776</td>\n",
       "      <td>5.062674</td>\n",
       "      <td>0.186374</td>\n",
       "    </tr>\n",
       "    <tr>\n",
       "      <th>11</th>\n",
       "      <td>12.149311</td>\n",
       "      <td>3.419776</td>\n",
       "      <td>5.062674</td>\n",
       "      <td>0.186374</td>\n",
       "    </tr>\n",
       "    <tr>\n",
       "      <th>12</th>\n",
       "      <td>12.149311</td>\n",
       "      <td>3.419776</td>\n",
       "      <td>5.062674</td>\n",
       "      <td>0.186374</td>\n",
       "    </tr>\n",
       "    <tr>\n",
       "      <th>13</th>\n",
       "      <td>11.723322</td>\n",
       "      <td>3.476464</td>\n",
       "      <td>5.187331</td>\n",
       "      <td>0.193510</td>\n",
       "    </tr>\n",
       "    <tr>\n",
       "      <th>14</th>\n",
       "      <td>11.723322</td>\n",
       "      <td>3.476464</td>\n",
       "      <td>5.187331</td>\n",
       "      <td>0.193510</td>\n",
       "    </tr>\n",
       "    <tr>\n",
       "      <th>15</th>\n",
       "      <td>11.313329</td>\n",
       "      <td>3.511456</td>\n",
       "      <td>5.113302</td>\n",
       "      <td>0.197390</td>\n",
       "    </tr>\n",
       "    <tr>\n",
       "      <th>16</th>\n",
       "      <td>10.933109</td>\n",
       "      <td>3.678622</td>\n",
       "      <td>5.141419</td>\n",
       "      <td>0.197390</td>\n",
       "    </tr>\n",
       "    <tr>\n",
       "      <th>17</th>\n",
       "      <td>10.864636</td>\n",
       "      <td>3.698415</td>\n",
       "      <td>5.150029</td>\n",
       "      <td>0.197390</td>\n",
       "    </tr>\n",
       "    <tr>\n",
       "      <th>18</th>\n",
       "      <td>10.864636</td>\n",
       "      <td>3.698415</td>\n",
       "      <td>5.150029</td>\n",
       "      <td>0.197390</td>\n",
       "    </tr>\n",
       "    <tr>\n",
       "      <th>19</th>\n",
       "      <td>10.706448</td>\n",
       "      <td>3.430066</td>\n",
       "      <td>5.037635</td>\n",
       "      <td>0.212507</td>\n",
       "    </tr>\n",
       "    <tr>\n",
       "      <th>20</th>\n",
       "      <td>10.465971</td>\n",
       "      <td>3.634299</td>\n",
       "      <td>5.153294</td>\n",
       "      <td>0.212507</td>\n",
       "    </tr>\n",
       "    <tr>\n",
       "      <th>21</th>\n",
       "      <td>10.242810</td>\n",
       "      <td>3.888969</td>\n",
       "      <td>5.155046</td>\n",
       "      <td>0.212507</td>\n",
       "    </tr>\n",
       "    <tr>\n",
       "      <th>22</th>\n",
       "      <td>10.242810</td>\n",
       "      <td>3.888969</td>\n",
       "      <td>5.155046</td>\n",
       "      <td>0.212507</td>\n",
       "    </tr>\n",
       "    <tr>\n",
       "      <th>23</th>\n",
       "      <td>10.082762</td>\n",
       "      <td>3.623400</td>\n",
       "      <td>5.041428</td>\n",
       "      <td>0.226913</td>\n",
       "    </tr>\n",
       "    <tr>\n",
       "      <th>24</th>\n",
       "      <td>9.892600</td>\n",
       "      <td>3.592457</td>\n",
       "      <td>5.410959</td>\n",
       "      <td>0.226913</td>\n",
       "    </tr>\n",
       "    <tr>\n",
       "      <th>25</th>\n",
       "      <td>9.721669</td>\n",
       "      <td>3.612409</td>\n",
       "      <td>5.404860</td>\n",
       "      <td>0.226913</td>\n",
       "    </tr>\n",
       "    <tr>\n",
       "      <th>26</th>\n",
       "      <td>9.579779</td>\n",
       "      <td>3.564363</td>\n",
       "      <td>5.436587</td>\n",
       "      <td>0.215081</td>\n",
       "    </tr>\n",
       "    <tr>\n",
       "      <th>27</th>\n",
       "      <td>9.579779</td>\n",
       "      <td>3.564363</td>\n",
       "      <td>5.436587</td>\n",
       "      <td>0.215081</td>\n",
       "    </tr>\n",
       "    <tr>\n",
       "      <th>28</th>\n",
       "      <td>9.472309</td>\n",
       "      <td>3.471914</td>\n",
       "      <td>5.160116</td>\n",
       "      <td>0.236955</td>\n",
       "    </tr>\n",
       "    <tr>\n",
       "      <th>29</th>\n",
       "      <td>9.317557</td>\n",
       "      <td>3.552592</td>\n",
       "      <td>5.399126</td>\n",
       "      <td>0.236955</td>\n",
       "    </tr>\n",
       "    <tr>\n",
       "      <th>...</th>\n",
       "      <td>...</td>\n",
       "      <td>...</td>\n",
       "      <td>...</td>\n",
       "      <td>...</td>\n",
       "    </tr>\n",
       "    <tr>\n",
       "      <th>50359442</th>\n",
       "      <td>204.697189</td>\n",
       "      <td>7.060713</td>\n",
       "      <td>47.309711</td>\n",
       "      <td>40.248997</td>\n",
       "    </tr>\n",
       "    <tr>\n",
       "      <th>50359443</th>\n",
       "      <td>204.698685</td>\n",
       "      <td>7.062972</td>\n",
       "      <td>47.578716</td>\n",
       "      <td>40.515739</td>\n",
       "    </tr>\n",
       "    <tr>\n",
       "      <th>50359444</th>\n",
       "      <td>204.704391</td>\n",
       "      <td>7.059696</td>\n",
       "      <td>48.114246</td>\n",
       "      <td>41.054550</td>\n",
       "    </tr>\n",
       "    <tr>\n",
       "      <th>50359445</th>\n",
       "      <td>219.643539</td>\n",
       "      <td>7.740974</td>\n",
       "      <td>53.935917</td>\n",
       "      <td>46.194939</td>\n",
       "    </tr>\n",
       "    <tr>\n",
       "      <th>50359446</th>\n",
       "      <td>219.585144</td>\n",
       "      <td>7.810460</td>\n",
       "      <td>53.944275</td>\n",
       "      <td>46.133816</td>\n",
       "    </tr>\n",
       "    <tr>\n",
       "      <th>50359447</th>\n",
       "      <td>219.585144</td>\n",
       "      <td>7.810460</td>\n",
       "      <td>53.944275</td>\n",
       "      <td>46.133816</td>\n",
       "    </tr>\n",
       "    <tr>\n",
       "      <th>50359448</th>\n",
       "      <td>219.590027</td>\n",
       "      <td>7.874484</td>\n",
       "      <td>54.668552</td>\n",
       "      <td>46.794067</td>\n",
       "    </tr>\n",
       "    <tr>\n",
       "      <th>50359449</th>\n",
       "      <td>219.590027</td>\n",
       "      <td>7.874484</td>\n",
       "      <td>54.668552</td>\n",
       "      <td>46.794067</td>\n",
       "    </tr>\n",
       "    <tr>\n",
       "      <th>50359450</th>\n",
       "      <td>219.676163</td>\n",
       "      <td>7.844462</td>\n",
       "      <td>54.590382</td>\n",
       "      <td>46.745918</td>\n",
       "    </tr>\n",
       "    <tr>\n",
       "      <th>50359451</th>\n",
       "      <td>220.672577</td>\n",
       "      <td>7.847439</td>\n",
       "      <td>55.584148</td>\n",
       "      <td>47.736710</td>\n",
       "    </tr>\n",
       "    <tr>\n",
       "      <th>50359452</th>\n",
       "      <td>220.676514</td>\n",
       "      <td>7.847190</td>\n",
       "      <td>55.947319</td>\n",
       "      <td>48.100128</td>\n",
       "    </tr>\n",
       "    <tr>\n",
       "      <th>50359453</th>\n",
       "      <td>203.701187</td>\n",
       "      <td>7.118749</td>\n",
       "      <td>54.547302</td>\n",
       "      <td>47.428555</td>\n",
       "    </tr>\n",
       "    <tr>\n",
       "      <th>50359454</th>\n",
       "      <td>203.254227</td>\n",
       "      <td>7.109819</td>\n",
       "      <td>54.478310</td>\n",
       "      <td>47.368492</td>\n",
       "    </tr>\n",
       "    <tr>\n",
       "      <th>50359455</th>\n",
       "      <td>203.268921</td>\n",
       "      <td>7.128836</td>\n",
       "      <td>54.298676</td>\n",
       "      <td>47.169838</td>\n",
       "    </tr>\n",
       "    <tr>\n",
       "      <th>50359456</th>\n",
       "      <td>204.401169</td>\n",
       "      <td>7.161595</td>\n",
       "      <td>49.606537</td>\n",
       "      <td>42.444939</td>\n",
       "    </tr>\n",
       "    <tr>\n",
       "      <th>50359457</th>\n",
       "      <td>203.909164</td>\n",
       "      <td>7.158991</td>\n",
       "      <td>46.332512</td>\n",
       "      <td>39.173523</td>\n",
       "    </tr>\n",
       "    <tr>\n",
       "      <th>50359458</th>\n",
       "      <td>203.923279</td>\n",
       "      <td>7.152580</td>\n",
       "      <td>46.266689</td>\n",
       "      <td>39.114109</td>\n",
       "    </tr>\n",
       "    <tr>\n",
       "      <th>50359459</th>\n",
       "      <td>203.924774</td>\n",
       "      <td>7.169456</td>\n",
       "      <td>46.402020</td>\n",
       "      <td>39.232563</td>\n",
       "    </tr>\n",
       "    <tr>\n",
       "      <th>50359460</th>\n",
       "      <td>203.926163</td>\n",
       "      <td>7.160155</td>\n",
       "      <td>46.435429</td>\n",
       "      <td>39.275272</td>\n",
       "    </tr>\n",
       "    <tr>\n",
       "      <th>50359461</th>\n",
       "      <td>203.930511</td>\n",
       "      <td>7.152203</td>\n",
       "      <td>46.440495</td>\n",
       "      <td>39.288292</td>\n",
       "    </tr>\n",
       "    <tr>\n",
       "      <th>50359462</th>\n",
       "      <td>192.697693</td>\n",
       "      <td>6.509793</td>\n",
       "      <td>45.277134</td>\n",
       "      <td>38.767342</td>\n",
       "    </tr>\n",
       "    <tr>\n",
       "      <th>50359463</th>\n",
       "      <td>192.699081</td>\n",
       "      <td>6.519772</td>\n",
       "      <td>45.010151</td>\n",
       "      <td>38.490379</td>\n",
       "    </tr>\n",
       "    <tr>\n",
       "      <th>50359464</th>\n",
       "      <td>192.703186</td>\n",
       "      <td>6.548981</td>\n",
       "      <td>45.411961</td>\n",
       "      <td>38.862980</td>\n",
       "    </tr>\n",
       "    <tr>\n",
       "      <th>50359465</th>\n",
       "      <td>183.048172</td>\n",
       "      <td>6.078961</td>\n",
       "      <td>42.089035</td>\n",
       "      <td>36.010075</td>\n",
       "    </tr>\n",
       "    <tr>\n",
       "      <th>50359466</th>\n",
       "      <td>191.790024</td>\n",
       "      <td>6.563065</td>\n",
       "      <td>42.151413</td>\n",
       "      <td>35.588348</td>\n",
       "    </tr>\n",
       "    <tr>\n",
       "      <th>50359467</th>\n",
       "      <td>191.714386</td>\n",
       "      <td>6.501969</td>\n",
       "      <td>42.035118</td>\n",
       "      <td>35.533150</td>\n",
       "    </tr>\n",
       "    <tr>\n",
       "      <th>50359468</th>\n",
       "      <td>181.250336</td>\n",
       "      <td>6.054107</td>\n",
       "      <td>40.634491</td>\n",
       "      <td>34.580383</td>\n",
       "    </tr>\n",
       "    <tr>\n",
       "      <th>50359469</th>\n",
       "      <td>181.251831</td>\n",
       "      <td>6.045141</td>\n",
       "      <td>43.095245</td>\n",
       "      <td>37.050102</td>\n",
       "    </tr>\n",
       "    <tr>\n",
       "      <th>50359470</th>\n",
       "      <td>181.256195</td>\n",
       "      <td>6.044573</td>\n",
       "      <td>42.669609</td>\n",
       "      <td>36.625034</td>\n",
       "    </tr>\n",
       "    <tr>\n",
       "      <th>50359471</th>\n",
       "      <td>181.257629</td>\n",
       "      <td>6.074866</td>\n",
       "      <td>46.244492</td>\n",
       "      <td>40.169624</td>\n",
       "    </tr>\n",
       "  </tbody>\n",
       "</table>\n",
       "<p>50359472 rows × 4 columns</p>\n",
       "</div>"
      ],
      "text/plain": [
       "          vectorRRKLD_ALL  vectorFAmpKLD_ALL  vectorUFAmpKLD_ALL  \\\n",
       "0               14.824769           3.782338            5.010150   \n",
       "1               15.162229           3.555532            4.936006   \n",
       "2               15.026611           3.573871            5.059862   \n",
       "3               14.735096           3.568545            5.038576   \n",
       "4               14.735096           3.568545            5.038576   \n",
       "...                   ...                ...                 ...   \n",
       "50359467       191.714386           6.501969           42.035118   \n",
       "50359468       181.250336           6.054107           40.634491   \n",
       "50359469       181.251831           6.045141           43.095245   \n",
       "50359470       181.256195           6.044573           42.669609   \n",
       "50359471       181.257629           6.074866           46.244492   \n",
       "\n",
       "          vectorCorrKLD_ALL  \n",
       "0                  0.155980  \n",
       "1                  0.182778  \n",
       "2                  0.182778  \n",
       "3                  0.182777  \n",
       "4                  0.182777  \n",
       "...                     ...  \n",
       "50359467          35.533150  \n",
       "50359468          34.580383  \n",
       "50359469          37.050102  \n",
       "50359470          36.625034  \n",
       "50359471          40.169624  \n",
       "\n",
       "[50359472 rows x 4 columns]"
      ]
     },
     "execution_count": 8,
     "metadata": {},
     "output_type": "execute_result"
    }
   ],
   "source": [
    "df_ALL"
   ]
  },
  {
   "cell_type": "code",
   "execution_count": null,
   "metadata": {},
   "outputs": [],
   "source": []
  },
  {
   "cell_type": "code",
   "execution_count": 9,
   "metadata": {},
   "outputs": [],
   "source": [
    "num_attribs = list(df_ALL)\n",
    "\n",
    "pipeline = Pipeline([\n",
    "        ('selector', hp.DataFrameSelector(num_attribs)), # to handle pandas data frame\n",
    "        ('imputer', Imputer(strategy=\"median\")), # fill missing values with median\n",
    "    ])\n",
    "\n",
    "data_prepared = pipeline.fit_transform(df_ALL)\n",
    "del pipeline"
   ]
  },
  {
   "cell_type": "code",
   "execution_count": null,
   "metadata": {},
   "outputs": [],
   "source": []
  },
  {
   "cell_type": "code",
   "execution_count": 10,
   "metadata": {},
   "outputs": [
    {
     "data": {
      "text/html": [
       "<div>\n",
       "<style scoped>\n",
       "    .dataframe tbody tr th:only-of-type {\n",
       "        vertical-align: middle;\n",
       "    }\n",
       "\n",
       "    .dataframe tbody tr th {\n",
       "        vertical-align: top;\n",
       "    }\n",
       "\n",
       "    .dataframe thead th {\n",
       "        text-align: right;\n",
       "    }\n",
       "</style>\n",
       "<table border=\"1\" class=\"dataframe\">\n",
       "  <thead>\n",
       "    <tr style=\"text-align: right;\">\n",
       "      <th></th>\n",
       "      <th>vectorRRKLD</th>\n",
       "      <th>vectorFAmpKLD</th>\n",
       "      <th>vectorUFAmpKLD</th>\n",
       "      <th>vectorCorrKLD</th>\n",
       "    </tr>\n",
       "  </thead>\n",
       "  <tbody>\n",
       "    <tr>\n",
       "      <th>count</th>\n",
       "      <td>5.035947e+07</td>\n",
       "      <td>5.035947e+07</td>\n",
       "      <td>5.035947e+07</td>\n",
       "      <td>5.035947e+07</td>\n",
       "    </tr>\n",
       "    <tr>\n",
       "      <th>mean</th>\n",
       "      <td>2.868563e+14</td>\n",
       "      <td>1.002450e+02</td>\n",
       "      <td>1.832059e+14</td>\n",
       "      <td>1.352998e+01</td>\n",
       "    </tr>\n",
       "    <tr>\n",
       "      <th>std</th>\n",
       "      <td>inf</td>\n",
       "      <td>3.779417e+03</td>\n",
       "      <td>inf</td>\n",
       "      <td>3.935092e+01</td>\n",
       "    </tr>\n",
       "    <tr>\n",
       "      <th>min</th>\n",
       "      <td>-1.196758e+01</td>\n",
       "      <td>0.000000e+00</td>\n",
       "      <td>-1.520206e+00</td>\n",
       "      <td>0.000000e+00</td>\n",
       "    </tr>\n",
       "    <tr>\n",
       "      <th>25%</th>\n",
       "      <td>8.376195e+00</td>\n",
       "      <td>3.713027e+00</td>\n",
       "      <td>1.080568e+01</td>\n",
       "      <td>5.036375e+00</td>\n",
       "    </tr>\n",
       "    <tr>\n",
       "      <th>50%</th>\n",
       "      <td>1.086889e+01</td>\n",
       "      <td>5.205714e+00</td>\n",
       "      <td>1.434603e+01</td>\n",
       "      <td>7.447418e+00</td>\n",
       "    </tr>\n",
       "    <tr>\n",
       "      <th>75%</th>\n",
       "      <td>1.583030e+01</td>\n",
       "      <td>7.720136e+00</td>\n",
       "      <td>2.120557e+01</td>\n",
       "      <td>1.160902e+01</td>\n",
       "    </tr>\n",
       "    <tr>\n",
       "      <th>max</th>\n",
       "      <td>3.421422e+19</td>\n",
       "      <td>8.780618e+05</td>\n",
       "      <td>2.250281e+20</td>\n",
       "      <td>1.712306e+03</td>\n",
       "    </tr>\n",
       "  </tbody>\n",
       "</table>\n",
       "</div>"
      ],
      "text/plain": [
       "        vectorRRKLD  vectorFAmpKLD  vectorUFAmpKLD  vectorCorrKLD\n",
       "count  5.035947e+07   5.035947e+07    5.035947e+07   5.035947e+07\n",
       "mean   2.868563e+14   1.002450e+02    1.832059e+14   1.352998e+01\n",
       "std             inf   3.779417e+03             inf   3.935092e+01\n",
       "min   -1.196758e+01   0.000000e+00   -1.520206e+00   0.000000e+00\n",
       "25%    8.376195e+00   3.713027e+00    1.080568e+01   5.036375e+00\n",
       "50%    1.086889e+01   5.205714e+00    1.434603e+01   7.447418e+00\n",
       "75%    1.583030e+01   7.720136e+00    2.120557e+01   1.160902e+01\n",
       "max    3.421422e+19   8.780618e+05    2.250281e+20   1.712306e+03"
      ]
     },
     "execution_count": 10,
     "metadata": {},
     "output_type": "execute_result"
    }
   ],
   "source": [
    "df_prepare = hp.convertDictInDF(hp.putDataInDict(\n",
    "        [data_prepared[:,0], data_prepared[:,1], data_prepared[:,2], data_prepared[:,3]],\n",
    "        ['vectorRRKLD', 'vectorFAmpKLD', 'vectorUFAmpKLD', 'vectorCorrKLD']\n",
    "    ))\n",
    "del data_prepared\n",
    "df_prepare.describe()"
   ]
  },
  {
   "cell_type": "code",
   "execution_count": 11,
   "metadata": {},
   "outputs": [
    {
     "data": {
      "text/plain": [
       "(50359472, 4)"
      ]
     },
     "execution_count": 11,
     "metadata": {},
     "output_type": "execute_result"
    }
   ],
   "source": [
    "df_prepare.shape"
   ]
  },
  {
   "cell_type": "code",
   "execution_count": 14,
   "metadata": {},
   "outputs": [
    {
     "data": {
      "text/plain": [
       "<matplotlib.axes._subplots.AxesSubplot at 0x7fd9b9ac3a90>"
      ]
     },
     "execution_count": 14,
     "metadata": {},
     "output_type": "execute_result"
    },
    {
     "data": {
      "image/png": "[encoded data removed]",
      "text/plain": [
       "<Figure size 432x288 with 1 Axes>"
      ]
     },
     "metadata": {},
     "output_type": "display_data"
    }
   ],
   "source": [
    "df_prepare.boxplot()"
   ]
  },
  {
   "cell_type": "code",
   "execution_count": 15,
   "metadata": {},
   "outputs": [],
   "source": [
    "plt.clf()\n",
    "plt.close()"
   ]
  },
  {
   "cell_type": "markdown",
   "metadata": {},
   "source": [
    "## Take out outliers \n",
    "\n",
    "> threshold = 100 ( zscore )"
   ]
  },
  {
   "cell_type": "code",
   "execution_count": 12,
   "metadata": {},
   "outputs": [],
   "source": [
    "df_o = df_prepare.copy()\n",
    "del df_prepare, df_ALL\n",
    "gc.collect()\n",
    "threshold = 100"
   ]
  },
  {
   "cell_type": "code",
   "execution_count": 13,
   "metadata": {
    "scrolled": true
   },
   "outputs": [
    {
     "name": "stdout",
     "output_type": "stream",
     "text": [
      "(array([], dtype=int64),)\n",
      "(50359472, 4)\n"
     ]
    }
   ],
   "source": [
    "z = np.abs(stats.zscore(df_o['vectorCorrKLD']))\n",
    "print(np.where(z > threshold))\n",
    "df_o3 = df_o.copy()\n",
    "df_o3 = df_o3[(z <= threshold)]\n",
    "print(df_o3.shape)"
   ]
  },
  {
   "cell_type": "code",
   "execution_count": 14,
   "metadata": {},
   "outputs": [
    {
     "name": "stderr",
     "output_type": "stream",
     "text": [
      "/homes/v18porti/.local/lib/python3.6/site-packages/numpy/core/_methods.py:195: RuntimeWarning: overflow encountered in multiply\n",
      "  x = um.multiply(x, x, out=x)\n",
      "/homes/v18porti/.local/lib/python3.6/site-packages/numpy/core/_methods.py:199: RuntimeWarning: overflow encountered in reduce\n",
      "  ret = umr_sum(x, axis, dtype, out, keepdims)\n"
     ]
    },
    {
     "name": "stdout",
     "output_type": "stream",
     "text": [
      "(array([], dtype=int64),)\n",
      "(50359472, 4)\n"
     ]
    }
   ],
   "source": [
    "z = np.abs(stats.zscore(df_o3['vectorRRKLD']))\n",
    "print(np.where(z > threshold))\n",
    "df_o = df_o3.copy()\n",
    "df_o = df_o[(z <= threshold)]\n",
    "print(df_o.shape)"
   ]
  },
  {
   "cell_type": "code",
   "execution_count": 15,
   "metadata": {},
   "outputs": [
    {
     "name": "stdout",
     "output_type": "stream",
     "text": [
      "(array([18618067, 18618068, 18618069, ..., 18646807, 18646808, 18646809]),)\n",
      "(50358428, 4)\n"
     ]
    }
   ],
   "source": [
    "z = np.abs(stats.zscore(df_o['vectorFAmpKLD']))\n",
    "print(np.where(z > threshold))\n",
    "df_o3 = df_o.copy()\n",
    "df_o3 = df_o3[(z <= threshold)]\n",
    "print(df_o3.shape)"
   ]
  },
  {
   "cell_type": "code",
   "execution_count": 16,
   "metadata": {},
   "outputs": [
    {
     "name": "stderr",
     "output_type": "stream",
     "text": [
      "/homes/v18porti/.local/lib/python3.6/site-packages/numpy/core/_methods.py:195: RuntimeWarning: overflow encountered in multiply\n",
      "  x = um.multiply(x, x, out=x)\n"
     ]
    },
    {
     "name": "stdout",
     "output_type": "stream",
     "text": [
      "(array([], dtype=int64),)\n",
      "(50358428, 4)\n"
     ]
    }
   ],
   "source": [
    "z = np.abs(stats.zscore(df_o3['vectorUFAmpKLD']))\n",
    "print(np.where(z > threshold))\n",
    "df_o = df_o3.copy()\n",
    "df_o = df_o[(z <= threshold)]\n",
    "print(df_o.shape)"
   ]
  },
  {
   "cell_type": "code",
   "execution_count": 17,
   "metadata": {
    "scrolled": true
   },
   "outputs": [],
   "source": [
    "del z\n",
    "#df_o.boxplot()"
   ]
  },
  {
   "cell_type": "code",
   "execution_count": 22,
   "metadata": {},
   "outputs": [],
   "source": [
    "plt.clf()\n",
    "plt.close()"
   ]
  },
  {
   "cell_type": "markdown",
   "metadata": {},
   "source": [
    "# Pre processing"
   ]
  },
  {
   "cell_type": "markdown",
   "metadata": {},
   "source": [
    "## Normalize data"
   ]
  },
  {
   "cell_type": "code",
   "execution_count": 18,
   "metadata": {},
   "outputs": [
    {
     "data": {
      "text/plain": [
       "28"
      ]
     },
     "execution_count": 18,
     "metadata": {},
     "output_type": "execute_result"
    }
   ],
   "source": [
    "df_final = df_o\n",
    "del df_o, df_o3\n",
    "gc.collect()"
   ]
  },
  {
   "cell_type": "code",
   "execution_count": 19,
   "metadata": {},
   "outputs": [
    {
     "data": {
      "text/plain": [
       "vectorRRKLD       0\n",
       "vectorFAmpKLD     0\n",
       "vectorUFAmpKLD    0\n",
       "vectorCorrKLD     0\n",
       "dtype: int64"
      ]
     },
     "execution_count": 19,
     "metadata": {},
     "output_type": "execute_result"
    }
   ],
   "source": [
    "len(df_final) - df_final.count()"
   ]
  },
  {
   "cell_type": "code",
   "execution_count": 20,
   "metadata": {},
   "outputs": [],
   "source": [
    "num_attribs = list(df_final)\n",
    "df_final = df_final.astype('float64')\n",
    "pipeline = Pipeline([\n",
    "        ('selector', hp.DataFrameSelector(num_attribs)), # to handle pandas data frame\n",
    "        ('std_scaler', StandardScaler(copy=True))\n",
    "    ])\n",
    "\n",
    "full_pipeline = FeatureUnion(transformer_list=[\n",
    "    (\"main\", pipeline),\n",
    "    ])\n",
    "\n",
    "data_prepared = full_pipeline.fit_transform(df_final)"
   ]
  },
  {
   "cell_type": "code",
   "execution_count": 21,
   "metadata": {},
   "outputs": [
    {
     "data": {
      "text/html": [
       "<div>\n",
       "<style scoped>\n",
       "    .dataframe tbody tr th:only-of-type {\n",
       "        vertical-align: middle;\n",
       "    }\n",
       "\n",
       "    .dataframe tbody tr th {\n",
       "        vertical-align: top;\n",
       "    }\n",
       "\n",
       "    .dataframe thead th {\n",
       "        text-align: right;\n",
       "    }\n",
       "</style>\n",
       "<table border=\"1\" class=\"dataframe\">\n",
       "  <thead>\n",
       "    <tr style=\"text-align: right;\">\n",
       "      <th></th>\n",
       "      <th>vectorRRKLD_N</th>\n",
       "      <th>vectorFAmpKLD_N</th>\n",
       "      <th>vectorUFAmpKLD_N</th>\n",
       "      <th>vectorCorrKLD_N</th>\n",
       "    </tr>\n",
       "  </thead>\n",
       "  <tbody>\n",
       "    <tr>\n",
       "      <th>count</th>\n",
       "      <td>5.035843e+07</td>\n",
       "      <td>5.035843e+07</td>\n",
       "      <td>5.035843e+07</td>\n",
       "      <td>5.035843e+07</td>\n",
       "    </tr>\n",
       "    <tr>\n",
       "      <th>mean</th>\n",
       "      <td>9.339957e-17</td>\n",
       "      <td>-1.343052e-16</td>\n",
       "      <td>5.719685e-17</td>\n",
       "      <td>-8.583669e-17</td>\n",
       "    </tr>\n",
       "    <tr>\n",
       "      <th>std</th>\n",
       "      <td>1.000000e+00</td>\n",
       "      <td>1.000000e+00</td>\n",
       "      <td>1.000000e+00</td>\n",
       "      <td>1.000000e+00</td>\n",
       "    </tr>\n",
       "    <tr>\n",
       "      <th>min</th>\n",
       "      <td>-4.970977e-03</td>\n",
       "      <td>-4.965891e-02</td>\n",
       "      <td>-9.023105e-04</td>\n",
       "      <td>-3.438284e-01</td>\n",
       "    </tr>\n",
       "    <tr>\n",
       "      <th>25%</th>\n",
       "      <td>-4.970977e-03</td>\n",
       "      <td>-4.749079e-02</td>\n",
       "      <td>-9.023105e-04</td>\n",
       "      <td>-2.158446e-01</td>\n",
       "    </tr>\n",
       "    <tr>\n",
       "      <th>50%</th>\n",
       "      <td>-4.970977e-03</td>\n",
       "      <td>-4.661918e-02</td>\n",
       "      <td>-9.023105e-04</td>\n",
       "      <td>-1.545738e-01</td>\n",
       "    </tr>\n",
       "    <tr>\n",
       "      <th>75%</th>\n",
       "      <td>-4.970977e-03</td>\n",
       "      <td>-4.515104e-02</td>\n",
       "      <td>-9.023105e-04</td>\n",
       "      <td>-4.881495e-02</td>\n",
       "    </tr>\n",
       "    <tr>\n",
       "      <th>max</th>\n",
       "      <td>5.938938e+02</td>\n",
       "      <td>2.075131e+02</td>\n",
       "      <td>1.108266e+03</td>\n",
       "      <td>4.316948e+01</td>\n",
       "    </tr>\n",
       "  </tbody>\n",
       "</table>\n",
       "</div>"
      ],
      "text/plain": [
       "       vectorRRKLD_N  vectorFAmpKLD_N  vectorUFAmpKLD_N  vectorCorrKLD_N\n",
       "count   5.035843e+07     5.035843e+07      5.035843e+07     5.035843e+07\n",
       "mean    9.339957e-17    -1.343052e-16      5.719685e-17    -8.583669e-17\n",
       "std     1.000000e+00     1.000000e+00      1.000000e+00     1.000000e+00\n",
       "min    -4.970977e-03    -4.965891e-02     -9.023105e-04    -3.438284e-01\n",
       "25%    -4.970977e-03    -4.749079e-02     -9.023105e-04    -2.158446e-01\n",
       "50%    -4.970977e-03    -4.661918e-02     -9.023105e-04    -1.545738e-01\n",
       "75%    -4.970977e-03    -4.515104e-02     -9.023105e-04    -4.881495e-02\n",
       "max     5.938938e+02     2.075131e+02      1.108266e+03     4.316948e+01"
      ]
     },
     "execution_count": 21,
     "metadata": {},
     "output_type": "execute_result"
    }
   ],
   "source": [
    "df_normalized = hp.convertDictInDF(hp.putDataInDict(\n",
    "        [data_prepared[:,0], data_prepared[:,1], data_prepared[:,2], data_prepared[:,3]],\n",
    "        ['vectorRRKLD_N', 'vectorFAmpKLD_N', 'vectorUFAmpKLD_N', 'vectorCorrKLD_N']\n",
    "    ))\n",
    "df_normalized.describe()"
   ]
  },
  {
   "cell_type": "code",
   "execution_count": 22,
   "metadata": {},
   "outputs": [
    {
     "data": {
      "text/html": [
       "<div>\n",
       "<style scoped>\n",
       "    .dataframe tbody tr th:only-of-type {\n",
       "        vertical-align: middle;\n",
       "    }\n",
       "\n",
       "    .dataframe tbody tr th {\n",
       "        vertical-align: top;\n",
       "    }\n",
       "\n",
       "    .dataframe thead th {\n",
       "        text-align: right;\n",
       "    }\n",
       "</style>\n",
       "<table border=\"1\" class=\"dataframe\">\n",
       "  <thead>\n",
       "    <tr style=\"text-align: right;\">\n",
       "      <th></th>\n",
       "      <th>vectorRRKLD_N</th>\n",
       "      <th>vectorFAmpKLD_N</th>\n",
       "      <th>vectorUFAmpKLD_N</th>\n",
       "      <th>vectorCorrKLD_N</th>\n",
       "    </tr>\n",
       "  </thead>\n",
       "  <tbody>\n",
       "    <tr>\n",
       "      <th>count</th>\n",
       "      <td>5.035843e+07</td>\n",
       "      <td>5.035843e+07</td>\n",
       "      <td>5.035843e+07</td>\n",
       "      <td>5.035843e+07</td>\n",
       "    </tr>\n",
       "    <tr>\n",
       "      <th>mean</th>\n",
       "      <td>1.795103e-07</td>\n",
       "      <td>3.710932e-08</td>\n",
       "      <td>-2.210088e-08</td>\n",
       "      <td>1.310855e-07</td>\n",
       "    </tr>\n",
       "    <tr>\n",
       "      <th>std</th>\n",
       "      <td>1.000000e+00</td>\n",
       "      <td>1.000000e+00</td>\n",
       "      <td>9.999999e-01</td>\n",
       "      <td>1.000000e+00</td>\n",
       "    </tr>\n",
       "    <tr>\n",
       "      <th>min</th>\n",
       "      <td>-4.970977e-03</td>\n",
       "      <td>-4.965891e-02</td>\n",
       "      <td>-9.023105e-04</td>\n",
       "      <td>-3.438284e-01</td>\n",
       "    </tr>\n",
       "    <tr>\n",
       "      <th>25%</th>\n",
       "      <td>-4.970977e-03</td>\n",
       "      <td>-4.749079e-02</td>\n",
       "      <td>-9.023105e-04</td>\n",
       "      <td>-2.158446e-01</td>\n",
       "    </tr>\n",
       "    <tr>\n",
       "      <th>50%</th>\n",
       "      <td>-4.970977e-03</td>\n",
       "      <td>-4.661918e-02</td>\n",
       "      <td>-9.023105e-04</td>\n",
       "      <td>-1.545738e-01</td>\n",
       "    </tr>\n",
       "    <tr>\n",
       "      <th>75%</th>\n",
       "      <td>-4.970977e-03</td>\n",
       "      <td>-4.515104e-02</td>\n",
       "      <td>-9.023105e-04</td>\n",
       "      <td>-4.881495e-02</td>\n",
       "    </tr>\n",
       "    <tr>\n",
       "      <th>max</th>\n",
       "      <td>5.938937e+02</td>\n",
       "      <td>2.075131e+02</td>\n",
       "      <td>1.108266e+03</td>\n",
       "      <td>4.316948e+01</td>\n",
       "    </tr>\n",
       "  </tbody>\n",
       "</table>\n",
       "</div>"
      ],
      "text/plain": [
       "       vectorRRKLD_N  vectorFAmpKLD_N  vectorUFAmpKLD_N  vectorCorrKLD_N\n",
       "count   5.035843e+07     5.035843e+07      5.035843e+07     5.035843e+07\n",
       "mean    1.795103e-07     3.710932e-08     -2.210088e-08     1.310855e-07\n",
       "std     1.000000e+00     1.000000e+00      9.999999e-01     1.000000e+00\n",
       "min    -4.970977e-03    -4.965891e-02     -9.023105e-04    -3.438284e-01\n",
       "25%    -4.970977e-03    -4.749079e-02     -9.023105e-04    -2.158446e-01\n",
       "50%    -4.970977e-03    -4.661918e-02     -9.023105e-04    -1.545738e-01\n",
       "75%    -4.970977e-03    -4.515104e-02     -9.023105e-04    -4.881495e-02\n",
       "max     5.938937e+02     2.075131e+02      1.108266e+03     4.316948e+01"
      ]
     },
     "execution_count": 22,
     "metadata": {},
     "output_type": "execute_result"
    }
   ],
   "source": [
    "df_normalized = df_normalized.astype('float32')\n",
    "df_normalized.describe()"
   ]
  },
  {
   "cell_type": "code",
   "execution_count": 23,
   "metadata": {},
   "outputs": [
    {
     "data": {
      "text/plain": [
       "20"
      ]
     },
     "execution_count": 23,
     "metadata": {},
     "output_type": "execute_result"
    }
   ],
   "source": [
    "del data_prepared, full_pipeline, pipeline, df_final\n",
    "gc.collect()"
   ]
  },
  {
   "cell_type": "markdown",
   "metadata": {},
   "source": [
    "### PCA"
   ]
  },
  {
   "cell_type": "markdown",
   "metadata": {},
   "source": [
    ">*[0.50219192 0.28210948 0.20605092 0.00964767]* : first 3 carries the most info with standarized data (95%)\n",
    ">\n",
    ">*[0.92169138 0.04827627 0.02278563 0.00724673]* : first 1 carries the most info without standarizing data\n",
    ">\n",
    "> This is how we know we should standarize since it permits the other 2 axes to participate"
   ]
  },
  {
   "cell_type": "code",
   "execution_count": 24,
   "metadata": {},
   "outputs": [
    {
     "data": {
      "text/plain": [
       "0"
      ]
     },
     "execution_count": 24,
     "metadata": {},
     "output_type": "execute_result"
    }
   ],
   "source": [
    "X = df_normalized\n",
    "del df_normalized\n",
    "gc.collect()"
   ]
  },
  {
   "cell_type": "code",
   "execution_count": 25,
   "metadata": {},
   "outputs": [
    {
     "name": "stdout",
     "output_type": "stream",
     "text": [
      "[0.26208271 0.25004455 0.2498557  0.23801704]\n",
      "[7265.83040404 7096.99941227 7094.31883516 6924.20794986]\n",
      "[[ 0.69693087  0.7052199   0.07358243  0.10741453]\n",
      " [-0.03611392  0.01754204  0.87587789 -0.48085962]\n",
      " [-0.15331637 -0.02986601  0.47093674  0.86822848]\n",
      " [ 0.6996265  -0.70814207  0.07511413  0.05844178]]\n"
     ]
    }
   ],
   "source": [
    "pca = PCA(n_components=0.95)\n",
    "pca.fit(X)  \n",
    "print(pca.explained_variance_ratio_) \n",
    "print(pca.singular_values_)\n",
    "print(pca.components_)"
   ]
  },
  {
   "cell_type": "code",
   "execution_count": 26,
   "metadata": {
    "scrolled": true
   },
   "outputs": [],
   "source": [
    "X = pca.transform(X)\n",
    "del pca\n",
    "gc.collect()\n",
    "principalDf = pd.DataFrame(data=X, columns=['pc1', 'pc2', 'pc3', 'pc4'])"
   ]
  },
  {
   "cell_type": "code",
   "execution_count": 27,
   "metadata": {},
   "outputs": [
    {
     "name": "stdout",
     "output_type": "stream",
     "text": [
      "<class 'pandas.core.frame.DataFrame'>\n",
      "RangeIndex: 50358428 entries, 0 to 50358427\n",
      "Data columns (total 4 columns):\n",
      "pc1    float64\n",
      "pc2    float64\n",
      "pc3    float64\n",
      "pc4    float64\n",
      "dtypes: float64(4)\n",
      "memory usage: 1.5 GB\n"
     ]
    }
   ],
   "source": [
    "principalDf.info()"
   ]
  },
  {
   "cell_type": "code",
   "execution_count": 28,
   "metadata": {},
   "outputs": [],
   "source": [
    "principalDf = pd.DataFrame(data=X, columns=['pc1', 'pc2', 'pc3', 'pc4'], dtype='float32')"
   ]
  },
  {
   "cell_type": "code",
   "execution_count": 29,
   "metadata": {},
   "outputs": [
    {
     "name": "stdout",
     "output_type": "stream",
     "text": [
      "<class 'pandas.core.frame.DataFrame'>\n",
      "RangeIndex: 50358428 entries, 0 to 50358427\n",
      "Data columns (total 4 columns):\n",
      "pc1    float32\n",
      "pc2    float32\n",
      "pc3    float32\n",
      "pc4    float32\n",
      "dtypes: float32(4)\n",
      "memory usage: 768.4 MB\n"
     ]
    }
   ],
   "source": [
    "principalDf.info()"
   ]
  },
  {
   "cell_type": "code",
   "execution_count": null,
   "metadata": {},
   "outputs": [],
   "source": []
  },
  {
   "cell_type": "code",
   "execution_count": 46,
   "metadata": {},
   "outputs": [
    {
     "data": {
      "image/png": "[encoded data removed]",
      "text/plain": [
       "<Figure size 432x288 with 1 Axes>"
      ]
     },
     "metadata": {},
     "output_type": "display_data"
    },
    {
     "data": {
      "image/png": "[encoded data removed]",
      "text/plain": [
       "<Figure size 432x288 with 1 Axes>"
      ]
     },
     "metadata": {},
     "output_type": "display_data"
    },
    {
     "data": {
      "image/png": "[encoded data removed]",
      "text/plain": [
       "<Figure size 432x288 with 1 Axes>"
      ]
     },
     "metadata": {},
     "output_type": "display_data"
    },
    {
     "data": {
      "image/png": "[encoded data removed]",
      "text/plain": [
       "<Figure size 432x288 with 1 Axes>"
      ]
     },
     "metadata": {},
     "output_type": "display_data"
    },
    {
     "data": {
      "image/png": "[encoded data removed]",
      "text/plain": [
       "<Figure size 432x288 with 1 Axes>"
      ]
     },
     "metadata": {},
     "output_type": "display_data"
    },
    {
     "data": {
      "image/png": "[encoded data removed]",
      "text/plain": [
       "<Figure size 432x288 with 1 Axes>"
      ]
     },
     "metadata": {},
     "output_type": "display_data"
    }
   ],
   "source": [
    "dp.printScatter(principalDf['pc1'], principalDf['pc2'])\n",
    "dp.printScatter(principalDf['pc1'], principalDf['pc3'])\n",
    "dp.printScatter(principalDf['pc1'], principalDf['pc4'])\n",
    "dp.printScatter(principalDf['pc2'], principalDf['pc3'])\n",
    "dp.printScatter(principalDf['pc2'], principalDf['pc4'])\n",
    "dp.printScatter(principalDf['pc3'], principalDf['pc4'])"
   ]
  },
  {
   "cell_type": "code",
   "execution_count": 30,
   "metadata": {
    "scrolled": true
   },
   "outputs": [
    {
     "data": {
      "text/html": [
       "<div>\n",
       "<style scoped>\n",
       "    .dataframe tbody tr th:only-of-type {\n",
       "        vertical-align: middle;\n",
       "    }\n",
       "\n",
       "    .dataframe tbody tr th {\n",
       "        vertical-align: top;\n",
       "    }\n",
       "\n",
       "    .dataframe thead th {\n",
       "        text-align: right;\n",
       "    }\n",
       "</style>\n",
       "<table border=\"1\" class=\"dataframe\">\n",
       "  <thead>\n",
       "    <tr style=\"text-align: right;\">\n",
       "      <th></th>\n",
       "      <th>pc1</th>\n",
       "      <th>pc2</th>\n",
       "      <th>pc3</th>\n",
       "      <th>pc4</th>\n",
       "    </tr>\n",
       "  </thead>\n",
       "  <tbody>\n",
       "    <tr>\n",
       "      <th>count</th>\n",
       "      <td>5.035843e+07</td>\n",
       "      <td>5.035843e+07</td>\n",
       "      <td>5.035843e+07</td>\n",
       "      <td>5.035843e+07</td>\n",
       "    </tr>\n",
       "    <tr>\n",
       "      <th>mean</th>\n",
       "      <td>-4.668113e-09</td>\n",
       "      <td>-3.874387e-08</td>\n",
       "      <td>1.293220e-09</td>\n",
       "      <td>1.143536e-09</td>\n",
       "    </tr>\n",
       "    <tr>\n",
       "      <th>std</th>\n",
       "      <td>1.023880e+00</td>\n",
       "      <td>1.000089e+00</td>\n",
       "      <td>9.997113e-01</td>\n",
       "      <td>9.757398e-01</td>\n",
       "    </tr>\n",
       "    <tr>\n",
       "      <th>min</th>\n",
       "      <td>-7.548344e-02</td>\n",
       "      <td>-2.137587e+01</td>\n",
       "      <td>-9.118384e+01</td>\n",
       "      <td>-1.460042e+02</td>\n",
       "    </tr>\n",
       "    <tr>\n",
       "      <th>25%</th>\n",
       "      <td>-5.851962e-02</td>\n",
       "      <td>2.251791e-02</td>\n",
       "      <td>-1.867476e-01</td>\n",
       "      <td>1.568554e-02</td>\n",
       "    </tr>\n",
       "    <tr>\n",
       "      <th>50%</th>\n",
       "      <td>-5.151653e-02</td>\n",
       "      <td>7.289623e-02</td>\n",
       "      <td>-1.324699e-01</td>\n",
       "      <td>1.991526e-02</td>\n",
       "    </tr>\n",
       "    <tr>\n",
       "      <th>75%</th>\n",
       "      <td>-3.724875e-02</td>\n",
       "      <td>1.029766e-01</td>\n",
       "      <td>-4.153235e-02</td>\n",
       "      <td>2.615462e-02</td>\n",
       "    </tr>\n",
       "    <tr>\n",
       "      <th>max</th>\n",
       "      <td>4.145098e+02</td>\n",
       "      <td>9.708786e+02</td>\n",
       "      <td>5.216219e+02</td>\n",
       "      <td>4.148745e+02</td>\n",
       "    </tr>\n",
       "  </tbody>\n",
       "</table>\n",
       "</div>"
      ],
      "text/plain": [
       "                pc1           pc2           pc3           pc4\n",
       "count  5.035843e+07  5.035843e+07  5.035843e+07  5.035843e+07\n",
       "mean  -4.668113e-09 -3.874387e-08  1.293220e-09  1.143536e-09\n",
       "std    1.023880e+00  1.000089e+00  9.997113e-01  9.757398e-01\n",
       "min   -7.548344e-02 -2.137587e+01 -9.118384e+01 -1.460042e+02\n",
       "25%   -5.851962e-02  2.251791e-02 -1.867476e-01  1.568554e-02\n",
       "50%   -5.151653e-02  7.289623e-02 -1.324699e-01  1.991526e-02\n",
       "75%   -3.724875e-02  1.029766e-01 -4.153235e-02  2.615462e-02\n",
       "max    4.145098e+02  9.708786e+02  5.216219e+02  4.148745e+02"
      ]
     },
     "execution_count": 30,
     "metadata": {},
     "output_type": "execute_result"
    }
   ],
   "source": [
    "titles = principalDf.columns.tolist()\n",
    "principalDf.describe()"
   ]
  },
  {
   "cell_type": "code",
   "execution_count": 31,
   "metadata": {},
   "outputs": [
    {
     "data": {
      "text/plain": [
       "21"
      ]
     },
     "execution_count": 31,
     "metadata": {},
     "output_type": "execute_result"
    }
   ],
   "source": [
    "del principalDf\n",
    "gc.collect()"
   ]
  },
  {
   "cell_type": "code",
   "execution_count": 32,
   "metadata": {},
   "outputs": [
    {
     "data": {
      "text/plain": [
       "dtype('float64')"
      ]
     },
     "execution_count": 32,
     "metadata": {},
     "output_type": "execute_result"
    }
   ],
   "source": [
    "X.dtype"
   ]
  },
  {
   "cell_type": "code",
   "execution_count": 33,
   "metadata": {},
   "outputs": [],
   "source": [
    "X = X.astype('float32')"
   ]
  },
  {
   "cell_type": "markdown",
   "metadata": {},
   "source": [
    "## 1 Gaussian Mixture Model\n",
    "\n",
    "https://scikit-learn.org/stable/unsupervised_learning.html\n"
   ]
  },
  {
   "cell_type": "code",
   "execution_count": 30,
   "metadata": {},
   "outputs": [
    {
     "data": {
      "text/plain": [
       "'n_components_range = range(1, 7)\\nbest_gmm, bic, cv_types = cl.getBestGMMUsingBIC(X, n_components_range)'"
      ]
     },
     "execution_count": 30,
     "metadata": {},
     "output_type": "execute_result"
    }
   ],
   "source": [
    "\"\"\"n_components_range = range(1, 7)\n",
    "best_gmm, bic, cv_types = cl.getBestGMMUsingBIC(X, n_components_range)\"\"\""
   ]
  },
  {
   "cell_type": "code",
   "execution_count": 31,
   "metadata": {
    "scrolled": true
   },
   "outputs": [
    {
     "data": {
      "text/plain": [
       "\"bic = np.array(bic)\\ncolor_iter = itertools.cycle(['navy', 'turquoise', 'cornflowerblue',\\n                              'darkorange', 'gold', 'tomato'])\\ndp.plotBICScores(bic, cv_types, color_iter, n_components_range)\""
      ]
     },
     "execution_count": 31,
     "metadata": {},
     "output_type": "execute_result"
    }
   ],
   "source": [
    "\"\"\"bic = np.array(bic)\n",
    "color_iter = itertools.cycle(['navy', 'turquoise', 'cornflowerblue',\n",
    "                              'darkorange', 'gold', 'tomato'])\n",
    "dp.plotBICScores(bic, cv_types, color_iter, n_components_range)\"\"\""
   ]
  },
  {
   "cell_type": "code",
   "execution_count": 38,
   "metadata": {},
   "outputs": [
    {
     "data": {
      "text/plain": [
       "GaussianMixture(covariance_type='full', init_params='kmeans', max_iter=100,\n",
       "        means_init=None, n_components=6, n_init=1, precisions_init=None,\n",
       "        random_state=None, reg_covar=1e-06, tol=0.001, verbose=0,\n",
       "        verbose_interval=10, warm_start=False, weights_init=None)"
      ]
     },
     "execution_count": 38,
     "metadata": {},
     "output_type": "execute_result"
    }
   ],
   "source": [
    "gmm = GaussianMixture(n_components=6, covariance_type='full')\n",
    "gmm.fit(X)"
   ]
  },
  {
   "cell_type": "code",
   "execution_count": 39,
   "metadata": {},
   "outputs": [
    {
     "data": {
      "text/plain": [
       "GaussianMixture(covariance_type='full', init_params='kmeans', max_iter=100,\n",
       "        means_init=None, n_components=5, n_init=1, precisions_init=None,\n",
       "        random_state=None, reg_covar=1e-06, tol=0.001, verbose=0,\n",
       "        verbose_interval=10, warm_start=False, weights_init=None)"
      ]
     },
     "execution_count": 39,
     "metadata": {},
     "output_type": "execute_result"
    }
   ],
   "source": [
    "gmm2 = GaussianMixture(n_components=5, covariance_type='full')\n",
    "gmm2.fit(X)"
   ]
  },
  {
   "cell_type": "code",
   "execution_count": 40,
   "metadata": {},
   "outputs": [
    {
     "data": {
      "text/plain": [
       "GaussianMixture(covariance_type='full', init_params='kmeans', max_iter=100,\n",
       "        means_init=None, n_components=6, n_init=1, precisions_init=None,\n",
       "        random_state=None, reg_covar=1e-06, tol=0.001, verbose=0,\n",
       "        verbose_interval=10, warm_start=False, weights_init=None)"
      ]
     },
     "execution_count": 40,
     "metadata": {},
     "output_type": "execute_result"
    }
   ],
   "source": [
    "gmm"
   ]
  },
  {
   "cell_type": "code",
   "execution_count": null,
   "metadata": {},
   "outputs": [],
   "source": []
  },
  {
   "cell_type": "code",
   "execution_count": 41,
   "metadata": {},
   "outputs": [
    {
     "data": {
      "text/plain": [
       "-1654005377.3045177"
      ]
     },
     "execution_count": 41,
     "metadata": {},
     "output_type": "execute_result"
    }
   ],
   "source": [
    "gmm.bic(X)"
   ]
  },
  {
   "cell_type": "code",
   "execution_count": 42,
   "metadata": {},
   "outputs": [
    {
     "data": {
      "text/plain": [
       "-1653352827.4699614"
      ]
     },
     "execution_count": 42,
     "metadata": {},
     "output_type": "execute_result"
    }
   ],
   "source": [
    "gmm2.bic(X)"
   ]
  },
  {
   "cell_type": "code",
   "execution_count": 43,
   "metadata": {},
   "outputs": [],
   "source": [
    "best_gmm=gmm\n"
   ]
  },
  {
   "cell_type": "code",
   "execution_count": 44,
   "metadata": {},
   "outputs": [
    {
     "data": {
      "image/png": "[encoded data removed]",
      "text/plain": [
       "<Figure size 1080x432 with 3 Axes>"
      ]
     },
     "metadata": {},
     "output_type": "display_data"
    }
   ],
   "source": [
    "color_iter = itertools.cycle(['navy', 'turquoise', 'cornflowerblue',\n",
    "                              'darkorange', 'gold', 'tomato'])\n",
    "fig, ax = plt.subplots(1, 3, figsize=(15, 6))\n",
    "dp.getPlotGMM(best_gmm, X, color_iter, 0, 1, ax[0], titles)\n",
    "dp.getPlotGMM(best_gmm, X, color_iter, 1, 2, ax[1], titles)\n",
    "dp.getPlotGMM(best_gmm, X, color_iter, 0, 2, ax[2], titles)\n",
    "plt.show()\n",
    "fig.clf()\n",
    "plt.close()"
   ]
  },
  {
   "cell_type": "code",
   "execution_count": 45,
   "metadata": {},
   "outputs": [
    {
     "name": "stdout",
     "output_type": "stream",
     "text": [
      "{'>50': 1, '>30': 0, '>15': 0, '<15': 5}\n"
     ]
    },
    {
     "data": {
      "text/plain": [
       "[{'group': 0, 'qty': 42639778, 'representativeness': 0.846725755617312},\n",
       " {'group': 1, 'qty': 3929257, 'representativeness': 0.07802580731868755},\n",
       " {'group': 2, 'qty': 41, 'representativeness': 8.141636192456206e-07},\n",
       " {'group': 3, 'qty': 160223, 'representativeness': 0.003181652135765636},\n",
       " {'group': 4, 'qty': 44441, 'representativeness': 0.0008824937903145031},\n",
       " {'group': 5, 'qty': 3584688, 'representativeness': 0.07118347697430111}]"
      ]
     },
     "execution_count": 45,
     "metadata": {},
     "output_type": "execute_result"
    }
   ],
   "source": [
    "hp.getRepresentativeness(best_gmm, X, best_gmm.predict(X))"
   ]
  },
  {
   "cell_type": "code",
   "execution_count": 46,
   "metadata": {},
   "outputs": [],
   "source": [
    "del best_gmm"
   ]
  },
  {
   "cell_type": "markdown",
   "metadata": {},
   "source": [
    "## 2 K-Means\n",
    "\n",
    "[4, 5, 6] components"
   ]
  },
  {
   "cell_type": "code",
   "execution_count": null,
   "metadata": {},
   "outputs": [],
   "source": [
    "Y_, km = cl.getKmeanskClusters(4, X)\n",
    "dp.printThreeKMaeans(X, Y_, titles)\n",
    "print(hp.getRepresentativenessKM(km, X, Y_))\n",
    "del km, Y_\n",
    "plt.clf()\n",
    "plt.close()"
   ]
  },
  {
   "cell_type": "code",
   "execution_count": null,
   "metadata": {},
   "outputs": [],
   "source": [
    "Y_, km = cl.getKmeanskClusters(5, X)\n",
    "dp.printThreeKMaeans(X, Y_, titles)\n",
    "print(hp.getRepresentativenessKM(km, X, Y_))\n",
    "del km, Y_\n",
    "plt.clf()\n",
    "plt.close()"
   ]
  },
  {
   "cell_type": "code",
   "execution_count": 34,
   "metadata": {},
   "outputs": [
    {
     "data": {
      "image/png": "[encoded data removed]",
      "text/plain": [
       "<Figure size 1080x432 with 3 Axes>"
      ]
     },
     "metadata": {},
     "output_type": "display_data"
    },
    {
     "name": "stdout",
     "output_type": "stream",
     "text": [
      "{'>50': 1, '>30': 0, '>15': 0, '<15': 5}\n",
      "[{'group': 0, 'qty': 50180626, 'representativeness': 0.9964692702480705}, {'group': 1, 'qty': 41, 'representativeness': 8.141636192456206e-07}, {'group': 2, 'qty': 143041, 'representativeness': 0.0028404580063539713}, {'group': 3, 'qty': 379, 'representativeness': 7.526049065709517e-06}, {'group': 4, 'qty': 1491, 'representativeness': 2.960775503159074e-05}, {'group': 5, 'qty': 32850, 'representativeness': 0.0006523237778589912}]\n"
     ]
    }
   ],
   "source": [
    "Y_, km = cl.getKmeanskClusters(6, X)\n",
    "dp.printThreeKMaeans(X, Y_, titles)\n",
    "print(hp.getRepresentativenessKM(km, X, Y_))\n",
    "del km, Y_\n",
    "plt.clf()\n",
    "plt.close()"
   ]
  },
  {
   "cell_type": "markdown",
   "metadata": {},
   "source": [
    "## 3 Mean Shift\n",
    "https://scikit-learn.org/stable/tutorial/machine_learning_map/index.html"
   ]
  },
  {
   "cell_type": "markdown",
   "metadata": {},
   "source": [
    "> Bandwidth is not very different with quantity of samples 50000 or 100000, so for ease of computation, we will use 50000.\n",
    "> \n",
    "> Quantile, it increases  the value of the bandwith, 0.3, gets 1.76 with 7 components, 0.5, gets 2.26 with 4 components"
   ]
  },
  {
   "cell_type": "code",
   "execution_count": 35,
   "metadata": {},
   "outputs": [
    {
     "data": {
      "text/plain": [
       "0.26724108956958187"
      ]
     },
     "execution_count": 35,
     "metadata": {},
     "output_type": "execute_result"
    }
   ],
   "source": [
    "bandwidth = estimate_bandwidth(X, n_samples=50000, quantile=0.3)\n",
    "bandwidth"
   ]
  },
  {
   "cell_type": "code",
   "execution_count": null,
   "metadata": {},
   "outputs": [],
   "source": [
    "bandwidth2 = estimate_bandwidth(X, n_samples=50000, quantile=0.5)\n",
    "bandwidth2"
   ]
  },
  {
   "cell_type": "code",
   "execution_count": 36,
   "metadata": {},
   "outputs": [
    {
     "data": {
      "text/plain": [
       "0.36711622192382815"
      ]
     },
     "execution_count": 36,
     "metadata": {},
     "output_type": "execute_result"
    }
   ],
   "source": [
    "bandwidth3 = estimate_bandwidth(X, n_samples=50000, quantile=0.7)\n",
    "bandwidth3"
   ]
  },
  {
   "cell_type": "code",
   "execution_count": null,
   "metadata": {},
   "outputs": [],
   "source": [
    "bandwidth4 = estimate_bandwidth(X, n_samples=50000, quantile=0.2)\n",
    "bandwidth4"
   ]
  },
  {
   "cell_type": "code",
   "execution_count": null,
   "metadata": {
    "scrolled": true
   },
   "outputs": [
    {
     "name": "stdout",
     "output_type": "stream",
     "text": [
      "number of estimated clusters : 3421\n",
      "{'>50': 1, '>30': 0, '>15': 0, '<15': 3421}\n",
      "[{'group': 0, 'qty': 48140734, 'representativeness': 0.9559618104044074}, {'group': 1, 'qty': 303536, 'representativeness': 0.006027511422715578}, {'group': 2, 'qty': 436380, 'representativeness': 0.008665480979668388}, {'group': 3, 'qty': 164968, 'representativeness': 0.0032758766814563792}, {'group': 4, 'qty': 144059, 'representativeness': 0.0028606730932903626}, {'group': 5, 'qty': 35826, 'representativeness': 0.0007114201420266732}, {'group': 6, 'qty': 31100, 'representativeness': 0.000617572891671678}, {'group': 7, 'qty': 16592, 'representativeness': 0.00032947811635422776}, {'group': 8, 'qty': 11252, 'representativeness': 0.00022343826935979812}, {'group': 9, 'qty': 12406, 'representativeness': 0.00024635399659417485}, {'group': 10, 'qty': 8586, 'representativeness': 0.00017049777645958289}, {'group': 11, 'qty': 3600, 'representativeness': 7.148753729961547e-05}, {'group': 12, 'qty': 2717, 'representativeness': 5.395323301195979e-05}, {'group': 13, 'qty': 5695, 'representativeness': 0.0001130893124781417}, {'group': 14, 'qty': 5106, 'representativeness': 0.0001013931570699546}, {'group': 15, 'qty': 2903, 'representativeness': 5.764675577243992e-05}, {'group': 16, 'qty': 3966, 'representativeness': 7.875543692507637e-05}, {'group': 17, 'qty': 3699, 'representativeness': 7.34534445753549e-05}, {'group': 18, 'qty': 3392, 'representativeness': 6.735714625563769e-05}, {'group': 19, 'qty': 3726, 'representativeness': 7.398960110510201e-05}, {'group': 20, 'qty': 2382, 'representativeness': 4.730092051324557e-05}, {'group': 21, 'qty': 2722, 'representativeness': 5.4052521258209255e-05}, {'group': 22, 'qty': 1167, 'representativeness': 2.3173876674625347e-05}, {'group': 23, 'qty': 1608, 'representativeness': 3.1931099993828243e-05}, {'group': 24, 'qty': 682, 'representativeness': 1.3542916788427152e-05}, {'group': 25, 'qty': 1616, 'representativeness': 3.208996118782739e-05}, {'group': 26, 'qty': 1608, 'representativeness': 3.1931099993828243e-05}, {'group': 27, 'qty': 1016, 'representativeness': 2.0175371637891477e-05}, {'group': 28, 'qty': 1130, 'representativeness': 2.24391436523793e-05}, {'group': 29, 'qty': 810, 'representativeness': 1.608469589241348e-05}, {'group': 30, 'qty': 1521, 'representativeness': 3.0203484509087536e-05}, {'group': 31, 'qty': 938, 'representativeness': 1.862647499639981e-05}, {'group': 32, 'qty': 494, 'representativeness': 9.809678729447234e-06}, {'group': 33, 'qty': 1156, 'representativeness': 2.2955442532876523e-05}, {'group': 34, 'qty': 1113, 'representativeness': 2.2101563615131116e-05}, {'group': 35, 'qty': 722, 'representativeness': 1.433722275842288e-05}, {'group': 36, 'qty': 675, 'representativeness': 1.34039132436779e-05}, {'group': 37, 'qty': 769, 'representativeness': 1.527053227316786e-05}, {'group': 38, 'qty': 1105, 'representativeness': 2.194270242113197e-05}, {'group': 39, 'qty': 778, 'representativeness': 1.54492511164169e-05}, {'group': 40, 'qty': 661, 'representativeness': 1.3125906154179396e-05}, {'group': 41, 'qty': 809, 'representativeness': 1.6064838243163586e-05}, {'group': 42, 'qty': 837, 'representativeness': 1.6620852422160595e-05}, {'group': 43, 'qty': 719, 'representativeness': 1.42776498106732e-05}, {'group': 44, 'qty': 415, 'representativeness': 8.240924438705672e-06}, {'group': 45, 'qty': 173, 'representativeness': 3.435373320231521e-06}, {'group': 46, 'qty': 383, 'representativeness': 7.60547966270909e-06}, {'group': 47, 'qty': 640, 'representativeness': 1.270889551993164e-05}, {'group': 48, 'qty': 241, 'representativeness': 4.785693469224258e-06}, {'group': 49, 'qty': 618, 'representativeness': 1.2272027236433988e-05}, {'group': 50, 'qty': 342, 'representativeness': 6.79131604346347e-06}, {'group': 51, 'qty': 332, 'representativeness': 6.592739550964538e-06}, {'group': 52, 'qty': 301, 'representativeness': 5.977152424217849e-06}, {'group': 53, 'qty': 308, 'representativeness': 6.116155968967101e-06}, {'group': 54, 'qty': 341, 'representativeness': 6.771458394213576e-06}, {'group': 55, 'qty': 300, 'representativeness': 5.957294774967956e-06}, {'group': 56, 'qty': 406, 'representativeness': 8.062205595456633e-06}, {'group': 57, 'qty': 444, 'representativeness': 8.816796266952575e-06}, {'group': 58, 'qty': 346, 'representativeness': 6.870746640463042e-06}, {'group': 59, 'qty': 389, 'representativeness': 7.72462555820845e-06}, {'group': 60, 'qty': 308, 'representativeness': 6.116155968967101e-06}, {'group': 61, 'qty': 390, 'representativeness': 7.744483207458342e-06}, {'group': 62, 'qty': 515, 'representativeness': 1.022668936369499e-05}, {'group': 63, 'qty': 315, 'representativeness': 6.255159513716353e-06}, {'group': 64, 'qty': 250, 'representativeness': 4.964412312473297e-06}, {'group': 65, 'qty': 245, 'representativeness': 4.86512406622383e-06}, {'group': 66, 'qty': 347, 'representativeness': 6.890604289712935e-06}, {'group': 67, 'qty': 222, 'representativeness': 4.408398133476287e-06}, {'group': 68, 'qty': 239, 'representativeness': 4.745978170724472e-06}, {'group': 69, 'qty': 269068, 'representativeness': 0.00534305796837026}, {'group': 70, 'qty': 240, 'representativeness': 4.765835819974365e-06}, {'group': 71, 'qty': 208, 'representativeness': 4.130391043977783e-06}, {'group': 72, 'qty': 191, 'representativeness': 3.7928110067295984e-06}, {'group': 73, 'qty': 255, 'representativeness': 5.063700558722762e-06}, {'group': 74, 'qty': 249, 'representativeness': 4.944554663223403e-06}, {'group': 75, 'qty': 295, 'representativeness': 5.858006528718489e-06}, {'group': 76, 'qty': 289, 'representativeness': 5.738860633219131e-06}, {'group': 77, 'qty': 194, 'representativeness': 3.852383954479278e-06}, {'group': 78, 'qty': 218, 'representativeness': 4.328967536476715e-06}, {'group': 79, 'qty': 269, 'representativeness': 5.341707648221267e-06}, {'group': 80, 'qty': 151, 'representativeness': 2.998505036733871e-06}, {'group': 81, 'qty': 213, 'representativeness': 4.229679290227248e-06}, {'group': 82, 'qty': 193, 'representativeness': 3.832526305229385e-06}, {'group': 83, 'qty': 206, 'representativeness': 4.090675745477996e-06}, {'group': 84, 'qty': 536, 'representativeness': 1.0643699997942748e-05}, {'group': 85, 'qty': 224, 'representativeness': 4.448113431976073e-06}, {'group': 86, 'qty': 277, 'representativeness': 5.500568842220412e-06}, {'group': 87, 'qty': 3631, 'representativeness': 7.210312442636216e-05}, {'group': 88, 'qty': 174, 'representativeness': 3.455230969481414e-06}, {'group': 89, 'qty': 236, 'representativeness': 4.686405222974792e-06}, {'group': 90, 'qty': 173, 'representativeness': 3.435373320231521e-06}, {'group': 91, 'qty': 353, 'representativeness': 7.009750185212295e-06}, {'group': 92, 'qty': 217, 'representativeness': 4.309109887226821e-06}, {'group': 93, 'qty': 274, 'representativeness': 5.440995894470733e-06}, {'group': 94, 'qty': 134, 'representativeness': 2.660924999485687e-06}, {'group': 95, 'qty': 257, 'representativeness': 5.103415857222549e-06}, {'group': 96, 'qty': 162, 'representativeness': 3.2169391784826962e-06}, {'group': 97, 'qty': 150, 'representativeness': 2.978647387483978e-06}, {'group': 98, 'qty': 196, 'representativeness': 3.892099252979064e-06}, {'group': 99, 'qty': 1257, 'representativeness': 2.4961065107115734e-05}, {'group': 100, 'qty': 46979, 'representativeness': 0.0009328925041107319}, {'group': 101, 'qty': 685, 'representativeness': 1.3602489736176832e-05}, {'group': 102, 'qty': 218, 'representativeness': 4.328967536476715e-06}, {'group': 103, 'qty': 190, 'representativeness': 3.7729533574797055e-06}, {'group': 104, 'qty': 145, 'representativeness': 2.879359141234512e-06}, {'group': 105, 'qty': 163, 'representativeness': 3.236796827732589e-06}, {'group': 106, 'qty': 169, 'representativeness': 3.3559427232319485e-06}, {'group': 107, 'qty': 134, 'representativeness': 2.660924999485687e-06}, {'group': 108, 'qty': 134, 'representativeness': 2.660924999485687e-06}, {'group': 109, 'qty': 165, 'representativeness': 3.2765121262323755e-06}, {'group': 110, 'qty': 136, 'representativeness': 2.7006402979854733e-06}, {'group': 111, 'qty': 166, 'representativeness': 3.296369775482269e-06}, {'group': 112, 'qty': 122, 'representativeness': 2.4226332084869686e-06}, {'group': 113, 'qty': 126, 'representativeness': 2.5020638054865413e-06}, {'group': 114, 'qty': 101, 'representativeness': 2.0056225742392117e-06}, {'group': 115, 'qty': 195, 'representativeness': 3.872241603729171e-06}, {'group': 116, 'qty': 157, 'representativeness': 3.1176509322332302e-06}, {'group': 117, 'qty': 123, 'representativeness': 2.442490857736862e-06}, {'group': 118, 'qty': 163, 'representativeness': 3.236796827732589e-06}, {'group': 119, 'qty': 220, 'representativeness': 4.368682834976501e-06}, {'group': 120, 'qty': 181, 'representativeness': 3.5942345142306664e-06}, {'group': 121, 'qty': 137, 'representativeness': 2.7204979472353666e-06}, {'group': 122, 'qty': 132, 'representativeness': 2.6212097009859006e-06}, {'group': 123, 'qty': 75, 'representativeness': 1.489323693741989e-06}, {'group': 124, 'qty': 117, 'representativeness': 2.3233449622375026e-06}, {'group': 125, 'qty': 155, 'representativeness': 3.077935633733444e-06}, {'group': 126, 'qty': 138, 'representativeness': 2.7403555964852596e-06}, {'group': 127, 'qty': 121, 'representativeness': 2.4027755592370753e-06}, {'group': 128, 'qty': 143, 'representativeness': 2.8396438427347256e-06}, {'group': 129, 'qty': 123, 'representativeness': 2.442490857736862e-06}, {'group': 130, 'qty': 120, 'representativeness': 2.3829179099871823e-06}, {'group': 131, 'qty': 112, 'representativeness': 2.2240567159880366e-06}, {'group': 132, 'qty': 10011, 'representativeness': 0.00019879492664068069}, {'group': 133, 'qty': 223, 'representativeness': 4.42825578272618e-06}, {'group': 134, 'qty': 87, 'representativeness': 1.727615484740707e-06}, {'group': 135, 'qty': 91, 'representativeness': 1.80704608174028e-06}, {'group': 136, 'qty': 47508, 'representativeness': 0.0009433972005639255}, {'group': 137, 'qty': 99, 'representativeness': 1.9659072757394254e-06}, {'group': 138, 'qty': 120, 'representativeness': 2.3829179099871823e-06}, {'group': 139, 'qty': 119, 'representativeness': 2.363060260737289e-06}, {'group': 140, 'qty': 119, 'representativeness': 2.363060260737289e-06}, {'group': 141, 'qty': 111, 'representativeness': 2.2041990667381437e-06}, {'group': 142, 'qty': 116, 'representativeness': 2.3034873129876097e-06}, {'group': 143, 'qty': 76, 'representativeness': 1.5091813429918821e-06}, {'group': 144, 'qty': 78, 'representativeness': 1.5488966414916684e-06}, {'group': 145, 'qty': 104, 'representativeness': 2.0651955219888914e-06}, {'group': 146, 'qty': 89, 'representativeness': 1.7673307832404936e-06}, {'group': 147, 'qty': 119, 'representativeness': 2.363060260737289e-06}, {'group': 148, 'qty': 114, 'representativeness': 2.2637720144878234e-06}, {'group': 149, 'qty': 82, 'representativeness': 1.6283272384912413e-06}, {'group': 150, 'qty': 86, 'representativeness': 1.707757835490814e-06}, {'group': 151, 'qty': 74, 'representativeness': 1.4694660444920958e-06}, {'group': 152, 'qty': 96, 'representativeness': 1.906334327989746e-06}, {'group': 153, 'qty': 89, 'representativeness': 1.7673307832404936e-06}, {'group': 154, 'qty': 310, 'representativeness': 6.155871267466888e-06}, {'group': 155, 'qty': 73, 'representativeness': 1.4496083952422026e-06}, {'group': 156, 'qty': 97003, 'representativeness': 0.0019262515501873886}, {'group': 157, 'qty': 61, 'representativeness': 1.2113166042434843e-06}, {'group': 158, 'qty': 136, 'representativeness': 2.7006402979854733e-06}, {'group': 159, 'qty': 57, 'representativeness': 1.1318860072439117e-06}, {'group': 160, 'qty': 69, 'representativeness': 1.3701777982426298e-06}, {'group': 161, 'qty': 105, 'representativeness': 2.0850531712387843e-06}, {'group': 162, 'qty': 54, 'representativeness': 1.072313059494232e-06}, {'group': 163, 'qty': 67, 'representativeness': 1.3304624997428435e-06}, {'group': 164, 'qty': 207, 'representativeness': 4.11053339472789e-06}, {'group': 165, 'qty': 123, 'representativeness': 2.442490857736862e-06}, {'group': 166, 'qty': 86, 'representativeness': 1.707757835490814e-06}, {'group': 167, 'qty': 124, 'representativeness': 2.462348506986755e-06}, {'group': 168, 'qty': 22426, 'representativeness': 0.0004453276420781046}, {'group': 169, 'qty': 35, 'representativeness': 6.950177237462615e-07}, {'group': 170, 'qty': 59, 'representativeness': 1.171601305743698e-06}, {'group': 171, 'qty': 88, 'representativeness': 1.7474731339906004e-06}, {'group': 172, 'qty': 66, 'representativeness': 1.3106048504929503e-06}, {'group': 173, 'qty': 59, 'representativeness': 1.171601305743698e-06}, {'group': 174, 'qty': 148, 'representativeness': 2.9389320889841916e-06}, {'group': 175, 'qty': 61, 'representativeness': 1.2113166042434843e-06}, {'group': 176, 'qty': 3617, 'representativeness': 7.182511733686365e-05}, {'group': 177, 'qty': 58, 'representativeness': 1.1517436564938048e-06}, {'group': 178, 'qty': 60, 'representativeness': 1.1914589549935912e-06}, {'group': 179, 'qty': 86, 'representativeness': 1.707757835490814e-06}, {'group': 180, 'qty': 66, 'representativeness': 1.3106048504929503e-06}, {'group': 181, 'qty': 76, 'representativeness': 1.5091813429918821e-06}, {'group': 182, 'qty': 105, 'representativeness': 2.0850531712387843e-06}, {'group': 183, 'qty': 47, 'representativeness': 9.333095147449797e-07}, {'group': 184, 'qty': 54, 'representativeness': 1.072313059494232e-06}, {'group': 185, 'qty': 52, 'representativeness': 1.0325977609944457e-06}, {'group': 186, 'qty': 53, 'representativeness': 1.0524554102443388e-06}, {'group': 187, 'qty': 68, 'representativeness': 1.3503201489927366e-06}, {'group': 188, 'qty': 145, 'representativeness': 2.879359141234512e-06}, {'group': 189, 'qty': 56, 'representativeness': 1.1120283579940183e-06}, {'group': 190, 'qty': 48, 'representativeness': 9.53167163994873e-07}, {'group': 191, 'qty': 67, 'representativeness': 1.3304624997428435e-06}, {'group': 192, 'qty': 334, 'representativeness': 6.6324548494643244e-06}, {'group': 193, 'qty': 116, 'representativeness': 2.3034873129876097e-06}, {'group': 194, 'qty': 57, 'representativeness': 1.1318860072439117e-06}, {'group': 195, 'qty': 55, 'representativeness': 1.0921707087441252e-06}, {'group': 196, 'qty': 54, 'representativeness': 1.072313059494232e-06}, {'group': 197, 'qty': 41, 'representativeness': 8.141636192456206e-07}, {'group': 198, 'qty': 51, 'representativeness': 1.0127401117445525e-06}, {'group': 199, 'qty': 50, 'representativeness': 9.928824624946594e-07}, {'group': 200, 'qty': 65, 'representativeness': 1.2907472012430572e-06}, {'group': 201, 'qty': 48, 'representativeness': 9.53167163994873e-07}, {'group': 202, 'qty': 44, 'representativeness': 8.737365669953002e-07}, {'group': 203, 'qty': 50, 'representativeness': 9.928824624946594e-07}, {'group': 204, 'qty': 43, 'representativeness': 8.53878917745407e-07}, {'group': 205, 'qty': 50, 'representativeness': 9.928824624946594e-07}, {'group': 206, 'qty': 41, 'representativeness': 8.141636192456206e-07}, {'group': 207, 'qty': 48, 'representativeness': 9.53167163994873e-07}, {'group': 208, 'qty': 47, 'representativeness': 9.333095147449797e-07}, {'group': 209, 'qty': 55, 'representativeness': 1.0921707087441252e-06}, {'group': 210, 'qty': 39, 'representativeness': 7.744483207458342e-07}, {'group': 211, 'qty': 49, 'representativeness': 9.73024813244766e-07}, {'group': 212, 'qty': 42, 'representativeness': 8.340212684955138e-07}, {'group': 213, 'qty': 48, 'representativeness': 9.53167163994873e-07}, {'group': 214, 'qty': 42, 'representativeness': 8.340212684955138e-07}, {'group': 215, 'qty': 219686, 'representativeness': 0.004362447533112035}, {'group': 216, 'qty': 36, 'representativeness': 7.148753729961546e-07}, {'group': 217, 'qty': 30, 'representativeness': 5.957294774967956e-07}, {'group': 218, 'qty': 51, 'representativeness': 1.0127401117445525e-06}, {'group': 219, 'qty': 39, 'representativeness': 7.744483207458342e-07}, {'group': 220, 'qty': 47, 'representativeness': 9.333095147449797e-07}, {'group': 221, 'qty': 46, 'representativeness': 9.134518654950865e-07}, {'group': 222, 'qty': 60, 'representativeness': 1.1914589549935912e-06}, {'group': 223, 'qty': 34, 'representativeness': 6.751600744963683e-07}, {'group': 224, 'qty': 40, 'representativeness': 7.943059699957275e-07}, {'group': 225, 'qty': 46, 'representativeness': 9.134518654950865e-07}, {'group': 226, 'qty': 141236, 'representativeness': 0.002804614949457914}, {'group': 227, 'qty': 70, 'representativeness': 1.390035447492523e-06}, {'group': 228, 'qty': 36, 'representativeness': 7.148753729961546e-07}, {'group': 229, 'qty': 32, 'representativeness': 6.354447759965819e-07}, {'group': 230, 'qty': 27, 'representativeness': 5.36156529747116e-07}, {'group': 231, 'qty': 35, 'representativeness': 6.950177237462615e-07}, {'group': 232, 'qty': 25, 'representativeness': 4.964412312473297e-07}, {'group': 233, 'qty': 61, 'representativeness': 1.2113166042434843e-06}, {'group': 234, 'qty': 30, 'representativeness': 5.957294774967956e-07}, {'group': 235, 'qty': 41, 'representativeness': 8.141636192456206e-07}, {'group': 236, 'qty': 44, 'representativeness': 8.737365669953002e-07}, {'group': 237, 'qty': 48, 'representativeness': 9.53167163994873e-07}, {'group': 238, 'qty': 30, 'representativeness': 5.957294774967956e-07}, {'group': 239, 'qty': 36, 'representativeness': 7.148753729961546e-07}, {'group': 240, 'qty': 26, 'representativeness': 5.162988804972228e-07}, {'group': 241, 'qty': 24, 'representativeness': 4.765835819974365e-07}, {'group': 242, 'qty': 22, 'representativeness': 4.368682834976501e-07}, {'group': 243, 'qty': 31, 'representativeness': 6.155871267466887e-07}, {'group': 244, 'qty': 36, 'representativeness': 7.148753729961546e-07}, {'group': 245, 'qty': 25, 'representativeness': 4.964412312473297e-07}, {'group': 246, 'qty': 38, 'representativeness': 7.545906714959411e-07}, {'group': 247, 'qty': 22, 'representativeness': 4.368682834976501e-07}, {'group': 248, 'qty': 34, 'representativeness': 6.751600744963683e-07}, {'group': 249, 'qty': 30, 'representativeness': 5.957294774967956e-07}, {'group': 250, 'qty': 37, 'representativeness': 7.347330222460479e-07}, {'group': 251, 'qty': 29, 'representativeness': 5.758718282469024e-07}, {'group': 252, 'qty': 26, 'representativeness': 5.162988804972228e-07}, {'group': 253, 'qty': 26, 'representativeness': 5.162988804972228e-07}, {'group': 254, 'qty': 25, 'representativeness': 4.964412312473297e-07}, {'group': 255, 'qty': 33, 'representativeness': 6.553024252464752e-07}, {'group': 256, 'qty': 29, 'representativeness': 5.758718282469024e-07}, {'group': 257, 'qty': 28, 'representativeness': 5.560141789970092e-07}, {'group': 258, 'qty': 21, 'representativeness': 4.170106342477569e-07}, {'group': 259, 'qty': 24, 'representativeness': 4.765835819974365e-07}, {'group': 260, 'qty': 37, 'representativeness': 7.347330222460479e-07}, {'group': 261, 'qty': 28, 'representativeness': 5.560141789970092e-07}, {'group': 262, 'qty': 19, 'representativeness': 3.7729533574797053e-07}, {'group': 263, 'qty': 22, 'representativeness': 4.368682834976501e-07}, {'group': 264, 'qty': 24, 'representativeness': 4.765835819974365e-07}, {'group': 265, 'qty': 23, 'representativeness': 4.5672593274754326e-07}, {'group': 266, 'qty': 22, 'representativeness': 4.368682834976501e-07}, {'group': 267, 'qty': 20, 'representativeness': 3.9715298499786374e-07}, {'group': 268, 'qty': 17, 'representativeness': 3.3758003724818416e-07}, {'group': 269, 'qty': 24, 'representativeness': 4.765835819974365e-07}, {'group': 270, 'qty': 18, 'representativeness': 3.574376864980773e-07}, {'group': 271, 'qty': 16, 'representativeness': 3.1772238799829095e-07}, {'group': 272, 'qty': 15, 'representativeness': 2.978647387483978e-07}, {'group': 273, 'qty': 26, 'representativeness': 5.162988804972228e-07}, {'group': 274, 'qty': 38, 'representativeness': 7.545906714959411e-07}, {'group': 275, 'qty': 20, 'representativeness': 3.9715298499786374e-07}, {'group': 276, 'qty': 20, 'representativeness': 3.9715298499786374e-07}, {'group': 277, 'qty': 18, 'representativeness': 3.574376864980773e-07}, {'group': 278, 'qty': 15, 'representativeness': 2.978647387483978e-07}, {'group': 279, 'qty': 23, 'representativeness': 4.5672593274754326e-07}, {'group': 280, 'qty': 131, 'representativeness': 2.6013520517360073e-06}, {'group': 281, 'qty': 18, 'representativeness': 3.574376864980773e-07}, {'group': 282, 'qty': 16, 'representativeness': 3.1772238799829095e-07}, {'group': 283, 'qty': 25, 'representativeness': 4.964412312473297e-07}, {'group': 284, 'qty': 14, 'representativeness': 2.780070894985046e-07}, {'group': 285, 'qty': 21, 'representativeness': 4.170106342477569e-07}, {'group': 286, 'qty': 17, 'representativeness': 3.3758003724818416e-07}, {'group': 287, 'qty': 19, 'representativeness': 3.7729533574797053e-07}, {'group': 288, 'qty': 18, 'representativeness': 3.574376864980773e-07}, {'group': 289, 'qty': 12, 'representativeness': 2.3829179099871824e-07}, {'group': 290, 'qty': 14, 'representativeness': 2.780070894985046e-07}, {'group': 291, 'qty': 29, 'representativeness': 5.758718282469024e-07}, {'group': 292, 'qty': 19, 'representativeness': 3.7729533574797053e-07}, {'group': 293, 'qty': 33, 'representativeness': 6.553024252464752e-07}, {'group': 294, 'qty': 16, 'representativeness': 3.1772238799829095e-07}, {'group': 295, 'qty': 17, 'representativeness': 3.3758003724818416e-07}, {'group': 296, 'qty': 19, 'representativeness': 3.7729533574797053e-07}, {'group': 297, 'qty': 14, 'representativeness': 2.780070894985046e-07}, {'group': 298, 'qty': 17, 'representativeness': 3.3758003724818416e-07}, {'group': 299, 'qty': 116, 'representativeness': 2.3034873129876097e-06}, {'group': 300, 'qty': 15, 'representativeness': 2.978647387483978e-07}, {'group': 301, 'qty': 16, 'representativeness': 3.1772238799829095e-07}, {'group': 302, 'qty': 19, 'representativeness': 3.7729533574797053e-07}, {'group': 303, 'qty': 14, 'representativeness': 2.780070894985046e-07}, {'group': 304, 'qty': 14, 'representativeness': 2.780070894985046e-07}, {'group': 305, 'qty': 18026, 'representativeness': 0.0003579539853785746}, {'group': 306, 'qty': 17, 'representativeness': 3.3758003724818416e-07}, {'group': 307, 'qty': 16, 'representativeness': 3.1772238799829095e-07}, {'group': 308, 'qty': 12, 'representativeness': 2.3829179099871824e-07}, {'group': 309, 'qty': 17, 'representativeness': 3.3758003724818416e-07}, {'group': 310, 'qty': 15, 'representativeness': 2.978647387483978e-07}, {'group': 311, 'qty': 21, 'representativeness': 4.170106342477569e-07}, {'group': 312, 'qty': 12, 'representativeness': 2.3829179099871824e-07}, {'group': 313, 'qty': 14, 'representativeness': 2.780070894985046e-07}, {'group': 314, 'qty': 16, 'representativeness': 3.1772238799829095e-07}, {'group': 315, 'qty': 12, 'representativeness': 2.3829179099871824e-07}, {'group': 316, 'qty': 7, 'representativeness': 1.390035447492523e-07}, {'group': 317, 'qty': 12, 'representativeness': 2.3829179099871824e-07}, {'group': 318, 'qty': 24, 'representativeness': 4.765835819974365e-07}, {'group': 319, 'qty': 11, 'representativeness': 2.1843414174882505e-07}, {'group': 320, 'qty': 67003, 'representativeness': 0.0013305220726905931}, {'group': 321, 'qty': 14, 'representativeness': 2.780070894985046e-07}, {'group': 322, 'qty': 20, 'representativeness': 3.9715298499786374e-07}, {'group': 323, 'qty': 10, 'representativeness': 1.9857649249893187e-07}, {'group': 324, 'qty': 10, 'representativeness': 1.9857649249893187e-07}, {'group': 325, 'qty': 12, 'representativeness': 2.3829179099871824e-07}, {'group': 326, 'qty': 12, 'representativeness': 2.3829179099871824e-07}, {'group': 327, 'qty': 13, 'representativeness': 2.581494402486114e-07}, {'group': 328, 'qty': 14, 'representativeness': 2.780070894985046e-07}, {'group': 329, 'qty': 15, 'representativeness': 2.978647387483978e-07}, {'group': 330, 'qty': 15, 'representativeness': 2.978647387483978e-07}, {'group': 331, 'qty': 11, 'representativeness': 2.1843414174882505e-07}, {'group': 332, 'qty': 13, 'representativeness': 2.581494402486114e-07}, {'group': 333, 'qty': 13, 'representativeness': 2.581494402486114e-07}, {'group': 334, 'qty': 15, 'representativeness': 2.978647387483978e-07}, {'group': 335, 'qty': 12, 'representativeness': 2.3829179099871824e-07}, {'group': 336, 'qty': 14, 'representativeness': 2.780070894985046e-07}, {'group': 337, 'qty': 12, 'representativeness': 2.3829179099871824e-07}, {'group': 338, 'qty': 10, 'representativeness': 1.9857649249893187e-07}, {'group': 339, 'qty': 15, 'representativeness': 2.978647387483978e-07}, {'group': 340, 'qty': 68, 'representativeness': 1.3503201489927366e-06}, {'group': 341, 'qty': 14, 'representativeness': 2.780070894985046e-07}, {'group': 342, 'qty': 12, 'representativeness': 2.3829179099871824e-07}, {'group': 343, 'qty': 8, 'representativeness': 1.5886119399914547e-07}, {'group': 344, 'qty': 12, 'representativeness': 2.3829179099871824e-07}, {'group': 345, 'qty': 18, 'representativeness': 3.574376864980773e-07}, {'group': 346, 'qty': 11, 'representativeness': 2.1843414174882505e-07}, {'group': 347, 'qty': 15, 'representativeness': 2.978647387483978e-07}, {'group': 348, 'qty': 10, 'representativeness': 1.9857649249893187e-07}, {'group': 349, 'qty': 18, 'representativeness': 3.574376864980773e-07}, {'group': 350, 'qty': 11, 'representativeness': 2.1843414174882505e-07}, {'group': 351, 'qty': 13, 'representativeness': 2.581494402486114e-07}, {'group': 352, 'qty': 9, 'representativeness': 1.7871884324903866e-07}, {'group': 353, 'qty': 7, 'representativeness': 1.390035447492523e-07}, {'group': 354, 'qty': 10, 'representativeness': 1.9857649249893187e-07}, {'group': 355, 'qty': 11, 'representativeness': 2.1843414174882505e-07}, {'group': 356, 'qty': 9, 'representativeness': 1.7871884324903866e-07}, {'group': 357, 'qty': 10, 'representativeness': 1.9857649249893187e-07}, {'group': 358, 'qty': 10, 'representativeness': 1.9857649249893187e-07}, {'group': 359, 'qty': 10, 'representativeness': 1.9857649249893187e-07}, {'group': 360, 'qty': 13, 'representativeness': 2.581494402486114e-07}, {'group': 361, 'qty': 12, 'representativeness': 2.3829179099871824e-07}, {'group': 362, 'qty': 13, 'representativeness': 2.581494402486114e-07}, {'group': 363, 'qty': 10, 'representativeness': 1.9857649249893187e-07}, {'group': 364, 'qty': 10, 'representativeness': 1.9857649249893187e-07}, {'group': 365, 'qty': 10, 'representativeness': 1.9857649249893187e-07}, {'group': 366, 'qty': 12, 'representativeness': 2.3829179099871824e-07}, {'group': 367, 'qty': 11, 'representativeness': 2.1843414174882505e-07}, {'group': 368, 'qty': 10, 'representativeness': 1.9857649249893187e-07}, {'group': 369, 'qty': 10, 'representativeness': 1.9857649249893187e-07}, {'group': 370, 'qty': 13, 'representativeness': 2.581494402486114e-07}, {'group': 371, 'qty': 12, 'representativeness': 2.3829179099871824e-07}, {'group': 372, 'qty': 8, 'representativeness': 1.5886119399914547e-07}, {'group': 373, 'qty': 9, 'representativeness': 1.7871884324903866e-07}, {'group': 374, 'qty': 14, 'representativeness': 2.780070894985046e-07}, {'group': 375, 'qty': 10, 'representativeness': 1.9857649249893187e-07}, {'group': 376, 'qty': 10, 'representativeness': 1.9857649249893187e-07}, {'group': 377, 'qty': 12, 'representativeness': 2.3829179099871824e-07}, {'group': 378, 'qty': 11, 'representativeness': 2.1843414174882505e-07}, {'group': 379, 'qty': 9, 'representativeness': 1.7871884324903866e-07}, {'group': 380, 'qty': 8, 'representativeness': 1.5886119399914547e-07}, {'group': 381, 'qty': 9, 'representativeness': 1.7871884324903866e-07}, {'group': 382, 'qty': 9, 'representativeness': 1.7871884324903866e-07}, {'group': 383, 'qty': 9, 'representativeness': 1.7871884324903866e-07}, {'group': 384, 'qty': 9, 'representativeness': 1.7871884324903866e-07}, {'group': 385, 'qty': 8, 'representativeness': 1.5886119399914547e-07}, {'group': 386, 'qty': 8, 'representativeness': 1.5886119399914547e-07}, {'group': 387, 'qty': 9, 'representativeness': 1.7871884324903866e-07}, {'group': 388, 'qty': 7, 'representativeness': 1.390035447492523e-07}, {'group': 389, 'qty': 8, 'representativeness': 1.5886119399914547e-07}, {'group': 390, 'qty': 8, 'representativeness': 1.5886119399914547e-07}, {'group': 391, 'qty': 8, 'representativeness': 1.5886119399914547e-07}, {'group': 392, 'qty': 5, 'representativeness': 9.928824624946593e-08}, {'group': 393, 'qty': 8, 'representativeness': 1.5886119399914547e-07}, {'group': 394, 'qty': 8, 'representativeness': 1.5886119399914547e-07}, {'group': 395, 'qty': 14, 'representativeness': 2.780070894985046e-07}, {'group': 396, 'qty': 8, 'representativeness': 1.5886119399914547e-07}, {'group': 397, 'qty': 7, 'representativeness': 1.390035447492523e-07}, {'group': 398, 'qty': 9, 'representativeness': 1.7871884324903866e-07}, {'group': 399, 'qty': 8, 'representativeness': 1.5886119399914547e-07}, {'group': 400, 'qty': 8, 'representativeness': 1.5886119399914547e-07}, {'group': 401, 'qty': 8, 'representativeness': 1.5886119399914547e-07}, {'group': 402, 'qty': 6, 'representativeness': 1.1914589549935912e-07}, {'group': 403, 'qty': 10, 'representativeness': 1.9857649249893187e-07}, {'group': 404, 'qty': 4, 'representativeness': 7.943059699957274e-08}, {'group': 405, 'qty': 8, 'representativeness': 1.5886119399914547e-07}, {'group': 406, 'qty': 9, 'representativeness': 1.7871884324903866e-07}, {'group': 407, 'qty': 8, 'representativeness': 1.5886119399914547e-07}, {'group': 408, 'qty': 7, 'representativeness': 1.390035447492523e-07}, {'group': 409, 'qty': 9, 'representativeness': 1.7871884324903866e-07}, {'group': 410, 'qty': 10, 'representativeness': 1.9857649249893187e-07}, {'group': 411, 'qty': 5, 'representativeness': 9.928824624946593e-08}, {'group': 412, 'qty': 10, 'representativeness': 1.9857649249893187e-07}, {'group': 413, 'qty': 14, 'representativeness': 2.780070894985046e-07}, {'group': 414, 'qty': 10, 'representativeness': 1.9857649249893187e-07}, {'group': 415, 'qty': 8, 'representativeness': 1.5886119399914547e-07}, {'group': 416, 'qty': 6, 'representativeness': 1.1914589549935912e-07}, {'group': 417, 'qty': 7, 'representativeness': 1.390035447492523e-07}, {'group': 418, 'qty': 6, 'representativeness': 1.1914589549935912e-07}, {'group': 419, 'qty': 5, 'representativeness': 9.928824624946593e-08}, {'group': 420, 'qty': 7, 'representativeness': 1.390035447492523e-07}, {'group': 421, 'qty': 8, 'representativeness': 1.5886119399914547e-07}, {'group': 422, 'qty': 6, 'representativeness': 1.1914589549935912e-07}, {'group': 423, 'qty': 5, 'representativeness': 9.928824624946593e-08}, {'group': 424, 'qty': 7, 'representativeness': 1.390035447492523e-07}, {'group': 425, 'qty': 14, 'representativeness': 2.780070894985046e-07}, {'group': 426, 'qty': 8, 'representativeness': 1.5886119399914547e-07}, {'group': 427, 'qty': 5, 'representativeness': 9.928824624946593e-08}, {'group': 428, 'qty': 6, 'representativeness': 1.1914589549935912e-07}, {'group': 429, 'qty': 6, 'representativeness': 1.1914589549935912e-07}, {'group': 430, 'qty': 6, 'representativeness': 1.1914589549935912e-07}, {'group': 431, 'qty': 17, 'representativeness': 3.3758003724818416e-07}, {'group': 432, 'qty': 7, 'representativeness': 1.390035447492523e-07}, {'group': 433, 'qty': 7, 'representativeness': 1.390035447492523e-07}, {'group': 434, 'qty': 7, 'representativeness': 1.390035447492523e-07}, {'group': 435, 'qty': 5, 'representativeness': 9.928824624946593e-08}, {'group': 436, 'qty': 8, 'representativeness': 1.5886119399914547e-07}, {'group': 437, 'qty': 4, 'representativeness': 7.943059699957274e-08}, {'group': 438, 'qty': 5, 'representativeness': 9.928824624946593e-08}, {'group': 439, 'qty': 6, 'representativeness': 1.1914589549935912e-07}, {'group': 440, 'qty': 7, 'representativeness': 1.390035447492523e-07}, {'group': 441, 'qty': 5, 'representativeness': 9.928824624946593e-08}, {'group': 442, 'qty': 3, 'representativeness': 5.957294774967956e-08}, {'group': 443, 'qty': 7, 'representativeness': 1.390035447492523e-07}, {'group': 444, 'qty': 7, 'representativeness': 1.390035447492523e-07}, {'group': 445, 'qty': 15, 'representativeness': 2.978647387483978e-07}, {'group': 446, 'qty': 6, 'representativeness': 1.1914589549935912e-07}, {'group': 447, 'qty': 6, 'representativeness': 1.1914589549935912e-07}, {'group': 448, 'qty': 7, 'representativeness': 1.390035447492523e-07}, {'group': 449, 'qty': 8, 'representativeness': 1.5886119399914547e-07}, {'group': 450, 'qty': 7, 'representativeness': 1.390035447492523e-07}, {'group': 451, 'qty': 8, 'representativeness': 1.5886119399914547e-07}, {'group': 452, 'qty': 7, 'representativeness': 1.390035447492523e-07}, {'group': 453, 'qty': 5, 'representativeness': 9.928824624946593e-08}, {'group': 454, 'qty': 5, 'representativeness': 9.928824624946593e-08}, {'group': 455, 'qty': 6, 'representativeness': 1.1914589549935912e-07}, {'group': 456, 'qty': 6, 'representativeness': 1.1914589549935912e-07}, {'group': 457, 'qty': 6, 'representativeness': 1.1914589549935912e-07}, {'group': 458, 'qty': 6, 'representativeness': 1.1914589549935912e-07}, {'group': 459, 'qty': 6, 'representativeness': 1.1914589549935912e-07}, {'group': 460, 'qty': 3, 'representativeness': 5.957294774967956e-08}, {'group': 461, 'qty': 2, 'representativeness': 3.971529849978637e-08}, {'group': 462, 'qty': 6, 'representativeness': 1.1914589549935912e-07}, {'group': 463, 'qty': 6, 'representativeness': 1.1914589549935912e-07}, {'group': 464, 'qty': 6, 'representativeness': 1.1914589549935912e-07}, {'group': 465, 'qty': 8, 'representativeness': 1.5886119399914547e-07}, {'group': 466, 'qty': 6, 'representativeness': 1.1914589549935912e-07}, {'group': 467, 'qty': 6, 'representativeness': 1.1914589549935912e-07}, {'group': 468, 'qty': 5, 'representativeness': 9.928824624946593e-08}, {'group': 469, 'qty': 6, 'representativeness': 1.1914589549935912e-07}, {'group': 470, 'qty': 7, 'representativeness': 1.390035447492523e-07}, {'group': 471, 'qty': 5, 'representativeness': 9.928824624946593e-08}, {'group': 472, 'qty': 4, 'representativeness': 7.943059699957274e-08}, {'group': 473, 'qty': 6, 'representativeness': 1.1914589549935912e-07}, {'group': 474, 'qty': 5, 'representativeness': 9.928824624946593e-08}, {'group': 475, 'qty': 6, 'representativeness': 1.1914589549935912e-07}, {'group': 476, 'qty': 5, 'representativeness': 9.928824624946593e-08}, {'group': 477, 'qty': 6, 'representativeness': 1.1914589549935912e-07}, {'group': 478, 'qty': 8, 'representativeness': 1.5886119399914547e-07}, {'group': 479, 'qty': 4002, 'representativeness': 7.947031229807253e-05}, {'group': 480, 'qty': 4, 'representativeness': 7.943059699957274e-08}, {'group': 481, 'qty': 4, 'representativeness': 7.943059699957274e-08}, {'group': 482, 'qty': 6, 'representativeness': 1.1914589549935912e-07}, {'group': 483, 'qty': 7, 'representativeness': 1.390035447492523e-07}, {'group': 484, 'qty': 4, 'representativeness': 7.943059699957274e-08}, {'group': 485, 'qty': 4, 'representativeness': 7.943059699957274e-08}, {'group': 486, 'qty': 6, 'representativeness': 1.1914589549935912e-07}, {'group': 487, 'qty': 4, 'representativeness': 7.943059699957274e-08}, {'group': 488, 'qty': 4, 'representativeness': 7.943059699957274e-08}, {'group': 489, 'qty': 7, 'representativeness': 1.390035447492523e-07}, {'group': 490, 'qty': 4, 'representativeness': 7.943059699957274e-08}, {'group': 491, 'qty': 3, 'representativeness': 5.957294774967956e-08}, {'group': 492, 'qty': 4, 'representativeness': 7.943059699957274e-08}, {'group': 493, 'qty': 6, 'representativeness': 1.1914589549935912e-07}, {'group': 494, 'qty': 6, 'representativeness': 1.1914589549935912e-07}, {'group': 495, 'qty': 6, 'representativeness': 1.1914589549935912e-07}, {'group': 496, 'qty': 6, 'representativeness': 1.1914589549935912e-07}, {'group': 497, 'qty': 6, 'representativeness': 1.1914589549935912e-07}, {'group': 498, 'qty': 7, 'representativeness': 1.390035447492523e-07}, {'group': 499, 'qty': 6, 'representativeness': 1.1914589549935912e-07}, {'group': 500, 'qty': 6, 'representativeness': 1.1914589549935912e-07}, {'group': 501, 'qty': 6, 'representativeness': 1.1914589549935912e-07}, {'group': 502, 'qty': 6, 'representativeness': 1.1914589549935912e-07}, {'group': 503, 'qty': 6, 'representativeness': 1.1914589549935912e-07}, {'group': 504, 'qty': 6, 'representativeness': 1.1914589549935912e-07}, {'group': 505, 'qty': 6, 'representativeness': 1.1914589549935912e-07}, {'group': 506, 'qty': 6, 'representativeness': 1.1914589549935912e-07}, {'group': 507, 'qty': 5, 'representativeness': 9.928824624946593e-08}, {'group': 508, 'qty': 8, 'representativeness': 1.5886119399914547e-07}, {'group': 509, 'qty': 7, 'representativeness': 1.390035447492523e-07}, {'group': 510, 'qty': 6, 'representativeness': 1.1914589549935912e-07}, {'group': 511, 'qty': 6, 'representativeness': 1.1914589549935912e-07}, {'group': 512, 'qty': 558, 'representativeness': 1.1080568281440398e-05}, {'group': 513, 'qty': 801, 'representativeness': 1.5905977049164442e-05}, {'group': 514, 'qty': 6, 'representativeness': 1.1914589549935912e-07}, {'group': 515, 'qty': 5, 'representativeness': 9.928824624946593e-08}, {'group': 516, 'qty': 4, 'representativeness': 7.943059699957274e-08}, {'group': 517, 'qty': 6, 'representativeness': 1.1914589549935912e-07}, {'group': 518, 'qty': 5, 'representativeness': 9.928824624946593e-08}, {'group': 519, 'qty': 5, 'representativeness': 9.928824624946593e-08}, {'group': 520, 'qty': 5, 'representativeness': 9.928824624946593e-08}, {'group': 521, 'qty': 4, 'representativeness': 7.943059699957274e-08}, {'group': 522, 'qty': 5, 'representativeness': 9.928824624946593e-08}, {'group': 523, 'qty': 7, 'representativeness': 1.390035447492523e-07}, {'group': 524, 'qty': 5, 'representativeness': 9.928824624946593e-08}, {'group': 525, 'qty': 4, 'representativeness': 7.943059699957274e-08}, {'group': 526, 'qty': 5, 'representativeness': 9.928824624946593e-08}, {'group': 527, 'qty': 5, 'representativeness': 9.928824624946593e-08}, {'group': 528, 'qty': 5, 'representativeness': 9.928824624946593e-08}, {'group': 529, 'qty': 7, 'representativeness': 1.390035447492523e-07}, {'group': 530, 'qty': 5, 'representativeness': 9.928824624946593e-08}, {'group': 531, 'qty': 5, 'representativeness': 9.928824624946593e-08}, {'group': 532, 'qty': 5, 'representativeness': 9.928824624946593e-08}, {'group': 533, 'qty': 6, 'representativeness': 1.1914589549935912e-07}, {'group': 534, 'qty': 5, 'representativeness': 9.928824624946593e-08}, {'group': 535, 'qty': 4, 'representativeness': 7.943059699957274e-08}, {'group': 536, 'qty': 7, 'representativeness': 1.390035447492523e-07}, {'group': 537, 'qty': 5, 'representativeness': 9.928824624946593e-08}, {'group': 538, 'qty': 6, 'representativeness': 1.1914589549935912e-07}, {'group': 539, 'qty': 5, 'representativeness': 9.928824624946593e-08}, {'group': 540, 'qty': 15, 'representativeness': 2.978647387483978e-07}, {'group': 541, 'qty': 5, 'representativeness': 9.928824624946593e-08}, {'group': 542, 'qty': 6, 'representativeness': 1.1914589549935912e-07}, {'group': 543, 'qty': 5, 'representativeness': 9.928824624946593e-08}, {'group': 544, 'qty': 4, 'representativeness': 7.943059699957274e-08}, {'group': 545, 'qty': 7, 'representativeness': 1.390035447492523e-07}, {'group': 546, 'qty': 5, 'representativeness': 9.928824624946593e-08}, {'group': 547, 'qty': 7, 'representativeness': 1.390035447492523e-07}, {'group': 548, 'qty': 6, 'representativeness': 1.1914589549935912e-07}, {'group': 549, 'qty': 5, 'representativeness': 9.928824624946593e-08}, {'group': 550, 'qty': 4, 'representativeness': 7.943059699957274e-08}, {'group': 551, 'qty': 6, 'representativeness': 1.1914589549935912e-07}, {'group': 552, 'qty': 5, 'representativeness': 9.928824624946593e-08}, {'group': 553, 'qty': 5, 'representativeness': 9.928824624946593e-08}, {'group': 554, 'qty': 5, 'representativeness': 9.928824624946593e-08}, {'group': 555, 'qty': 5, 'representativeness': 9.928824624946593e-08}, {'group': 556, 'qty': 5, 'representativeness': 9.928824624946593e-08}, {'group': 557, 'qty': 4, 'representativeness': 7.943059699957274e-08}, {'group': 558, 'qty': 5, 'representativeness': 9.928824624946593e-08}, {'group': 559, 'qty': 5, 'representativeness': 9.928824624946593e-08}, {'group': 560, 'qty': 5, 'representativeness': 9.928824624946593e-08}, {'group': 561, 'qty': 6, 'representativeness': 1.1914589549935912e-07}, {'group': 562, 'qty': 5, 'representativeness': 9.928824624946593e-08}, {'group': 563, 'qty': 5, 'representativeness': 9.928824624946593e-08}, {'group': 564, 'qty': 5, 'representativeness': 9.928824624946593e-08}, {'group': 565, 'qty': 5, 'representativeness': 9.928824624946593e-08}, {'group': 566, 'qty': 6, 'representativeness': 1.1914589549935912e-07}, {'group': 567, 'qty': 5, 'representativeness': 9.928824624946593e-08}, {'group': 568, 'qty': 3, 'representativeness': 5.957294774967956e-08}, {'group': 569, 'qty': 5, 'representativeness': 9.928824624946593e-08}, {'group': 570, 'qty': 4, 'representativeness': 7.943059699957274e-08}, {'group': 571, 'qty': 5, 'representativeness': 9.928824624946593e-08}, {'group': 572, 'qty': 4, 'representativeness': 7.943059699957274e-08}, {'group': 573, 'qty': 5, 'representativeness': 9.928824624946593e-08}, {'group': 574, 'qty': 4, 'representativeness': 7.943059699957274e-08}, {'group': 575, 'qty': 5, 'representativeness': 9.928824624946593e-08}, {'group': 576, 'qty': 4, 'representativeness': 7.943059699957274e-08}, {'group': 577, 'qty': 5, 'representativeness': 9.928824624946593e-08}, {'group': 578, 'qty': 5, 'representativeness': 9.928824624946593e-08}, {'group': 579, 'qty': 6, 'representativeness': 1.1914589549935912e-07}, {'group': 580, 'qty': 5, 'representativeness': 9.928824624946593e-08}, {'group': 581, 'qty': 5, 'representativeness': 9.928824624946593e-08}, {'group': 582, 'qty': 5, 'representativeness': 9.928824624946593e-08}, {'group': 583, 'qty': 5, 'representativeness': 9.928824624946593e-08}, {'group': 584, 'qty': 4, 'representativeness': 7.943059699957274e-08}, {'group': 585, 'qty': 5, 'representativeness': 9.928824624946593e-08}, {'group': 586, 'qty': 4, 'representativeness': 7.943059699957274e-08}, {'group': 587, 'qty': 4, 'representativeness': 7.943059699957274e-08}, {'group': 588, 'qty': 4, 'representativeness': 7.943059699957274e-08}, {'group': 589, 'qty': 4, 'representativeness': 7.943059699957274e-08}, {'group': 590, 'qty': 3, 'representativeness': 5.957294774967956e-08}, {'group': 591, 'qty': 5, 'representativeness': 9.928824624946593e-08}, {'group': 592, 'qty': 4, 'representativeness': 7.943059699957274e-08}, {'group': 593, 'qty': 3, 'representativeness': 5.957294774967956e-08}, {'group': 594, 'qty': 4, 'representativeness': 7.943059699957274e-08}, {'group': 595, 'qty': 4, 'representativeness': 7.943059699957274e-08}, {'group': 596, 'qty': 4, 'representativeness': 7.943059699957274e-08}, {'group': 597, 'qty': 4, 'representativeness': 7.943059699957274e-08}, {'group': 598, 'qty': 4, 'representativeness': 7.943059699957274e-08}, {'group': 599, 'qty': 5, 'representativeness': 9.928824624946593e-08}, {'group': 600, 'qty': 4, 'representativeness': 7.943059699957274e-08}, {'group': 601, 'qty': 4, 'representativeness': 7.943059699957274e-08}, {'group': 602, 'qty': 4, 'representativeness': 7.943059699957274e-08}, {'group': 603, 'qty': 3, 'representativeness': 5.957294774967956e-08}, {'group': 604, 'qty': 4, 'representativeness': 7.943059699957274e-08}, {'group': 605, 'qty': 4, 'representativeness': 7.943059699957274e-08}, {'group': 606, 'qty': 3, 'representativeness': 5.957294774967956e-08}, {'group': 607, 'qty': 4, 'representativeness': 7.943059699957274e-08}, {'group': 608, 'qty': 3, 'representativeness': 5.957294774967956e-08}, {'group': 609, 'qty': 4, 'representativeness': 7.943059699957274e-08}, {'group': 610, 'qty': 4, 'representativeness': 7.943059699957274e-08}, {'group': 611, 'qty': 4, 'representativeness': 7.943059699957274e-08}, {'group': 612, 'qty': 4, 'representativeness': 7.943059699957274e-08}, {'group': 613, 'qty': 4, 'representativeness': 7.943059699957274e-08}, {'group': 614, 'qty': 5, 'representativeness': 9.928824624946593e-08}, {'group': 615, 'qty': 4, 'representativeness': 7.943059699957274e-08}, {'group': 616, 'qty': 4, 'representativeness': 7.943059699957274e-08}, {'group': 617, 'qty': 4, 'representativeness': 7.943059699957274e-08}, {'group': 618, 'qty': 4, 'representativeness': 7.943059699957274e-08}, {'group': 619, 'qty': 4, 'representativeness': 7.943059699957274e-08}, {'group': 620, 'qty': 4, 'representativeness': 7.943059699957274e-08}, {'group': 621, 'qty': 3, 'representativeness': 5.957294774967956e-08}, {'group': 622, 'qty': 3, 'representativeness': 5.957294774967956e-08}, {'group': 623, 'qty': 4, 'representativeness': 7.943059699957274e-08}, {'group': 624, 'qty': 4, 'representativeness': 7.943059699957274e-08}, {'group': 625, 'qty': 5, 'representativeness': 9.928824624946593e-08}, {'group': 626, 'qty': 5, 'representativeness': 9.928824624946593e-08}, {'group': 627, 'qty': 5, 'representativeness': 9.928824624946593e-08}, {'group': 628, 'qty': 3, 'representativeness': 5.957294774967956e-08}, {'group': 629, 'qty': 4, 'representativeness': 7.943059699957274e-08}, {'group': 630, 'qty': 4, 'representativeness': 7.943059699957274e-08}, {'group': 631, 'qty': 4, 'representativeness': 7.943059699957274e-08}, {'group': 632, 'qty': 5, 'representativeness': 9.928824624946593e-08}, {'group': 633, 'qty': 4, 'representativeness': 7.943059699957274e-08}, {'group': 634, 'qty': 3, 'representativeness': 5.957294774967956e-08}, {'group': 635, 'qty': 4, 'representativeness': 7.943059699957274e-08}, {'group': 636, 'qty': 4, 'representativeness': 7.943059699957274e-08}, {'group': 637, 'qty': 4, 'representativeness': 7.943059699957274e-08}, {'group': 638, 'qty': 4, 'representativeness': 7.943059699957274e-08}, {'group': 639, 'qty': 4, 'representativeness': 7.943059699957274e-08}, {'group': 640, 'qty': 4, 'representativeness': 7.943059699957274e-08}, {'group': 641, 'qty': 4, 'representativeness': 7.943059699957274e-08}, {'group': 642, 'qty': 4, 'representativeness': 7.943059699957274e-08}, {'group': 643, 'qty': 5, 'representativeness': 9.928824624946593e-08}, {'group': 644, 'qty': 4, 'representativeness': 7.943059699957274e-08}, {'group': 645, 'qty': 3, 'representativeness': 5.957294774967956e-08}, {'group': 646, 'qty': 4, 'representativeness': 7.943059699957274e-08}, {'group': 647, 'qty': 3, 'representativeness': 5.957294774967956e-08}, {'group': 648, 'qty': 4, 'representativeness': 7.943059699957274e-08}, {'group': 649, 'qty': 5, 'representativeness': 9.928824624946593e-08}, {'group': 650, 'qty': 5, 'representativeness': 9.928824624946593e-08}, {'group': 651, 'qty': 4, 'representativeness': 7.943059699957274e-08}, {'group': 652, 'qty': 4, 'representativeness': 7.943059699957274e-08}, {'group': 653, 'qty': 5, 'representativeness': 9.928824624946593e-08}, {'group': 654, 'qty': 3, 'representativeness': 5.957294774967956e-08}, {'group': 655, 'qty': 4, 'representativeness': 7.943059699957274e-08}, {'group': 656, 'qty': 4, 'representativeness': 7.943059699957274e-08}, {'group': 657, 'qty': 43, 'representativeness': 8.53878917745407e-07}, {'group': 658, 'qty': 4, 'representativeness': 7.943059699957274e-08}, {'group': 659, 'qty': 3, 'representativeness': 5.957294774967956e-08}, {'group': 660, 'qty': 3, 'representativeness': 5.957294774967956e-08}, {'group': 661, 'qty': 4, 'representativeness': 7.943059699957274e-08}, {'group': 662, 'qty': 4, 'representativeness': 7.943059699957274e-08}, {'group': 663, 'qty': 3, 'representativeness': 5.957294774967956e-08}, {'group': 664, 'qty': 4, 'representativeness': 7.943059699957274e-08}, {'group': 665, 'qty': 2, 'representativeness': 3.971529849978637e-08}, {'group': 666, 'qty': 2, 'representativeness': 3.971529849978637e-08}, {'group': 667, 'qty': 4, 'representativeness': 7.943059699957274e-08}, {'group': 668, 'qty': 4, 'representativeness': 7.943059699957274e-08}, {'group': 669, 'qty': 4, 'representativeness': 7.943059699957274e-08}, {'group': 670, 'qty': 4, 'representativeness': 7.943059699957274e-08}, {'group': 671, 'qty': 3, 'representativeness': 5.957294774967956e-08}, {'group': 672, 'qty': 4, 'representativeness': 7.943059699957274e-08}, {'group': 673, 'qty': 5, 'representativeness': 9.928824624946593e-08}, {'group': 674, 'qty': 4, 'representativeness': 7.943059699957274e-08}, {'group': 675, 'qty': 4, 'representativeness': 7.943059699957274e-08}, {'group': 676, 'qty': 8, 'representativeness': 1.5886119399914547e-07}, {'group': 677, 'qty': 8, 'representativeness': 1.5886119399914547e-07}, {'group': 678, 'qty': 2, 'representativeness': 3.971529849978637e-08}, {'group': 679, 'qty': 5, 'representativeness': 9.928824624946593e-08}, {'group': 680, 'qty': 5, 'representativeness': 9.928824624946593e-08}, {'group': 681, 'qty': 4, 'representativeness': 7.943059699957274e-08}, {'group': 682, 'qty': 5, 'representativeness': 9.928824624946593e-08}, {'group': 683, 'qty': 4, 'representativeness': 7.943059699957274e-08}, {'group': 684, 'qty': 4, 'representativeness': 7.943059699957274e-08}, {'group': 685, 'qty': 4, 'representativeness': 7.943059699957274e-08}, {'group': 686, 'qty': 5, 'representativeness': 9.928824624946593e-08}, {'group': 687, 'qty': 7, 'representativeness': 1.390035447492523e-07}, {'group': 688, 'qty': 3, 'representativeness': 5.957294774967956e-08}, {'group': 689, 'qty': 3, 'representativeness': 5.957294774967956e-08}, {'group': 690, 'qty': 3, 'representativeness': 5.957294774967956e-08}, {'group': 691, 'qty': 3, 'representativeness': 5.957294774967956e-08}, {'group': 692, 'qty': 3, 'representativeness': 5.957294774967956e-08}, {'group': 693, 'qty': 2, 'representativeness': 3.971529849978637e-08}, {'group': 694, 'qty': 2, 'representativeness': 3.971529849978637e-08}, {'group': 695, 'qty': 2, 'representativeness': 3.971529849978637e-08}, {'group': 696, 'qty': 3, 'representativeness': 5.957294774967956e-08}, {'group': 697, 'qty': 2, 'representativeness': 3.971529849978637e-08}, {'group': 698, 'qty': 4, 'representativeness': 7.943059699957274e-08}, {'group': 699, 'qty': 1, 'representativeness': 1.9857649249893184e-08}, {'group': 700, 'qty': 3, 'representativeness': 5.957294774967956e-08}, {'group': 701, 'qty': 3, 'representativeness': 5.957294774967956e-08}, {'group': 702, 'qty': 3, 'representativeness': 5.957294774967956e-08}, {'group': 703, 'qty': 4, 'representativeness': 7.943059699957274e-08}, {'group': 704, 'qty': 3, 'representativeness': 5.957294774967956e-08}, {'group': 705, 'qty': 3, 'representativeness': 5.957294774967956e-08}, {'group': 706, 'qty': 4, 'representativeness': 7.943059699957274e-08}, {'group': 707, 'qty': 3, 'representativeness': 5.957294774967956e-08}, {'group': 708, 'qty': 3, 'representativeness': 5.957294774967956e-08}, {'group': 709, 'qty': 3, 'representativeness': 5.957294774967956e-08}, {'group': 710, 'qty': 1309, 'representativeness': 2.599366286811018e-05}, {'group': 711, 'qty': 3, 'representativeness': 5.957294774967956e-08}, {'group': 712, 'qty': 3, 'representativeness': 5.957294774967956e-08}, {'group': 713, 'qty': 3, 'representativeness': 5.957294774967956e-08}, {'group': 714, 'qty': 3, 'representativeness': 5.957294774967956e-08}, {'group': 715, 'qty': 3, 'representativeness': 5.957294774967956e-08}, {'group': 716, 'qty': 3, 'representativeness': 5.957294774967956e-08}, {'group': 717, 'qty': 3, 'representativeness': 5.957294774967956e-08}, {'group': 718, 'qty': 3, 'representativeness': 5.957294774967956e-08}, {'group': 719, 'qty': 3, 'representativeness': 5.957294774967956e-08}, {'group': 720, 'qty': 3, 'representativeness': 5.957294774967956e-08}, {'group': 721, 'qty': 4, 'representativeness': 7.943059699957274e-08}, {'group': 722, 'qty': 3, 'representativeness': 5.957294774967956e-08}, {'group': 723, 'qty': 3, 'representativeness': 5.957294774967956e-08}, {'group': 724, 'qty': 3, 'representativeness': 5.957294774967956e-08}, {'group': 725, 'qty': 3, 'representativeness': 5.957294774967956e-08}, {'group': 726, 'qty': 3, 'representativeness': 5.957294774967956e-08}, {'group': 727, 'qty': 3, 'representativeness': 5.957294774967956e-08}, {'group': 728, 'qty': 3, 'representativeness': 5.957294774967956e-08}, {'group': 729, 'qty': 3, 'representativeness': 5.957294774967956e-08}, {'group': 730, 'qty': 3, 'representativeness': 5.957294774967956e-08}, {'group': 731, 'qty': 3, 'representativeness': 5.957294774967956e-08}, {'group': 732, 'qty': 3, 'representativeness': 5.957294774967956e-08}, {'group': 733, 'qty': 4, 'representativeness': 7.943059699957274e-08}, {'group': 734, 'qty': 3, 'representativeness': 5.957294774967956e-08}, {'group': 735, 'qty': 3, 'representativeness': 5.957294774967956e-08}, {'group': 736, 'qty': 2, 'representativeness': 3.971529849978637e-08}, {'group': 737, 'qty': 3, 'representativeness': 5.957294774967956e-08}, {'group': 738, 'qty': 4, 'representativeness': 7.943059699957274e-08}, {'group': 739, 'qty': 3, 'representativeness': 5.957294774967956e-08}, {'group': 740, 'qty': 3, 'representativeness': 5.957294774967956e-08}, {'group': 741, 'qty': 2, 'representativeness': 3.971529849978637e-08}, {'group': 742, 'qty': 3, 'representativeness': 5.957294774967956e-08}, {'group': 743, 'qty': 3, 'representativeness': 5.957294774967956e-08}, {'group': 744, 'qty': 3, 'representativeness': 5.957294774967956e-08}, {'group': 745, 'qty': 3, 'representativeness': 5.957294774967956e-08}, {'group': 746, 'qty': 3, 'representativeness': 5.957294774967956e-08}, {'group': 747, 'qty': 3, 'representativeness': 5.957294774967956e-08}, {'group': 748, 'qty': 3, 'representativeness': 5.957294774967956e-08}, {'group': 749, 'qty': 3, 'representativeness': 5.957294774967956e-08}, {'group': 750, 'qty': 3, 'representativeness': 5.957294774967956e-08}, {'group': 751, 'qty': 6, 'representativeness': 1.1914589549935912e-07}, {'group': 752, 'qty': 3, 'representativeness': 5.957294774967956e-08}, {'group': 753, 'qty': 3, 'representativeness': 5.957294774967956e-08}, {'group': 754, 'qty': 3, 'representativeness': 5.957294774967956e-08}, {'group': 755, 'qty': 4, 'representativeness': 7.943059699957274e-08}, {'group': 756, 'qty': 5, 'representativeness': 9.928824624946593e-08}, {'group': 757, 'qty': 4, 'representativeness': 7.943059699957274e-08}, {'group': 758, 'qty': 3, 'representativeness': 5.957294774967956e-08}, {'group': 759, 'qty': 3, 'representativeness': 5.957294774967956e-08}, {'group': 760, 'qty': 4, 'representativeness': 7.943059699957274e-08}, {'group': 761, 'qty': 3, 'representativeness': 5.957294774967956e-08}, {'group': 762, 'qty': 3, 'representativeness': 5.957294774967956e-08}, {'group': 763, 'qty': 2, 'representativeness': 3.971529849978637e-08}, {'group': 764, 'qty': 1, 'representativeness': 1.9857649249893184e-08}, {'group': 765, 'qty': 3, 'representativeness': 5.957294774967956e-08}, {'group': 766, 'qty': 3, 'representativeness': 5.957294774967956e-08}, {'group': 767, 'qty': 3, 'representativeness': 5.957294774967956e-08}, {'group': 768, 'qty': 3, 'representativeness': 5.957294774967956e-08}, {'group': 769, 'qty': 3, 'representativeness': 5.957294774967956e-08}, {'group': 770, 'qty': 3, 'representativeness': 5.957294774967956e-08}, {'group': 771, 'qty': 3, 'representativeness': 5.957294774967956e-08}, {'group': 772, 'qty': 3, 'representativeness': 5.957294774967956e-08}, {'group': 773, 'qty': 3, 'representativeness': 5.957294774967956e-08}, {'group': 774, 'qty': 3, 'representativeness': 5.957294774967956e-08}, {'group': 775, 'qty': 3, 'representativeness': 5.957294774967956e-08}, {'group': 776, 'qty': 3, 'representativeness': 5.957294774967956e-08}, {'group': 777, 'qty': 3, 'representativeness': 5.957294774967956e-08}, {'group': 778, 'qty': 3, 'representativeness': 5.957294774967956e-08}, {'group': 779, 'qty': 3, 'representativeness': 5.957294774967956e-08}, {'group': 780, 'qty': 3, 'representativeness': 5.957294774967956e-08}, {'group': 781, 'qty': 3, 'representativeness': 5.957294774967956e-08}, {'group': 782, 'qty': 3, 'representativeness': 5.957294774967956e-08}, {'group': 783, 'qty': 3, 'representativeness': 5.957294774967956e-08}, {'group': 784, 'qty': 3, 'representativeness': 5.957294774967956e-08}, {'group': 785, 'qty': 3, 'representativeness': 5.957294774967956e-08}, {'group': 786, 'qty': 3, 'representativeness': 5.957294774967956e-08}, {'group': 787, 'qty': 2, 'representativeness': 3.971529849978637e-08}, {'group': 788, 'qty': 3, 'representativeness': 5.957294774967956e-08}, {'group': 789, 'qty': 3, 'representativeness': 5.957294774967956e-08}, {'group': 790, 'qty': 3, 'representativeness': 5.957294774967956e-08}, {'group': 791, 'qty': 3, 'representativeness': 5.957294774967956e-08}, {'group': 792, 'qty': 3, 'representativeness': 5.957294774967956e-08}, {'group': 793, 'qty': 2, 'representativeness': 3.971529849978637e-08}, {'group': 794, 'qty': 3, 'representativeness': 5.957294774967956e-08}, {'group': 795, 'qty': 3, 'representativeness': 5.957294774967956e-08}, {'group': 796, 'qty': 3, 'representativeness': 5.957294774967956e-08}, {'group': 797, 'qty': 3, 'representativeness': 5.957294774967956e-08}, {'group': 798, 'qty': 3, 'representativeness': 5.957294774967956e-08}, {'group': 799, 'qty': 4, 'representativeness': 7.943059699957274e-08}, {'group': 800, 'qty': 3, 'representativeness': 5.957294774967956e-08}, {'group': 801, 'qty': 4, 'representativeness': 7.943059699957274e-08}, {'group': 802, 'qty': 3, 'representativeness': 5.957294774967956e-08}, {'group': 803, 'qty': 3, 'representativeness': 5.957294774967956e-08}, {'group': 804, 'qty': 2, 'representativeness': 3.971529849978637e-08}, {'group': 805, 'qty': 3, 'representativeness': 5.957294774967956e-08}, {'group': 806, 'qty': 3, 'representativeness': 5.957294774967956e-08}, {'group': 807, 'qty': 3, 'representativeness': 5.957294774967956e-08}, {'group': 808, 'qty': 3, 'representativeness': 5.957294774967956e-08}, {'group': 809, 'qty': 3, 'representativeness': 5.957294774967956e-08}, {'group': 810, 'qty': 4, 'representativeness': 7.943059699957274e-08}, {'group': 811, 'qty': 3, 'representativeness': 5.957294774967956e-08}, {'group': 812, 'qty': 2, 'representativeness': 3.971529849978637e-08}, {'group': 813, 'qty': 3, 'representativeness': 5.957294774967956e-08}, {'group': 814, 'qty': 3, 'representativeness': 5.957294774967956e-08}, {'group': 815, 'qty': 3, 'representativeness': 5.957294774967956e-08}, {'group': 816, 'qty': 3, 'representativeness': 5.957294774967956e-08}, {'group': 817, 'qty': 4, 'representativeness': 7.943059699957274e-08}, {'group': 818, 'qty': 3, 'representativeness': 5.957294774967956e-08}, {'group': 819, 'qty': 2, 'representativeness': 3.971529849978637e-08}, {'group': 820, 'qty': 3, 'representativeness': 5.957294774967956e-08}, {'group': 821, 'qty': 4, 'representativeness': 7.943059699957274e-08}, {'group': 822, 'qty': 1, 'representativeness': 1.9857649249893184e-08}, {'group': 823, 'qty': 3, 'representativeness': 5.957294774967956e-08}, {'group': 824, 'qty': 3, 'representativeness': 5.957294774967956e-08}, {'group': 825, 'qty': 1, 'representativeness': 1.9857649249893184e-08}, {'group': 826, 'qty': 3, 'representativeness': 5.957294774967956e-08}, {'group': 827, 'qty': 2, 'representativeness': 3.971529849978637e-08}, {'group': 828, 'qty': 3, 'representativeness': 5.957294774967956e-08}, {'group': 829, 'qty': 4, 'representativeness': 7.943059699957274e-08}, {'group': 830, 'qty': 2, 'representativeness': 3.971529849978637e-08}, {'group': 831, 'qty': 2, 'representativeness': 3.971529849978637e-08}, {'group': 832, 'qty': 3, 'representativeness': 5.957294774967956e-08}, {'group': 833, 'qty': 3, 'representativeness': 5.957294774967956e-08}, {'group': 834, 'qty': 2, 'representativeness': 3.971529849978637e-08}, {'group': 835, 'qty': 3, 'representativeness': 5.957294774967956e-08}, {'group': 836, 'qty': 3, 'representativeness': 5.957294774967956e-08}, {'group': 837, 'qty': 3, 'representativeness': 5.957294774967956e-08}, {'group': 838, 'qty': 3, 'representativeness': 5.957294774967956e-08}, {'group': 839, 'qty': 3, 'representativeness': 5.957294774967956e-08}, {'group': 840, 'qty': 3, 'representativeness': 5.957294774967956e-08}, {'group': 841, 'qty': 3, 'representativeness': 5.957294774967956e-08}, {'group': 842, 'qty': 3, 'representativeness': 5.957294774967956e-08}, {'group': 843, 'qty': 3, 'representativeness': 5.957294774967956e-08}, {'group': 844, 'qty': 3, 'representativeness': 5.957294774967956e-08}, {'group': 845, 'qty': 3, 'representativeness': 5.957294774967956e-08}, {'group': 846, 'qty': 3, 'representativeness': 5.957294774967956e-08}, {'group': 847, 'qty': 4, 'representativeness': 7.943059699957274e-08}, {'group': 848, 'qty': 3, 'representativeness': 5.957294774967956e-08}, {'group': 849, 'qty': 3, 'representativeness': 5.957294774967956e-08}, {'group': 850, 'qty': 3, 'representativeness': 5.957294774967956e-08}, {'group': 851, 'qty': 2, 'representativeness': 3.971529849978637e-08}, {'group': 852, 'qty': 2, 'representativeness': 3.971529849978637e-08}, {'group': 853, 'qty': 12, 'representativeness': 2.3829179099871824e-07}, {'group': 854, 'qty': 5, 'representativeness': 9.928824624946593e-08}, {'group': 855, 'qty': 2, 'representativeness': 3.971529849978637e-08}, {'group': 856, 'qty': 3, 'representativeness': 5.957294774967956e-08}, {'group': 857, 'qty': 3, 'representativeness': 5.957294774967956e-08}, {'group': 858, 'qty': 3, 'representativeness': 5.957294774967956e-08}, {'group': 859, 'qty': 3, 'representativeness': 5.957294774967956e-08}, {'group': 860, 'qty': 3, 'representativeness': 5.957294774967956e-08}, {'group': 861, 'qty': 3, 'representativeness': 5.957294774967956e-08}, {'group': 862, 'qty': 3, 'representativeness': 5.957294774967956e-08}, {'group': 863, 'qty': 3, 'representativeness': 5.957294774967956e-08}, {'group': 864, 'qty': 3, 'representativeness': 5.957294774967956e-08}, {'group': 865, 'qty': 3, 'representativeness': 5.957294774967956e-08}, {'group': 866, 'qty': 5, 'representativeness': 9.928824624946593e-08}, {'group': 867, 'qty': 2, 'representativeness': 3.971529849978637e-08}, {'group': 868, 'qty': 2, 'representativeness': 3.971529849978637e-08}, {'group': 869, 'qty': 2, 'representativeness': 3.971529849978637e-08}, {'group': 870, 'qty': 2, 'representativeness': 3.971529849978637e-08}, {'group': 871, 'qty': 2, 'representativeness': 3.971529849978637e-08}, {'group': 872, 'qty': 2, 'representativeness': 3.971529849978637e-08}, {'group': 873, 'qty': 2, 'representativeness': 3.971529849978637e-08}, {'group': 874, 'qty': 3, 'representativeness': 5.957294774967956e-08}, {'group': 875, 'qty': 2, 'representativeness': 3.971529849978637e-08}, {'group': 876, 'qty': 2, 'representativeness': 3.971529849978637e-08}, {'group': 877, 'qty': 2, 'representativeness': 3.971529849978637e-08}, {'group': 878, 'qty': 2, 'representativeness': 3.971529849978637e-08}, {'group': 879, 'qty': 2, 'representativeness': 3.971529849978637e-08}, {'group': 880, 'qty': 2, 'representativeness': 3.971529849978637e-08}, {'group': 881, 'qty': 2, 'representativeness': 3.971529849978637e-08}, {'group': 882, 'qty': 3, 'representativeness': 5.957294774967956e-08}, {'group': 883, 'qty': 2, 'representativeness': 3.971529849978637e-08}, {'group': 884, 'qty': 2, 'representativeness': 3.971529849978637e-08}, {'group': 885, 'qty': 2, 'representativeness': 3.971529849978637e-08}, {'group': 886, 'qty': 2, 'representativeness': 3.971529849978637e-08}, {'group': 887, 'qty': 2, 'representativeness': 3.971529849978637e-08}, {'group': 888, 'qty': 2, 'representativeness': 3.971529849978637e-08}, {'group': 889, 'qty': 2, 'representativeness': 3.971529849978637e-08}, {'group': 890, 'qty': 2, 'representativeness': 3.971529849978637e-08}, {'group': 891, 'qty': 2, 'representativeness': 3.971529849978637e-08}, {'group': 892, 'qty': 2, 'representativeness': 3.971529849978637e-08}, {'group': 893, 'qty': 2, 'representativeness': 3.971529849978637e-08}, {'group': 894, 'qty': 2, 'representativeness': 3.971529849978637e-08}, {'group': 895, 'qty': 2, 'representativeness': 3.971529849978637e-08}, {'group': 896, 'qty': 2, 'representativeness': 3.971529849978637e-08}, {'group': 897, 'qty': 2, 'representativeness': 3.971529849978637e-08}, {'group': 898, 'qty': 2, 'representativeness': 3.971529849978637e-08}, {'group': 899, 'qty': 2, 'representativeness': 3.971529849978637e-08}, {'group': 900, 'qty': 2, 'representativeness': 3.971529849978637e-08}, {'group': 901, 'qty': 2, 'representativeness': 3.971529849978637e-08}, {'group': 902, 'qty': 2, 'representativeness': 3.971529849978637e-08}, {'group': 903, 'qty': 22, 'representativeness': 4.368682834976501e-07}, {'group': 904, 'qty': 3, 'representativeness': 5.957294774967956e-08}, {'group': 905, 'qty': 2, 'representativeness': 3.971529849978637e-08}, {'group': 906, 'qty': 2, 'representativeness': 3.971529849978637e-08}, {'group': 907, 'qty': 2, 'representativeness': 3.971529849978637e-08}, {'group': 908, 'qty': 2, 'representativeness': 3.971529849978637e-08}, {'group': 909, 'qty': 2, 'representativeness': 3.971529849978637e-08}, {'group': 910, 'qty': 2, 'representativeness': 3.971529849978637e-08}, {'group': 911, 'qty': 3, 'representativeness': 5.957294774967956e-08}, {'group': 912, 'qty': 2, 'representativeness': 3.971529849978637e-08}, {'group': 913, 'qty': 1, 'representativeness': 1.9857649249893184e-08}, {'group': 914, 'qty': 2, 'representativeness': 3.971529849978637e-08}, {'group': 915, 'qty': 2, 'representativeness': 3.971529849978637e-08}, {'group': 916, 'qty': 2, 'representativeness': 3.971529849978637e-08}, {'group': 917, 'qty': 2, 'representativeness': 3.971529849978637e-08}, {'group': 918, 'qty': 3, 'representativeness': 5.957294774967956e-08}, {'group': 919, 'qty': 3, 'representativeness': 5.957294774967956e-08}, {'group': 920, 'qty': 2, 'representativeness': 3.971529849978637e-08}, {'group': 921, 'qty': 2, 'representativeness': 3.971529849978637e-08}, {'group': 922, 'qty': 3, 'representativeness': 5.957294774967956e-08}, {'group': 923, 'qty': 2, 'representativeness': 3.971529849978637e-08}, {'group': 924, 'qty': 2, 'representativeness': 3.971529849978637e-08}, {'group': 925, 'qty': 2, 'representativeness': 3.971529849978637e-08}, {'group': 926, 'qty': 2, 'representativeness': 3.971529849978637e-08}, {'group': 927, 'qty': 2, 'representativeness': 3.971529849978637e-08}, {'group': 928, 'qty': 2, 'representativeness': 3.971529849978637e-08}, {'group': 929, 'qty': 2, 'representativeness': 3.971529849978637e-08}, {'group': 930, 'qty': 2, 'representativeness': 3.971529849978637e-08}, {'group': 931, 'qty': 2, 'representativeness': 3.971529849978637e-08}, {'group': 932, 'qty': 2, 'representativeness': 3.971529849978637e-08}, {'group': 933, 'qty': 2, 'representativeness': 3.971529849978637e-08}, {'group': 934, 'qty': 2, 'representativeness': 3.971529849978637e-08}, {'group': 935, 'qty': 2, 'representativeness': 3.971529849978637e-08}, {'group': 936, 'qty': 2, 'representativeness': 3.971529849978637e-08}, {'group': 937, 'qty': 2, 'representativeness': 3.971529849978637e-08}, {'group': 938, 'qty': 2, 'representativeness': 3.971529849978637e-08}, {'group': 939, 'qty': 2, 'representativeness': 3.971529849978637e-08}, {'group': 940, 'qty': 2, 'representativeness': 3.971529849978637e-08}, {'group': 941, 'qty': 2, 'representativeness': 3.971529849978637e-08}, {'group': 942, 'qty': 2, 'representativeness': 3.971529849978637e-08}, {'group': 943, 'qty': 2, 'representativeness': 3.971529849978637e-08}, {'group': 944, 'qty': 2, 'representativeness': 3.971529849978637e-08}, {'group': 945, 'qty': 2, 'representativeness': 3.971529849978637e-08}, {'group': 946, 'qty': 2, 'representativeness': 3.971529849978637e-08}, {'group': 947, 'qty': 2, 'representativeness': 3.971529849978637e-08}, {'group': 948, 'qty': 2, 'representativeness': 3.971529849978637e-08}, {'group': 949, 'qty': 2, 'representativeness': 3.971529849978637e-08}, {'group': 950, 'qty': 2, 'representativeness': 3.971529849978637e-08}, {'group': 951, 'qty': 2, 'representativeness': 3.971529849978637e-08}, {'group': 952, 'qty': 2, 'representativeness': 3.971529849978637e-08}, {'group': 953, 'qty': 2, 'representativeness': 3.971529849978637e-08}, {'group': 954, 'qty': 2, 'representativeness': 3.971529849978637e-08}, {'group': 955, 'qty': 2, 'representativeness': 3.971529849978637e-08}, {'group': 956, 'qty': 2, 'representativeness': 3.971529849978637e-08}, {'group': 957, 'qty': 2, 'representativeness': 3.971529849978637e-08}, {'group': 958, 'qty': 2, 'representativeness': 3.971529849978637e-08}, {'group': 959, 'qty': 1, 'representativeness': 1.9857649249893184e-08}, {'group': 960, 'qty': 3, 'representativeness': 5.957294774967956e-08}, {'group': 961, 'qty': 2, 'representativeness': 3.971529849978637e-08}, {'group': 962, 'qty': 2, 'representativeness': 3.971529849978637e-08}, {'group': 963, 'qty': 2, 'representativeness': 3.971529849978637e-08}, {'group': 964, 'qty': 2, 'representativeness': 3.971529849978637e-08}, {'group': 965, 'qty': 2, 'representativeness': 3.971529849978637e-08}, {'group': 966, 'qty': 2, 'representativeness': 3.971529849978637e-08}, {'group': 967, 'qty': 2, 'representativeness': 3.971529849978637e-08}, {'group': 968, 'qty': 2, 'representativeness': 3.971529849978637e-08}, {'group': 969, 'qty': 2, 'representativeness': 3.971529849978637e-08}, {'group': 970, 'qty': 3, 'representativeness': 5.957294774967956e-08}, {'group': 971, 'qty': 2, 'representativeness': 3.971529849978637e-08}, {'group': 972, 'qty': 2, 'representativeness': 3.971529849978637e-08}, {'group': 973, 'qty': 3, 'representativeness': 5.957294774967956e-08}, {'group': 974, 'qty': 2, 'representativeness': 3.971529849978637e-08}, {'group': 975, 'qty': 2, 'representativeness': 3.971529849978637e-08}, {'group': 976, 'qty': 2, 'representativeness': 3.971529849978637e-08}, {'group': 977, 'qty': 2, 'representativeness': 3.971529849978637e-08}, {'group': 978, 'qty': 2, 'representativeness': 3.971529849978637e-08}, {'group': 979, 'qty': 2, 'representativeness': 3.971529849978637e-08}, {'group': 980, 'qty': 2, 'representativeness': 3.971529849978637e-08}, {'group': 981, 'qty': 2, 'representativeness': 3.971529849978637e-08}, {'group': 982, 'qty': 2, 'representativeness': 3.971529849978637e-08}, {'group': 983, 'qty': 2, 'representativeness': 3.971529849978637e-08}, {'group': 984, 'qty': 2, 'representativeness': 3.971529849978637e-08}, {'group': 985, 'qty': 2, 'representativeness': 3.971529849978637e-08}, {'group': 986, 'qty': 2, 'representativeness': 3.971529849978637e-08}, {'group': 987, 'qty': 2, 'representativeness': 3.971529849978637e-08}, {'group': 988, 'qty': 0, 'representativeness': 0.0}, {'group': 989, 'qty': 2, 'representativeness': 3.971529849978637e-08}, {'group': 990, 'qty': 2, 'representativeness': 3.971529849978637e-08}, {'group': 991, 'qty': 2, 'representativeness': 3.971529849978637e-08}, {'group': 992, 'qty': 2, 'representativeness': 3.971529849978637e-08}, {'group': 993, 'qty': 2, 'representativeness': 3.971529849978637e-08}, {'group': 994, 'qty': 2, 'representativeness': 3.971529849978637e-08}, {'group': 995, 'qty': 2, 'representativeness': 3.971529849978637e-08}, {'group': 996, 'qty': 2, 'representativeness': 3.971529849978637e-08}, {'group': 997, 'qty': 3, 'representativeness': 5.957294774967956e-08}, {'group': 998, 'qty': 2, 'representativeness': 3.971529849978637e-08}, {'group': 999, 'qty': 2, 'representativeness': 3.971529849978637e-08}, {'group': 1000, 'qty': 2, 'representativeness': 3.971529849978637e-08}, {'group': 1001, 'qty': 2, 'representativeness': 3.971529849978637e-08}, {'group': 1002, 'qty': 2, 'representativeness': 3.971529849978637e-08}, {'group': 1003, 'qty': 2, 'representativeness': 3.971529849978637e-08}, {'group': 1004, 'qty': 2, 'representativeness': 3.971529849978637e-08}, {'group': 1005, 'qty': 2, 'representativeness': 3.971529849978637e-08}, {'group': 1006, 'qty': 2, 'representativeness': 3.971529849978637e-08}, {'group': 1007, 'qty': 2, 'representativeness': 3.971529849978637e-08}, {'group': 1008, 'qty': 2, 'representativeness': 3.971529849978637e-08}, {'group': 1009, 'qty': 2, 'representativeness': 3.971529849978637e-08}, {'group': 1010, 'qty': 2, 'representativeness': 3.971529849978637e-08}, {'group': 1011, 'qty': 2, 'representativeness': 3.971529849978637e-08}, {'group': 1012, 'qty': 2, 'representativeness': 3.971529849978637e-08}, {'group': 1013, 'qty': 2, 'representativeness': 3.971529849978637e-08}, {'group': 1014, 'qty': 2, 'representativeness': 3.971529849978637e-08}, {'group': 1015, 'qty': 2, 'representativeness': 3.971529849978637e-08}, {'group': 1016, 'qty': 2, 'representativeness': 3.971529849978637e-08}, {'group': 1017, 'qty': 2, 'representativeness': 3.971529849978637e-08}, {'group': 1018, 'qty': 2, 'representativeness': 3.971529849978637e-08}, {'group': 1019, 'qty': 2, 'representativeness': 3.971529849978637e-08}, {'group': 1020, 'qty': 2, 'representativeness': 3.971529849978637e-08}, {'group': 1021, 'qty': 2, 'representativeness': 3.971529849978637e-08}, {'group': 1022, 'qty': 2, 'representativeness': 3.971529849978637e-08}, {'group': 1023, 'qty': 2, 'representativeness': 3.971529849978637e-08}, {'group': 1024, 'qty': 2, 'representativeness': 3.971529849978637e-08}, {'group': 1025, 'qty': 2, 'representativeness': 3.971529849978637e-08}, {'group': 1026, 'qty': 2, 'representativeness': 3.971529849978637e-08}, {'group': 1027, 'qty': 2, 'representativeness': 3.971529849978637e-08}, {'group': 1028, 'qty': 2, 'representativeness': 3.971529849978637e-08}, {'group': 1029, 'qty': 2, 'representativeness': 3.971529849978637e-08}, {'group': 1030, 'qty': 2, 'representativeness': 3.971529849978637e-08}, {'group': 1031, 'qty': 2, 'representativeness': 3.971529849978637e-08}, {'group': 1032, 'qty': 2, 'representativeness': 3.971529849978637e-08}, {'group': 1033, 'qty': 3, 'representativeness': 5.957294774967956e-08}, {'group': 1034, 'qty': 2, 'representativeness': 3.971529849978637e-08}, {'group': 1035, 'qty': 2, 'representativeness': 3.971529849978637e-08}, {'group': 1036, 'qty': 2, 'representativeness': 3.971529849978637e-08}, {'group': 1037, 'qty': 2, 'representativeness': 3.971529849978637e-08}, {'group': 1038, 'qty': 3, 'representativeness': 5.957294774967956e-08}, {'group': 1039, 'qty': 2, 'representativeness': 3.971529849978637e-08}, {'group': 1040, 'qty': 2, 'representativeness': 3.971529849978637e-08}, {'group': 1041, 'qty': 2, 'representativeness': 3.971529849978637e-08}, {'group': 1042, 'qty': 2, 'representativeness': 3.971529849978637e-08}, {'group': 1043, 'qty': 2, 'representativeness': 3.971529849978637e-08}, {'group': 1044, 'qty': 2, 'representativeness': 3.971529849978637e-08}, {'group': 1045, 'qty': 2, 'representativeness': 3.971529849978637e-08}, {'group': 1046, 'qty': 2, 'representativeness': 3.971529849978637e-08}, {'group': 1047, 'qty': 2, 'representativeness': 3.971529849978637e-08}, {'group': 1048, 'qty': 3, 'representativeness': 5.957294774967956e-08}, {'group': 1049, 'qty': 2, 'representativeness': 3.971529849978637e-08}, {'group': 1050, 'qty': 2, 'representativeness': 3.971529849978637e-08}, {'group': 1051, 'qty': 2, 'representativeness': 3.971529849978637e-08}, {'group': 1052, 'qty': 2, 'representativeness': 3.971529849978637e-08}, {'group': 1053, 'qty': 1, 'representativeness': 1.9857649249893184e-08}, {'group': 1054, 'qty': 2, 'representativeness': 3.971529849978637e-08}, {'group': 1055, 'qty': 2, 'representativeness': 3.971529849978637e-08}, {'group': 1056, 'qty': 2, 'representativeness': 3.971529849978637e-08}, {'group': 1057, 'qty': 2, 'representativeness': 3.971529849978637e-08}, {'group': 1058, 'qty': 2, 'representativeness': 3.971529849978637e-08}, {'group': 1059, 'qty': 2, 'representativeness': 3.971529849978637e-08}, {'group': 1060, 'qty': 2, 'representativeness': 3.971529849978637e-08}, {'group': 1061, 'qty': 2, 'representativeness': 3.971529849978637e-08}, {'group': 1062, 'qty': 2, 'representativeness': 3.971529849978637e-08}, {'group': 1063, 'qty': 2, 'representativeness': 3.971529849978637e-08}, {'group': 1064, 'qty': 2, 'representativeness': 3.971529849978637e-08}, {'group': 1065, 'qty': 2, 'representativeness': 3.971529849978637e-08}, {'group': 1066, 'qty': 2, 'representativeness': 3.971529849978637e-08}, {'group': 1067, 'qty': 2, 'representativeness': 3.971529849978637e-08}, {'group': 1068, 'qty': 2, 'representativeness': 3.971529849978637e-08}, {'group': 1069, 'qty': 2, 'representativeness': 3.971529849978637e-08}, {'group': 1070, 'qty': 2, 'representativeness': 3.971529849978637e-08}, {'group': 1071, 'qty': 2, 'representativeness': 3.971529849978637e-08}, {'group': 1072, 'qty': 1, 'representativeness': 1.9857649249893184e-08}, {'group': 1073, 'qty': 2, 'representativeness': 3.971529849978637e-08}, {'group': 1074, 'qty': 2, 'representativeness': 3.971529849978637e-08}, {'group': 1075, 'qty': 2, 'representativeness': 3.971529849978637e-08}, {'group': 1076, 'qty': 2, 'representativeness': 3.971529849978637e-08}, {'group': 1077, 'qty': 2, 'representativeness': 3.971529849978637e-08}, {'group': 1078, 'qty': 2, 'representativeness': 3.971529849978637e-08}, {'group': 1079, 'qty': 2, 'representativeness': 3.971529849978637e-08}, {'group': 1080, 'qty': 2, 'representativeness': 3.971529849978637e-08}, {'group': 1081, 'qty': 2, 'representativeness': 3.971529849978637e-08}, {'group': 1082, 'qty': 2, 'representativeness': 3.971529849978637e-08}, {'group': 1083, 'qty': 2, 'representativeness': 3.971529849978637e-08}, {'group': 1084, 'qty': 2, 'representativeness': 3.971529849978637e-08}, {'group': 1085, 'qty': 2, 'representativeness': 3.971529849978637e-08}, {'group': 1086, 'qty': 2, 'representativeness': 3.971529849978637e-08}, {'group': 1087, 'qty': 2, 'representativeness': 3.971529849978637e-08}, {'group': 1088, 'qty': 2, 'representativeness': 3.971529849978637e-08}, {'group': 1089, 'qty': 2, 'representativeness': 3.971529849978637e-08}, {'group': 1090, 'qty': 2, 'representativeness': 3.971529849978637e-08}, {'group': 1091, 'qty': 2, 'representativeness': 3.971529849978637e-08}, {'group': 1092, 'qty': 2, 'representativeness': 3.971529849978637e-08}, {'group': 1093, 'qty': 2, 'representativeness': 3.971529849978637e-08}, {'group': 1094, 'qty': 2, 'representativeness': 3.971529849978637e-08}, {'group': 1095, 'qty': 2, 'representativeness': 3.971529849978637e-08}, {'group': 1096, 'qty': 2, 'representativeness': 3.971529849978637e-08}, {'group': 1097, 'qty': 2, 'representativeness': 3.971529849978637e-08}, {'group': 1098, 'qty': 2, 'representativeness': 3.971529849978637e-08}, {'group': 1099, 'qty': 2, 'representativeness': 3.971529849978637e-08}, {'group': 1100, 'qty': 2, 'representativeness': 3.971529849978637e-08}, {'group': 1101, 'qty': 2, 'representativeness': 3.971529849978637e-08}, {'group': 1102, 'qty': 2, 'representativeness': 3.971529849978637e-08}, {'group': 1103, 'qty': 2, 'representativeness': 3.971529849978637e-08}, {'group': 1104, 'qty': 2, 'representativeness': 3.971529849978637e-08}, {'group': 1105, 'qty': 2, 'representativeness': 3.971529849978637e-08}, {'group': 1106, 'qty': 2, 'representativeness': 3.971529849978637e-08}, {'group': 1107, 'qty': 2, 'representativeness': 3.971529849978637e-08}, {'group': 1108, 'qty': 2, 'representativeness': 3.971529849978637e-08}, {'group': 1109, 'qty': 2, 'representativeness': 3.971529849978637e-08}, {'group': 1110, 'qty': 2, 'representativeness': 3.971529849978637e-08}, {'group': 1111, 'qty': 2, 'representativeness': 3.971529849978637e-08}, {'group': 1112, 'qty': 2, 'representativeness': 3.971529849978637e-08}, {'group': 1113, 'qty': 2, 'representativeness': 3.971529849978637e-08}, {'group': 1114, 'qty': 2, 'representativeness': 3.971529849978637e-08}, {'group': 1115, 'qty': 2, 'representativeness': 3.971529849978637e-08}, {'group': 1116, 'qty': 2, 'representativeness': 3.971529849978637e-08}, {'group': 1117, 'qty': 2, 'representativeness': 3.971529849978637e-08}, {'group': 1118, 'qty': 2, 'representativeness': 3.971529849978637e-08}, {'group': 1119, 'qty': 2, 'representativeness': 3.971529849978637e-08}, {'group': 1120, 'qty': 2, 'representativeness': 3.971529849978637e-08}, {'group': 1121, 'qty': 2, 'representativeness': 3.971529849978637e-08}, {'group': 1122, 'qty': 2, 'representativeness': 3.971529849978637e-08}, {'group': 1123, 'qty': 2, 'representativeness': 3.971529849978637e-08}, {'group': 1124, 'qty': 2, 'representativeness': 3.971529849978637e-08}, {'group': 1125, 'qty': 2, 'representativeness': 3.971529849978637e-08}, {'group': 1126, 'qty': 2, 'representativeness': 3.971529849978637e-08}, {'group': 1127, 'qty': 2, 'representativeness': 3.971529849978637e-08}, {'group': 1128, 'qty': 2, 'representativeness': 3.971529849978637e-08}, {'group': 1129, 'qty': 2, 'representativeness': 3.971529849978637e-08}, {'group': 1130, 'qty': 2, 'representativeness': 3.971529849978637e-08}, {'group': 1131, 'qty': 2, 'representativeness': 3.971529849978637e-08}, {'group': 1132, 'qty': 2, 'representativeness': 3.971529849978637e-08}, {'group': 1133, 'qty': 2, 'representativeness': 3.971529849978637e-08}, {'group': 1134, 'qty': 2, 'representativeness': 3.971529849978637e-08}, {'group': 1135, 'qty': 2, 'representativeness': 3.971529849978637e-08}, {'group': 1136, 'qty': 1, 'representativeness': 1.9857649249893184e-08}, {'group': 1137, 'qty': 2, 'representativeness': 3.971529849978637e-08}, {'group': 1138, 'qty': 2, 'representativeness': 3.971529849978637e-08}, {'group': 1139, 'qty': 2, 'representativeness': 3.971529849978637e-08}, {'group': 1140, 'qty': 2, 'representativeness': 3.971529849978637e-08}, {'group': 1141, 'qty': 2, 'representativeness': 3.971529849978637e-08}, {'group': 1142, 'qty': 2, 'representativeness': 3.971529849978637e-08}, {'group': 1143, 'qty': 2, 'representativeness': 3.971529849978637e-08}, {'group': 1144, 'qty': 2, 'representativeness': 3.971529849978637e-08}, {'group': 1145, 'qty': 2, 'representativeness': 3.971529849978637e-08}, {'group': 1146, 'qty': 2, 'representativeness': 3.971529849978637e-08}, {'group': 1147, 'qty': 2, 'representativeness': 3.971529849978637e-08}, {'group': 1148, 'qty': 2, 'representativeness': 3.971529849978637e-08}, {'group': 1149, 'qty': 2, 'representativeness': 3.971529849978637e-08}, {'group': 1150, 'qty': 2, 'representativeness': 3.971529849978637e-08}, {'group': 1151, 'qty': 2, 'representativeness': 3.971529849978637e-08}, {'group': 1152, 'qty': 1, 'representativeness': 1.9857649249893184e-08}, {'group': 1153, 'qty': 2, 'representativeness': 3.971529849978637e-08}, {'group': 1154, 'qty': 2, 'representativeness': 3.971529849978637e-08}, {'group': 1155, 'qty': 2, 'representativeness': 3.971529849978637e-08}, {'group': 1156, 'qty': 2, 'representativeness': 3.971529849978637e-08}, {'group': 1157, 'qty': 2, 'representativeness': 3.971529849978637e-08}, {'group': 1158, 'qty': 2, 'representativeness': 3.971529849978637e-08}, {'group': 1159, 'qty': 2, 'representativeness': 3.971529849978637e-08}, {'group': 1160, 'qty': 2, 'representativeness': 3.971529849978637e-08}, {'group': 1161, 'qty': 2, 'representativeness': 3.971529849978637e-08}, {'group': 1162, 'qty': 2, 'representativeness': 3.971529849978637e-08}, {'group': 1163, 'qty': 2, 'representativeness': 3.971529849978637e-08}, {'group': 1164, 'qty': 2, 'representativeness': 3.971529849978637e-08}, {'group': 1165, 'qty': 2, 'representativeness': 3.971529849978637e-08}, {'group': 1166, 'qty': 2, 'representativeness': 3.971529849978637e-08}, {'group': 1167, 'qty': 2, 'representativeness': 3.971529849978637e-08}, {'group': 1168, 'qty': 2, 'representativeness': 3.971529849978637e-08}, {'group': 1169, 'qty': 2, 'representativeness': 3.971529849978637e-08}, {'group': 1170, 'qty': 2, 'representativeness': 3.971529849978637e-08}, {'group': 1171, 'qty': 1, 'representativeness': 1.9857649249893184e-08}, {'group': 1172, 'qty': 2, 'representativeness': 3.971529849978637e-08}, {'group': 1173, 'qty': 2, 'representativeness': 3.971529849978637e-08}, {'group': 1174, 'qty': 2, 'representativeness': 3.971529849978637e-08}, {'group': 1175, 'qty': 2, 'representativeness': 3.971529849978637e-08}, {'group': 1176, 'qty': 2, 'representativeness': 3.971529849978637e-08}, {'group': 1177, 'qty': 2, 'representativeness': 3.971529849978637e-08}, {'group': 1178, 'qty': 2, 'representativeness': 3.971529849978637e-08}, {'group': 1179, 'qty': 2, 'representativeness': 3.971529849978637e-08}, {'group': 1180, 'qty': 2, 'representativeness': 3.971529849978637e-08}, {'group': 1181, 'qty': 2, 'representativeness': 3.971529849978637e-08}, {'group': 1182, 'qty': 2, 'representativeness': 3.971529849978637e-08}, {'group': 1183, 'qty': 2, 'representativeness': 3.971529849978637e-08}, {'group': 1184, 'qty': 2, 'representativeness': 3.971529849978637e-08}, {'group': 1185, 'qty': 2, 'representativeness': 3.971529849978637e-08}, {'group': 1186, 'qty': 2, 'representativeness': 3.971529849978637e-08}, {'group': 1187, 'qty': 2, 'representativeness': 3.971529849978637e-08}, {'group': 1188, 'qty': 2, 'representativeness': 3.971529849978637e-08}, {'group': 1189, 'qty': 2, 'representativeness': 3.971529849978637e-08}, {'group': 1190, 'qty': 2, 'representativeness': 3.971529849978637e-08}, {'group': 1191, 'qty': 2, 'representativeness': 3.971529849978637e-08}, {'group': 1192, 'qty': 2, 'representativeness': 3.971529849978637e-08}, {'group': 1193, 'qty': 2, 'representativeness': 3.971529849978637e-08}, {'group': 1194, 'qty': 2, 'representativeness': 3.971529849978637e-08}, {'group': 1195, 'qty': 2, 'representativeness': 3.971529849978637e-08}, {'group': 1196, 'qty': 3, 'representativeness': 5.957294774967956e-08}, {'group': 1197, 'qty': 2, 'representativeness': 3.971529849978637e-08}, {'group': 1198, 'qty': 2, 'representativeness': 3.971529849978637e-08}, {'group': 1199, 'qty': 2, 'representativeness': 3.971529849978637e-08}, {'group': 1200, 'qty': 2, 'representativeness': 3.971529849978637e-08}, {'group': 1201, 'qty': 2, 'representativeness': 3.971529849978637e-08}, {'group': 1202, 'qty': 2, 'representativeness': 3.971529849978637e-08}, {'group': 1203, 'qty': 2, 'representativeness': 3.971529849978637e-08}, {'group': 1204, 'qty': 2, 'representativeness': 3.971529849978637e-08}, {'group': 1205, 'qty': 2, 'representativeness': 3.971529849978637e-08}, {'group': 1206, 'qty': 2, 'representativeness': 3.971529849978637e-08}, {'group': 1207, 'qty': 2, 'representativeness': 3.971529849978637e-08}, {'group': 1208, 'qty': 2, 'representativeness': 3.971529849978637e-08}, {'group': 1209, 'qty': 2, 'representativeness': 3.971529849978637e-08}, {'group': 1210, 'qty': 2, 'representativeness': 3.971529849978637e-08}, {'group': 1211, 'qty': 2, 'representativeness': 3.971529849978637e-08}, {'group': 1212, 'qty': 2, 'representativeness': 3.971529849978637e-08}, {'group': 1213, 'qty': 2, 'representativeness': 3.971529849978637e-08}, {'group': 1214, 'qty': 2, 'representativeness': 3.971529849978637e-08}, {'group': 1215, 'qty': 3, 'representativeness': 5.957294774967956e-08}, {'group': 1216, 'qty': 2, 'representativeness': 3.971529849978637e-08}, {'group': 1217, 'qty': 2, 'representativeness': 3.971529849978637e-08}, {'group': 1218, 'qty': 3, 'representativeness': 5.957294774967956e-08}, {'group': 1219, 'qty': 3, 'representativeness': 5.957294774967956e-08}, {'group': 1220, 'qty': 2, 'representativeness': 3.971529849978637e-08}, {'group': 1221, 'qty': 2, 'representativeness': 3.971529849978637e-08}, {'group': 1222, 'qty': 2, 'representativeness': 3.971529849978637e-08}, {'group': 1223, 'qty': 2, 'representativeness': 3.971529849978637e-08}, {'group': 1224, 'qty': 2, 'representativeness': 3.971529849978637e-08}, {'group': 1225, 'qty': 2, 'representativeness': 3.971529849978637e-08}, {'group': 1226, 'qty': 2, 'representativeness': 3.971529849978637e-08}, {'group': 1227, 'qty': 1, 'representativeness': 1.9857649249893184e-08}, {'group': 1228, 'qty': 3, 'representativeness': 5.957294774967956e-08}, {'group': 1229, 'qty': 2, 'representativeness': 3.971529849978637e-08}, {'group': 1230, 'qty': 2, 'representativeness': 3.971529849978637e-08}, {'group': 1231, 'qty': 2, 'representativeness': 3.971529849978637e-08}, {'group': 1232, 'qty': 2, 'representativeness': 3.971529849978637e-08}, {'group': 1233, 'qty': 2, 'representativeness': 3.971529849978637e-08}, {'group': 1234, 'qty': 2, 'representativeness': 3.971529849978637e-08}, {'group': 1235, 'qty': 2, 'representativeness': 3.971529849978637e-08}, {'group': 1236, 'qty': 2, 'representativeness': 3.971529849978637e-08}, {'group': 1237, 'qty': 3, 'representativeness': 5.957294774967956e-08}, {'group': 1238, 'qty': 2, 'representativeness': 3.971529849978637e-08}, {'group': 1239, 'qty': 2, 'representativeness': 3.971529849978637e-08}, {'group': 1240, 'qty': 2, 'representativeness': 3.971529849978637e-08}, {'group': 1241, 'qty': 2, 'representativeness': 3.971529849978637e-08}, {'group': 1242, 'qty': 2, 'representativeness': 3.971529849978637e-08}, {'group': 1243, 'qty': 2, 'representativeness': 3.971529849978637e-08}, {'group': 1244, 'qty': 2, 'representativeness': 3.971529849978637e-08}, {'group': 1245, 'qty': 2, 'representativeness': 3.971529849978637e-08}, {'group': 1246, 'qty': 2, 'representativeness': 3.971529849978637e-08}, {'group': 1247, 'qty': 2, 'representativeness': 3.971529849978637e-08}, {'group': 1248, 'qty': 2, 'representativeness': 3.971529849978637e-08}, {'group': 1249, 'qty': 2, 'representativeness': 3.971529849978637e-08}, {'group': 1250, 'qty': 2, 'representativeness': 3.971529849978637e-08}, {'group': 1251, 'qty': 2, 'representativeness': 3.971529849978637e-08}, {'group': 1252, 'qty': 2, 'representativeness': 3.971529849978637e-08}, {'group': 1253, 'qty': 2, 'representativeness': 3.971529849978637e-08}, {'group': 1254, 'qty': 2, 'representativeness': 3.971529849978637e-08}, {'group': 1255, 'qty': 2, 'representativeness': 3.971529849978637e-08}, {'group': 1256, 'qty': 2, 'representativeness': 3.971529849978637e-08}, {'group': 1257, 'qty': 2, 'representativeness': 3.971529849978637e-08}, {'group': 1258, 'qty': 2, 'representativeness': 3.971529849978637e-08}, {'group': 1259, 'qty': 2, 'representativeness': 3.971529849978637e-08}, {'group': 1260, 'qty': 2, 'representativeness': 3.971529849978637e-08}, {'group': 1261, 'qty': 2, 'representativeness': 3.971529849978637e-08}, {'group': 1262, 'qty': 2, 'representativeness': 3.971529849978637e-08}, {'group': 1263, 'qty': 2, 'representativeness': 3.971529849978637e-08}, {'group': 1264, 'qty': 2, 'representativeness': 3.971529849978637e-08}, {'group': 1265, 'qty': 2, 'representativeness': 3.971529849978637e-08}, {'group': 1266, 'qty': 2, 'representativeness': 3.971529849978637e-08}, {'group': 1267, 'qty': 3, 'representativeness': 5.957294774967956e-08}, {'group': 1268, 'qty': 2, 'representativeness': 3.971529849978637e-08}, {'group': 1269, 'qty': 2, 'representativeness': 3.971529849978637e-08}, {'group': 1270, 'qty': 2, 'representativeness': 3.971529849978637e-08}, {'group': 1271, 'qty': 2, 'representativeness': 3.971529849978637e-08}, {'group': 1272, 'qty': 2, 'representativeness': 3.971529849978637e-08}, {'group': 1273, 'qty': 2, 'representativeness': 3.971529849978637e-08}, {'group': 1274, 'qty': 2, 'representativeness': 3.971529849978637e-08}, {'group': 1275, 'qty': 2, 'representativeness': 3.971529849978637e-08}, {'group': 1276, 'qty': 2, 'representativeness': 3.971529849978637e-08}, {'group': 1277, 'qty': 2, 'representativeness': 3.971529849978637e-08}, {'group': 1278, 'qty': 2, 'representativeness': 3.971529849978637e-08}, {'group': 1279, 'qty': 2, 'representativeness': 3.971529849978637e-08}, {'group': 1280, 'qty': 2, 'representativeness': 3.971529849978637e-08}, {'group': 1281, 'qty': 2, 'representativeness': 3.971529849978637e-08}, {'group': 1282, 'qty': 2, 'representativeness': 3.971529849978637e-08}, {'group': 1283, 'qty': 1, 'representativeness': 1.9857649249893184e-08}, {'group': 1284, 'qty': 2, 'representativeness': 3.971529849978637e-08}, {'group': 1285, 'qty': 2, 'representativeness': 3.971529849978637e-08}, {'group': 1286, 'qty': 2, 'representativeness': 3.971529849978637e-08}, {'group': 1287, 'qty': 2, 'representativeness': 3.971529849978637e-08}, {'group': 1288, 'qty': 2, 'representativeness': 3.971529849978637e-08}, {'group': 1289, 'qty': 2, 'representativeness': 3.971529849978637e-08}, {'group': 1290, 'qty': 2, 'representativeness': 3.971529849978637e-08}, {'group': 1291, 'qty': 3, 'representativeness': 5.957294774967956e-08}, {'group': 1292, 'qty': 2, 'representativeness': 3.971529849978637e-08}, {'group': 1293, 'qty': 2, 'representativeness': 3.971529849978637e-08}, {'group': 1294, 'qty': 1, 'representativeness': 1.9857649249893184e-08}, {'group': 1295, 'qty': 2, 'representativeness': 3.971529849978637e-08}, {'group': 1296, 'qty': 2, 'representativeness': 3.971529849978637e-08}, {'group': 1297, 'qty': 2, 'representativeness': 3.971529849978637e-08}, {'group': 1298, 'qty': 2, 'representativeness': 3.971529849978637e-08}, {'group': 1299, 'qty': 2, 'representativeness': 3.971529849978637e-08}, {'group': 1300, 'qty': 6, 'representativeness': 1.1914589549935912e-07}, {'group': 1301, 'qty': 2, 'representativeness': 3.971529849978637e-08}, {'group': 1302, 'qty': 2, 'representativeness': 3.971529849978637e-08}, {'group': 1303, 'qty': 2, 'representativeness': 3.971529849978637e-08}, {'group': 1304, 'qty': 2, 'representativeness': 3.971529849978637e-08}, {'group': 1305, 'qty': 2, 'representativeness': 3.971529849978637e-08}, {'group': 1306, 'qty': 2, 'representativeness': 3.971529849978637e-08}, {'group': 1307, 'qty': 2, 'representativeness': 3.971529849978637e-08}, {'group': 1308, 'qty': 2, 'representativeness': 3.971529849978637e-08}, {'group': 1309, 'qty': 2, 'representativeness': 3.971529849978637e-08}, {'group': 1310, 'qty': 2, 'representativeness': 3.971529849978637e-08}, {'group': 1311, 'qty': 2, 'representativeness': 3.971529849978637e-08}, {'group': 1312, 'qty': 1, 'representativeness': 1.9857649249893184e-08}, {'group': 1313, 'qty': 1, 'representativeness': 1.9857649249893184e-08}, {'group': 1314, 'qty': 1, 'representativeness': 1.9857649249893184e-08}, {'group': 1315, 'qty': 1, 'representativeness': 1.9857649249893184e-08}, {'group': 1316, 'qty': 1, 'representativeness': 1.9857649249893184e-08}, {'group': 1317, 'qty': 1, 'representativeness': 1.9857649249893184e-08}, {'group': 1318, 'qty': 1, 'representativeness': 1.9857649249893184e-08}, {'group': 1319, 'qty': 1, 'representativeness': 1.9857649249893184e-08}, {'group': 1320, 'qty': 1, 'representativeness': 1.9857649249893184e-08}, {'group': 1321, 'qty': 1, 'representativeness': 1.9857649249893184e-08}, {'group': 1322, 'qty': 1, 'representativeness': 1.9857649249893184e-08}, {'group': 1323, 'qty': 1, 'representativeness': 1.9857649249893184e-08}, {'group': 1324, 'qty': 1, 'representativeness': 1.9857649249893184e-08}, {'group': 1325, 'qty': 1, 'representativeness': 1.9857649249893184e-08}, {'group': 1326, 'qty': 1, 'representativeness': 1.9857649249893184e-08}, {'group': 1327, 'qty': 1, 'representativeness': 1.9857649249893184e-08}, {'group': 1328, 'qty': 1, 'representativeness': 1.9857649249893184e-08}, {'group': 1329, 'qty': 1, 'representativeness': 1.9857649249893184e-08}, {'group': 1330, 'qty': 1, 'representativeness': 1.9857649249893184e-08}, {'group': 1331, 'qty': 1, 'representativeness': 1.9857649249893184e-08}, {'group': 1332, 'qty': 1, 'representativeness': 1.9857649249893184e-08}, {'group': 1333, 'qty': 1, 'representativeness': 1.9857649249893184e-08}, {'group': 1334, 'qty': 1, 'representativeness': 1.9857649249893184e-08}, {'group': 1335, 'qty': 1, 'representativeness': 1.9857649249893184e-08}, {'group': 1336, 'qty': 1, 'representativeness': 1.9857649249893184e-08}, {'group': 1337, 'qty': 1, 'representativeness': 1.9857649249893184e-08}, {'group': 1338, 'qty': 1, 'representativeness': 1.9857649249893184e-08}, {'group': 1339, 'qty': 1, 'representativeness': 1.9857649249893184e-08}, {'group': 1340, 'qty': 1, 'representativeness': 1.9857649249893184e-08}, {'group': 1341, 'qty': 1, 'representativeness': 1.9857649249893184e-08}, {'group': 1342, 'qty': 1, 'representativeness': 1.9857649249893184e-08}, {'group': 1343, 'qty': 1, 'representativeness': 1.9857649249893184e-08}, {'group': 1344, 'qty': 1, 'representativeness': 1.9857649249893184e-08}, {'group': 1345, 'qty': 1, 'representativeness': 1.9857649249893184e-08}, {'group': 1346, 'qty': 1, 'representativeness': 1.9857649249893184e-08}, {'group': 1347, 'qty': 1, 'representativeness': 1.9857649249893184e-08}, {'group': 1348, 'qty': 1, 'representativeness': 1.9857649249893184e-08}, {'group': 1349, 'qty': 1, 'representativeness': 1.9857649249893184e-08}, {'group': 1350, 'qty': 1, 'representativeness': 1.9857649249893184e-08}, {'group': 1351, 'qty': 2, 'representativeness': 3.971529849978637e-08}, {'group': 1352, 'qty': 1, 'representativeness': 1.9857649249893184e-08}, {'group': 1353, 'qty': 1, 'representativeness': 1.9857649249893184e-08}, {'group': 1354, 'qty': 1, 'representativeness': 1.9857649249893184e-08}, {'group': 1355, 'qty': 1, 'representativeness': 1.9857649249893184e-08}, {'group': 1356, 'qty': 1, 'representativeness': 1.9857649249893184e-08}, {'group': 1357, 'qty': 1, 'representativeness': 1.9857649249893184e-08}, {'group': 1358, 'qty': 1, 'representativeness': 1.9857649249893184e-08}, {'group': 1359, 'qty': 1, 'representativeness': 1.9857649249893184e-08}, {'group': 1360, 'qty': 1, 'representativeness': 1.9857649249893184e-08}, {'group': 1361, 'qty': 1, 'representativeness': 1.9857649249893184e-08}, {'group': 1362, 'qty': 1, 'representativeness': 1.9857649249893184e-08}, {'group': 1363, 'qty': 1, 'representativeness': 1.9857649249893184e-08}, {'group': 1364, 'qty': 1, 'representativeness': 1.9857649249893184e-08}, {'group': 1365, 'qty': 1, 'representativeness': 1.9857649249893184e-08}, {'group': 1366, 'qty': 1, 'representativeness': 1.9857649249893184e-08}, {'group': 1367, 'qty': 1, 'representativeness': 1.9857649249893184e-08}, {'group': 1368, 'qty': 1, 'representativeness': 1.9857649249893184e-08}, {'group': 1369, 'qty': 1, 'representativeness': 1.9857649249893184e-08}, {'group': 1370, 'qty': 1, 'representativeness': 1.9857649249893184e-08}, {'group': 1371, 'qty': 1, 'representativeness': 1.9857649249893184e-08}, {'group': 1372, 'qty': 1, 'representativeness': 1.9857649249893184e-08}, {'group': 1373, 'qty': 1, 'representativeness': 1.9857649249893184e-08}, {'group': 1374, 'qty': 1, 'representativeness': 1.9857649249893184e-08}, {'group': 1375, 'qty': 1, 'representativeness': 1.9857649249893184e-08}, {'group': 1376, 'qty': 1, 'representativeness': 1.9857649249893184e-08}, {'group': 1377, 'qty': 1, 'representativeness': 1.9857649249893184e-08}, {'group': 1378, 'qty': 1, 'representativeness': 1.9857649249893184e-08}, {'group': 1379, 'qty': 1, 'representativeness': 1.9857649249893184e-08}, {'group': 1380, 'qty': 1, 'representativeness': 1.9857649249893184e-08}, {'group': 1381, 'qty': 1, 'representativeness': 1.9857649249893184e-08}, {'group': 1382, 'qty': 1, 'representativeness': 1.9857649249893184e-08}, {'group': 1383, 'qty': 1, 'representativeness': 1.9857649249893184e-08}, {'group': 1384, 'qty': 1, 'representativeness': 1.9857649249893184e-08}, {'group': 1385, 'qty': 1, 'representativeness': 1.9857649249893184e-08}, {'group': 1386, 'qty': 1, 'representativeness': 1.9857649249893184e-08}, {'group': 1387, 'qty': 1, 'representativeness': 1.9857649249893184e-08}, {'group': 1388, 'qty': 1, 'representativeness': 1.9857649249893184e-08}, {'group': 1389, 'qty': 1, 'representativeness': 1.9857649249893184e-08}, {'group': 1390, 'qty': 1, 'representativeness': 1.9857649249893184e-08}, {'group': 1391, 'qty': 1, 'representativeness': 1.9857649249893184e-08}, {'group': 1392, 'qty': 1, 'representativeness': 1.9857649249893184e-08}, {'group': 1393, 'qty': 1, 'representativeness': 1.9857649249893184e-08}, {'group': 1394, 'qty': 1, 'representativeness': 1.9857649249893184e-08}, {'group': 1395, 'qty': 1, 'representativeness': 1.9857649249893184e-08}, {'group': 1396, 'qty': 1, 'representativeness': 1.9857649249893184e-08}, {'group': 1397, 'qty': 1, 'representativeness': 1.9857649249893184e-08}, {'group': 1398, 'qty': 1, 'representativeness': 1.9857649249893184e-08}, {'group': 1399, 'qty': 1, 'representativeness': 1.9857649249893184e-08}, {'group': 1400, 'qty': 1, 'representativeness': 1.9857649249893184e-08}, {'group': 1401, 'qty': 1, 'representativeness': 1.9857649249893184e-08}, {'group': 1402, 'qty': 1, 'representativeness': 1.9857649249893184e-08}, {'group': 1403, 'qty': 1, 'representativeness': 1.9857649249893184e-08}, {'group': 1404, 'qty': 1, 'representativeness': 1.9857649249893184e-08}, {'group': 1405, 'qty': 1, 'representativeness': 1.9857649249893184e-08}, {'group': 1406, 'qty': 1, 'representativeness': 1.9857649249893184e-08}, {'group': 1407, 'qty': 1, 'representativeness': 1.9857649249893184e-08}, {'group': 1408, 'qty': 1, 'representativeness': 1.9857649249893184e-08}, {'group': 1409, 'qty': 1, 'representativeness': 1.9857649249893184e-08}, {'group': 1410, 'qty': 1, 'representativeness': 1.9857649249893184e-08}, {'group': 1411, 'qty': 1, 'representativeness': 1.9857649249893184e-08}, {'group': 1412, 'qty': 1, 'representativeness': 1.9857649249893184e-08}, {'group': 1413, 'qty': 1, 'representativeness': 1.9857649249893184e-08}, {'group': 1414, 'qty': 1, 'representativeness': 1.9857649249893184e-08}, {'group': 1415, 'qty': 1, 'representativeness': 1.9857649249893184e-08}, {'group': 1416, 'qty': 1, 'representativeness': 1.9857649249893184e-08}, {'group': 1417, 'qty': 1, 'representativeness': 1.9857649249893184e-08}, {'group': 1418, 'qty': 1, 'representativeness': 1.9857649249893184e-08}, {'group': 1419, 'qty': 1, 'representativeness': 1.9857649249893184e-08}, {'group': 1420, 'qty': 1, 'representativeness': 1.9857649249893184e-08}, {'group': 1421, 'qty': 1, 'representativeness': 1.9857649249893184e-08}, {'group': 1422, 'qty': 1, 'representativeness': 1.9857649249893184e-08}, {'group': 1423, 'qty': 1, 'representativeness': 1.9857649249893184e-08}, {'group': 1424, 'qty': 1, 'representativeness': 1.9857649249893184e-08}, {'group': 1425, 'qty': 1, 'representativeness': 1.9857649249893184e-08}, {'group': 1426, 'qty': 1, 'representativeness': 1.9857649249893184e-08}, {'group': 1427, 'qty': 1, 'representativeness': 1.9857649249893184e-08}, {'group': 1428, 'qty': 1, 'representativeness': 1.9857649249893184e-08}, {'group': 1429, 'qty': 1, 'representativeness': 1.9857649249893184e-08}, {'group': 1430, 'qty': 1, 'representativeness': 1.9857649249893184e-08}, {'group': 1431, 'qty': 1, 'representativeness': 1.9857649249893184e-08}, {'group': 1432, 'qty': 1, 'representativeness': 1.9857649249893184e-08}, {'group': 1433, 'qty': 1, 'representativeness': 1.9857649249893184e-08}, {'group': 1434, 'qty': 1, 'representativeness': 1.9857649249893184e-08}, {'group': 1435, 'qty': 1, 'representativeness': 1.9857649249893184e-08}, {'group': 1436, 'qty': 1, 'representativeness': 1.9857649249893184e-08}, {'group': 1437, 'qty': 1, 'representativeness': 1.9857649249893184e-08}, {'group': 1438, 'qty': 1, 'representativeness': 1.9857649249893184e-08}, {'group': 1439, 'qty': 1, 'representativeness': 1.9857649249893184e-08}, {'group': 1440, 'qty': 1, 'representativeness': 1.9857649249893184e-08}, {'group': 1441, 'qty': 1, 'representativeness': 1.9857649249893184e-08}, {'group': 1442, 'qty': 1, 'representativeness': 1.9857649249893184e-08}, {'group': 1443, 'qty': 1, 'representativeness': 1.9857649249893184e-08}, {'group': 1444, 'qty': 2, 'representativeness': 3.971529849978637e-08}, {'group': 1445, 'qty': 1, 'representativeness': 1.9857649249893184e-08}, {'group': 1446, 'qty': 1, 'representativeness': 1.9857649249893184e-08}, {'group': 1447, 'qty': 1, 'representativeness': 1.9857649249893184e-08}, {'group': 1448, 'qty': 1, 'representativeness': 1.9857649249893184e-08}, {'group': 1449, 'qty': 1, 'representativeness': 1.9857649249893184e-08}, {'group': 1450, 'qty': 1, 'representativeness': 1.9857649249893184e-08}, {'group': 1451, 'qty': 1, 'representativeness': 1.9857649249893184e-08}, {'group': 1452, 'qty': 1, 'representativeness': 1.9857649249893184e-08}, {'group': 1453, 'qty': 1, 'representativeness': 1.9857649249893184e-08}, {'group': 1454, 'qty': 1, 'representativeness': 1.9857649249893184e-08}, {'group': 1455, 'qty': 1, 'representativeness': 1.9857649249893184e-08}, {'group': 1456, 'qty': 1, 'representativeness': 1.9857649249893184e-08}, {'group': 1457, 'qty': 1, 'representativeness': 1.9857649249893184e-08}, {'group': 1458, 'qty': 1, 'representativeness': 1.9857649249893184e-08}, {'group': 1459, 'qty': 1, 'representativeness': 1.9857649249893184e-08}, {'group': 1460, 'qty': 1, 'representativeness': 1.9857649249893184e-08}, {'group': 1461, 'qty': 1, 'representativeness': 1.9857649249893184e-08}, {'group': 1462, 'qty': 1, 'representativeness': 1.9857649249893184e-08}, {'group': 1463, 'qty': 1, 'representativeness': 1.9857649249893184e-08}, {'group': 1464, 'qty': 1, 'representativeness': 1.9857649249893184e-08}, {'group': 1465, 'qty': 1, 'representativeness': 1.9857649249893184e-08}, {'group': 1466, 'qty': 1, 'representativeness': 1.9857649249893184e-08}, {'group': 1467, 'qty': 1, 'representativeness': 1.9857649249893184e-08}, {'group': 1468, 'qty': 1, 'representativeness': 1.9857649249893184e-08}, {'group': 1469, 'qty': 1, 'representativeness': 1.9857649249893184e-08}, {'group': 1470, 'qty': 1, 'representativeness': 1.9857649249893184e-08}, {'group': 1471, 'qty': 1, 'representativeness': 1.9857649249893184e-08}, {'group': 1472, 'qty': 6, 'representativeness': 1.1914589549935912e-07}, {'group': 1473, 'qty': 1, 'representativeness': 1.9857649249893184e-08}, {'group': 1474, 'qty': 1, 'representativeness': 1.9857649249893184e-08}, {'group': 1475, 'qty': 1, 'representativeness': 1.9857649249893184e-08}, {'group': 1476, 'qty': 1, 'representativeness': 1.9857649249893184e-08}, {'group': 1477, 'qty': 1, 'representativeness': 1.9857649249893184e-08}, {'group': 1478, 'qty': 1, 'representativeness': 1.9857649249893184e-08}, {'group': 1479, 'qty': 1, 'representativeness': 1.9857649249893184e-08}, {'group': 1480, 'qty': 1, 'representativeness': 1.9857649249893184e-08}, {'group': 1481, 'qty': 1, 'representativeness': 1.9857649249893184e-08}, {'group': 1482, 'qty': 1, 'representativeness': 1.9857649249893184e-08}, {'group': 1483, 'qty': 1, 'representativeness': 1.9857649249893184e-08}, {'group': 1484, 'qty': 1, 'representativeness': 1.9857649249893184e-08}, {'group': 1485, 'qty': 1, 'representativeness': 1.9857649249893184e-08}, {'group': 1486, 'qty': 1, 'representativeness': 1.9857649249893184e-08}, {'group': 1487, 'qty': 1, 'representativeness': 1.9857649249893184e-08}, {'group': 1488, 'qty': 1, 'representativeness': 1.9857649249893184e-08}, {'group': 1489, 'qty': 1, 'representativeness': 1.9857649249893184e-08}, {'group': 1490, 'qty': 1, 'representativeness': 1.9857649249893184e-08}, {'group': 1491, 'qty': 1, 'representativeness': 1.9857649249893184e-08}, {'group': 1492, 'qty': 1, 'representativeness': 1.9857649249893184e-08}, {'group': 1493, 'qty': 1, 'representativeness': 1.9857649249893184e-08}, {'group': 1494, 'qty': 1, 'representativeness': 1.9857649249893184e-08}, {'group': 1495, 'qty': 1, 'representativeness': 1.9857649249893184e-08}, {'group': 1496, 'qty': 1, 'representativeness': 1.9857649249893184e-08}, {'group': 1497, 'qty': 1, 'representativeness': 1.9857649249893184e-08}, {'group': 1498, 'qty': 1, 'representativeness': 1.9857649249893184e-08}, {'group': 1499, 'qty': 1, 'representativeness': 1.9857649249893184e-08}, {'group': 1500, 'qty': 1, 'representativeness': 1.9857649249893184e-08}, {'group': 1501, 'qty': 1, 'representativeness': 1.9857649249893184e-08}, {'group': 1502, 'qty': 1, 'representativeness': 1.9857649249893184e-08}, {'group': 1503, 'qty': 1, 'representativeness': 1.9857649249893184e-08}, {'group': 1504, 'qty': 1, 'representativeness': 1.9857649249893184e-08}, {'group': 1505, 'qty': 1, 'representativeness': 1.9857649249893184e-08}, {'group': 1506, 'qty': 1, 'representativeness': 1.9857649249893184e-08}, {'group': 1507, 'qty': 1, 'representativeness': 1.9857649249893184e-08}, {'group': 1508, 'qty': 1, 'representativeness': 1.9857649249893184e-08}, {'group': 1509, 'qty': 1, 'representativeness': 1.9857649249893184e-08}, {'group': 1510, 'qty': 1, 'representativeness': 1.9857649249893184e-08}, {'group': 1511, 'qty': 1, 'representativeness': 1.9857649249893184e-08}, {'group': 1512, 'qty': 1, 'representativeness': 1.9857649249893184e-08}, {'group': 1513, 'qty': 1, 'representativeness': 1.9857649249893184e-08}, {'group': 1514, 'qty': 1, 'representativeness': 1.9857649249893184e-08}, {'group': 1515, 'qty': 1, 'representativeness': 1.9857649249893184e-08}, {'group': 1516, 'qty': 1, 'representativeness': 1.9857649249893184e-08}, {'group': 1517, 'qty': 1, 'representativeness': 1.9857649249893184e-08}, {'group': 1518, 'qty': 1, 'representativeness': 1.9857649249893184e-08}, {'group': 1519, 'qty': 1, 'representativeness': 1.9857649249893184e-08}, {'group': 1520, 'qty': 1, 'representativeness': 1.9857649249893184e-08}, {'group': 1521, 'qty': 1, 'representativeness': 1.9857649249893184e-08}, {'group': 1522, 'qty': 1, 'representativeness': 1.9857649249893184e-08}, {'group': 1523, 'qty': 1, 'representativeness': 1.9857649249893184e-08}, {'group': 1524, 'qty': 1, 'representativeness': 1.9857649249893184e-08}, {'group': 1525, 'qty': 1, 'representativeness': 1.9857649249893184e-08}, {'group': 1526, 'qty': 1, 'representativeness': 1.9857649249893184e-08}, {'group': 1527, 'qty': 1, 'representativeness': 1.9857649249893184e-08}, {'group': 1528, 'qty': 1, 'representativeness': 1.9857649249893184e-08}, {'group': 1529, 'qty': 1, 'representativeness': 1.9857649249893184e-08}, {'group': 1530, 'qty': 1, 'representativeness': 1.9857649249893184e-08}, {'group': 1531, 'qty': 2, 'representativeness': 3.971529849978637e-08}, {'group': 1532, 'qty': 1, 'representativeness': 1.9857649249893184e-08}, {'group': 1533, 'qty': 1, 'representativeness': 1.9857649249893184e-08}, {'group': 1534, 'qty': 1, 'representativeness': 1.9857649249893184e-08}, {'group': 1535, 'qty': 1, 'representativeness': 1.9857649249893184e-08}, {'group': 1536, 'qty': 1, 'representativeness': 1.9857649249893184e-08}, {'group': 1537, 'qty': 1, 'representativeness': 1.9857649249893184e-08}, {'group': 1538, 'qty': 1, 'representativeness': 1.9857649249893184e-08}, {'group': 1539, 'qty': 1, 'representativeness': 1.9857649249893184e-08}, {'group': 1540, 'qty': 1, 'representativeness': 1.9857649249893184e-08}, {'group': 1541, 'qty': 1, 'representativeness': 1.9857649249893184e-08}, {'group': 1542, 'qty': 1, 'representativeness': 1.9857649249893184e-08}, {'group': 1543, 'qty': 1, 'representativeness': 1.9857649249893184e-08}, {'group': 1544, 'qty': 1, 'representativeness': 1.9857649249893184e-08}, {'group': 1545, 'qty': 1, 'representativeness': 1.9857649249893184e-08}, {'group': 1546, 'qty': 1, 'representativeness': 1.9857649249893184e-08}, {'group': 1547, 'qty': 1, 'representativeness': 1.9857649249893184e-08}, {'group': 1548, 'qty': 1, 'representativeness': 1.9857649249893184e-08}, {'group': 1549, 'qty': 1, 'representativeness': 1.9857649249893184e-08}, {'group': 1550, 'qty': 1, 'representativeness': 1.9857649249893184e-08}, {'group': 1551, 'qty': 2, 'representativeness': 3.971529849978637e-08}, {'group': 1552, 'qty': 1, 'representativeness': 1.9857649249893184e-08}, {'group': 1553, 'qty': 1, 'representativeness': 1.9857649249893184e-08}, {'group': 1554, 'qty': 1, 'representativeness': 1.9857649249893184e-08}, {'group': 1555, 'qty': 1, 'representativeness': 1.9857649249893184e-08}, {'group': 1556, 'qty': 1, 'representativeness': 1.9857649249893184e-08}, {'group': 1557, 'qty': 1, 'representativeness': 1.9857649249893184e-08}, {'group': 1558, 'qty': 1, 'representativeness': 1.9857649249893184e-08}, {'group': 1559, 'qty': 1, 'representativeness': 1.9857649249893184e-08}, {'group': 1560, 'qty': 1, 'representativeness': 1.9857649249893184e-08}, {'group': 1561, 'qty': 1, 'representativeness': 1.9857649249893184e-08}, {'group': 1562, 'qty': 1, 'representativeness': 1.9857649249893184e-08}, {'group': 1563, 'qty': 1, 'representativeness': 1.9857649249893184e-08}, {'group': 1564, 'qty': 1, 'representativeness': 1.9857649249893184e-08}, {'group': 1565, 'qty': 1, 'representativeness': 1.9857649249893184e-08}, {'group': 1566, 'qty': 1, 'representativeness': 1.9857649249893184e-08}, {'group': 1567, 'qty': 1, 'representativeness': 1.9857649249893184e-08}, {'group': 1568, 'qty': 1, 'representativeness': 1.9857649249893184e-08}, {'group': 1569, 'qty': 1, 'representativeness': 1.9857649249893184e-08}, {'group': 1570, 'qty': 1, 'representativeness': 1.9857649249893184e-08}, {'group': 1571, 'qty': 1, 'representativeness': 1.9857649249893184e-08}, {'group': 1572, 'qty': 1, 'representativeness': 1.9857649249893184e-08}, {'group': 1573, 'qty': 1, 'representativeness': 1.9857649249893184e-08}, {'group': 1574, 'qty': 1, 'representativeness': 1.9857649249893184e-08}, {'group': 1575, 'qty': 1, 'representativeness': 1.9857649249893184e-08}, {'group': 1576, 'qty': 1, 'representativeness': 1.9857649249893184e-08}, {'group': 1577, 'qty': 1, 'representativeness': 1.9857649249893184e-08}, {'group': 1578, 'qty': 1, 'representativeness': 1.9857649249893184e-08}, {'group': 1579, 'qty': 1, 'representativeness': 1.9857649249893184e-08}, {'group': 1580, 'qty': 1, 'representativeness': 1.9857649249893184e-08}, {'group': 1581, 'qty': 1, 'representativeness': 1.9857649249893184e-08}, {'group': 1582, 'qty': 1, 'representativeness': 1.9857649249893184e-08}, {'group': 1583, 'qty': 1, 'representativeness': 1.9857649249893184e-08}, {'group': 1584, 'qty': 1, 'representativeness': 1.9857649249893184e-08}, {'group': 1585, 'qty': 1, 'representativeness': 1.9857649249893184e-08}, {'group': 1586, 'qty': 1, 'representativeness': 1.9857649249893184e-08}, {'group': 1587, 'qty': 1, 'representativeness': 1.9857649249893184e-08}, {'group': 1588, 'qty': 1, 'representativeness': 1.9857649249893184e-08}, {'group': 1589, 'qty': 1, 'representativeness': 1.9857649249893184e-08}, {'group': 1590, 'qty': 1, 'representativeness': 1.9857649249893184e-08}, {'group': 1591, 'qty': 1, 'representativeness': 1.9857649249893184e-08}, {'group': 1592, 'qty': 1, 'representativeness': 1.9857649249893184e-08}, {'group': 1593, 'qty': 1, 'representativeness': 1.9857649249893184e-08}, {'group': 1594, 'qty': 1, 'representativeness': 1.9857649249893184e-08}, {'group': 1595, 'qty': 1, 'representativeness': 1.9857649249893184e-08}, {'group': 1596, 'qty': 1, 'representativeness': 1.9857649249893184e-08}, {'group': 1597, 'qty': 1, 'representativeness': 1.9857649249893184e-08}, {'group': 1598, 'qty': 1, 'representativeness': 1.9857649249893184e-08}, {'group': 1599, 'qty': 1, 'representativeness': 1.9857649249893184e-08}, {'group': 1600, 'qty': 1, 'representativeness': 1.9857649249893184e-08}, {'group': 1601, 'qty': 1, 'representativeness': 1.9857649249893184e-08}, {'group': 1602, 'qty': 1, 'representativeness': 1.9857649249893184e-08}, {'group': 1603, 'qty': 1, 'representativeness': 1.9857649249893184e-08}, {'group': 1604, 'qty': 1, 'representativeness': 1.9857649249893184e-08}, {'group': 1605, 'qty': 1, 'representativeness': 1.9857649249893184e-08}, {'group': 1606, 'qty': 1, 'representativeness': 1.9857649249893184e-08}, {'group': 1607, 'qty': 1, 'representativeness': 1.9857649249893184e-08}, {'group': 1608, 'qty': 1, 'representativeness': 1.9857649249893184e-08}, {'group': 1609, 'qty': 1, 'representativeness': 1.9857649249893184e-08}, {'group': 1610, 'qty': 1, 'representativeness': 1.9857649249893184e-08}, {'group': 1611, 'qty': 1, 'representativeness': 1.9857649249893184e-08}, {'group': 1612, 'qty': 1, 'representativeness': 1.9857649249893184e-08}, {'group': 1613, 'qty': 1, 'representativeness': 1.9857649249893184e-08}, {'group': 1614, 'qty': 1, 'representativeness': 1.9857649249893184e-08}, {'group': 1615, 'qty': 1, 'representativeness': 1.9857649249893184e-08}, {'group': 1616, 'qty': 1, 'representativeness': 1.9857649249893184e-08}, {'group': 1617, 'qty': 1, 'representativeness': 1.9857649249893184e-08}, {'group': 1618, 'qty': 1, 'representativeness': 1.9857649249893184e-08}, {'group': 1619, 'qty': 1, 'representativeness': 1.9857649249893184e-08}, {'group': 1620, 'qty': 1, 'representativeness': 1.9857649249893184e-08}, {'group': 1621, 'qty': 1, 'representativeness': 1.9857649249893184e-08}, {'group': 1622, 'qty': 1, 'representativeness': 1.9857649249893184e-08}, {'group': 1623, 'qty': 1, 'representativeness': 1.9857649249893184e-08}, {'group': 1624, 'qty': 1, 'representativeness': 1.9857649249893184e-08}, {'group': 1625, 'qty': 1, 'representativeness': 1.9857649249893184e-08}, {'group': 1626, 'qty': 1, 'representativeness': 1.9857649249893184e-08}, {'group': 1627, 'qty': 1, 'representativeness': 1.9857649249893184e-08}, {'group': 1628, 'qty': 1, 'representativeness': 1.9857649249893184e-08}, {'group': 1629, 'qty': 1, 'representativeness': 1.9857649249893184e-08}, {'group': 1630, 'qty': 1, 'representativeness': 1.9857649249893184e-08}, {'group': 1631, 'qty': 1, 'representativeness': 1.9857649249893184e-08}, {'group': 1632, 'qty': 1, 'representativeness': 1.9857649249893184e-08}, {'group': 1633, 'qty': 1, 'representativeness': 1.9857649249893184e-08}, {'group': 1634, 'qty': 1, 'representativeness': 1.9857649249893184e-08}, {'group': 1635, 'qty': 1, 'representativeness': 1.9857649249893184e-08}, {'group': 1636, 'qty': 1, 'representativeness': 1.9857649249893184e-08}, {'group': 1637, 'qty': 1, 'representativeness': 1.9857649249893184e-08}, {'group': 1638, 'qty': 1, 'representativeness': 1.9857649249893184e-08}, {'group': 1639, 'qty': 1, 'representativeness': 1.9857649249893184e-08}, {'group': 1640, 'qty': 1, 'representativeness': 1.9857649249893184e-08}, {'group': 1641, 'qty': 1, 'representativeness': 1.9857649249893184e-08}, {'group': 1642, 'qty': 1, 'representativeness': 1.9857649249893184e-08}, {'group': 1643, 'qty': 1, 'representativeness': 1.9857649249893184e-08}, {'group': 1644, 'qty': 1, 'representativeness': 1.9857649249893184e-08}, {'group': 1645, 'qty': 1, 'representativeness': 1.9857649249893184e-08}, {'group': 1646, 'qty': 1, 'representativeness': 1.9857649249893184e-08}, {'group': 1647, 'qty': 1, 'representativeness': 1.9857649249893184e-08}, {'group': 1648, 'qty': 1, 'representativeness': 1.9857649249893184e-08}, {'group': 1649, 'qty': 1, 'representativeness': 1.9857649249893184e-08}, {'group': 1650, 'qty': 1, 'representativeness': 1.9857649249893184e-08}, {'group': 1651, 'qty': 1, 'representativeness': 1.9857649249893184e-08}, {'group': 1652, 'qty': 1, 'representativeness': 1.9857649249893184e-08}, {'group': 1653, 'qty': 1, 'representativeness': 1.9857649249893184e-08}, {'group': 1654, 'qty': 1, 'representativeness': 1.9857649249893184e-08}, {'group': 1655, 'qty': 1, 'representativeness': 1.9857649249893184e-08}, {'group': 1656, 'qty': 1, 'representativeness': 1.9857649249893184e-08}, {'group': 1657, 'qty': 1, 'representativeness': 1.9857649249893184e-08}, {'group': 1658, 'qty': 1, 'representativeness': 1.9857649249893184e-08}, {'group': 1659, 'qty': 1, 'representativeness': 1.9857649249893184e-08}, {'group': 1660, 'qty': 1, 'representativeness': 1.9857649249893184e-08}, {'group': 1661, 'qty': 1, 'representativeness': 1.9857649249893184e-08}, {'group': 1662, 'qty': 1, 'representativeness': 1.9857649249893184e-08}, {'group': 1663, 'qty': 1, 'representativeness': 1.9857649249893184e-08}, {'group': 1664, 'qty': 1, 'representativeness': 1.9857649249893184e-08}, {'group': 1665, 'qty': 1, 'representativeness': 1.9857649249893184e-08}, {'group': 1666, 'qty': 1, 'representativeness': 1.9857649249893184e-08}, {'group': 1667, 'qty': 1, 'representativeness': 1.9857649249893184e-08}, {'group': 1668, 'qty': 1, 'representativeness': 1.9857649249893184e-08}, {'group': 1669, 'qty': 1, 'representativeness': 1.9857649249893184e-08}, {'group': 1670, 'qty': 1, 'representativeness': 1.9857649249893184e-08}, {'group': 1671, 'qty': 1, 'representativeness': 1.9857649249893184e-08}, {'group': 1672, 'qty': 1, 'representativeness': 1.9857649249893184e-08}, {'group': 1673, 'qty': 1, 'representativeness': 1.9857649249893184e-08}, {'group': 1674, 'qty': 1, 'representativeness': 1.9857649249893184e-08}, {'group': 1675, 'qty': 1, 'representativeness': 1.9857649249893184e-08}, {'group': 1676, 'qty': 1, 'representativeness': 1.9857649249893184e-08}, {'group': 1677, 'qty': 1, 'representativeness': 1.9857649249893184e-08}, {'group': 1678, 'qty': 1, 'representativeness': 1.9857649249893184e-08}, {'group': 1679, 'qty': 1, 'representativeness': 1.9857649249893184e-08}, {'group': 1680, 'qty': 1, 'representativeness': 1.9857649249893184e-08}, {'group': 1681, 'qty': 1, 'representativeness': 1.9857649249893184e-08}, {'group': 1682, 'qty': 1, 'representativeness': 1.9857649249893184e-08}, {'group': 1683, 'qty': 1, 'representativeness': 1.9857649249893184e-08}, {'group': 1684, 'qty': 1, 'representativeness': 1.9857649249893184e-08}, {'group': 1685, 'qty': 1, 'representativeness': 1.9857649249893184e-08}, {'group': 1686, 'qty': 1, 'representativeness': 1.9857649249893184e-08}, {'group': 1687, 'qty': 1, 'representativeness': 1.9857649249893184e-08}, {'group': 1688, 'qty': 1, 'representativeness': 1.9857649249893184e-08}, {'group': 1689, 'qty': 1, 'representativeness': 1.9857649249893184e-08}, {'group': 1690, 'qty': 1, 'representativeness': 1.9857649249893184e-08}, {'group': 1691, 'qty': 1, 'representativeness': 1.9857649249893184e-08}, {'group': 1692, 'qty': 1, 'representativeness': 1.9857649249893184e-08}, {'group': 1693, 'qty': 1, 'representativeness': 1.9857649249893184e-08}, {'group': 1694, 'qty': 1, 'representativeness': 1.9857649249893184e-08}, {'group': 1695, 'qty': 1, 'representativeness': 1.9857649249893184e-08}, {'group': 1696, 'qty': 1, 'representativeness': 1.9857649249893184e-08}, {'group': 1697, 'qty': 1, 'representativeness': 1.9857649249893184e-08}, {'group': 1698, 'qty': 1, 'representativeness': 1.9857649249893184e-08}, {'group': 1699, 'qty': 1, 'representativeness': 1.9857649249893184e-08}, {'group': 1700, 'qty': 1, 'representativeness': 1.9857649249893184e-08}, {'group': 1701, 'qty': 2, 'representativeness': 3.971529849978637e-08}, {'group': 1702, 'qty': 1, 'representativeness': 1.9857649249893184e-08}, {'group': 1703, 'qty': 1, 'representativeness': 1.9857649249893184e-08}, {'group': 1704, 'qty': 1, 'representativeness': 1.9857649249893184e-08}, {'group': 1705, 'qty': 1, 'representativeness': 1.9857649249893184e-08}, {'group': 1706, 'qty': 1, 'representativeness': 1.9857649249893184e-08}, {'group': 1707, 'qty': 1, 'representativeness': 1.9857649249893184e-08}, {'group': 1708, 'qty': 1, 'representativeness': 1.9857649249893184e-08}, {'group': 1709, 'qty': 1, 'representativeness': 1.9857649249893184e-08}, {'group': 1710, 'qty': 1, 'representativeness': 1.9857649249893184e-08}, {'group': 1711, 'qty': 1, 'representativeness': 1.9857649249893184e-08}, {'group': 1712, 'qty': 1, 'representativeness': 1.9857649249893184e-08}, {'group': 1713, 'qty': 1, 'representativeness': 1.9857649249893184e-08}, {'group': 1714, 'qty': 1, 'representativeness': 1.9857649249893184e-08}, {'group': 1715, 'qty': 1, 'representativeness': 1.9857649249893184e-08}, {'group': 1716, 'qty': 1, 'representativeness': 1.9857649249893184e-08}, {'group': 1717, 'qty': 1, 'representativeness': 1.9857649249893184e-08}, {'group': 1718, 'qty': 1, 'representativeness': 1.9857649249893184e-08}, {'group': 1719, 'qty': 1, 'representativeness': 1.9857649249893184e-08}, {'group': 1720, 'qty': 1, 'representativeness': 1.9857649249893184e-08}, {'group': 1721, 'qty': 1, 'representativeness': 1.9857649249893184e-08}, {'group': 1722, 'qty': 1, 'representativeness': 1.9857649249893184e-08}, {'group': 1723, 'qty': 1, 'representativeness': 1.9857649249893184e-08}, {'group': 1724, 'qty': 1, 'representativeness': 1.9857649249893184e-08}, {'group': 1725, 'qty': 1, 'representativeness': 1.9857649249893184e-08}, {'group': 1726, 'qty': 1, 'representativeness': 1.9857649249893184e-08}, {'group': 1727, 'qty': 1, 'representativeness': 1.9857649249893184e-08}, {'group': 1728, 'qty': 1, 'representativeness': 1.9857649249893184e-08}, {'group': 1729, 'qty': 1, 'representativeness': 1.9857649249893184e-08}, {'group': 1730, 'qty': 1, 'representativeness': 1.9857649249893184e-08}, {'group': 1731, 'qty': 1, 'representativeness': 1.9857649249893184e-08}, {'group': 1732, 'qty': 1, 'representativeness': 1.9857649249893184e-08}, {'group': 1733, 'qty': 1, 'representativeness': 1.9857649249893184e-08}, {'group': 1734, 'qty': 1, 'representativeness': 1.9857649249893184e-08}, {'group': 1735, 'qty': 1, 'representativeness': 1.9857649249893184e-08}, {'group': 1736, 'qty': 1, 'representativeness': 1.9857649249893184e-08}, {'group': 1737, 'qty': 1, 'representativeness': 1.9857649249893184e-08}, {'group': 1738, 'qty': 1, 'representativeness': 1.9857649249893184e-08}, {'group': 1739, 'qty': 1, 'representativeness': 1.9857649249893184e-08}, {'group': 1740, 'qty': 1, 'representativeness': 1.9857649249893184e-08}, {'group': 1741, 'qty': 1, 'representativeness': 1.9857649249893184e-08}, {'group': 1742, 'qty': 1, 'representativeness': 1.9857649249893184e-08}, {'group': 1743, 'qty': 1, 'representativeness': 1.9857649249893184e-08}, {'group': 1744, 'qty': 1, 'representativeness': 1.9857649249893184e-08}, {'group': 1745, 'qty': 1, 'representativeness': 1.9857649249893184e-08}, {'group': 1746, 'qty': 1, 'representativeness': 1.9857649249893184e-08}, {'group': 1747, 'qty': 1, 'representativeness': 1.9857649249893184e-08}, {'group': 1748, 'qty': 1, 'representativeness': 1.9857649249893184e-08}, {'group': 1749, 'qty': 1, 'representativeness': 1.9857649249893184e-08}, {'group': 1750, 'qty': 1, 'representativeness': 1.9857649249893184e-08}, {'group': 1751, 'qty': 1, 'representativeness': 1.9857649249893184e-08}, {'group': 1752, 'qty': 1, 'representativeness': 1.9857649249893184e-08}, {'group': 1753, 'qty': 1, 'representativeness': 1.9857649249893184e-08}, {'group': 1754, 'qty': 1, 'representativeness': 1.9857649249893184e-08}, {'group': 1755, 'qty': 1, 'representativeness': 1.9857649249893184e-08}, {'group': 1756, 'qty': 1, 'representativeness': 1.9857649249893184e-08}, {'group': 1757, 'qty': 1, 'representativeness': 1.9857649249893184e-08}, {'group': 1758, 'qty': 1, 'representativeness': 1.9857649249893184e-08}, {'group': 1759, 'qty': 1, 'representativeness': 1.9857649249893184e-08}, {'group': 1760, 'qty': 1, 'representativeness': 1.9857649249893184e-08}, {'group': 1761, 'qty': 1, 'representativeness': 1.9857649249893184e-08}, {'group': 1762, 'qty': 1, 'representativeness': 1.9857649249893184e-08}, {'group': 1763, 'qty': 1, 'representativeness': 1.9857649249893184e-08}, {'group': 1764, 'qty': 1, 'representativeness': 1.9857649249893184e-08}, {'group': 1765, 'qty': 1, 'representativeness': 1.9857649249893184e-08}, {'group': 1766, 'qty': 1, 'representativeness': 1.9857649249893184e-08}, {'group': 1767, 'qty': 1, 'representativeness': 1.9857649249893184e-08}, {'group': 1768, 'qty': 1, 'representativeness': 1.9857649249893184e-08}, {'group': 1769, 'qty': 1, 'representativeness': 1.9857649249893184e-08}, {'group': 1770, 'qty': 1, 'representativeness': 1.9857649249893184e-08}, {'group': 1771, 'qty': 1, 'representativeness': 1.9857649249893184e-08}, {'group': 1772, 'qty': 1, 'representativeness': 1.9857649249893184e-08}, {'group': 1773, 'qty': 1, 'representativeness': 1.9857649249893184e-08}, {'group': 1774, 'qty': 1, 'representativeness': 1.9857649249893184e-08}, {'group': 1775, 'qty': 1, 'representativeness': 1.9857649249893184e-08}, {'group': 1776, 'qty': 1, 'representativeness': 1.9857649249893184e-08}, {'group': 1777, 'qty': 1, 'representativeness': 1.9857649249893184e-08}, {'group': 1778, 'qty': 1, 'representativeness': 1.9857649249893184e-08}, {'group': 1779, 'qty': 1, 'representativeness': 1.9857649249893184e-08}, {'group': 1780, 'qty': 1, 'representativeness': 1.9857649249893184e-08}, {'group': 1781, 'qty': 1, 'representativeness': 1.9857649249893184e-08}, {'group': 1782, 'qty': 1, 'representativeness': 1.9857649249893184e-08}, {'group': 1783, 'qty': 1, 'representativeness': 1.9857649249893184e-08}, {'group': 1784, 'qty': 1, 'representativeness': 1.9857649249893184e-08}, {'group': 1785, 'qty': 1, 'representativeness': 1.9857649249893184e-08}, {'group': 1786, 'qty': 1, 'representativeness': 1.9857649249893184e-08}, {'group': 1787, 'qty': 1, 'representativeness': 1.9857649249893184e-08}, {'group': 1788, 'qty': 1, 'representativeness': 1.9857649249893184e-08}, {'group': 1789, 'qty': 1, 'representativeness': 1.9857649249893184e-08}, {'group': 1790, 'qty': 1, 'representativeness': 1.9857649249893184e-08}, {'group': 1791, 'qty': 1, 'representativeness': 1.9857649249893184e-08}, {'group': 1792, 'qty': 1, 'representativeness': 1.9857649249893184e-08}, {'group': 1793, 'qty': 1, 'representativeness': 1.9857649249893184e-08}, {'group': 1794, 'qty': 1, 'representativeness': 1.9857649249893184e-08}, {'group': 1795, 'qty': 1, 'representativeness': 1.9857649249893184e-08}, {'group': 1796, 'qty': 1, 'representativeness': 1.9857649249893184e-08}, {'group': 1797, 'qty': 1, 'representativeness': 1.9857649249893184e-08}, {'group': 1798, 'qty': 1, 'representativeness': 1.9857649249893184e-08}, {'group': 1799, 'qty': 1, 'representativeness': 1.9857649249893184e-08}, {'group': 1800, 'qty': 1, 'representativeness': 1.9857649249893184e-08}, {'group': 1801, 'qty': 1, 'representativeness': 1.9857649249893184e-08}, {'group': 1802, 'qty': 1, 'representativeness': 1.9857649249893184e-08}, {'group': 1803, 'qty': 1, 'representativeness': 1.9857649249893184e-08}, {'group': 1804, 'qty': 1, 'representativeness': 1.9857649249893184e-08}, {'group': 1805, 'qty': 1, 'representativeness': 1.9857649249893184e-08}, {'group': 1806, 'qty': 1, 'representativeness': 1.9857649249893184e-08}, {'group': 1807, 'qty': 1, 'representativeness': 1.9857649249893184e-08}, {'group': 1808, 'qty': 1, 'representativeness': 1.9857649249893184e-08}, {'group': 1809, 'qty': 1, 'representativeness': 1.9857649249893184e-08}, {'group': 1810, 'qty': 1, 'representativeness': 1.9857649249893184e-08}, {'group': 1811, 'qty': 1, 'representativeness': 1.9857649249893184e-08}, {'group': 1812, 'qty': 1, 'representativeness': 1.9857649249893184e-08}, {'group': 1813, 'qty': 1, 'representativeness': 1.9857649249893184e-08}, {'group': 1814, 'qty': 1, 'representativeness': 1.9857649249893184e-08}, {'group': 1815, 'qty': 1, 'representativeness': 1.9857649249893184e-08}, {'group': 1816, 'qty': 1, 'representativeness': 1.9857649249893184e-08}, {'group': 1817, 'qty': 1, 'representativeness': 1.9857649249893184e-08}, {'group': 1818, 'qty': 1, 'representativeness': 1.9857649249893184e-08}, {'group': 1819, 'qty': 1, 'representativeness': 1.9857649249893184e-08}, {'group': 1820, 'qty': 1, 'representativeness': 1.9857649249893184e-08}, {'group': 1821, 'qty': 1, 'representativeness': 1.9857649249893184e-08}, {'group': 1822, 'qty': 1, 'representativeness': 1.9857649249893184e-08}, {'group': 1823, 'qty': 1, 'representativeness': 1.9857649249893184e-08}, {'group': 1824, 'qty': 1, 'representativeness': 1.9857649249893184e-08}, {'group': 1825, 'qty': 1, 'representativeness': 1.9857649249893184e-08}, {'group': 1826, 'qty': 1, 'representativeness': 1.9857649249893184e-08}, {'group': 1827, 'qty': 1, 'representativeness': 1.9857649249893184e-08}, {'group': 1828, 'qty': 1, 'representativeness': 1.9857649249893184e-08}, {'group': 1829, 'qty': 1, 'representativeness': 1.9857649249893184e-08}, {'group': 1830, 'qty': 1, 'representativeness': 1.9857649249893184e-08}, {'group': 1831, 'qty': 1, 'representativeness': 1.9857649249893184e-08}, {'group': 1832, 'qty': 1, 'representativeness': 1.9857649249893184e-08}, {'group': 1833, 'qty': 1, 'representativeness': 1.9857649249893184e-08}, {'group': 1834, 'qty': 1, 'representativeness': 1.9857649249893184e-08}, {'group': 1835, 'qty': 1, 'representativeness': 1.9857649249893184e-08}, {'group': 1836, 'qty': 1, 'representativeness': 1.9857649249893184e-08}, {'group': 1837, 'qty': 1, 'representativeness': 1.9857649249893184e-08}, {'group': 1838, 'qty': 1, 'representativeness': 1.9857649249893184e-08}, {'group': 1839, 'qty': 1, 'representativeness': 1.9857649249893184e-08}, {'group': 1840, 'qty': 1, 'representativeness': 1.9857649249893184e-08}, {'group': 1841, 'qty': 1, 'representativeness': 1.9857649249893184e-08}, {'group': 1842, 'qty': 1, 'representativeness': 1.9857649249893184e-08}, {'group': 1843, 'qty': 1, 'representativeness': 1.9857649249893184e-08}, {'group': 1844, 'qty': 1, 'representativeness': 1.9857649249893184e-08}, {'group': 1845, 'qty': 1, 'representativeness': 1.9857649249893184e-08}, {'group': 1846, 'qty': 1, 'representativeness': 1.9857649249893184e-08}, {'group': 1847, 'qty': 1, 'representativeness': 1.9857649249893184e-08}, {'group': 1848, 'qty': 1, 'representativeness': 1.9857649249893184e-08}, {'group': 1849, 'qty': 1, 'representativeness': 1.9857649249893184e-08}, {'group': 1850, 'qty': 1, 'representativeness': 1.9857649249893184e-08}, {'group': 1851, 'qty': 1, 'representativeness': 1.9857649249893184e-08}, {'group': 1852, 'qty': 1, 'representativeness': 1.9857649249893184e-08}, {'group': 1853, 'qty': 1, 'representativeness': 1.9857649249893184e-08}, {'group': 1854, 'qty': 1, 'representativeness': 1.9857649249893184e-08}, {'group': 1855, 'qty': 1, 'representativeness': 1.9857649249893184e-08}, {'group': 1856, 'qty': 1, 'representativeness': 1.9857649249893184e-08}, {'group': 1857, 'qty': 1, 'representativeness': 1.9857649249893184e-08}, {'group': 1858, 'qty': 1, 'representativeness': 1.9857649249893184e-08}, {'group': 1859, 'qty': 1, 'representativeness': 1.9857649249893184e-08}, {'group': 1860, 'qty': 1, 'representativeness': 1.9857649249893184e-08}, {'group': 1861, 'qty': 1, 'representativeness': 1.9857649249893184e-08}, {'group': 1862, 'qty': 1, 'representativeness': 1.9857649249893184e-08}, {'group': 1863, 'qty': 1, 'representativeness': 1.9857649249893184e-08}, {'group': 1864, 'qty': 1, 'representativeness': 1.9857649249893184e-08}, {'group': 1865, 'qty': 1, 'representativeness': 1.9857649249893184e-08}, {'group': 1866, 'qty': 1, 'representativeness': 1.9857649249893184e-08}, {'group': 1867, 'qty': 1, 'representativeness': 1.9857649249893184e-08}, {'group': 1868, 'qty': 1, 'representativeness': 1.9857649249893184e-08}, {'group': 1869, 'qty': 1, 'representativeness': 1.9857649249893184e-08}, {'group': 1870, 'qty': 1, 'representativeness': 1.9857649249893184e-08}, {'group': 1871, 'qty': 1, 'representativeness': 1.9857649249893184e-08}, {'group': 1872, 'qty': 1, 'representativeness': 1.9857649249893184e-08}, {'group': 1873, 'qty': 1, 'representativeness': 1.9857649249893184e-08}, {'group': 1874, 'qty': 1, 'representativeness': 1.9857649249893184e-08}, {'group': 1875, 'qty': 1, 'representativeness': 1.9857649249893184e-08}, {'group': 1876, 'qty': 1, 'representativeness': 1.9857649249893184e-08}, {'group': 1877, 'qty': 1, 'representativeness': 1.9857649249893184e-08}, {'group': 1878, 'qty': 1, 'representativeness': 1.9857649249893184e-08}, {'group': 1879, 'qty': 1, 'representativeness': 1.9857649249893184e-08}, {'group': 1880, 'qty': 1, 'representativeness': 1.9857649249893184e-08}, {'group': 1881, 'qty': 1, 'representativeness': 1.9857649249893184e-08}, {'group': 1882, 'qty': 1, 'representativeness': 1.9857649249893184e-08}, {'group': 1883, 'qty': 1, 'representativeness': 1.9857649249893184e-08}, {'group': 1884, 'qty': 1, 'representativeness': 1.9857649249893184e-08}, {'group': 1885, 'qty': 1, 'representativeness': 1.9857649249893184e-08}, {'group': 1886, 'qty': 1, 'representativeness': 1.9857649249893184e-08}, {'group': 1887, 'qty': 1, 'representativeness': 1.9857649249893184e-08}, {'group': 1888, 'qty': 1, 'representativeness': 1.9857649249893184e-08}, {'group': 1889, 'qty': 1, 'representativeness': 1.9857649249893184e-08}, {'group': 1890, 'qty': 1, 'representativeness': 1.9857649249893184e-08}, {'group': 1891, 'qty': 1, 'representativeness': 1.9857649249893184e-08}, {'group': 1892, 'qty': 1, 'representativeness': 1.9857649249893184e-08}, {'group': 1893, 'qty': 1, 'representativeness': 1.9857649249893184e-08}, {'group': 1894, 'qty': 1, 'representativeness': 1.9857649249893184e-08}, {'group': 1895, 'qty': 1, 'representativeness': 1.9857649249893184e-08}, {'group': 1896, 'qty': 1, 'representativeness': 1.9857649249893184e-08}, {'group': 1897, 'qty': 1, 'representativeness': 1.9857649249893184e-08}, {'group': 1898, 'qty': 1, 'representativeness': 1.9857649249893184e-08}, {'group': 1899, 'qty': 1, 'representativeness': 1.9857649249893184e-08}, {'group': 1900, 'qty': 1, 'representativeness': 1.9857649249893184e-08}, {'group': 1901, 'qty': 1, 'representativeness': 1.9857649249893184e-08}, {'group': 1902, 'qty': 1, 'representativeness': 1.9857649249893184e-08}, {'group': 1903, 'qty': 1, 'representativeness': 1.9857649249893184e-08}, {'group': 1904, 'qty': 1, 'representativeness': 1.9857649249893184e-08}, {'group': 1905, 'qty': 1, 'representativeness': 1.9857649249893184e-08}, {'group': 1906, 'qty': 1, 'representativeness': 1.9857649249893184e-08}, {'group': 1907, 'qty': 1, 'representativeness': 1.9857649249893184e-08}, {'group': 1908, 'qty': 1, 'representativeness': 1.9857649249893184e-08}, {'group': 1909, 'qty': 1, 'representativeness': 1.9857649249893184e-08}, {'group': 1910, 'qty': 1, 'representativeness': 1.9857649249893184e-08}, {'group': 1911, 'qty': 1, 'representativeness': 1.9857649249893184e-08}, {'group': 1912, 'qty': 1, 'representativeness': 1.9857649249893184e-08}, {'group': 1913, 'qty': 1, 'representativeness': 1.9857649249893184e-08}, {'group': 1914, 'qty': 1, 'representativeness': 1.9857649249893184e-08}, {'group': 1915, 'qty': 1, 'representativeness': 1.9857649249893184e-08}, {'group': 1916, 'qty': 1, 'representativeness': 1.9857649249893184e-08}, {'group': 1917, 'qty': 1, 'representativeness': 1.9857649249893184e-08}, {'group': 1918, 'qty': 1, 'representativeness': 1.9857649249893184e-08}, {'group': 1919, 'qty': 1, 'representativeness': 1.9857649249893184e-08}, {'group': 1920, 'qty': 1, 'representativeness': 1.9857649249893184e-08}, {'group': 1921, 'qty': 1, 'representativeness': 1.9857649249893184e-08}, {'group': 1922, 'qty': 1, 'representativeness': 1.9857649249893184e-08}, {'group': 1923, 'qty': 1, 'representativeness': 1.9857649249893184e-08}, {'group': 1924, 'qty': 1, 'representativeness': 1.9857649249893184e-08}, {'group': 1925, 'qty': 1, 'representativeness': 1.9857649249893184e-08}, {'group': 1926, 'qty': 1, 'representativeness': 1.9857649249893184e-08}, {'group': 1927, 'qty': 1, 'representativeness': 1.9857649249893184e-08}, {'group': 1928, 'qty': 2, 'representativeness': 3.971529849978637e-08}, {'group': 1929, 'qty': 1, 'representativeness': 1.9857649249893184e-08}, {'group': 1930, 'qty': 1, 'representativeness': 1.9857649249893184e-08}, {'group': 1931, 'qty': 1, 'representativeness': 1.9857649249893184e-08}, {'group': 1932, 'qty': 1, 'representativeness': 1.9857649249893184e-08}, {'group': 1933, 'qty': 1, 'representativeness': 1.9857649249893184e-08}, {'group': 1934, 'qty': 1, 'representativeness': 1.9857649249893184e-08}, {'group': 1935, 'qty': 1, 'representativeness': 1.9857649249893184e-08}, {'group': 1936, 'qty': 1, 'representativeness': 1.9857649249893184e-08}, {'group': 1937, 'qty': 1, 'representativeness': 1.9857649249893184e-08}, {'group': 1938, 'qty': 1, 'representativeness': 1.9857649249893184e-08}, {'group': 1939, 'qty': 1, 'representativeness': 1.9857649249893184e-08}, {'group': 1940, 'qty': 1, 'representativeness': 1.9857649249893184e-08}, {'group': 1941, 'qty': 1, 'representativeness': 1.9857649249893184e-08}, {'group': 1942, 'qty': 1, 'representativeness': 1.9857649249893184e-08}, {'group': 1943, 'qty': 1, 'representativeness': 1.9857649249893184e-08}, {'group': 1944, 'qty': 1, 'representativeness': 1.9857649249893184e-08}, {'group': 1945, 'qty': 1, 'representativeness': 1.9857649249893184e-08}, {'group': 1946, 'qty': 1, 'representativeness': 1.9857649249893184e-08}, {'group': 1947, 'qty': 1, 'representativeness': 1.9857649249893184e-08}, {'group': 1948, 'qty': 1, 'representativeness': 1.9857649249893184e-08}, {'group': 1949, 'qty': 1, 'representativeness': 1.9857649249893184e-08}, {'group': 1950, 'qty': 1, 'representativeness': 1.9857649249893184e-08}, {'group': 1951, 'qty': 1, 'representativeness': 1.9857649249893184e-08}, {'group': 1952, 'qty': 1, 'representativeness': 1.9857649249893184e-08}, {'group': 1953, 'qty': 1, 'representativeness': 1.9857649249893184e-08}, {'group': 1954, 'qty': 1, 'representativeness': 1.9857649249893184e-08}, {'group': 1955, 'qty': 1, 'representativeness': 1.9857649249893184e-08}, {'group': 1956, 'qty': 1, 'representativeness': 1.9857649249893184e-08}, {'group': 1957, 'qty': 1, 'representativeness': 1.9857649249893184e-08}, {'group': 1958, 'qty': 1, 'representativeness': 1.9857649249893184e-08}, {'group': 1959, 'qty': 1, 'representativeness': 1.9857649249893184e-08}, {'group': 1960, 'qty': 1, 'representativeness': 1.9857649249893184e-08}, {'group': 1961, 'qty': 1, 'representativeness': 1.9857649249893184e-08}, {'group': 1962, 'qty': 1, 'representativeness': 1.9857649249893184e-08}, {'group': 1963, 'qty': 1, 'representativeness': 1.9857649249893184e-08}, {'group': 1964, 'qty': 1, 'representativeness': 1.9857649249893184e-08}, {'group': 1965, 'qty': 1, 'representativeness': 1.9857649249893184e-08}, {'group': 1966, 'qty': 1, 'representativeness': 1.9857649249893184e-08}, {'group': 1967, 'qty': 1, 'representativeness': 1.9857649249893184e-08}, {'group': 1968, 'qty': 1, 'representativeness': 1.9857649249893184e-08}, {'group': 1969, 'qty': 1, 'representativeness': 1.9857649249893184e-08}, {'group': 1970, 'qty': 1, 'representativeness': 1.9857649249893184e-08}, {'group': 1971, 'qty': 1, 'representativeness': 1.9857649249893184e-08}, {'group': 1972, 'qty': 1, 'representativeness': 1.9857649249893184e-08}, {'group': 1973, 'qty': 2, 'representativeness': 3.971529849978637e-08}, {'group': 1974, 'qty': 1, 'representativeness': 1.9857649249893184e-08}, {'group': 1975, 'qty': 1, 'representativeness': 1.9857649249893184e-08}, {'group': 1976, 'qty': 1, 'representativeness': 1.9857649249893184e-08}, {'group': 1977, 'qty': 1, 'representativeness': 1.9857649249893184e-08}, {'group': 1978, 'qty': 1, 'representativeness': 1.9857649249893184e-08}, {'group': 1979, 'qty': 1, 'representativeness': 1.9857649249893184e-08}, {'group': 1980, 'qty': 1, 'representativeness': 1.9857649249893184e-08}, {'group': 1981, 'qty': 1, 'representativeness': 1.9857649249893184e-08}, {'group': 1982, 'qty': 1, 'representativeness': 1.9857649249893184e-08}, {'group': 1983, 'qty': 1, 'representativeness': 1.9857649249893184e-08}, {'group': 1984, 'qty': 1, 'representativeness': 1.9857649249893184e-08}, {'group': 1985, 'qty': 2, 'representativeness': 3.971529849978637e-08}, {'group': 1986, 'qty': 1, 'representativeness': 1.9857649249893184e-08}, {'group': 1987, 'qty': 1, 'representativeness': 1.9857649249893184e-08}, {'group': 1988, 'qty': 1, 'representativeness': 1.9857649249893184e-08}, {'group': 1989, 'qty': 1, 'representativeness': 1.9857649249893184e-08}, {'group': 1990, 'qty': 1, 'representativeness': 1.9857649249893184e-08}, {'group': 1991, 'qty': 1, 'representativeness': 1.9857649249893184e-08}, {'group': 1992, 'qty': 1, 'representativeness': 1.9857649249893184e-08}, {'group': 1993, 'qty': 1, 'representativeness': 1.9857649249893184e-08}, {'group': 1994, 'qty': 2, 'representativeness': 3.971529849978637e-08}, {'group': 1995, 'qty': 1, 'representativeness': 1.9857649249893184e-08}, {'group': 1996, 'qty': 1, 'representativeness': 1.9857649249893184e-08}, {'group': 1997, 'qty': 1, 'representativeness': 1.9857649249893184e-08}, {'group': 1998, 'qty': 1, 'representativeness': 1.9857649249893184e-08}, {'group': 1999, 'qty': 1, 'representativeness': 1.9857649249893184e-08}, {'group': 2000, 'qty': 1, 'representativeness': 1.9857649249893184e-08}, {'group': 2001, 'qty': 1, 'representativeness': 1.9857649249893184e-08}, {'group': 2002, 'qty': 1, 'representativeness': 1.9857649249893184e-08}, {'group': 2003, 'qty': 1, 'representativeness': 1.9857649249893184e-08}, {'group': 2004, 'qty': 1, 'representativeness': 1.9857649249893184e-08}, {'group': 2005, 'qty': 1, 'representativeness': 1.9857649249893184e-08}, {'group': 2006, 'qty': 1, 'representativeness': 1.9857649249893184e-08}, {'group': 2007, 'qty': 1, 'representativeness': 1.9857649249893184e-08}, {'group': 2008, 'qty': 1, 'representativeness': 1.9857649249893184e-08}, {'group': 2009, 'qty': 1, 'representativeness': 1.9857649249893184e-08}, {'group': 2010, 'qty': 2, 'representativeness': 3.971529849978637e-08}, {'group': 2011, 'qty': 1, 'representativeness': 1.9857649249893184e-08}, {'group': 2012, 'qty': 1, 'representativeness': 1.9857649249893184e-08}, {'group': 2013, 'qty': 1, 'representativeness': 1.9857649249893184e-08}, {'group': 2014, 'qty': 1, 'representativeness': 1.9857649249893184e-08}, {'group': 2015, 'qty': 1, 'representativeness': 1.9857649249893184e-08}, {'group': 2016, 'qty': 1, 'representativeness': 1.9857649249893184e-08}, {'group': 2017, 'qty': 1, 'representativeness': 1.9857649249893184e-08}, {'group': 2018, 'qty': 1, 'representativeness': 1.9857649249893184e-08}, {'group': 2019, 'qty': 1, 'representativeness': 1.9857649249893184e-08}, {'group': 2020, 'qty': 1, 'representativeness': 1.9857649249893184e-08}, {'group': 2021, 'qty': 1, 'representativeness': 1.9857649249893184e-08}, {'group': 2022, 'qty': 1, 'representativeness': 1.9857649249893184e-08}, {'group': 2023, 'qty': 1, 'representativeness': 1.9857649249893184e-08}, {'group': 2024, 'qty': 1, 'representativeness': 1.9857649249893184e-08}, {'group': 2025, 'qty': 1, 'representativeness': 1.9857649249893184e-08}, {'group': 2026, 'qty': 1, 'representativeness': 1.9857649249893184e-08}, {'group': 2027, 'qty': 1, 'representativeness': 1.9857649249893184e-08}, {'group': 2028, 'qty': 1, 'representativeness': 1.9857649249893184e-08}, {'group': 2029, 'qty': 1, 'representativeness': 1.9857649249893184e-08}, {'group': 2030, 'qty': 1, 'representativeness': 1.9857649249893184e-08}, {'group': 2031, 'qty': 1, 'representativeness': 1.9857649249893184e-08}, {'group': 2032, 'qty': 1, 'representativeness': 1.9857649249893184e-08}, {'group': 2033, 'qty': 1, 'representativeness': 1.9857649249893184e-08}, {'group': 2034, 'qty': 1, 'representativeness': 1.9857649249893184e-08}, {'group': 2035, 'qty': 1, 'representativeness': 1.9857649249893184e-08}, {'group': 2036, 'qty': 1, 'representativeness': 1.9857649249893184e-08}, {'group': 2037, 'qty': 1, 'representativeness': 1.9857649249893184e-08}, {'group': 2038, 'qty': 1, 'representativeness': 1.9857649249893184e-08}, {'group': 2039, 'qty': 1, 'representativeness': 1.9857649249893184e-08}, {'group': 2040, 'qty': 1, 'representativeness': 1.9857649249893184e-08}, {'group': 2041, 'qty': 1, 'representativeness': 1.9857649249893184e-08}, {'group': 2042, 'qty': 1, 'representativeness': 1.9857649249893184e-08}, {'group': 2043, 'qty': 1, 'representativeness': 1.9857649249893184e-08}, {'group': 2044, 'qty': 1, 'representativeness': 1.9857649249893184e-08}, {'group': 2045, 'qty': 1, 'representativeness': 1.9857649249893184e-08}, {'group': 2046, 'qty': 1, 'representativeness': 1.9857649249893184e-08}, {'group': 2047, 'qty': 1, 'representativeness': 1.9857649249893184e-08}, {'group': 2048, 'qty': 1, 'representativeness': 1.9857649249893184e-08}, {'group': 2049, 'qty': 1, 'representativeness': 1.9857649249893184e-08}, {'group': 2050, 'qty': 1, 'representativeness': 1.9857649249893184e-08}, {'group': 2051, 'qty': 1, 'representativeness': 1.9857649249893184e-08}, {'group': 2052, 'qty': 1, 'representativeness': 1.9857649249893184e-08}, {'group': 2053, 'qty': 1, 'representativeness': 1.9857649249893184e-08}, {'group': 2054, 'qty': 1, 'representativeness': 1.9857649249893184e-08}, {'group': 2055, 'qty': 1, 'representativeness': 1.9857649249893184e-08}, {'group': 2056, 'qty': 1, 'representativeness': 1.9857649249893184e-08}, {'group': 2057, 'qty': 1, 'representativeness': 1.9857649249893184e-08}, {'group': 2058, 'qty': 1, 'representativeness': 1.9857649249893184e-08}, {'group': 2059, 'qty': 1, 'representativeness': 1.9857649249893184e-08}, {'group': 2060, 'qty': 1, 'representativeness': 1.9857649249893184e-08}, {'group': 2061, 'qty': 1, 'representativeness': 1.9857649249893184e-08}, {'group': 2062, 'qty': 1, 'representativeness': 1.9857649249893184e-08}, {'group': 2063, 'qty': 1, 'representativeness': 1.9857649249893184e-08}, {'group': 2064, 'qty': 1, 'representativeness': 1.9857649249893184e-08}, {'group': 2065, 'qty': 1, 'representativeness': 1.9857649249893184e-08}, {'group': 2066, 'qty': 1, 'representativeness': 1.9857649249893184e-08}, {'group': 2067, 'qty': 1, 'representativeness': 1.9857649249893184e-08}, {'group': 2068, 'qty': 1, 'representativeness': 1.9857649249893184e-08}, {'group': 2069, 'qty': 1, 'representativeness': 1.9857649249893184e-08}, {'group': 2070, 'qty': 1, 'representativeness': 1.9857649249893184e-08}, {'group': 2071, 'qty': 1, 'representativeness': 1.9857649249893184e-08}, {'group': 2072, 'qty': 1, 'representativeness': 1.9857649249893184e-08}, {'group': 2073, 'qty': 1, 'representativeness': 1.9857649249893184e-08}, {'group': 2074, 'qty': 1, 'representativeness': 1.9857649249893184e-08}, {'group': 2075, 'qty': 1, 'representativeness': 1.9857649249893184e-08}, {'group': 2076, 'qty': 1, 'representativeness': 1.9857649249893184e-08}, {'group': 2077, 'qty': 1, 'representativeness': 1.9857649249893184e-08}, {'group': 2078, 'qty': 1, 'representativeness': 1.9857649249893184e-08}, {'group': 2079, 'qty': 1, 'representativeness': 1.9857649249893184e-08}, {'group': 2080, 'qty': 1, 'representativeness': 1.9857649249893184e-08}, {'group': 2081, 'qty': 1, 'representativeness': 1.9857649249893184e-08}, {'group': 2082, 'qty': 1, 'representativeness': 1.9857649249893184e-08}, {'group': 2083, 'qty': 1, 'representativeness': 1.9857649249893184e-08}, {'group': 2084, 'qty': 1, 'representativeness': 1.9857649249893184e-08}, {'group': 2085, 'qty': 1, 'representativeness': 1.9857649249893184e-08}, {'group': 2086, 'qty': 1, 'representativeness': 1.9857649249893184e-08}, {'group': 2087, 'qty': 1, 'representativeness': 1.9857649249893184e-08}, {'group': 2088, 'qty': 1, 'representativeness': 1.9857649249893184e-08}, {'group': 2089, 'qty': 1, 'representativeness': 1.9857649249893184e-08}, {'group': 2090, 'qty': 1, 'representativeness': 1.9857649249893184e-08}, {'group': 2091, 'qty': 1, 'representativeness': 1.9857649249893184e-08}, {'group': 2092, 'qty': 1, 'representativeness': 1.9857649249893184e-08}, {'group': 2093, 'qty': 1, 'representativeness': 1.9857649249893184e-08}, {'group': 2094, 'qty': 1, 'representativeness': 1.9857649249893184e-08}, {'group': 2095, 'qty': 1, 'representativeness': 1.9857649249893184e-08}, {'group': 2096, 'qty': 1, 'representativeness': 1.9857649249893184e-08}, {'group': 2097, 'qty': 1, 'representativeness': 1.9857649249893184e-08}, {'group': 2098, 'qty': 1, 'representativeness': 1.9857649249893184e-08}, {'group': 2099, 'qty': 1, 'representativeness': 1.9857649249893184e-08}, {'group': 2100, 'qty': 1, 'representativeness': 1.9857649249893184e-08}, {'group': 2101, 'qty': 1, 'representativeness': 1.9857649249893184e-08}, {'group': 2102, 'qty': 1, 'representativeness': 1.9857649249893184e-08}, {'group': 2103, 'qty': 1, 'representativeness': 1.9857649249893184e-08}, {'group': 2104, 'qty': 1, 'representativeness': 1.9857649249893184e-08}, {'group': 2105, 'qty': 1, 'representativeness': 1.9857649249893184e-08}, {'group': 2106, 'qty': 1, 'representativeness': 1.9857649249893184e-08}, {'group': 2107, 'qty': 1, 'representativeness': 1.9857649249893184e-08}, {'group': 2108, 'qty': 1, 'representativeness': 1.9857649249893184e-08}, {'group': 2109, 'qty': 1, 'representativeness': 1.9857649249893184e-08}, {'group': 2110, 'qty': 1, 'representativeness': 1.9857649249893184e-08}, {'group': 2111, 'qty': 1, 'representativeness': 1.9857649249893184e-08}, {'group': 2112, 'qty': 1, 'representativeness': 1.9857649249893184e-08}, {'group': 2113, 'qty': 1, 'representativeness': 1.9857649249893184e-08}, {'group': 2114, 'qty': 2, 'representativeness': 3.971529849978637e-08}, {'group': 2115, 'qty': 1, 'representativeness': 1.9857649249893184e-08}, {'group': 2116, 'qty': 2, 'representativeness': 3.971529849978637e-08}, {'group': 2117, 'qty': 1, 'representativeness': 1.9857649249893184e-08}, {'group': 2118, 'qty': 1, 'representativeness': 1.9857649249893184e-08}, {'group': 2119, 'qty': 1, 'representativeness': 1.9857649249893184e-08}, {'group': 2120, 'qty': 1, 'representativeness': 1.9857649249893184e-08}, {'group': 2121, 'qty': 1, 'representativeness': 1.9857649249893184e-08}, {'group': 2122, 'qty': 1, 'representativeness': 1.9857649249893184e-08}, {'group': 2123, 'qty': 1, 'representativeness': 1.9857649249893184e-08}, {'group': 2124, 'qty': 1, 'representativeness': 1.9857649249893184e-08}, {'group': 2125, 'qty': 1, 'representativeness': 1.9857649249893184e-08}, {'group': 2126, 'qty': 1, 'representativeness': 1.9857649249893184e-08}, {'group': 2127, 'qty': 2, 'representativeness': 3.971529849978637e-08}, {'group': 2128, 'qty': 1, 'representativeness': 1.9857649249893184e-08}, {'group': 2129, 'qty': 1, 'representativeness': 1.9857649249893184e-08}, {'group': 2130, 'qty': 1, 'representativeness': 1.9857649249893184e-08}, {'group': 2131, 'qty': 1, 'representativeness': 1.9857649249893184e-08}, {'group': 2132, 'qty': 1, 'representativeness': 1.9857649249893184e-08}, {'group': 2133, 'qty': 1, 'representativeness': 1.9857649249893184e-08}, {'group': 2134, 'qty': 1, 'representativeness': 1.9857649249893184e-08}, {'group': 2135, 'qty': 1, 'representativeness': 1.9857649249893184e-08}, {'group': 2136, 'qty': 1, 'representativeness': 1.9857649249893184e-08}, {'group': 2137, 'qty': 1, 'representativeness': 1.9857649249893184e-08}, {'group': 2138, 'qty': 1, 'representativeness': 1.9857649249893184e-08}, {'group': 2139, 'qty': 1, 'representativeness': 1.9857649249893184e-08}, {'group': 2140, 'qty': 1, 'representativeness': 1.9857649249893184e-08}, {'group': 2141, 'qty': 1, 'representativeness': 1.9857649249893184e-08}, {'group': 2142, 'qty': 1, 'representativeness': 1.9857649249893184e-08}, {'group': 2143, 'qty': 1, 'representativeness': 1.9857649249893184e-08}, {'group': 2144, 'qty': 1, 'representativeness': 1.9857649249893184e-08}, {'group': 2145, 'qty': 1, 'representativeness': 1.9857649249893184e-08}, {'group': 2146, 'qty': 1, 'representativeness': 1.9857649249893184e-08}, {'group': 2147, 'qty': 1, 'representativeness': 1.9857649249893184e-08}, {'group': 2148, 'qty': 1, 'representativeness': 1.9857649249893184e-08}, {'group': 2149, 'qty': 1, 'representativeness': 1.9857649249893184e-08}, {'group': 2150, 'qty': 1, 'representativeness': 1.9857649249893184e-08}, {'group': 2151, 'qty': 1, 'representativeness': 1.9857649249893184e-08}, {'group': 2152, 'qty': 1, 'representativeness': 1.9857649249893184e-08}, {'group': 2153, 'qty': 1, 'representativeness': 1.9857649249893184e-08}, {'group': 2154, 'qty': 1, 'representativeness': 1.9857649249893184e-08}, {'group': 2155, 'qty': 1, 'representativeness': 1.9857649249893184e-08}, {'group': 2156, 'qty': 1, 'representativeness': 1.9857649249893184e-08}, {'group': 2157, 'qty': 1, 'representativeness': 1.9857649249893184e-08}, {'group': 2158, 'qty': 1, 'representativeness': 1.9857649249893184e-08}, {'group': 2159, 'qty': 1, 'representativeness': 1.9857649249893184e-08}, {'group': 2160, 'qty': 1, 'representativeness': 1.9857649249893184e-08}, {'group': 2161, 'qty': 1, 'representativeness': 1.9857649249893184e-08}, {'group': 2162, 'qty': 1, 'representativeness': 1.9857649249893184e-08}, {'group': 2163, 'qty': 1, 'representativeness': 1.9857649249893184e-08}, {'group': 2164, 'qty': 1, 'representativeness': 1.9857649249893184e-08}, {'group': 2165, 'qty': 2, 'representativeness': 3.971529849978637e-08}, {'group': 2166, 'qty': 1, 'representativeness': 1.9857649249893184e-08}, {'group': 2167, 'qty': 1, 'representativeness': 1.9857649249893184e-08}, {'group': 2168, 'qty': 1, 'representativeness': 1.9857649249893184e-08}, {'group': 2169, 'qty': 1, 'representativeness': 1.9857649249893184e-08}, {'group': 2170, 'qty': 1, 'representativeness': 1.9857649249893184e-08}, {'group': 2171, 'qty': 1, 'representativeness': 1.9857649249893184e-08}, {'group': 2172, 'qty': 1, 'representativeness': 1.9857649249893184e-08}, {'group': 2173, 'qty': 1, 'representativeness': 1.9857649249893184e-08}, {'group': 2174, 'qty': 1, 'representativeness': 1.9857649249893184e-08}, {'group': 2175, 'qty': 1, 'representativeness': 1.9857649249893184e-08}, {'group': 2176, 'qty': 1, 'representativeness': 1.9857649249893184e-08}, {'group': 2177, 'qty': 1, 'representativeness': 1.9857649249893184e-08}, {'group': 2178, 'qty': 1, 'representativeness': 1.9857649249893184e-08}, {'group': 2179, 'qty': 1, 'representativeness': 1.9857649249893184e-08}, {'group': 2180, 'qty': 1, 'representativeness': 1.9857649249893184e-08}, {'group': 2181, 'qty': 1, 'representativeness': 1.9857649249893184e-08}, {'group': 2182, 'qty': 1, 'representativeness': 1.9857649249893184e-08}, {'group': 2183, 'qty': 1, 'representativeness': 1.9857649249893184e-08}, {'group': 2184, 'qty': 1, 'representativeness': 1.9857649249893184e-08}, {'group': 2185, 'qty': 1, 'representativeness': 1.9857649249893184e-08}, {'group': 2186, 'qty': 1, 'representativeness': 1.9857649249893184e-08}, {'group': 2187, 'qty': 1, 'representativeness': 1.9857649249893184e-08}, {'group': 2188, 'qty': 1, 'representativeness': 1.9857649249893184e-08}, {'group': 2189, 'qty': 1, 'representativeness': 1.9857649249893184e-08}, {'group': 2190, 'qty': 1, 'representativeness': 1.9857649249893184e-08}, {'group': 2191, 'qty': 1, 'representativeness': 1.9857649249893184e-08}, {'group': 2192, 'qty': 1, 'representativeness': 1.9857649249893184e-08}, {'group': 2193, 'qty': 1, 'representativeness': 1.9857649249893184e-08}, {'group': 2194, 'qty': 1, 'representativeness': 1.9857649249893184e-08}, {'group': 2195, 'qty': 1, 'representativeness': 1.9857649249893184e-08}, {'group': 2196, 'qty': 1, 'representativeness': 1.9857649249893184e-08}, {'group': 2197, 'qty': 1, 'representativeness': 1.9857649249893184e-08}, {'group': 2198, 'qty': 1, 'representativeness': 1.9857649249893184e-08}, {'group': 2199, 'qty': 1, 'representativeness': 1.9857649249893184e-08}, {'group': 2200, 'qty': 1, 'representativeness': 1.9857649249893184e-08}, {'group': 2201, 'qty': 1, 'representativeness': 1.9857649249893184e-08}, {'group': 2202, 'qty': 1, 'representativeness': 1.9857649249893184e-08}, {'group': 2203, 'qty': 1, 'representativeness': 1.9857649249893184e-08}, {'group': 2204, 'qty': 1, 'representativeness': 1.9857649249893184e-08}, {'group': 2205, 'qty': 1, 'representativeness': 1.9857649249893184e-08}, {'group': 2206, 'qty': 1, 'representativeness': 1.9857649249893184e-08}, {'group': 2207, 'qty': 1, 'representativeness': 1.9857649249893184e-08}, {'group': 2208, 'qty': 1, 'representativeness': 1.9857649249893184e-08}, {'group': 2209, 'qty': 1, 'representativeness': 1.9857649249893184e-08}, {'group': 2210, 'qty': 1, 'representativeness': 1.9857649249893184e-08}, {'group': 2211, 'qty': 1, 'representativeness': 1.9857649249893184e-08}, {'group': 2212, 'qty': 1, 'representativeness': 1.9857649249893184e-08}, {'group': 2213, 'qty': 1, 'representativeness': 1.9857649249893184e-08}, {'group': 2214, 'qty': 1, 'representativeness': 1.9857649249893184e-08}, {'group': 2215, 'qty': 1, 'representativeness': 1.9857649249893184e-08}, {'group': 2216, 'qty': 1, 'representativeness': 1.9857649249893184e-08}, {'group': 2217, 'qty': 1, 'representativeness': 1.9857649249893184e-08}, {'group': 2218, 'qty': 1, 'representativeness': 1.9857649249893184e-08}, {'group': 2219, 'qty': 1, 'representativeness': 1.9857649249893184e-08}, {'group': 2220, 'qty': 1, 'representativeness': 1.9857649249893184e-08}, {'group': 2221, 'qty': 1, 'representativeness': 1.9857649249893184e-08}, {'group': 2222, 'qty': 1, 'representativeness': 1.9857649249893184e-08}, {'group': 2223, 'qty': 1, 'representativeness': 1.9857649249893184e-08}, {'group': 2224, 'qty': 1, 'representativeness': 1.9857649249893184e-08}, {'group': 2225, 'qty': 1, 'representativeness': 1.9857649249893184e-08}, {'group': 2226, 'qty': 1, 'representativeness': 1.9857649249893184e-08}, {'group': 2227, 'qty': 1, 'representativeness': 1.9857649249893184e-08}, {'group': 2228, 'qty': 1, 'representativeness': 1.9857649249893184e-08}, {'group': 2229, 'qty': 1, 'representativeness': 1.9857649249893184e-08}, {'group': 2230, 'qty': 1, 'representativeness': 1.9857649249893184e-08}, {'group': 2231, 'qty': 1, 'representativeness': 1.9857649249893184e-08}, {'group': 2232, 'qty': 1, 'representativeness': 1.9857649249893184e-08}, {'group': 2233, 'qty': 1, 'representativeness': 1.9857649249893184e-08}, {'group': 2234, 'qty': 1, 'representativeness': 1.9857649249893184e-08}, {'group': 2235, 'qty': 1, 'representativeness': 1.9857649249893184e-08}, {'group': 2236, 'qty': 1, 'representativeness': 1.9857649249893184e-08}, {'group': 2237, 'qty': 1, 'representativeness': 1.9857649249893184e-08}, {'group': 2238, 'qty': 1, 'representativeness': 1.9857649249893184e-08}, {'group': 2239, 'qty': 1, 'representativeness': 1.9857649249893184e-08}, {'group': 2240, 'qty': 1, 'representativeness': 1.9857649249893184e-08}, {'group': 2241, 'qty': 1, 'representativeness': 1.9857649249893184e-08}, {'group': 2242, 'qty': 1, 'representativeness': 1.9857649249893184e-08}, {'group': 2243, 'qty': 1, 'representativeness': 1.9857649249893184e-08}, {'group': 2244, 'qty': 1, 'representativeness': 1.9857649249893184e-08}, {'group': 2245, 'qty': 1, 'representativeness': 1.9857649249893184e-08}, {'group': 2246, 'qty': 1, 'representativeness': 1.9857649249893184e-08}, {'group': 2247, 'qty': 1, 'representativeness': 1.9857649249893184e-08}, {'group': 2248, 'qty': 1, 'representativeness': 1.9857649249893184e-08}, {'group': 2249, 'qty': 1, 'representativeness': 1.9857649249893184e-08}, {'group': 2250, 'qty': 1, 'representativeness': 1.9857649249893184e-08}, {'group': 2251, 'qty': 1, 'representativeness': 1.9857649249893184e-08}, {'group': 2252, 'qty': 1, 'representativeness': 1.9857649249893184e-08}, {'group': 2253, 'qty': 1, 'representativeness': 1.9857649249893184e-08}, {'group': 2254, 'qty': 1, 'representativeness': 1.9857649249893184e-08}, {'group': 2255, 'qty': 1, 'representativeness': 1.9857649249893184e-08}, {'group': 2256, 'qty': 1, 'representativeness': 1.9857649249893184e-08}, {'group': 2257, 'qty': 1, 'representativeness': 1.9857649249893184e-08}, {'group': 2258, 'qty': 1, 'representativeness': 1.9857649249893184e-08}, {'group': 2259, 'qty': 1, 'representativeness': 1.9857649249893184e-08}, {'group': 2260, 'qty': 1, 'representativeness': 1.9857649249893184e-08}, {'group': 2261, 'qty': 1, 'representativeness': 1.9857649249893184e-08}, {'group': 2262, 'qty': 1, 'representativeness': 1.9857649249893184e-08}, {'group': 2263, 'qty': 1, 'representativeness': 1.9857649249893184e-08}, {'group': 2264, 'qty': 1, 'representativeness': 1.9857649249893184e-08}, {'group': 2265, 'qty': 1, 'representativeness': 1.9857649249893184e-08}, {'group': 2266, 'qty': 1, 'representativeness': 1.9857649249893184e-08}, {'group': 2267, 'qty': 1, 'representativeness': 1.9857649249893184e-08}, {'group': 2268, 'qty': 1, 'representativeness': 1.9857649249893184e-08}, {'group': 2269, 'qty': 1, 'representativeness': 1.9857649249893184e-08}, {'group': 2270, 'qty': 1, 'representativeness': 1.9857649249893184e-08}, {'group': 2271, 'qty': 1, 'representativeness': 1.9857649249893184e-08}, {'group': 2272, 'qty': 1, 'representativeness': 1.9857649249893184e-08}, {'group': 2273, 'qty': 1, 'representativeness': 1.9857649249893184e-08}, {'group': 2274, 'qty': 1, 'representativeness': 1.9857649249893184e-08}, {'group': 2275, 'qty': 1, 'representativeness': 1.9857649249893184e-08}, {'group': 2276, 'qty': 1, 'representativeness': 1.9857649249893184e-08}, {'group': 2277, 'qty': 1, 'representativeness': 1.9857649249893184e-08}, {'group': 2278, 'qty': 1, 'representativeness': 1.9857649249893184e-08}, {'group': 2279, 'qty': 1, 'representativeness': 1.9857649249893184e-08}, {'group': 2280, 'qty': 1, 'representativeness': 1.9857649249893184e-08}, {'group': 2281, 'qty': 1, 'representativeness': 1.9857649249893184e-08}, {'group': 2282, 'qty': 1, 'representativeness': 1.9857649249893184e-08}, {'group': 2283, 'qty': 1, 'representativeness': 1.9857649249893184e-08}, {'group': 2284, 'qty': 1, 'representativeness': 1.9857649249893184e-08}, {'group': 2285, 'qty': 1, 'representativeness': 1.9857649249893184e-08}, {'group': 2286, 'qty': 1, 'representativeness': 1.9857649249893184e-08}, {'group': 2287, 'qty': 1, 'representativeness': 1.9857649249893184e-08}, {'group': 2288, 'qty': 1, 'representativeness': 1.9857649249893184e-08}, {'group': 2289, 'qty': 1, 'representativeness': 1.9857649249893184e-08}, {'group': 2290, 'qty': 1, 'representativeness': 1.9857649249893184e-08}, {'group': 2291, 'qty': 1, 'representativeness': 1.9857649249893184e-08}, {'group': 2292, 'qty': 1, 'representativeness': 1.9857649249893184e-08}, {'group': 2293, 'qty': 1, 'representativeness': 1.9857649249893184e-08}, {'group': 2294, 'qty': 1, 'representativeness': 1.9857649249893184e-08}, {'group': 2295, 'qty': 1, 'representativeness': 1.9857649249893184e-08}, {'group': 2296, 'qty': 1, 'representativeness': 1.9857649249893184e-08}, {'group': 2297, 'qty': 1, 'representativeness': 1.9857649249893184e-08}, {'group': 2298, 'qty': 1, 'representativeness': 1.9857649249893184e-08}, {'group': 2299, 'qty': 1, 'representativeness': 1.9857649249893184e-08}, {'group': 2300, 'qty': 1, 'representativeness': 1.9857649249893184e-08}, {'group': 2301, 'qty': 1, 'representativeness': 1.9857649249893184e-08}, {'group': 2302, 'qty': 1, 'representativeness': 1.9857649249893184e-08}, {'group': 2303, 'qty': 1, 'representativeness': 1.9857649249893184e-08}, {'group': 2304, 'qty': 1, 'representativeness': 1.9857649249893184e-08}, {'group': 2305, 'qty': 1, 'representativeness': 1.9857649249893184e-08}, {'group': 2306, 'qty': 1, 'representativeness': 1.9857649249893184e-08}, {'group': 2307, 'qty': 1, 'representativeness': 1.9857649249893184e-08}, {'group': 2308, 'qty': 1, 'representativeness': 1.9857649249893184e-08}, {'group': 2309, 'qty': 1, 'representativeness': 1.9857649249893184e-08}, {'group': 2310, 'qty': 1, 'representativeness': 1.9857649249893184e-08}, {'group': 2311, 'qty': 1, 'representativeness': 1.9857649249893184e-08}, {'group': 2312, 'qty': 1, 'representativeness': 1.9857649249893184e-08}, {'group': 2313, 'qty': 1, 'representativeness': 1.9857649249893184e-08}, {'group': 2314, 'qty': 1, 'representativeness': 1.9857649249893184e-08}, {'group': 2315, 'qty': 1, 'representativeness': 1.9857649249893184e-08}, {'group': 2316, 'qty': 1, 'representativeness': 1.9857649249893184e-08}, {'group': 2317, 'qty': 1, 'representativeness': 1.9857649249893184e-08}, {'group': 2318, 'qty': 1, 'representativeness': 1.9857649249893184e-08}, {'group': 2319, 'qty': 1, 'representativeness': 1.9857649249893184e-08}, {'group': 2320, 'qty': 1, 'representativeness': 1.9857649249893184e-08}, {'group': 2321, 'qty': 1, 'representativeness': 1.9857649249893184e-08}, {'group': 2322, 'qty': 1, 'representativeness': 1.9857649249893184e-08}, {'group': 2323, 'qty': 1, 'representativeness': 1.9857649249893184e-08}, {'group': 2324, 'qty': 1, 'representativeness': 1.9857649249893184e-08}, {'group': 2325, 'qty': 1, 'representativeness': 1.9857649249893184e-08}, {'group': 2326, 'qty': 1, 'representativeness': 1.9857649249893184e-08}, {'group': 2327, 'qty': 1, 'representativeness': 1.9857649249893184e-08}, {'group': 2328, 'qty': 1, 'representativeness': 1.9857649249893184e-08}, {'group': 2329, 'qty': 1, 'representativeness': 1.9857649249893184e-08}, {'group': 2330, 'qty': 1, 'representativeness': 1.9857649249893184e-08}, {'group': 2331, 'qty': 1, 'representativeness': 1.9857649249893184e-08}, {'group': 2332, 'qty': 1, 'representativeness': 1.9857649249893184e-08}, {'group': 2333, 'qty': 1, 'representativeness': 1.9857649249893184e-08}, {'group': 2334, 'qty': 1, 'representativeness': 1.9857649249893184e-08}, {'group': 2335, 'qty': 1, 'representativeness': 1.9857649249893184e-08}, {'group': 2336, 'qty': 1, 'representativeness': 1.9857649249893184e-08}, {'group': 2337, 'qty': 1, 'representativeness': 1.9857649249893184e-08}, {'group': 2338, 'qty': 1, 'representativeness': 1.9857649249893184e-08}, {'group': 2339, 'qty': 1, 'representativeness': 1.9857649249893184e-08}, {'group': 2340, 'qty': 1, 'representativeness': 1.9857649249893184e-08}, {'group': 2341, 'qty': 1, 'representativeness': 1.9857649249893184e-08}, {'group': 2342, 'qty': 1, 'representativeness': 1.9857649249893184e-08}, {'group': 2343, 'qty': 1, 'representativeness': 1.9857649249893184e-08}, {'group': 2344, 'qty': 1, 'representativeness': 1.9857649249893184e-08}, {'group': 2345, 'qty': 1, 'representativeness': 1.9857649249893184e-08}, {'group': 2346, 'qty': 1, 'representativeness': 1.9857649249893184e-08}, {'group': 2347, 'qty': 1, 'representativeness': 1.9857649249893184e-08}, {'group': 2348, 'qty': 1, 'representativeness': 1.9857649249893184e-08}, {'group': 2349, 'qty': 1, 'representativeness': 1.9857649249893184e-08}, {'group': 2350, 'qty': 1, 'representativeness': 1.9857649249893184e-08}, {'group': 2351, 'qty': 1, 'representativeness': 1.9857649249893184e-08}, {'group': 2352, 'qty': 1, 'representativeness': 1.9857649249893184e-08}, {'group': 2353, 'qty': 1, 'representativeness': 1.9857649249893184e-08}, {'group': 2354, 'qty': 1, 'representativeness': 1.9857649249893184e-08}, {'group': 2355, 'qty': 1, 'representativeness': 1.9857649249893184e-08}, {'group': 2356, 'qty': 1, 'representativeness': 1.9857649249893184e-08}, {'group': 2357, 'qty': 1, 'representativeness': 1.9857649249893184e-08}, {'group': 2358, 'qty': 1, 'representativeness': 1.9857649249893184e-08}, {'group': 2359, 'qty': 1, 'representativeness': 1.9857649249893184e-08}, {'group': 2360, 'qty': 1, 'representativeness': 1.9857649249893184e-08}, {'group': 2361, 'qty': 1, 'representativeness': 1.9857649249893184e-08}, {'group': 2362, 'qty': 1, 'representativeness': 1.9857649249893184e-08}, {'group': 2363, 'qty': 1, 'representativeness': 1.9857649249893184e-08}, {'group': 2364, 'qty': 1, 'representativeness': 1.9857649249893184e-08}, {'group': 2365, 'qty': 1, 'representativeness': 1.9857649249893184e-08}, {'group': 2366, 'qty': 1, 'representativeness': 1.9857649249893184e-08}, {'group': 2367, 'qty': 1, 'representativeness': 1.9857649249893184e-08}, {'group': 2368, 'qty': 1, 'representativeness': 1.9857649249893184e-08}, {'group': 2369, 'qty': 1, 'representativeness': 1.9857649249893184e-08}, {'group': 2370, 'qty': 1, 'representativeness': 1.9857649249893184e-08}, {'group': 2371, 'qty': 1, 'representativeness': 1.9857649249893184e-08}, {'group': 2372, 'qty': 1, 'representativeness': 1.9857649249893184e-08}, {'group': 2373, 'qty': 1, 'representativeness': 1.9857649249893184e-08}, {'group': 2374, 'qty': 1, 'representativeness': 1.9857649249893184e-08}, {'group': 2375, 'qty': 1, 'representativeness': 1.9857649249893184e-08}, {'group': 2376, 'qty': 1, 'representativeness': 1.9857649249893184e-08}, {'group': 2377, 'qty': 1, 'representativeness': 1.9857649249893184e-08}, {'group': 2378, 'qty': 1, 'representativeness': 1.9857649249893184e-08}, {'group': 2379, 'qty': 1, 'representativeness': 1.9857649249893184e-08}, {'group': 2380, 'qty': 1, 'representativeness': 1.9857649249893184e-08}, {'group': 2381, 'qty': 1, 'representativeness': 1.9857649249893184e-08}, {'group': 2382, 'qty': 1, 'representativeness': 1.9857649249893184e-08}, {'group': 2383, 'qty': 1, 'representativeness': 1.9857649249893184e-08}, {'group': 2384, 'qty': 1, 'representativeness': 1.9857649249893184e-08}, {'group': 2385, 'qty': 1, 'representativeness': 1.9857649249893184e-08}, {'group': 2386, 'qty': 1, 'representativeness': 1.9857649249893184e-08}, {'group': 2387, 'qty': 1, 'representativeness': 1.9857649249893184e-08}, {'group': 2388, 'qty': 1, 'representativeness': 1.9857649249893184e-08}, {'group': 2389, 'qty': 1, 'representativeness': 1.9857649249893184e-08}, {'group': 2390, 'qty': 1, 'representativeness': 1.9857649249893184e-08}, {'group': 2391, 'qty': 1, 'representativeness': 1.9857649249893184e-08}, {'group': 2392, 'qty': 1, 'representativeness': 1.9857649249893184e-08}, {'group': 2393, 'qty': 1, 'representativeness': 1.9857649249893184e-08}, {'group': 2394, 'qty': 1, 'representativeness': 1.9857649249893184e-08}, {'group': 2395, 'qty': 1, 'representativeness': 1.9857649249893184e-08}, {'group': 2396, 'qty': 1, 'representativeness': 1.9857649249893184e-08}, {'group': 2397, 'qty': 1, 'representativeness': 1.9857649249893184e-08}, {'group': 2398, 'qty': 1, 'representativeness': 1.9857649249893184e-08}, {'group': 2399, 'qty': 1, 'representativeness': 1.9857649249893184e-08}, {'group': 2400, 'qty': 1, 'representativeness': 1.9857649249893184e-08}, {'group': 2401, 'qty': 1, 'representativeness': 1.9857649249893184e-08}, {'group': 2402, 'qty': 1, 'representativeness': 1.9857649249893184e-08}, {'group': 2403, 'qty': 1, 'representativeness': 1.9857649249893184e-08}, {'group': 2404, 'qty': 1, 'representativeness': 1.9857649249893184e-08}, {'group': 2405, 'qty': 1, 'representativeness': 1.9857649249893184e-08}, {'group': 2406, 'qty': 1, 'representativeness': 1.9857649249893184e-08}, {'group': 2407, 'qty': 1, 'representativeness': 1.9857649249893184e-08}, {'group': 2408, 'qty': 1, 'representativeness': 1.9857649249893184e-08}, {'group': 2409, 'qty': 1, 'representativeness': 1.9857649249893184e-08}, {'group': 2410, 'qty': 1, 'representativeness': 1.9857649249893184e-08}, {'group': 2411, 'qty': 1, 'representativeness': 1.9857649249893184e-08}, {'group': 2412, 'qty': 1, 'representativeness': 1.9857649249893184e-08}, {'group': 2413, 'qty': 1, 'representativeness': 1.9857649249893184e-08}, {'group': 2414, 'qty': 1, 'representativeness': 1.9857649249893184e-08}, {'group': 2415, 'qty': 1, 'representativeness': 1.9857649249893184e-08}, {'group': 2416, 'qty': 1, 'representativeness': 1.9857649249893184e-08}, {'group': 2417, 'qty': 1, 'representativeness': 1.9857649249893184e-08}, {'group': 2418, 'qty': 1, 'representativeness': 1.9857649249893184e-08}, {'group': 2419, 'qty': 1, 'representativeness': 1.9857649249893184e-08}, {'group': 2420, 'qty': 1, 'representativeness': 1.9857649249893184e-08}, {'group': 2421, 'qty': 1, 'representativeness': 1.9857649249893184e-08}, {'group': 2422, 'qty': 1, 'representativeness': 1.9857649249893184e-08}, {'group': 2423, 'qty': 1, 'representativeness': 1.9857649249893184e-08}, {'group': 2424, 'qty': 1, 'representativeness': 1.9857649249893184e-08}, {'group': 2425, 'qty': 1, 'representativeness': 1.9857649249893184e-08}, {'group': 2426, 'qty': 1, 'representativeness': 1.9857649249893184e-08}, {'group': 2427, 'qty': 1, 'representativeness': 1.9857649249893184e-08}, {'group': 2428, 'qty': 1, 'representativeness': 1.9857649249893184e-08}, {'group': 2429, 'qty': 1, 'representativeness': 1.9857649249893184e-08}, {'group': 2430, 'qty': 1, 'representativeness': 1.9857649249893184e-08}, {'group': 2431, 'qty': 1, 'representativeness': 1.9857649249893184e-08}, {'group': 2432, 'qty': 1, 'representativeness': 1.9857649249893184e-08}, {'group': 2433, 'qty': 1, 'representativeness': 1.9857649249893184e-08}, {'group': 2434, 'qty': 1, 'representativeness': 1.9857649249893184e-08}, {'group': 2435, 'qty': 1, 'representativeness': 1.9857649249893184e-08}, {'group': 2436, 'qty': 1, 'representativeness': 1.9857649249893184e-08}, {'group': 2437, 'qty': 1, 'representativeness': 1.9857649249893184e-08}, {'group': 2438, 'qty': 1, 'representativeness': 1.9857649249893184e-08}, {'group': 2439, 'qty': 1, 'representativeness': 1.9857649249893184e-08}, {'group': 2440, 'qty': 1, 'representativeness': 1.9857649249893184e-08}, {'group': 2441, 'qty': 1, 'representativeness': 1.9857649249893184e-08}, {'group': 2442, 'qty': 1, 'representativeness': 1.9857649249893184e-08}, {'group': 2443, 'qty': 1, 'representativeness': 1.9857649249893184e-08}, {'group': 2444, 'qty': 1, 'representativeness': 1.9857649249893184e-08}, {'group': 2445, 'qty': 1, 'representativeness': 1.9857649249893184e-08}, {'group': 2446, 'qty': 1, 'representativeness': 1.9857649249893184e-08}, {'group': 2447, 'qty': 1, 'representativeness': 1.9857649249893184e-08}, {'group': 2448, 'qty': 1, 'representativeness': 1.9857649249893184e-08}, {'group': 2449, 'qty': 1, 'representativeness': 1.9857649249893184e-08}, {'group': 2450, 'qty': 1, 'representativeness': 1.9857649249893184e-08}, {'group': 2451, 'qty': 1, 'representativeness': 1.9857649249893184e-08}, {'group': 2452, 'qty': 1, 'representativeness': 1.9857649249893184e-08}, {'group': 2453, 'qty': 1, 'representativeness': 1.9857649249893184e-08}, {'group': 2454, 'qty': 1, 'representativeness': 1.9857649249893184e-08}, {'group': 2455, 'qty': 1, 'representativeness': 1.9857649249893184e-08}, {'group': 2456, 'qty': 1, 'representativeness': 1.9857649249893184e-08}, {'group': 2457, 'qty': 1, 'representativeness': 1.9857649249893184e-08}, {'group': 2458, 'qty': 1, 'representativeness': 1.9857649249893184e-08}, {'group': 2459, 'qty': 1, 'representativeness': 1.9857649249893184e-08}, {'group': 2460, 'qty': 1, 'representativeness': 1.9857649249893184e-08}, {'group': 2461, 'qty': 1, 'representativeness': 1.9857649249893184e-08}, {'group': 2462, 'qty': 1, 'representativeness': 1.9857649249893184e-08}, {'group': 2463, 'qty': 1, 'representativeness': 1.9857649249893184e-08}, {'group': 2464, 'qty': 1, 'representativeness': 1.9857649249893184e-08}, {'group': 2465, 'qty': 1, 'representativeness': 1.9857649249893184e-08}, {'group': 2466, 'qty': 1, 'representativeness': 1.9857649249893184e-08}, {'group': 2467, 'qty': 1, 'representativeness': 1.9857649249893184e-08}, {'group': 2468, 'qty': 1, 'representativeness': 1.9857649249893184e-08}, {'group': 2469, 'qty': 1, 'representativeness': 1.9857649249893184e-08}, {'group': 2470, 'qty': 1, 'representativeness': 1.9857649249893184e-08}, {'group': 2471, 'qty': 1, 'representativeness': 1.9857649249893184e-08}, {'group': 2472, 'qty': 1, 'representativeness': 1.9857649249893184e-08}, {'group': 2473, 'qty': 1, 'representativeness': 1.9857649249893184e-08}, {'group': 2474, 'qty': 1, 'representativeness': 1.9857649249893184e-08}, {'group': 2475, 'qty': 1, 'representativeness': 1.9857649249893184e-08}, {'group': 2476, 'qty': 1, 'representativeness': 1.9857649249893184e-08}, {'group': 2477, 'qty': 1, 'representativeness': 1.9857649249893184e-08}, {'group': 2478, 'qty': 1, 'representativeness': 1.9857649249893184e-08}, {'group': 2479, 'qty': 1, 'representativeness': 1.9857649249893184e-08}, {'group': 2480, 'qty': 1, 'representativeness': 1.9857649249893184e-08}, {'group': 2481, 'qty': 1, 'representativeness': 1.9857649249893184e-08}, {'group': 2482, 'qty': 1, 'representativeness': 1.9857649249893184e-08}, {'group': 2483, 'qty': 1, 'representativeness': 1.9857649249893184e-08}, {'group': 2484, 'qty': 1, 'representativeness': 1.9857649249893184e-08}, {'group': 2485, 'qty': 1, 'representativeness': 1.9857649249893184e-08}, {'group': 2486, 'qty': 1, 'representativeness': 1.9857649249893184e-08}, {'group': 2487, 'qty': 1, 'representativeness': 1.9857649249893184e-08}, {'group': 2488, 'qty': 1, 'representativeness': 1.9857649249893184e-08}, {'group': 2489, 'qty': 1, 'representativeness': 1.9857649249893184e-08}, {'group': 2490, 'qty': 1, 'representativeness': 1.9857649249893184e-08}, {'group': 2491, 'qty': 1, 'representativeness': 1.9857649249893184e-08}, {'group': 2492, 'qty': 1, 'representativeness': 1.9857649249893184e-08}, {'group': 2493, 'qty': 1, 'representativeness': 1.9857649249893184e-08}, {'group': 2494, 'qty': 1, 'representativeness': 1.9857649249893184e-08}, {'group': 2495, 'qty': 1, 'representativeness': 1.9857649249893184e-08}, {'group': 2496, 'qty': 1, 'representativeness': 1.9857649249893184e-08}, {'group': 2497, 'qty': 1, 'representativeness': 1.9857649249893184e-08}, {'group': 2498, 'qty': 1, 'representativeness': 1.9857649249893184e-08}, {'group': 2499, 'qty': 1, 'representativeness': 1.9857649249893184e-08}, {'group': 2500, 'qty': 1, 'representativeness': 1.9857649249893184e-08}, {'group': 2501, 'qty': 1, 'representativeness': 1.9857649249893184e-08}, {'group': 2502, 'qty': 1, 'representativeness': 1.9857649249893184e-08}, {'group': 2503, 'qty': 1, 'representativeness': 1.9857649249893184e-08}, {'group': 2504, 'qty': 1, 'representativeness': 1.9857649249893184e-08}, {'group': 2505, 'qty': 1, 'representativeness': 1.9857649249893184e-08}, {'group': 2506, 'qty': 1, 'representativeness': 1.9857649249893184e-08}, {'group': 2507, 'qty': 1, 'representativeness': 1.9857649249893184e-08}, {'group': 2508, 'qty': 1, 'representativeness': 1.9857649249893184e-08}, {'group': 2509, 'qty': 1, 'representativeness': 1.9857649249893184e-08}, {'group': 2510, 'qty': 1, 'representativeness': 1.9857649249893184e-08}, {'group': 2511, 'qty': 1, 'representativeness': 1.9857649249893184e-08}, {'group': 2512, 'qty': 1, 'representativeness': 1.9857649249893184e-08}, {'group': 2513, 'qty': 1, 'representativeness': 1.9857649249893184e-08}, {'group': 2514, 'qty': 1, 'representativeness': 1.9857649249893184e-08}, {'group': 2515, 'qty': 1, 'representativeness': 1.9857649249893184e-08}, {'group': 2516, 'qty': 1, 'representativeness': 1.9857649249893184e-08}, {'group': 2517, 'qty': 1, 'representativeness': 1.9857649249893184e-08}, {'group': 2518, 'qty': 1, 'representativeness': 1.9857649249893184e-08}, {'group': 2519, 'qty': 1, 'representativeness': 1.9857649249893184e-08}, {'group': 2520, 'qty': 1, 'representativeness': 1.9857649249893184e-08}, {'group': 2521, 'qty': 1, 'representativeness': 1.9857649249893184e-08}, {'group': 2522, 'qty': 1, 'representativeness': 1.9857649249893184e-08}, {'group': 2523, 'qty': 1, 'representativeness': 1.9857649249893184e-08}, {'group': 2524, 'qty': 1, 'representativeness': 1.9857649249893184e-08}, {'group': 2525, 'qty': 1, 'representativeness': 1.9857649249893184e-08}, {'group': 2526, 'qty': 1, 'representativeness': 1.9857649249893184e-08}, {'group': 2527, 'qty': 1, 'representativeness': 1.9857649249893184e-08}, {'group': 2528, 'qty': 1, 'representativeness': 1.9857649249893184e-08}, {'group': 2529, 'qty': 1, 'representativeness': 1.9857649249893184e-08}, {'group': 2530, 'qty': 1, 'representativeness': 1.9857649249893184e-08}, {'group': 2531, 'qty': 1, 'representativeness': 1.9857649249893184e-08}, {'group': 2532, 'qty': 1, 'representativeness': 1.9857649249893184e-08}, {'group': 2533, 'qty': 1, 'representativeness': 1.9857649249893184e-08}, {'group': 2534, 'qty': 1, 'representativeness': 1.9857649249893184e-08}, {'group': 2535, 'qty': 1, 'representativeness': 1.9857649249893184e-08}, {'group': 2536, 'qty': 1, 'representativeness': 1.9857649249893184e-08}, {'group': 2537, 'qty': 1, 'representativeness': 1.9857649249893184e-08}, {'group': 2538, 'qty': 1, 'representativeness': 1.9857649249893184e-08}, {'group': 2539, 'qty': 1, 'representativeness': 1.9857649249893184e-08}, {'group': 2540, 'qty': 1, 'representativeness': 1.9857649249893184e-08}, {'group': 2541, 'qty': 1, 'representativeness': 1.9857649249893184e-08}, {'group': 2542, 'qty': 1, 'representativeness': 1.9857649249893184e-08}, {'group': 2543, 'qty': 1, 'representativeness': 1.9857649249893184e-08}, {'group': 2544, 'qty': 1, 'representativeness': 1.9857649249893184e-08}, {'group': 2545, 'qty': 1, 'representativeness': 1.9857649249893184e-08}, {'group': 2546, 'qty': 1, 'representativeness': 1.9857649249893184e-08}, {'group': 2547, 'qty': 1, 'representativeness': 1.9857649249893184e-08}, {'group': 2548, 'qty': 1, 'representativeness': 1.9857649249893184e-08}, {'group': 2549, 'qty': 1, 'representativeness': 1.9857649249893184e-08}, {'group': 2550, 'qty': 1, 'representativeness': 1.9857649249893184e-08}, {'group': 2551, 'qty': 1, 'representativeness': 1.9857649249893184e-08}, {'group': 2552, 'qty': 1, 'representativeness': 1.9857649249893184e-08}, {'group': 2553, 'qty': 1, 'representativeness': 1.9857649249893184e-08}, {'group': 2554, 'qty': 1, 'representativeness': 1.9857649249893184e-08}, {'group': 2555, 'qty': 1, 'representativeness': 1.9857649249893184e-08}, {'group': 2556, 'qty': 1, 'representativeness': 1.9857649249893184e-08}, {'group': 2557, 'qty': 1, 'representativeness': 1.9857649249893184e-08}, {'group': 2558, 'qty': 1, 'representativeness': 1.9857649249893184e-08}, {'group': 2559, 'qty': 1, 'representativeness': 1.9857649249893184e-08}, {'group': 2560, 'qty': 1, 'representativeness': 1.9857649249893184e-08}, {'group': 2561, 'qty': 1, 'representativeness': 1.9857649249893184e-08}, {'group': 2562, 'qty': 1, 'representativeness': 1.9857649249893184e-08}, {'group': 2563, 'qty': 1, 'representativeness': 1.9857649249893184e-08}, {'group': 2564, 'qty': 1, 'representativeness': 1.9857649249893184e-08}, {'group': 2565, 'qty': 1, 'representativeness': 1.9857649249893184e-08}, {'group': 2566, 'qty': 1, 'representativeness': 1.9857649249893184e-08}, {'group': 2567, 'qty': 1, 'representativeness': 1.9857649249893184e-08}, {'group': 2568, 'qty': 1, 'representativeness': 1.9857649249893184e-08}, {'group': 2569, 'qty': 1, 'representativeness': 1.9857649249893184e-08}, {'group': 2570, 'qty': 1, 'representativeness': 1.9857649249893184e-08}, {'group': 2571, 'qty': 1, 'representativeness': 1.9857649249893184e-08}, {'group': 2572, 'qty': 1, 'representativeness': 1.9857649249893184e-08}, {'group': 2573, 'qty': 1, 'representativeness': 1.9857649249893184e-08}, {'group': 2574, 'qty': 1, 'representativeness': 1.9857649249893184e-08}, {'group': 2575, 'qty': 1, 'representativeness': 1.9857649249893184e-08}, {'group': 2576, 'qty': 1, 'representativeness': 1.9857649249893184e-08}, {'group': 2577, 'qty': 1, 'representativeness': 1.9857649249893184e-08}, {'group': 2578, 'qty': 1, 'representativeness': 1.9857649249893184e-08}, {'group': 2579, 'qty': 1, 'representativeness': 1.9857649249893184e-08}, {'group': 2580, 'qty': 1, 'representativeness': 1.9857649249893184e-08}, {'group': 2581, 'qty': 1, 'representativeness': 1.9857649249893184e-08}, {'group': 2582, 'qty': 1, 'representativeness': 1.9857649249893184e-08}, {'group': 2583, 'qty': 1, 'representativeness': 1.9857649249893184e-08}, {'group': 2584, 'qty': 1, 'representativeness': 1.9857649249893184e-08}, {'group': 2585, 'qty': 1, 'representativeness': 1.9857649249893184e-08}, {'group': 2586, 'qty': 1, 'representativeness': 1.9857649249893184e-08}, {'group': 2587, 'qty': 1, 'representativeness': 1.9857649249893184e-08}, {'group': 2588, 'qty': 1, 'representativeness': 1.9857649249893184e-08}, {'group': 2589, 'qty': 1, 'representativeness': 1.9857649249893184e-08}, {'group': 2590, 'qty': 1, 'representativeness': 1.9857649249893184e-08}, {'group': 2591, 'qty': 1, 'representativeness': 1.9857649249893184e-08}, {'group': 2592, 'qty': 1, 'representativeness': 1.9857649249893184e-08}, {'group': 2593, 'qty': 1, 'representativeness': 1.9857649249893184e-08}, {'group': 2594, 'qty': 1, 'representativeness': 1.9857649249893184e-08}, {'group': 2595, 'qty': 1, 'representativeness': 1.9857649249893184e-08}, {'group': 2596, 'qty': 1, 'representativeness': 1.9857649249893184e-08}, {'group': 2597, 'qty': 1, 'representativeness': 1.9857649249893184e-08}, {'group': 2598, 'qty': 1, 'representativeness': 1.9857649249893184e-08}, {'group': 2599, 'qty': 1, 'representativeness': 1.9857649249893184e-08}, {'group': 2600, 'qty': 1, 'representativeness': 1.9857649249893184e-08}, {'group': 2601, 'qty': 1, 'representativeness': 1.9857649249893184e-08}, {'group': 2602, 'qty': 1, 'representativeness': 1.9857649249893184e-08}, {'group': 2603, 'qty': 1, 'representativeness': 1.9857649249893184e-08}, {'group': 2604, 'qty': 1, 'representativeness': 1.9857649249893184e-08}, {'group': 2605, 'qty': 1, 'representativeness': 1.9857649249893184e-08}, {'group': 2606, 'qty': 1, 'representativeness': 1.9857649249893184e-08}, {'group': 2607, 'qty': 1, 'representativeness': 1.9857649249893184e-08}, {'group': 2608, 'qty': 1, 'representativeness': 1.9857649249893184e-08}, {'group': 2609, 'qty': 1, 'representativeness': 1.9857649249893184e-08}, {'group': 2610, 'qty': 1, 'representativeness': 1.9857649249893184e-08}, {'group': 2611, 'qty': 1, 'representativeness': 1.9857649249893184e-08}, {'group': 2612, 'qty': 1, 'representativeness': 1.9857649249893184e-08}, {'group': 2613, 'qty': 1, 'representativeness': 1.9857649249893184e-08}, {'group': 2614, 'qty': 1, 'representativeness': 1.9857649249893184e-08}, {'group': 2615, 'qty': 1, 'representativeness': 1.9857649249893184e-08}, {'group': 2616, 'qty': 1, 'representativeness': 1.9857649249893184e-08}, {'group': 2617, 'qty': 1, 'representativeness': 1.9857649249893184e-08}, {'group': 2618, 'qty': 1, 'representativeness': 1.9857649249893184e-08}, {'group': 2619, 'qty': 1, 'representativeness': 1.9857649249893184e-08}, {'group': 2620, 'qty': 1, 'representativeness': 1.9857649249893184e-08}, {'group': 2621, 'qty': 1, 'representativeness': 1.9857649249893184e-08}, {'group': 2622, 'qty': 1, 'representativeness': 1.9857649249893184e-08}, {'group': 2623, 'qty': 1, 'representativeness': 1.9857649249893184e-08}, {'group': 2624, 'qty': 1, 'representativeness': 1.9857649249893184e-08}, {'group': 2625, 'qty': 1, 'representativeness': 1.9857649249893184e-08}, {'group': 2626, 'qty': 1, 'representativeness': 1.9857649249893184e-08}, {'group': 2627, 'qty': 1, 'representativeness': 1.9857649249893184e-08}, {'group': 2628, 'qty': 1, 'representativeness': 1.9857649249893184e-08}, {'group': 2629, 'qty': 1, 'representativeness': 1.9857649249893184e-08}, {'group': 2630, 'qty': 1, 'representativeness': 1.9857649249893184e-08}, {'group': 2631, 'qty': 1, 'representativeness': 1.9857649249893184e-08}, {'group': 2632, 'qty': 1, 'representativeness': 1.9857649249893184e-08}, {'group': 2633, 'qty': 1, 'representativeness': 1.9857649249893184e-08}, {'group': 2634, 'qty': 1, 'representativeness': 1.9857649249893184e-08}, {'group': 2635, 'qty': 1, 'representativeness': 1.9857649249893184e-08}, {'group': 2636, 'qty': 1, 'representativeness': 1.9857649249893184e-08}, {'group': 2637, 'qty': 1, 'representativeness': 1.9857649249893184e-08}, {'group': 2638, 'qty': 1, 'representativeness': 1.9857649249893184e-08}, {'group': 2639, 'qty': 1, 'representativeness': 1.9857649249893184e-08}, {'group': 2640, 'qty': 1, 'representativeness': 1.9857649249893184e-08}, {'group': 2641, 'qty': 1, 'representativeness': 1.9857649249893184e-08}, {'group': 2642, 'qty': 1, 'representativeness': 1.9857649249893184e-08}, {'group': 2643, 'qty': 1, 'representativeness': 1.9857649249893184e-08}, {'group': 2644, 'qty': 1, 'representativeness': 1.9857649249893184e-08}, {'group': 2645, 'qty': 1, 'representativeness': 1.9857649249893184e-08}, {'group': 2646, 'qty': 1, 'representativeness': 1.9857649249893184e-08}, {'group': 2647, 'qty': 1, 'representativeness': 1.9857649249893184e-08}, {'group': 2648, 'qty': 1, 'representativeness': 1.9857649249893184e-08}, {'group': 2649, 'qty': 1, 'representativeness': 1.9857649249893184e-08}, {'group': 2650, 'qty': 1, 'representativeness': 1.9857649249893184e-08}, {'group': 2651, 'qty': 1, 'representativeness': 1.9857649249893184e-08}, {'group': 2652, 'qty': 1, 'representativeness': 1.9857649249893184e-08}, {'group': 2653, 'qty': 1, 'representativeness': 1.9857649249893184e-08}, {'group': 2654, 'qty': 1, 'representativeness': 1.9857649249893184e-08}, {'group': 2655, 'qty': 1, 'representativeness': 1.9857649249893184e-08}, {'group': 2656, 'qty': 1, 'representativeness': 1.9857649249893184e-08}, {'group': 2657, 'qty': 1, 'representativeness': 1.9857649249893184e-08}, {'group': 2658, 'qty': 1, 'representativeness': 1.9857649249893184e-08}, {'group': 2659, 'qty': 1, 'representativeness': 1.9857649249893184e-08}, {'group': 2660, 'qty': 1, 'representativeness': 1.9857649249893184e-08}, {'group': 2661, 'qty': 1, 'representativeness': 1.9857649249893184e-08}, {'group': 2662, 'qty': 1, 'representativeness': 1.9857649249893184e-08}, {'group': 2663, 'qty': 1, 'representativeness': 1.9857649249893184e-08}, {'group': 2664, 'qty': 1, 'representativeness': 1.9857649249893184e-08}, {'group': 2665, 'qty': 1, 'representativeness': 1.9857649249893184e-08}, {'group': 2666, 'qty': 1, 'representativeness': 1.9857649249893184e-08}, {'group': 2667, 'qty': 1, 'representativeness': 1.9857649249893184e-08}, {'group': 2668, 'qty': 1, 'representativeness': 1.9857649249893184e-08}, {'group': 2669, 'qty': 1, 'representativeness': 1.9857649249893184e-08}, {'group': 2670, 'qty': 1, 'representativeness': 1.9857649249893184e-08}, {'group': 2671, 'qty': 1, 'representativeness': 1.9857649249893184e-08}, {'group': 2672, 'qty': 1, 'representativeness': 1.9857649249893184e-08}, {'group': 2673, 'qty': 1, 'representativeness': 1.9857649249893184e-08}, {'group': 2674, 'qty': 1, 'representativeness': 1.9857649249893184e-08}, {'group': 2675, 'qty': 1, 'representativeness': 1.9857649249893184e-08}, {'group': 2676, 'qty': 1, 'representativeness': 1.9857649249893184e-08}, {'group': 2677, 'qty': 1, 'representativeness': 1.9857649249893184e-08}, {'group': 2678, 'qty': 1, 'representativeness': 1.9857649249893184e-08}, {'group': 2679, 'qty': 1, 'representativeness': 1.9857649249893184e-08}, {'group': 2680, 'qty': 1, 'representativeness': 1.9857649249893184e-08}, {'group': 2681, 'qty': 1, 'representativeness': 1.9857649249893184e-08}, {'group': 2682, 'qty': 1, 'representativeness': 1.9857649249893184e-08}, {'group': 2683, 'qty': 1, 'representativeness': 1.9857649249893184e-08}, {'group': 2684, 'qty': 1, 'representativeness': 1.9857649249893184e-08}, {'group': 2685, 'qty': 1, 'representativeness': 1.9857649249893184e-08}, {'group': 2686, 'qty': 1, 'representativeness': 1.9857649249893184e-08}, {'group': 2687, 'qty': 1, 'representativeness': 1.9857649249893184e-08}, {'group': 2688, 'qty': 1, 'representativeness': 1.9857649249893184e-08}, {'group': 2689, 'qty': 1, 'representativeness': 1.9857649249893184e-08}, {'group': 2690, 'qty': 1, 'representativeness': 1.9857649249893184e-08}, {'group': 2691, 'qty': 1, 'representativeness': 1.9857649249893184e-08}, {'group': 2692, 'qty': 1, 'representativeness': 1.9857649249893184e-08}, {'group': 2693, 'qty': 1, 'representativeness': 1.9857649249893184e-08}, {'group': 2694, 'qty': 1, 'representativeness': 1.9857649249893184e-08}, {'group': 2695, 'qty': 1, 'representativeness': 1.9857649249893184e-08}, {'group': 2696, 'qty': 1, 'representativeness': 1.9857649249893184e-08}, {'group': 2697, 'qty': 1, 'representativeness': 1.9857649249893184e-08}, {'group': 2698, 'qty': 1, 'representativeness': 1.9857649249893184e-08}, {'group': 2699, 'qty': 1, 'representativeness': 1.9857649249893184e-08}, {'group': 2700, 'qty': 1, 'representativeness': 1.9857649249893184e-08}, {'group': 2701, 'qty': 1, 'representativeness': 1.9857649249893184e-08}, {'group': 2702, 'qty': 1, 'representativeness': 1.9857649249893184e-08}, {'group': 2703, 'qty': 1, 'representativeness': 1.9857649249893184e-08}, {'group': 2704, 'qty': 1, 'representativeness': 1.9857649249893184e-08}, {'group': 2705, 'qty': 1, 'representativeness': 1.9857649249893184e-08}, {'group': 2706, 'qty': 1, 'representativeness': 1.9857649249893184e-08}, {'group': 2707, 'qty': 1, 'representativeness': 1.9857649249893184e-08}, {'group': 2708, 'qty': 1, 'representativeness': 1.9857649249893184e-08}, {'group': 2709, 'qty': 1, 'representativeness': 1.9857649249893184e-08}, {'group': 2710, 'qty': 1, 'representativeness': 1.9857649249893184e-08}, {'group': 2711, 'qty': 1, 'representativeness': 1.9857649249893184e-08}, {'group': 2712, 'qty': 1, 'representativeness': 1.9857649249893184e-08}, {'group': 2713, 'qty': 1, 'representativeness': 1.9857649249893184e-08}, {'group': 2714, 'qty': 1, 'representativeness': 1.9857649249893184e-08}, {'group': 2715, 'qty': 1, 'representativeness': 1.9857649249893184e-08}, {'group': 2716, 'qty': 1, 'representativeness': 1.9857649249893184e-08}, {'group': 2717, 'qty': 1, 'representativeness': 1.9857649249893184e-08}, {'group': 2718, 'qty': 1, 'representativeness': 1.9857649249893184e-08}, {'group': 2719, 'qty': 1, 'representativeness': 1.9857649249893184e-08}, {'group': 2720, 'qty': 1, 'representativeness': 1.9857649249893184e-08}, {'group': 2721, 'qty': 1, 'representativeness': 1.9857649249893184e-08}, {'group': 2722, 'qty': 1, 'representativeness': 1.9857649249893184e-08}, {'group': 2723, 'qty': 1, 'representativeness': 1.9857649249893184e-08}, {'group': 2724, 'qty': 1, 'representativeness': 1.9857649249893184e-08}, {'group': 2725, 'qty': 1, 'representativeness': 1.9857649249893184e-08}, {'group': 2726, 'qty': 1, 'representativeness': 1.9857649249893184e-08}, {'group': 2727, 'qty': 1, 'representativeness': 1.9857649249893184e-08}, {'group': 2728, 'qty': 1, 'representativeness': 1.9857649249893184e-08}, {'group': 2729, 'qty': 1, 'representativeness': 1.9857649249893184e-08}, {'group': 2730, 'qty': 1, 'representativeness': 1.9857649249893184e-08}, {'group': 2731, 'qty': 1, 'representativeness': 1.9857649249893184e-08}, {'group': 2732, 'qty': 1, 'representativeness': 1.9857649249893184e-08}, {'group': 2733, 'qty': 1, 'representativeness': 1.9857649249893184e-08}, {'group': 2734, 'qty': 1, 'representativeness': 1.9857649249893184e-08}, {'group': 2735, 'qty': 1, 'representativeness': 1.9857649249893184e-08}, {'group': 2736, 'qty': 1, 'representativeness': 1.9857649249893184e-08}, {'group': 2737, 'qty': 1, 'representativeness': 1.9857649249893184e-08}, {'group': 2738, 'qty': 1, 'representativeness': 1.9857649249893184e-08}, {'group': 2739, 'qty': 1, 'representativeness': 1.9857649249893184e-08}, {'group': 2740, 'qty': 1, 'representativeness': 1.9857649249893184e-08}, {'group': 2741, 'qty': 1, 'representativeness': 1.9857649249893184e-08}, {'group': 2742, 'qty': 1, 'representativeness': 1.9857649249893184e-08}, {'group': 2743, 'qty': 1, 'representativeness': 1.9857649249893184e-08}, {'group': 2744, 'qty': 1, 'representativeness': 1.9857649249893184e-08}, {'group': 2745, 'qty': 1, 'representativeness': 1.9857649249893184e-08}, {'group': 2746, 'qty': 1, 'representativeness': 1.9857649249893184e-08}, {'group': 2747, 'qty': 1, 'representativeness': 1.9857649249893184e-08}, {'group': 2748, 'qty': 1, 'representativeness': 1.9857649249893184e-08}, {'group': 2749, 'qty': 1, 'representativeness': 1.9857649249893184e-08}, {'group': 2750, 'qty': 1, 'representativeness': 1.9857649249893184e-08}, {'group': 2751, 'qty': 1, 'representativeness': 1.9857649249893184e-08}, {'group': 2752, 'qty': 1, 'representativeness': 1.9857649249893184e-08}, {'group': 2753, 'qty': 1, 'representativeness': 1.9857649249893184e-08}, {'group': 2754, 'qty': 1, 'representativeness': 1.9857649249893184e-08}, {'group': 2755, 'qty': 1, 'representativeness': 1.9857649249893184e-08}, {'group': 2756, 'qty': 1, 'representativeness': 1.9857649249893184e-08}, {'group': 2757, 'qty': 1, 'representativeness': 1.9857649249893184e-08}, {'group': 2758, 'qty': 1, 'representativeness': 1.9857649249893184e-08}, {'group': 2759, 'qty': 1, 'representativeness': 1.9857649249893184e-08}, {'group': 2760, 'qty': 1, 'representativeness': 1.9857649249893184e-08}, {'group': 2761, 'qty': 1, 'representativeness': 1.9857649249893184e-08}, {'group': 2762, 'qty': 1, 'representativeness': 1.9857649249893184e-08}, {'group': 2763, 'qty': 1, 'representativeness': 1.9857649249893184e-08}, {'group': 2764, 'qty': 1, 'representativeness': 1.9857649249893184e-08}, {'group': 2765, 'qty': 1, 'representativeness': 1.9857649249893184e-08}, {'group': 2766, 'qty': 1, 'representativeness': 1.9857649249893184e-08}, {'group': 2767, 'qty': 1, 'representativeness': 1.9857649249893184e-08}, {'group': 2768, 'qty': 1, 'representativeness': 1.9857649249893184e-08}, {'group': 2769, 'qty': 1, 'representativeness': 1.9857649249893184e-08}, {'group': 2770, 'qty': 1, 'representativeness': 1.9857649249893184e-08}, {'group': 2771, 'qty': 1, 'representativeness': 1.9857649249893184e-08}, {'group': 2772, 'qty': 1, 'representativeness': 1.9857649249893184e-08}, {'group': 2773, 'qty': 1, 'representativeness': 1.9857649249893184e-08}, {'group': 2774, 'qty': 1, 'representativeness': 1.9857649249893184e-08}, {'group': 2775, 'qty': 1, 'representativeness': 1.9857649249893184e-08}, {'group': 2776, 'qty': 1, 'representativeness': 1.9857649249893184e-08}, {'group': 2777, 'qty': 1, 'representativeness': 1.9857649249893184e-08}, {'group': 2778, 'qty': 1, 'representativeness': 1.9857649249893184e-08}, {'group': 2779, 'qty': 1, 'representativeness': 1.9857649249893184e-08}, {'group': 2780, 'qty': 1, 'representativeness': 1.9857649249893184e-08}, {'group': 2781, 'qty': 1, 'representativeness': 1.9857649249893184e-08}, {'group': 2782, 'qty': 1, 'representativeness': 1.9857649249893184e-08}, {'group': 2783, 'qty': 1, 'representativeness': 1.9857649249893184e-08}, {'group': 2784, 'qty': 1, 'representativeness': 1.9857649249893184e-08}, {'group': 2785, 'qty': 1, 'representativeness': 1.9857649249893184e-08}, {'group': 2786, 'qty': 1, 'representativeness': 1.9857649249893184e-08}, {'group': 2787, 'qty': 1, 'representativeness': 1.9857649249893184e-08}, {'group': 2788, 'qty': 1, 'representativeness': 1.9857649249893184e-08}, {'group': 2789, 'qty': 1, 'representativeness': 1.9857649249893184e-08}, {'group': 2790, 'qty': 1, 'representativeness': 1.9857649249893184e-08}, {'group': 2791, 'qty': 1, 'representativeness': 1.9857649249893184e-08}, {'group': 2792, 'qty': 1, 'representativeness': 1.9857649249893184e-08}, {'group': 2793, 'qty': 1, 'representativeness': 1.9857649249893184e-08}, {'group': 2794, 'qty': 1, 'representativeness': 1.9857649249893184e-08}, {'group': 2795, 'qty': 1, 'representativeness': 1.9857649249893184e-08}, {'group': 2796, 'qty': 1, 'representativeness': 1.9857649249893184e-08}, {'group': 2797, 'qty': 1, 'representativeness': 1.9857649249893184e-08}, {'group': 2798, 'qty': 1, 'representativeness': 1.9857649249893184e-08}, {'group': 2799, 'qty': 1, 'representativeness': 1.9857649249893184e-08}, {'group': 2800, 'qty': 1, 'representativeness': 1.9857649249893184e-08}, {'group': 2801, 'qty': 1, 'representativeness': 1.9857649249893184e-08}, {'group': 2802, 'qty': 1, 'representativeness': 1.9857649249893184e-08}, {'group': 2803, 'qty': 1, 'representativeness': 1.9857649249893184e-08}, {'group': 2804, 'qty': 1, 'representativeness': 1.9857649249893184e-08}, {'group': 2805, 'qty': 1, 'representativeness': 1.9857649249893184e-08}, {'group': 2806, 'qty': 1, 'representativeness': 1.9857649249893184e-08}, {'group': 2807, 'qty': 1, 'representativeness': 1.9857649249893184e-08}, {'group': 2808, 'qty': 1, 'representativeness': 1.9857649249893184e-08}, {'group': 2809, 'qty': 1, 'representativeness': 1.9857649249893184e-08}, {'group': 2810, 'qty': 1, 'representativeness': 1.9857649249893184e-08}, {'group': 2811, 'qty': 1, 'representativeness': 1.9857649249893184e-08}, {'group': 2812, 'qty': 1, 'representativeness': 1.9857649249893184e-08}, {'group': 2813, 'qty': 1, 'representativeness': 1.9857649249893184e-08}, {'group': 2814, 'qty': 1, 'representativeness': 1.9857649249893184e-08}, {'group': 2815, 'qty': 1, 'representativeness': 1.9857649249893184e-08}, {'group': 2816, 'qty': 1, 'representativeness': 1.9857649249893184e-08}, {'group': 2817, 'qty': 1, 'representativeness': 1.9857649249893184e-08}, {'group': 2818, 'qty': 1, 'representativeness': 1.9857649249893184e-08}, {'group': 2819, 'qty': 1, 'representativeness': 1.9857649249893184e-08}, {'group': 2820, 'qty': 1, 'representativeness': 1.9857649249893184e-08}, {'group': 2821, 'qty': 1, 'representativeness': 1.9857649249893184e-08}, {'group': 2822, 'qty': 1, 'representativeness': 1.9857649249893184e-08}, {'group': 2823, 'qty': 1, 'representativeness': 1.9857649249893184e-08}, {'group': 2824, 'qty': 1, 'representativeness': 1.9857649249893184e-08}, {'group': 2825, 'qty': 1, 'representativeness': 1.9857649249893184e-08}, {'group': 2826, 'qty': 1, 'representativeness': 1.9857649249893184e-08}, {'group': 2827, 'qty': 1, 'representativeness': 1.9857649249893184e-08}, {'group': 2828, 'qty': 1, 'representativeness': 1.9857649249893184e-08}, {'group': 2829, 'qty': 1, 'representativeness': 1.9857649249893184e-08}, {'group': 2830, 'qty': 1, 'representativeness': 1.9857649249893184e-08}, {'group': 2831, 'qty': 1, 'representativeness': 1.9857649249893184e-08}, {'group': 2832, 'qty': 1, 'representativeness': 1.9857649249893184e-08}, {'group': 2833, 'qty': 1, 'representativeness': 1.9857649249893184e-08}, {'group': 2834, 'qty': 1, 'representativeness': 1.9857649249893184e-08}, {'group': 2835, 'qty': 1, 'representativeness': 1.9857649249893184e-08}, {'group': 2836, 'qty': 1, 'representativeness': 1.9857649249893184e-08}, {'group': 2837, 'qty': 1, 'representativeness': 1.9857649249893184e-08}, {'group': 2838, 'qty': 1, 'representativeness': 1.9857649249893184e-08}, {'group': 2839, 'qty': 1, 'representativeness': 1.9857649249893184e-08}, {'group': 2840, 'qty': 1, 'representativeness': 1.9857649249893184e-08}, {'group': 2841, 'qty': 1, 'representativeness': 1.9857649249893184e-08}, {'group': 2842, 'qty': 1, 'representativeness': 1.9857649249893184e-08}, {'group': 2843, 'qty': 1, 'representativeness': 1.9857649249893184e-08}, {'group': 2844, 'qty': 1, 'representativeness': 1.9857649249893184e-08}, {'group': 2845, 'qty': 1, 'representativeness': 1.9857649249893184e-08}, {'group': 2846, 'qty': 1, 'representativeness': 1.9857649249893184e-08}, {'group': 2847, 'qty': 1, 'representativeness': 1.9857649249893184e-08}, {'group': 2848, 'qty': 1, 'representativeness': 1.9857649249893184e-08}, {'group': 2849, 'qty': 1, 'representativeness': 1.9857649249893184e-08}, {'group': 2850, 'qty': 1, 'representativeness': 1.9857649249893184e-08}, {'group': 2851, 'qty': 1, 'representativeness': 1.9857649249893184e-08}, {'group': 2852, 'qty': 1, 'representativeness': 1.9857649249893184e-08}, {'group': 2853, 'qty': 1, 'representativeness': 1.9857649249893184e-08}, {'group': 2854, 'qty': 1, 'representativeness': 1.9857649249893184e-08}, {'group': 2855, 'qty': 1, 'representativeness': 1.9857649249893184e-08}, {'group': 2856, 'qty': 1, 'representativeness': 1.9857649249893184e-08}, {'group': 2857, 'qty': 1, 'representativeness': 1.9857649249893184e-08}, {'group': 2858, 'qty': 1, 'representativeness': 1.9857649249893184e-08}, {'group': 2859, 'qty': 1, 'representativeness': 1.9857649249893184e-08}, {'group': 2860, 'qty': 1, 'representativeness': 1.9857649249893184e-08}, {'group': 2861, 'qty': 1, 'representativeness': 1.9857649249893184e-08}, {'group': 2862, 'qty': 1, 'representativeness': 1.9857649249893184e-08}, {'group': 2863, 'qty': 1, 'representativeness': 1.9857649249893184e-08}, {'group': 2864, 'qty': 1, 'representativeness': 1.9857649249893184e-08}, {'group': 2865, 'qty': 1, 'representativeness': 1.9857649249893184e-08}, {'group': 2866, 'qty': 1, 'representativeness': 1.9857649249893184e-08}, {'group': 2867, 'qty': 1, 'representativeness': 1.9857649249893184e-08}, {'group': 2868, 'qty': 1, 'representativeness': 1.9857649249893184e-08}, {'group': 2869, 'qty': 1, 'representativeness': 1.9857649249893184e-08}, {'group': 2870, 'qty': 1, 'representativeness': 1.9857649249893184e-08}, {'group': 2871, 'qty': 1, 'representativeness': 1.9857649249893184e-08}, {'group': 2872, 'qty': 1, 'representativeness': 1.9857649249893184e-08}, {'group': 2873, 'qty': 1, 'representativeness': 1.9857649249893184e-08}, {'group': 2874, 'qty': 1, 'representativeness': 1.9857649249893184e-08}, {'group': 2875, 'qty': 1, 'representativeness': 1.9857649249893184e-08}, {'group': 2876, 'qty': 1, 'representativeness': 1.9857649249893184e-08}, {'group': 2877, 'qty': 1, 'representativeness': 1.9857649249893184e-08}, {'group': 2878, 'qty': 1, 'representativeness': 1.9857649249893184e-08}, {'group': 2879, 'qty': 1, 'representativeness': 1.9857649249893184e-08}, {'group': 2880, 'qty': 1, 'representativeness': 1.9857649249893184e-08}, {'group': 2881, 'qty': 1, 'representativeness': 1.9857649249893184e-08}, {'group': 2882, 'qty': 1, 'representativeness': 1.9857649249893184e-08}, {'group': 2883, 'qty': 1, 'representativeness': 1.9857649249893184e-08}, {'group': 2884, 'qty': 1, 'representativeness': 1.9857649249893184e-08}, {'group': 2885, 'qty': 1, 'representativeness': 1.9857649249893184e-08}, {'group': 2886, 'qty': 1, 'representativeness': 1.9857649249893184e-08}, {'group': 2887, 'qty': 1, 'representativeness': 1.9857649249893184e-08}, {'group': 2888, 'qty': 1, 'representativeness': 1.9857649249893184e-08}, {'group': 2889, 'qty': 1, 'representativeness': 1.9857649249893184e-08}, {'group': 2890, 'qty': 1, 'representativeness': 1.9857649249893184e-08}, {'group': 2891, 'qty': 1, 'representativeness': 1.9857649249893184e-08}, {'group': 2892, 'qty': 1, 'representativeness': 1.9857649249893184e-08}, {'group': 2893, 'qty': 1, 'representativeness': 1.9857649249893184e-08}, {'group': 2894, 'qty': 1, 'representativeness': 1.9857649249893184e-08}, {'group': 2895, 'qty': 1, 'representativeness': 1.9857649249893184e-08}, {'group': 2896, 'qty': 1, 'representativeness': 1.9857649249893184e-08}, {'group': 2897, 'qty': 1, 'representativeness': 1.9857649249893184e-08}, {'group': 2898, 'qty': 1, 'representativeness': 1.9857649249893184e-08}, {'group': 2899, 'qty': 1, 'representativeness': 1.9857649249893184e-08}, {'group': 2900, 'qty': 1, 'representativeness': 1.9857649249893184e-08}, {'group': 2901, 'qty': 1, 'representativeness': 1.9857649249893184e-08}, {'group': 2902, 'qty': 1, 'representativeness': 1.9857649249893184e-08}, {'group': 2903, 'qty': 1, 'representativeness': 1.9857649249893184e-08}, {'group': 2904, 'qty': 1, 'representativeness': 1.9857649249893184e-08}, {'group': 2905, 'qty': 1, 'representativeness': 1.9857649249893184e-08}, {'group': 2906, 'qty': 1, 'representativeness': 1.9857649249893184e-08}, {'group': 2907, 'qty': 1, 'representativeness': 1.9857649249893184e-08}, {'group': 2908, 'qty': 1, 'representativeness': 1.9857649249893184e-08}, {'group': 2909, 'qty': 1, 'representativeness': 1.9857649249893184e-08}, {'group': 2910, 'qty': 1, 'representativeness': 1.9857649249893184e-08}, {'group': 2911, 'qty': 1, 'representativeness': 1.9857649249893184e-08}, {'group': 2912, 'qty': 1, 'representativeness': 1.9857649249893184e-08}, {'group': 2913, 'qty': 1, 'representativeness': 1.9857649249893184e-08}, {'group': 2914, 'qty': 1, 'representativeness': 1.9857649249893184e-08}, {'group': 2915, 'qty': 1, 'representativeness': 1.9857649249893184e-08}, {'group': 2916, 'qty': 1, 'representativeness': 1.9857649249893184e-08}, {'group': 2917, 'qty': 1, 'representativeness': 1.9857649249893184e-08}, {'group': 2918, 'qty': 1, 'representativeness': 1.9857649249893184e-08}, {'group': 2919, 'qty': 1, 'representativeness': 1.9857649249893184e-08}, {'group': 2920, 'qty': 1, 'representativeness': 1.9857649249893184e-08}, {'group': 2921, 'qty': 1, 'representativeness': 1.9857649249893184e-08}, {'group': 2922, 'qty': 1, 'representativeness': 1.9857649249893184e-08}, {'group': 2923, 'qty': 1, 'representativeness': 1.9857649249893184e-08}, {'group': 2924, 'qty': 1, 'representativeness': 1.9857649249893184e-08}, {'group': 2925, 'qty': 1, 'representativeness': 1.9857649249893184e-08}, {'group': 2926, 'qty': 1, 'representativeness': 1.9857649249893184e-08}, {'group': 2927, 'qty': 1, 'representativeness': 1.9857649249893184e-08}, {'group': 2928, 'qty': 1, 'representativeness': 1.9857649249893184e-08}, {'group': 2929, 'qty': 1, 'representativeness': 1.9857649249893184e-08}, {'group': 2930, 'qty': 1, 'representativeness': 1.9857649249893184e-08}, {'group': 2931, 'qty': 1, 'representativeness': 1.9857649249893184e-08}, {'group': 2932, 'qty': 1, 'representativeness': 1.9857649249893184e-08}, {'group': 2933, 'qty': 1, 'representativeness': 1.9857649249893184e-08}, {'group': 2934, 'qty': 1, 'representativeness': 1.9857649249893184e-08}, {'group': 2935, 'qty': 1, 'representativeness': 1.9857649249893184e-08}, {'group': 2936, 'qty': 1, 'representativeness': 1.9857649249893184e-08}, {'group': 2937, 'qty': 1, 'representativeness': 1.9857649249893184e-08}, {'group': 2938, 'qty': 1, 'representativeness': 1.9857649249893184e-08}, {'group': 2939, 'qty': 1, 'representativeness': 1.9857649249893184e-08}, {'group': 2940, 'qty': 1, 'representativeness': 1.9857649249893184e-08}, {'group': 2941, 'qty': 1, 'representativeness': 1.9857649249893184e-08}, {'group': 2942, 'qty': 1, 'representativeness': 1.9857649249893184e-08}, {'group': 2943, 'qty': 1, 'representativeness': 1.9857649249893184e-08}, {'group': 2944, 'qty': 1, 'representativeness': 1.9857649249893184e-08}, {'group': 2945, 'qty': 1, 'representativeness': 1.9857649249893184e-08}, {'group': 2946, 'qty': 1, 'representativeness': 1.9857649249893184e-08}, {'group': 2947, 'qty': 1, 'representativeness': 1.9857649249893184e-08}, {'group': 2948, 'qty': 1, 'representativeness': 1.9857649249893184e-08}, {'group': 2949, 'qty': 1, 'representativeness': 1.9857649249893184e-08}, {'group': 2950, 'qty': 1, 'representativeness': 1.9857649249893184e-08}, {'group': 2951, 'qty': 1, 'representativeness': 1.9857649249893184e-08}, {'group': 2952, 'qty': 1, 'representativeness': 1.9857649249893184e-08}, {'group': 2953, 'qty': 1, 'representativeness': 1.9857649249893184e-08}, {'group': 2954, 'qty': 1, 'representativeness': 1.9857649249893184e-08}, {'group': 2955, 'qty': 1, 'representativeness': 1.9857649249893184e-08}, {'group': 2956, 'qty': 1, 'representativeness': 1.9857649249893184e-08}, {'group': 2957, 'qty': 1, 'representativeness': 1.9857649249893184e-08}, {'group': 2958, 'qty': 1, 'representativeness': 1.9857649249893184e-08}, {'group': 2959, 'qty': 5, 'representativeness': 9.928824624946593e-08}, {'group': 2960, 'qty': 2, 'representativeness': 3.971529849978637e-08}, {'group': 2961, 'qty': 1, 'representativeness': 1.9857649249893184e-08}, {'group': 2962, 'qty': 1, 'representativeness': 1.9857649249893184e-08}, {'group': 2963, 'qty': 1, 'representativeness': 1.9857649249893184e-08}, {'group': 2964, 'qty': 1, 'representativeness': 1.9857649249893184e-08}, {'group': 2965, 'qty': 1, 'representativeness': 1.9857649249893184e-08}, {'group': 2966, 'qty': 1, 'representativeness': 1.9857649249893184e-08}, {'group': 2967, 'qty': 1, 'representativeness': 1.9857649249893184e-08}, {'group': 2968, 'qty': 1, 'representativeness': 1.9857649249893184e-08}, {'group': 2969, 'qty': 1, 'representativeness': 1.9857649249893184e-08}, {'group': 2970, 'qty': 1, 'representativeness': 1.9857649249893184e-08}, {'group': 2971, 'qty': 1, 'representativeness': 1.9857649249893184e-08}, {'group': 2972, 'qty': 1, 'representativeness': 1.9857649249893184e-08}, {'group': 2973, 'qty': 1, 'representativeness': 1.9857649249893184e-08}, {'group': 2974, 'qty': 1, 'representativeness': 1.9857649249893184e-08}, {'group': 2975, 'qty': 1, 'representativeness': 1.9857649249893184e-08}, {'group': 2976, 'qty': 1, 'representativeness': 1.9857649249893184e-08}, {'group': 2977, 'qty': 1, 'representativeness': 1.9857649249893184e-08}, {'group': 2978, 'qty': 1, 'representativeness': 1.9857649249893184e-08}, {'group': 2979, 'qty': 1, 'representativeness': 1.9857649249893184e-08}, {'group': 2980, 'qty': 1, 'representativeness': 1.9857649249893184e-08}, {'group': 2981, 'qty': 1, 'representativeness': 1.9857649249893184e-08}, {'group': 2982, 'qty': 2, 'representativeness': 3.971529849978637e-08}, {'group': 2983, 'qty': 1, 'representativeness': 1.9857649249893184e-08}, {'group': 2984, 'qty': 1, 'representativeness': 1.9857649249893184e-08}, {'group': 2985, 'qty': 1, 'representativeness': 1.9857649249893184e-08}, {'group': 2986, 'qty': 1, 'representativeness': 1.9857649249893184e-08}, {'group': 2987, 'qty': 1, 'representativeness': 1.9857649249893184e-08}, {'group': 2988, 'qty': 1, 'representativeness': 1.9857649249893184e-08}, {'group': 2989, 'qty': 1, 'representativeness': 1.9857649249893184e-08}, {'group': 2990, 'qty': 1, 'representativeness': 1.9857649249893184e-08}, {'group': 2991, 'qty': 1, 'representativeness': 1.9857649249893184e-08}, {'group': 2992, 'qty': 1, 'representativeness': 1.9857649249893184e-08}, {'group': 2993, 'qty': 1, 'representativeness': 1.9857649249893184e-08}, {'group': 2994, 'qty': 1, 'representativeness': 1.9857649249893184e-08}, {'group': 2995, 'qty': 1, 'representativeness': 1.9857649249893184e-08}, {'group': 2996, 'qty': 1, 'representativeness': 1.9857649249893184e-08}, {'group': 2997, 'qty': 1, 'representativeness': 1.9857649249893184e-08}, {'group': 2998, 'qty': 1, 'representativeness': 1.9857649249893184e-08}, {'group': 2999, 'qty': 1, 'representativeness': 1.9857649249893184e-08}, {'group': 3000, 'qty': 1, 'representativeness': 1.9857649249893184e-08}, {'group': 3001, 'qty': 1, 'representativeness': 1.9857649249893184e-08}, {'group': 3002, 'qty': 1, 'representativeness': 1.9857649249893184e-08}, {'group': 3003, 'qty': 1, 'representativeness': 1.9857649249893184e-08}, {'group': 3004, 'qty': 1, 'representativeness': 1.9857649249893184e-08}, {'group': 3005, 'qty': 1, 'representativeness': 1.9857649249893184e-08}, {'group': 3006, 'qty': 1, 'representativeness': 1.9857649249893184e-08}, {'group': 3007, 'qty': 1, 'representativeness': 1.9857649249893184e-08}, {'group': 3008, 'qty': 1, 'representativeness': 1.9857649249893184e-08}, {'group': 3009, 'qty': 1, 'representativeness': 1.9857649249893184e-08}, {'group': 3010, 'qty': 1, 'representativeness': 1.9857649249893184e-08}, {'group': 3011, 'qty': 1, 'representativeness': 1.9857649249893184e-08}, {'group': 3012, 'qty': 1, 'representativeness': 1.9857649249893184e-08}, {'group': 3013, 'qty': 1, 'representativeness': 1.9857649249893184e-08}, {'group': 3014, 'qty': 1, 'representativeness': 1.9857649249893184e-08}, {'group': 3015, 'qty': 1, 'representativeness': 1.9857649249893184e-08}, {'group': 3016, 'qty': 1, 'representativeness': 1.9857649249893184e-08}, {'group': 3017, 'qty': 1, 'representativeness': 1.9857649249893184e-08}, {'group': 3018, 'qty': 1, 'representativeness': 1.9857649249893184e-08}, {'group': 3019, 'qty': 1, 'representativeness': 1.9857649249893184e-08}, {'group': 3020, 'qty': 1, 'representativeness': 1.9857649249893184e-08}, {'group': 3021, 'qty': 1, 'representativeness': 1.9857649249893184e-08}, {'group': 3022, 'qty': 1, 'representativeness': 1.9857649249893184e-08}, {'group': 3023, 'qty': 1104, 'representativeness': 2.1922844771882077e-05}, {'group': 3024, 'qty': 1, 'representativeness': 1.9857649249893184e-08}, {'group': 3025, 'qty': 1, 'representativeness': 1.9857649249893184e-08}, {'group': 3026, 'qty': 1, 'representativeness': 1.9857649249893184e-08}, {'group': 3027, 'qty': 1, 'representativeness': 1.9857649249893184e-08}, {'group': 3028, 'qty': 1, 'representativeness': 1.9857649249893184e-08}, {'group': 3029, 'qty': 1, 'representativeness': 1.9857649249893184e-08}, {'group': 3030, 'qty': 1, 'representativeness': 1.9857649249893184e-08}, {'group': 3031, 'qty': 1, 'representativeness': 1.9857649249893184e-08}, {'group': 3032, 'qty': 1, 'representativeness': 1.9857649249893184e-08}, {'group': 3033, 'qty': 1, 'representativeness': 1.9857649249893184e-08}, {'group': 3034, 'qty': 1, 'representativeness': 1.9857649249893184e-08}, {'group': 3035, 'qty': 1, 'representativeness': 1.9857649249893184e-08}, {'group': 3036, 'qty': 1, 'representativeness': 1.9857649249893184e-08}, {'group': 3037, 'qty': 1, 'representativeness': 1.9857649249893184e-08}, {'group': 3038, 'qty': 1, 'representativeness': 1.9857649249893184e-08}, {'group': 3039, 'qty': 1, 'representativeness': 1.9857649249893184e-08}, {'group': 3040, 'qty': 1, 'representativeness': 1.9857649249893184e-08}, {'group': 3041, 'qty': 1, 'representativeness': 1.9857649249893184e-08}, {'group': 3042, 'qty': 1, 'representativeness': 1.9857649249893184e-08}, {'group': 3043, 'qty': 1, 'representativeness': 1.9857649249893184e-08}, {'group': 3044, 'qty': 1, 'representativeness': 1.9857649249893184e-08}, {'group': 3045, 'qty': 1, 'representativeness': 1.9857649249893184e-08}, {'group': 3046, 'qty': 1, 'representativeness': 1.9857649249893184e-08}, {'group': 3047, 'qty': 1, 'representativeness': 1.9857649249893184e-08}, {'group': 3048, 'qty': 1, 'representativeness': 1.9857649249893184e-08}, {'group': 3049, 'qty': 1, 'representativeness': 1.9857649249893184e-08}, {'group': 3050, 'qty': 1, 'representativeness': 1.9857649249893184e-08}, {'group': 3051, 'qty': 1, 'representativeness': 1.9857649249893184e-08}, {'group': 3052, 'qty': 1, 'representativeness': 1.9857649249893184e-08}, {'group': 3053, 'qty': 1, 'representativeness': 1.9857649249893184e-08}, {'group': 3054, 'qty': 1, 'representativeness': 1.9857649249893184e-08}, {'group': 3055, 'qty': 1, 'representativeness': 1.9857649249893184e-08}, {'group': 3056, 'qty': 26, 'representativeness': 5.162988804972228e-07}, {'group': 3057, 'qty': 1, 'representativeness': 1.9857649249893184e-08}, {'group': 3058, 'qty': 1, 'representativeness': 1.9857649249893184e-08}, {'group': 3059, 'qty': 1, 'representativeness': 1.9857649249893184e-08}, {'group': 3060, 'qty': 1, 'representativeness': 1.9857649249893184e-08}, {'group': 3061, 'qty': 1, 'representativeness': 1.9857649249893184e-08}, {'group': 3062, 'qty': 1, 'representativeness': 1.9857649249893184e-08}, {'group': 3063, 'qty': 1, 'representativeness': 1.9857649249893184e-08}, {'group': 3064, 'qty': 1, 'representativeness': 1.9857649249893184e-08}, {'group': 3065, 'qty': 1, 'representativeness': 1.9857649249893184e-08}, {'group': 3066, 'qty': 1, 'representativeness': 1.9857649249893184e-08}, {'group': 3067, 'qty': 1, 'representativeness': 1.9857649249893184e-08}, {'group': 3068, 'qty': 1, 'representativeness': 1.9857649249893184e-08}, {'group': 3069, 'qty': 1, 'representativeness': 1.9857649249893184e-08}, {'group': 3070, 'qty': 1, 'representativeness': 1.9857649249893184e-08}, {'group': 3071, 'qty': 1, 'representativeness': 1.9857649249893184e-08}, {'group': 3072, 'qty': 1, 'representativeness': 1.9857649249893184e-08}, {'group': 3073, 'qty': 1, 'representativeness': 1.9857649249893184e-08}, {'group': 3074, 'qty': 1, 'representativeness': 1.9857649249893184e-08}, {'group': 3075, 'qty': 1, 'representativeness': 1.9857649249893184e-08}, {'group': 3076, 'qty': 1, 'representativeness': 1.9857649249893184e-08}, {'group': 3077, 'qty': 1, 'representativeness': 1.9857649249893184e-08}, {'group': 3078, 'qty': 1, 'representativeness': 1.9857649249893184e-08}, {'group': 3079, 'qty': 1, 'representativeness': 1.9857649249893184e-08}, {'group': 3080, 'qty': 1, 'representativeness': 1.9857649249893184e-08}, {'group': 3081, 'qty': 1, 'representativeness': 1.9857649249893184e-08}, {'group': 3082, 'qty': 1, 'representativeness': 1.9857649249893184e-08}, {'group': 3083, 'qty': 1, 'representativeness': 1.9857649249893184e-08}, {'group': 3084, 'qty': 1, 'representativeness': 1.9857649249893184e-08}, {'group': 3085, 'qty': 1, 'representativeness': 1.9857649249893184e-08}, {'group': 3086, 'qty': 1, 'representativeness': 1.9857649249893184e-08}, {'group': 3087, 'qty': 1, 'representativeness': 1.9857649249893184e-08}, {'group': 3088, 'qty': 1, 'representativeness': 1.9857649249893184e-08}, {'group': 3089, 'qty': 1, 'representativeness': 1.9857649249893184e-08}, {'group': 3090, 'qty': 1, 'representativeness': 1.9857649249893184e-08}, {'group': 3091, 'qty': 1, 'representativeness': 1.9857649249893184e-08}, {'group': 3092, 'qty': 1, 'representativeness': 1.9857649249893184e-08}, {'group': 3093, 'qty': 1, 'representativeness': 1.9857649249893184e-08}, {'group': 3094, 'qty': 1, 'representativeness': 1.9857649249893184e-08}, {'group': 3095, 'qty': 1, 'representativeness': 1.9857649249893184e-08}, {'group': 3096, 'qty': 1, 'representativeness': 1.9857649249893184e-08}, {'group': 3097, 'qty': 1, 'representativeness': 1.9857649249893184e-08}, {'group': 3098, 'qty': 1, 'representativeness': 1.9857649249893184e-08}, {'group': 3099, 'qty': 1, 'representativeness': 1.9857649249893184e-08}, {'group': 3100, 'qty': 1, 'representativeness': 1.9857649249893184e-08}, {'group': 3101, 'qty': 1, 'representativeness': 1.9857649249893184e-08}, {'group': 3102, 'qty': 1, 'representativeness': 1.9857649249893184e-08}, {'group': 3103, 'qty': 1, 'representativeness': 1.9857649249893184e-08}, {'group': 3104, 'qty': 1, 'representativeness': 1.9857649249893184e-08}, {'group': 3105, 'qty': 1, 'representativeness': 1.9857649249893184e-08}, {'group': 3106, 'qty': 1, 'representativeness': 1.9857649249893184e-08}, {'group': 3107, 'qty': 1, 'representativeness': 1.9857649249893184e-08}, {'group': 3108, 'qty': 1, 'representativeness': 1.9857649249893184e-08}, {'group': 3109, 'qty': 1, 'representativeness': 1.9857649249893184e-08}, {'group': 3110, 'qty': 1, 'representativeness': 1.9857649249893184e-08}, {'group': 3111, 'qty': 1, 'representativeness': 1.9857649249893184e-08}, {'group': 3112, 'qty': 1, 'representativeness': 1.9857649249893184e-08}, {'group': 3113, 'qty': 1, 'representativeness': 1.9857649249893184e-08}, {'group': 3114, 'qty': 1, 'representativeness': 1.9857649249893184e-08}, {'group': 3115, 'qty': 1, 'representativeness': 1.9857649249893184e-08}, {'group': 3116, 'qty': 1, 'representativeness': 1.9857649249893184e-08}, {'group': 3117, 'qty': 1, 'representativeness': 1.9857649249893184e-08}, {'group': 3118, 'qty': 1, 'representativeness': 1.9857649249893184e-08}, {'group': 3119, 'qty': 1, 'representativeness': 1.9857649249893184e-08}, {'group': 3120, 'qty': 1, 'representativeness': 1.9857649249893184e-08}, {'group': 3121, 'qty': 1, 'representativeness': 1.9857649249893184e-08}, {'group': 3122, 'qty': 1, 'representativeness': 1.9857649249893184e-08}, {'group': 3123, 'qty': 1, 'representativeness': 1.9857649249893184e-08}, {'group': 3124, 'qty': 1, 'representativeness': 1.9857649249893184e-08}, {'group': 3125, 'qty': 1, 'representativeness': 1.9857649249893184e-08}, {'group': 3126, 'qty': 1, 'representativeness': 1.9857649249893184e-08}, {'group': 3127, 'qty': 1, 'representativeness': 1.9857649249893184e-08}, {'group': 3128, 'qty': 1, 'representativeness': 1.9857649249893184e-08}, {'group': 3129, 'qty': 1, 'representativeness': 1.9857649249893184e-08}, {'group': 3130, 'qty': 1, 'representativeness': 1.9857649249893184e-08}, {'group': 3131, 'qty': 1, 'representativeness': 1.9857649249893184e-08}, {'group': 3132, 'qty': 1, 'representativeness': 1.9857649249893184e-08}, {'group': 3133, 'qty': 1, 'representativeness': 1.9857649249893184e-08}, {'group': 3134, 'qty': 1, 'representativeness': 1.9857649249893184e-08}, {'group': 3135, 'qty': 1, 'representativeness': 1.9857649249893184e-08}, {'group': 3136, 'qty': 1, 'representativeness': 1.9857649249893184e-08}, {'group': 3137, 'qty': 1, 'representativeness': 1.9857649249893184e-08}, {'group': 3138, 'qty': 1, 'representativeness': 1.9857649249893184e-08}, {'group': 3139, 'qty': 1, 'representativeness': 1.9857649249893184e-08}, {'group': 3140, 'qty': 1, 'representativeness': 1.9857649249893184e-08}, {'group': 3141, 'qty': 1, 'representativeness': 1.9857649249893184e-08}, {'group': 3142, 'qty': 1, 'representativeness': 1.9857649249893184e-08}, {'group': 3143, 'qty': 1, 'representativeness': 1.9857649249893184e-08}, {'group': 3144, 'qty': 1, 'representativeness': 1.9857649249893184e-08}, {'group': 3145, 'qty': 1, 'representativeness': 1.9857649249893184e-08}, {'group': 3146, 'qty': 1, 'representativeness': 1.9857649249893184e-08}, {'group': 3147, 'qty': 1, 'representativeness': 1.9857649249893184e-08}, {'group': 3148, 'qty': 1, 'representativeness': 1.9857649249893184e-08}, {'group': 3149, 'qty': 1, 'representativeness': 1.9857649249893184e-08}, {'group': 3150, 'qty': 1, 'representativeness': 1.9857649249893184e-08}, {'group': 3151, 'qty': 1, 'representativeness': 1.9857649249893184e-08}, {'group': 3152, 'qty': 1, 'representativeness': 1.9857649249893184e-08}, {'group': 3153, 'qty': 1, 'representativeness': 1.9857649249893184e-08}, {'group': 3154, 'qty': 1, 'representativeness': 1.9857649249893184e-08}, {'group': 3155, 'qty': 1, 'representativeness': 1.9857649249893184e-08}, {'group': 3156, 'qty': 1, 'representativeness': 1.9857649249893184e-08}, {'group': 3157, 'qty': 1, 'representativeness': 1.9857649249893184e-08}, {'group': 3158, 'qty': 1, 'representativeness': 1.9857649249893184e-08}, {'group': 3159, 'qty': 1, 'representativeness': 1.9857649249893184e-08}, {'group': 3160, 'qty': 1, 'representativeness': 1.9857649249893184e-08}, {'group': 3161, 'qty': 1, 'representativeness': 1.9857649249893184e-08}, {'group': 3162, 'qty': 1, 'representativeness': 1.9857649249893184e-08}, {'group': 3163, 'qty': 1, 'representativeness': 1.9857649249893184e-08}, {'group': 3164, 'qty': 1, 'representativeness': 1.9857649249893184e-08}, {'group': 3165, 'qty': 1, 'representativeness': 1.9857649249893184e-08}, {'group': 3166, 'qty': 1, 'representativeness': 1.9857649249893184e-08}, {'group': 3167, 'qty': 1, 'representativeness': 1.9857649249893184e-08}, {'group': 3168, 'qty': 1, 'representativeness': 1.9857649249893184e-08}, {'group': 3169, 'qty': 1, 'representativeness': 1.9857649249893184e-08}, {'group': 3170, 'qty': 1, 'representativeness': 1.9857649249893184e-08}, {'group': 3171, 'qty': 1, 'representativeness': 1.9857649249893184e-08}, {'group': 3172, 'qty': 1, 'representativeness': 1.9857649249893184e-08}, {'group': 3173, 'qty': 1, 'representativeness': 1.9857649249893184e-08}, {'group': 3174, 'qty': 1, 'representativeness': 1.9857649249893184e-08}, {'group': 3175, 'qty': 1, 'representativeness': 1.9857649249893184e-08}, {'group': 3176, 'qty': 1, 'representativeness': 1.9857649249893184e-08}, {'group': 3177, 'qty': 1, 'representativeness': 1.9857649249893184e-08}, {'group': 3178, 'qty': 1, 'representativeness': 1.9857649249893184e-08}, {'group': 3179, 'qty': 1, 'representativeness': 1.9857649249893184e-08}, {'group': 3180, 'qty': 1, 'representativeness': 1.9857649249893184e-08}, {'group': 3181, 'qty': 1, 'representativeness': 1.9857649249893184e-08}, {'group': 3182, 'qty': 1, 'representativeness': 1.9857649249893184e-08}, {'group': 3183, 'qty': 1, 'representativeness': 1.9857649249893184e-08}, {'group': 3184, 'qty': 1, 'representativeness': 1.9857649249893184e-08}, {'group': 3185, 'qty': 1, 'representativeness': 1.9857649249893184e-08}, {'group': 3186, 'qty': 1, 'representativeness': 1.9857649249893184e-08}, {'group': 3187, 'qty': 1, 'representativeness': 1.9857649249893184e-08}, {'group': 3188, 'qty': 1, 'representativeness': 1.9857649249893184e-08}, {'group': 3189, 'qty': 1, 'representativeness': 1.9857649249893184e-08}, {'group': 3190, 'qty': 1, 'representativeness': 1.9857649249893184e-08}, {'group': 3191, 'qty': 1, 'representativeness': 1.9857649249893184e-08}, {'group': 3192, 'qty': 1, 'representativeness': 1.9857649249893184e-08}, {'group': 3193, 'qty': 1, 'representativeness': 1.9857649249893184e-08}, {'group': 3194, 'qty': 1, 'representativeness': 1.9857649249893184e-08}, {'group': 3195, 'qty': 1, 'representativeness': 1.9857649249893184e-08}, {'group': 3196, 'qty': 1, 'representativeness': 1.9857649249893184e-08}, {'group': 3197, 'qty': 1, 'representativeness': 1.9857649249893184e-08}, {'group': 3198, 'qty': 1, 'representativeness': 1.9857649249893184e-08}, {'group': 3199, 'qty': 1, 'representativeness': 1.9857649249893184e-08}, {'group': 3200, 'qty': 1, 'representativeness': 1.9857649249893184e-08}, {'group': 3201, 'qty': 1, 'representativeness': 1.9857649249893184e-08}, {'group': 3202, 'qty': 1, 'representativeness': 1.9857649249893184e-08}, {'group': 3203, 'qty': 1, 'representativeness': 1.9857649249893184e-08}, {'group': 3204, 'qty': 1, 'representativeness': 1.9857649249893184e-08}, {'group': 3205, 'qty': 1, 'representativeness': 1.9857649249893184e-08}, {'group': 3206, 'qty': 1, 'representativeness': 1.9857649249893184e-08}, {'group': 3207, 'qty': 1, 'representativeness': 1.9857649249893184e-08}, {'group': 3208, 'qty': 1, 'representativeness': 1.9857649249893184e-08}, {'group': 3209, 'qty': 1, 'representativeness': 1.9857649249893184e-08}, {'group': 3210, 'qty': 1, 'representativeness': 1.9857649249893184e-08}, {'group': 3211, 'qty': 1, 'representativeness': 1.9857649249893184e-08}, {'group': 3212, 'qty': 1, 'representativeness': 1.9857649249893184e-08}, {'group': 3213, 'qty': 1, 'representativeness': 1.9857649249893184e-08}, {'group': 3214, 'qty': 1, 'representativeness': 1.9857649249893184e-08}, {'group': 3215, 'qty': 1, 'representativeness': 1.9857649249893184e-08}, {'group': 3216, 'qty': 1, 'representativeness': 1.9857649249893184e-08}, {'group': 3217, 'qty': 1, 'representativeness': 1.9857649249893184e-08}, {'group': 3218, 'qty': 1, 'representativeness': 1.9857649249893184e-08}, {'group': 3219, 'qty': 1, 'representativeness': 1.9857649249893184e-08}, {'group': 3220, 'qty': 1, 'representativeness': 1.9857649249893184e-08}, {'group': 3221, 'qty': 1, 'representativeness': 1.9857649249893184e-08}, {'group': 3222, 'qty': 1, 'representativeness': 1.9857649249893184e-08}, {'group': 3223, 'qty': 1, 'representativeness': 1.9857649249893184e-08}, {'group': 3224, 'qty': 1, 'representativeness': 1.9857649249893184e-08}, {'group': 3225, 'qty': 1, 'representativeness': 1.9857649249893184e-08}, {'group': 3226, 'qty': 1, 'representativeness': 1.9857649249893184e-08}, {'group': 3227, 'qty': 1, 'representativeness': 1.9857649249893184e-08}, {'group': 3228, 'qty': 1, 'representativeness': 1.9857649249893184e-08}, {'group': 3229, 'qty': 1, 'representativeness': 1.9857649249893184e-08}, {'group': 3230, 'qty': 1, 'representativeness': 1.9857649249893184e-08}, {'group': 3231, 'qty': 1, 'representativeness': 1.9857649249893184e-08}, {'group': 3232, 'qty': 1, 'representativeness': 1.9857649249893184e-08}, {'group': 3233, 'qty': 1, 'representativeness': 1.9857649249893184e-08}, {'group': 3234, 'qty': 1, 'representativeness': 1.9857649249893184e-08}, {'group': 3235, 'qty': 1, 'representativeness': 1.9857649249893184e-08}, {'group': 3236, 'qty': 1, 'representativeness': 1.9857649249893184e-08}, {'group': 3237, 'qty': 1, 'representativeness': 1.9857649249893184e-08}, {'group': 3238, 'qty': 1, 'representativeness': 1.9857649249893184e-08}, {'group': 3239, 'qty': 1, 'representativeness': 1.9857649249893184e-08}, {'group': 3240, 'qty': 1, 'representativeness': 1.9857649249893184e-08}, {'group': 3241, 'qty': 1, 'representativeness': 1.9857649249893184e-08}, {'group': 3242, 'qty': 1, 'representativeness': 1.9857649249893184e-08}, {'group': 3243, 'qty': 1, 'representativeness': 1.9857649249893184e-08}, {'group': 3244, 'qty': 1, 'representativeness': 1.9857649249893184e-08}, {'group': 3245, 'qty': 1, 'representativeness': 1.9857649249893184e-08}, {'group': 3246, 'qty': 1, 'representativeness': 1.9857649249893184e-08}, {'group': 3247, 'qty': 1, 'representativeness': 1.9857649249893184e-08}, {'group': 3248, 'qty': 1, 'representativeness': 1.9857649249893184e-08}, {'group': 3249, 'qty': 1, 'representativeness': 1.9857649249893184e-08}, {'group': 3250, 'qty': 1, 'representativeness': 1.9857649249893184e-08}, {'group': 3251, 'qty': 1, 'representativeness': 1.9857649249893184e-08}, {'group': 3252, 'qty': 1, 'representativeness': 1.9857649249893184e-08}, {'group': 3253, 'qty': 1, 'representativeness': 1.9857649249893184e-08}, {'group': 3254, 'qty': 1, 'representativeness': 1.9857649249893184e-08}, {'group': 3255, 'qty': 1, 'representativeness': 1.9857649249893184e-08}, {'group': 3256, 'qty': 1, 'representativeness': 1.9857649249893184e-08}, {'group': 3257, 'qty': 1, 'representativeness': 1.9857649249893184e-08}, {'group': 3258, 'qty': 1, 'representativeness': 1.9857649249893184e-08}, {'group': 3259, 'qty': 1, 'representativeness': 1.9857649249893184e-08}, {'group': 3260, 'qty': 1, 'representativeness': 1.9857649249893184e-08}, {'group': 3261, 'qty': 1, 'representativeness': 1.9857649249893184e-08}, {'group': 3262, 'qty': 1, 'representativeness': 1.9857649249893184e-08}, {'group': 3263, 'qty': 1, 'representativeness': 1.9857649249893184e-08}, {'group': 3264, 'qty': 1, 'representativeness': 1.9857649249893184e-08}, {'group': 3265, 'qty': 1, 'representativeness': 1.9857649249893184e-08}, {'group': 3266, 'qty': 1, 'representativeness': 1.9857649249893184e-08}, {'group': 3267, 'qty': 1, 'representativeness': 1.9857649249893184e-08}, {'group': 3268, 'qty': 1, 'representativeness': 1.9857649249893184e-08}, {'group': 3269, 'qty': 1, 'representativeness': 1.9857649249893184e-08}, {'group': 3270, 'qty': 1, 'representativeness': 1.9857649249893184e-08}, {'group': 3271, 'qty': 1, 'representativeness': 1.9857649249893184e-08}, {'group': 3272, 'qty': 1, 'representativeness': 1.9857649249893184e-08}, {'group': 3273, 'qty': 1, 'representativeness': 1.9857649249893184e-08}, {'group': 3274, 'qty': 1, 'representativeness': 1.9857649249893184e-08}, {'group': 3275, 'qty': 1, 'representativeness': 1.9857649249893184e-08}, {'group': 3276, 'qty': 1, 'representativeness': 1.9857649249893184e-08}, {'group': 3277, 'qty': 1, 'representativeness': 1.9857649249893184e-08}, {'group': 3278, 'qty': 1, 'representativeness': 1.9857649249893184e-08}, {'group': 3279, 'qty': 1, 'representativeness': 1.9857649249893184e-08}, {'group': 3280, 'qty': 1, 'representativeness': 1.9857649249893184e-08}, {'group': 3281, 'qty': 1, 'representativeness': 1.9857649249893184e-08}, {'group': 3282, 'qty': 1, 'representativeness': 1.9857649249893184e-08}, {'group': 3283, 'qty': 1, 'representativeness': 1.9857649249893184e-08}, {'group': 3284, 'qty': 1, 'representativeness': 1.9857649249893184e-08}, {'group': 3285, 'qty': 1, 'representativeness': 1.9857649249893184e-08}, {'group': 3286, 'qty': 1, 'representativeness': 1.9857649249893184e-08}, {'group': 3287, 'qty': 1, 'representativeness': 1.9857649249893184e-08}, {'group': 3288, 'qty': 1, 'representativeness': 1.9857649249893184e-08}, {'group': 3289, 'qty': 1, 'representativeness': 1.9857649249893184e-08}, {'group': 3290, 'qty': 1, 'representativeness': 1.9857649249893184e-08}, {'group': 3291, 'qty': 1, 'representativeness': 1.9857649249893184e-08}, {'group': 3292, 'qty': 1, 'representativeness': 1.9857649249893184e-08}, {'group': 3293, 'qty': 1, 'representativeness': 1.9857649249893184e-08}, {'group': 3294, 'qty': 1, 'representativeness': 1.9857649249893184e-08}, {'group': 3295, 'qty': 1, 'representativeness': 1.9857649249893184e-08}, {'group': 3296, 'qty': 1, 'representativeness': 1.9857649249893184e-08}, {'group': 3297, 'qty': 1, 'representativeness': 1.9857649249893184e-08}, {'group': 3298, 'qty': 1, 'representativeness': 1.9857649249893184e-08}, {'group': 3299, 'qty': 1, 'representativeness': 1.9857649249893184e-08}, {'group': 3300, 'qty': 1, 'representativeness': 1.9857649249893184e-08}, {'group': 3301, 'qty': 1, 'representativeness': 1.9857649249893184e-08}, {'group': 3302, 'qty': 1, 'representativeness': 1.9857649249893184e-08}, {'group': 3303, 'qty': 1, 'representativeness': 1.9857649249893184e-08}, {'group': 3304, 'qty': 1, 'representativeness': 1.9857649249893184e-08}, {'group': 3305, 'qty': 1, 'representativeness': 1.9857649249893184e-08}, {'group': 3306, 'qty': 1, 'representativeness': 1.9857649249893184e-08}, {'group': 3307, 'qty': 1, 'representativeness': 1.9857649249893184e-08}, {'group': 3308, 'qty': 1, 'representativeness': 1.9857649249893184e-08}, {'group': 3309, 'qty': 1, 'representativeness': 1.9857649249893184e-08}, {'group': 3310, 'qty': 1, 'representativeness': 1.9857649249893184e-08}, {'group': 3311, 'qty': 1, 'representativeness': 1.9857649249893184e-08}, {'group': 3312, 'qty': 1, 'representativeness': 1.9857649249893184e-08}, {'group': 3313, 'qty': 1, 'representativeness': 1.9857649249893184e-08}, {'group': 3314, 'qty': 1, 'representativeness': 1.9857649249893184e-08}, {'group': 3315, 'qty': 1, 'representativeness': 1.9857649249893184e-08}, {'group': 3316, 'qty': 1, 'representativeness': 1.9857649249893184e-08}, {'group': 3317, 'qty': 1, 'representativeness': 1.9857649249893184e-08}, {'group': 3318, 'qty': 1, 'representativeness': 1.9857649249893184e-08}, {'group': 3319, 'qty': 1, 'representativeness': 1.9857649249893184e-08}, {'group': 3320, 'qty': 1, 'representativeness': 1.9857649249893184e-08}, {'group': 3321, 'qty': 1, 'representativeness': 1.9857649249893184e-08}, {'group': 3322, 'qty': 1, 'representativeness': 1.9857649249893184e-08}, {'group': 3323, 'qty': 1, 'representativeness': 1.9857649249893184e-08}, {'group': 3324, 'qty': 1, 'representativeness': 1.9857649249893184e-08}, {'group': 3325, 'qty': 1, 'representativeness': 1.9857649249893184e-08}, {'group': 3326, 'qty': 1, 'representativeness': 1.9857649249893184e-08}, {'group': 3327, 'qty': 1, 'representativeness': 1.9857649249893184e-08}, {'group': 3328, 'qty': 1, 'representativeness': 1.9857649249893184e-08}, {'group': 3329, 'qty': 1, 'representativeness': 1.9857649249893184e-08}, {'group': 3330, 'qty': 1, 'representativeness': 1.9857649249893184e-08}, {'group': 3331, 'qty': 1, 'representativeness': 1.9857649249893184e-08}, {'group': 3332, 'qty': 1, 'representativeness': 1.9857649249893184e-08}, {'group': 3333, 'qty': 1, 'representativeness': 1.9857649249893184e-08}, {'group': 3334, 'qty': 1, 'representativeness': 1.9857649249893184e-08}, {'group': 3335, 'qty': 1, 'representativeness': 1.9857649249893184e-08}, {'group': 3336, 'qty': 1, 'representativeness': 1.9857649249893184e-08}, {'group': 3337, 'qty': 1, 'representativeness': 1.9857649249893184e-08}, {'group': 3338, 'qty': 1, 'representativeness': 1.9857649249893184e-08}, {'group': 3339, 'qty': 1, 'representativeness': 1.9857649249893184e-08}, {'group': 3340, 'qty': 1, 'representativeness': 1.9857649249893184e-08}, {'group': 3341, 'qty': 1, 'representativeness': 1.9857649249893184e-08}, {'group': 3342, 'qty': 1, 'representativeness': 1.9857649249893184e-08}, {'group': 3343, 'qty': 1, 'representativeness': 1.9857649249893184e-08}, {'group': 3344, 'qty': 1, 'representativeness': 1.9857649249893184e-08}, {'group': 3345, 'qty': 1, 'representativeness': 1.9857649249893184e-08}, {'group': 3346, 'qty': 1, 'representativeness': 1.9857649249893184e-08}, {'group': 3347, 'qty': 1, 'representativeness': 1.9857649249893184e-08}, {'group': 3348, 'qty': 1, 'representativeness': 1.9857649249893184e-08}, {'group': 3349, 'qty': 1, 'representativeness': 1.9857649249893184e-08}, {'group': 3350, 'qty': 1, 'representativeness': 1.9857649249893184e-08}, {'group': 3351, 'qty': 1, 'representativeness': 1.9857649249893184e-08}, {'group': 3352, 'qty': 1, 'representativeness': 1.9857649249893184e-08}, {'group': 3353, 'qty': 1, 'representativeness': 1.9857649249893184e-08}, {'group': 3354, 'qty': 1, 'representativeness': 1.9857649249893184e-08}, {'group': 3355, 'qty': 1, 'representativeness': 1.9857649249893184e-08}, {'group': 3356, 'qty': 1, 'representativeness': 1.9857649249893184e-08}, {'group': 3357, 'qty': 1, 'representativeness': 1.9857649249893184e-08}, {'group': 3358, 'qty': 1, 'representativeness': 1.9857649249893184e-08}, {'group': 3359, 'qty': 1, 'representativeness': 1.9857649249893184e-08}, {'group': 3360, 'qty': 1, 'representativeness': 1.9857649249893184e-08}, {'group': 3361, 'qty': 1, 'representativeness': 1.9857649249893184e-08}, {'group': 3362, 'qty': 1, 'representativeness': 1.9857649249893184e-08}, {'group': 3363, 'qty': 1, 'representativeness': 1.9857649249893184e-08}, {'group': 3364, 'qty': 1, 'representativeness': 1.9857649249893184e-08}, {'group': 3365, 'qty': 1, 'representativeness': 1.9857649249893184e-08}, {'group': 3366, 'qty': 1, 'representativeness': 1.9857649249893184e-08}, {'group': 3367, 'qty': 1, 'representativeness': 1.9857649249893184e-08}, {'group': 3368, 'qty': 1, 'representativeness': 1.9857649249893184e-08}, {'group': 3369, 'qty': 1, 'representativeness': 1.9857649249893184e-08}, {'group': 3370, 'qty': 1, 'representativeness': 1.9857649249893184e-08}, {'group': 3371, 'qty': 1, 'representativeness': 1.9857649249893184e-08}, {'group': 3372, 'qty': 1, 'representativeness': 1.9857649249893184e-08}, {'group': 3373, 'qty': 1, 'representativeness': 1.9857649249893184e-08}, {'group': 3374, 'qty': 1, 'representativeness': 1.9857649249893184e-08}, {'group': 3375, 'qty': 1, 'representativeness': 1.9857649249893184e-08}, {'group': 3376, 'qty': 1, 'representativeness': 1.9857649249893184e-08}, {'group': 3377, 'qty': 1, 'representativeness': 1.9857649249893184e-08}, {'group': 3378, 'qty': 1, 'representativeness': 1.9857649249893184e-08}, {'group': 3379, 'qty': 1, 'representativeness': 1.9857649249893184e-08}, {'group': 3380, 'qty': 1, 'representativeness': 1.9857649249893184e-08}, {'group': 3381, 'qty': 1, 'representativeness': 1.9857649249893184e-08}, {'group': 3382, 'qty': 1, 'representativeness': 1.9857649249893184e-08}, {'group': 3383, 'qty': 1, 'representativeness': 1.9857649249893184e-08}, {'group': 3384, 'qty': 1, 'representativeness': 1.9857649249893184e-08}, {'group': 3385, 'qty': 1, 'representativeness': 1.9857649249893184e-08}, {'group': 3386, 'qty': 1, 'representativeness': 1.9857649249893184e-08}, {'group': 3387, 'qty': 1, 'representativeness': 1.9857649249893184e-08}, {'group': 3388, 'qty': 1, 'representativeness': 1.9857649249893184e-08}, {'group': 3389, 'qty': 1, 'representativeness': 1.9857649249893184e-08}, {'group': 3390, 'qty': 1, 'representativeness': 1.9857649249893184e-08}, {'group': 3391, 'qty': 1, 'representativeness': 1.9857649249893184e-08}, {'group': 3392, 'qty': 1, 'representativeness': 1.9857649249893184e-08}, {'group': 3393, 'qty': 1, 'representativeness': 1.9857649249893184e-08}, {'group': 3394, 'qty': 1, 'representativeness': 1.9857649249893184e-08}, {'group': 3395, 'qty': 1, 'representativeness': 1.9857649249893184e-08}, {'group': 3396, 'qty': 1, 'representativeness': 1.9857649249893184e-08}, {'group': 3397, 'qty': 1, 'representativeness': 1.9857649249893184e-08}, {'group': 3398, 'qty': 1, 'representativeness': 1.9857649249893184e-08}, {'group': 3399, 'qty': 1, 'representativeness': 1.9857649249893184e-08}, {'group': 3400, 'qty': 1, 'representativeness': 1.9857649249893184e-08}, {'group': 3401, 'qty': 1, 'representativeness': 1.9857649249893184e-08}, {'group': 3402, 'qty': 1, 'representativeness': 1.9857649249893184e-08}, {'group': 3403, 'qty': 1, 'representativeness': 1.9857649249893184e-08}, {'group': 3404, 'qty': 1, 'representativeness': 1.9857649249893184e-08}, {'group': 3405, 'qty': 1, 'representativeness': 1.9857649249893184e-08}, {'group': 3406, 'qty': 2, 'representativeness': 3.971529849978637e-08}, {'group': 3407, 'qty': 1, 'representativeness': 1.9857649249893184e-08}, {'group': 3408, 'qty': 1, 'representativeness': 1.9857649249893184e-08}, {'group': 3409, 'qty': 1, 'representativeness': 1.9857649249893184e-08}, {'group': 3410, 'qty': 2, 'representativeness': 3.971529849978637e-08}, {'group': 3411, 'qty': 1, 'representativeness': 1.9857649249893184e-08}, {'group': 3412, 'qty': 1, 'representativeness': 1.9857649249893184e-08}, {'group': 3413, 'qty': 1, 'representativeness': 1.9857649249893184e-08}, {'group': 3414, 'qty': 1, 'representativeness': 1.9857649249893184e-08}, {'group': 3415, 'qty': 1, 'representativeness': 1.9857649249893184e-08}, {'group': 3416, 'qty': 1, 'representativeness': 1.9857649249893184e-08}, {'group': 3417, 'qty': 1, 'representativeness': 1.9857649249893184e-08}, {'group': 3418, 'qty': 1, 'representativeness': 1.9857649249893184e-08}, {'group': 3419, 'qty': 1, 'representativeness': 1.9857649249893184e-08}, {'group': 3420, 'qty': 4, 'representativeness': 7.943059699957274e-08}, {'group': 3421, 'qty': 1, 'representativeness': 1.9857649249893184e-08}]\n"
     ]
    },
    {
     "data": {
      "image/png": "[encoded data removed]",
      "text/plain": [
       "<Figure size 432x288 with 1 Axes>"
      ]
     },
     "metadata": {},
     "output_type": "display_data"
    }
   ],
   "source": [
    "ms, n_clusters_, cluster_centers, labels = cl.meanClustering(X, bandwidth)\n",
    "print(hp.getRepresentativenessKM(ms, X, ms.predict(X)))\n",
    "dp.plotMSh(X, ms, n_clusters_, cluster_centers, labels)"
   ]
  },
  {
   "cell_type": "code",
   "execution_count": null,
   "metadata": {},
   "outputs": [],
   "source": [
    "ms1, n_clusters_1, cluster_centers1, labels1 = cl.meanClustering(X, bandwidth3)\n",
    "print(hp.getRepresentativenessKM(ms1, X, ms1.predict(X)))\n",
    "dp.plotMSh(X, ms1, n_clusters_1, cluster_centers1, labels1)"
   ]
  },
  {
   "cell_type": "markdown",
   "metadata": {},
   "source": [
    "## 4 Variational Bayesian Gaussian Mixture"
   ]
  },
  {
   "cell_type": "markdown",
   "metadata": {},
   "source": [
    "Having 5 components, changig the n_init, it has a better distribution in \"representativeness\" with a value of 2 and max_iter = 200"
   ]
  },
  {
   "cell_type": "code",
   "execution_count": null,
   "metadata": {},
   "outputs": [],
   "source": [
    "dpgmm1 = BayesianGaussianMixture(n_components=5,\n",
    "                                max_iter=200, n_init=2,\n",
    "                                covariance_type='full').fit(X)\n",
    "#print(dpgmm1.means_)\n",
    "#print(dpgmm1.covariances_)\n",
    "Y_ = dpgmm1.predict(X)\n",
    "print(hp.getRepresentativeness(dpgmm1, X, Y_))\n",
    "fig, ax = plt.subplots(1, 3, figsize=(15, 6))\n",
    "dp.plotGM(X, Y_, dpgmm1.means_, dpgmm1.covariances_, ax[0], 0, 1, color_iter)\n",
    "dp.plotGM(X, Y_, dpgmm1.means_, dpgmm1.covariances_, ax[1], 1, 2, color_iter)\n",
    "dp.plotGM(X, Y_, dpgmm1.means_, dpgmm1.covariances_, ax[2], 0, 2, color_iter)\n",
    "plt.show()\n",
    "fig.clf()\n",
    "plt.close()"
   ]
  },
  {
   "cell_type": "code",
   "execution_count": null,
   "metadata": {},
   "outputs": [],
   "source": [
    "dpgmm3 = BayesianGaussianMixture(n_components=4,\n",
    "                                max_iter=200, n_init=2,\n",
    "                                covariance_type='full').fit(X)\n",
    "#print(dpgmm3.means_)\n",
    "#print(dpgmm3.covariances_)\n",
    "Y_ = dpgmm3.predict(X)\n",
    "print(hp.getRepresentativeness(dpgmm3, X, Y_))\n",
    "fig, ax = plt.subplots(1, 3, figsize=(15, 6))\n",
    "dp.plotGM(X, Y_, dpgmm3.means_, dpgmm3.covariances_, ax[0], 0, 1, color_iter)\n",
    "dp.plotGM(X, Y_, dpgmm3.means_, dpgmm3.covariances_, ax[1], 1, 2, color_iter)\n",
    "dp.plotGM(X, Y_, dpgmm3.means_, dpgmm3.covariances_, ax[2], 0, 2, color_iter)\n",
    "plt.show()\n",
    "fig.clf()\n",
    "plt.close()"
   ]
  },
  {
   "cell_type": "code",
   "execution_count": null,
   "metadata": {},
   "outputs": [],
   "source": [
    "# modify n_jobs maybe???,,"
   ]
  }
 ],
 "metadata": {
  "kernelspec": {
   "display_name": "Python 3",
   "language": "python",
   "name": "python3"
  },
  "language_info": {
   "codemirror_mode": {
    "name": "ipython",
    "version": 3
   },
   "file_extension": ".py",
   "mimetype": "text/x-python",
   "name": "python",
   "nbconvert_exporter": "python",
   "pygments_lexer": "ipython3",
   "version": "3.6.8"
  }
 },
 "nbformat": 4,
 "nbformat_minor": 2
}
