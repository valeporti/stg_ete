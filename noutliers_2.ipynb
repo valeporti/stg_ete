{
 "cells": [
  {
   "cell_type": "code",
   "execution_count": 1,
   "metadata": {},
   "outputs": [],
   "source": [
    "# %matplotlib notebook\n",
    "import matplotlib.pyplot as plt\n",
    "from scipy import linalg\n",
    "import scipy.io as sio\n",
    "import pprint as pp\n",
    "import numpy as np\n",
    "import seaborn as sns\n",
    "import pandas as pd\n",
    "import os\n",
    "import re\n",
    "import gc\n",
    "# pre\n",
    "from sklearn.decomposition import PCA\n",
    "from sklearn.base import BaseEstimator, TransformerMixin\n",
    "from sklearn.pipeline import Pipeline, FeatureUnion\n",
    "from sklearn.preprocessing import StandardScaler, Imputer\n",
    "# Study\n",
    "from sklearn.mixture import GaussianMixture, BayesianGaussianMixture\n",
    "from sklearn.cluster import KMeans, MeanShift, estimate_bandwidth\n",
    "import matplotlib as mpl\n",
    "import numpy as np\n",
    "import itertools\n",
    "from mpl_toolkits.mplot3d import Axes3D\n",
    "from time import time\n",
    "from scipy import stats\n",
    "\n",
    "# helpers files\n",
    "import infoStructure as ins\n",
    "import helpers as hp\n",
    "import display as dp\n",
    "import clustering as cl\n",
    "import importlib #importlib.reload(foo)"
   ]
  },
  {
   "cell_type": "code",
   "execution_count": 2,
   "metadata": {},
   "outputs": [],
   "source": [
    "FEATHDir = '/sanssauvegarde/homes/v18porti/info/'\n",
    "MDIR = FEATHDir"
   ]
  },
  {
   "cell_type": "markdown",
   "metadata": {},
   "source": [
    "### Get saved DataFrame"
   ]
  },
  {
   "cell_type": "code",
   "execution_count": 3,
   "metadata": {},
   "outputs": [],
   "source": [
    "df_ALL = pd.read_feather(FEATHDir + '200.feather') #100, 300, 10"
   ]
  },
  {
   "cell_type": "code",
   "execution_count": 4,
   "metadata": {},
   "outputs": [
    {
     "name": "stdout",
     "output_type": "stream",
     "text": [
      "<class 'pandas.core.frame.DataFrame'>\n",
      "RangeIndex: 50253405 entries, 0 to 50253404\n",
      "Data columns (total 4 columns):\n",
      "vectorRRKLD_ALL       float64\n",
      "vectorFAmpKLD_ALL     float64\n",
      "vectorUFAmpKLD_ALL    float64\n",
      "vectorCorrKLD_ALL     float64\n",
      "dtypes: float64(4)\n",
      "memory usage: 1.5 GB\n"
     ]
    }
   ],
   "source": [
    "df_ALL.info()"
   ]
  },
  {
   "cell_type": "code",
   "execution_count": 5,
   "metadata": {},
   "outputs": [
    {
     "data": {
      "text/html": [
       "<div>\n",
       "<style scoped>\n",
       "    .dataframe tbody tr th:only-of-type {\n",
       "        vertical-align: middle;\n",
       "    }\n",
       "\n",
       "    .dataframe tbody tr th {\n",
       "        vertical-align: top;\n",
       "    }\n",
       "\n",
       "    .dataframe thead th {\n",
       "        text-align: right;\n",
       "    }\n",
       "</style>\n",
       "<table border=\"1\" class=\"dataframe\">\n",
       "  <thead>\n",
       "    <tr style=\"text-align: right;\">\n",
       "      <th></th>\n",
       "      <th>vectorRRKLD_ALL</th>\n",
       "      <th>vectorFAmpKLD_ALL</th>\n",
       "      <th>vectorUFAmpKLD_ALL</th>\n",
       "      <th>vectorCorrKLD_ALL</th>\n",
       "    </tr>\n",
       "  </thead>\n",
       "  <tbody>\n",
       "    <tr>\n",
       "      <th>count</th>\n",
       "      <td>5.025234e+07</td>\n",
       "      <td>5.025340e+07</td>\n",
       "      <td>5.025340e+07</td>\n",
       "      <td>4.933178e+07</td>\n",
       "    </tr>\n",
       "    <tr>\n",
       "      <th>mean</th>\n",
       "      <td>2.874678e+14</td>\n",
       "      <td>1.004443e+02</td>\n",
       "      <td>1.835926e+14</td>\n",
       "      <td>1.364375e+01</td>\n",
       "    </tr>\n",
       "    <tr>\n",
       "      <th>std</th>\n",
       "      <td>5.768096e+16</td>\n",
       "      <td>3.783401e+03</td>\n",
       "      <td>2.032571e+17</td>\n",
       "      <td>3.974665e+01</td>\n",
       "    </tr>\n",
       "    <tr>\n",
       "      <th>min</th>\n",
       "      <td>-1.196758e+01</td>\n",
       "      <td>0.000000e+00</td>\n",
       "      <td>-1.520206e+00</td>\n",
       "      <td>0.000000e+00</td>\n",
       "    </tr>\n",
       "    <tr>\n",
       "      <th>25%</th>\n",
       "      <td>8.378836e+00</td>\n",
       "      <td>3.710933e+00</td>\n",
       "      <td>1.080609e+01</td>\n",
       "      <td>4.991971e+00</td>\n",
       "    </tr>\n",
       "    <tr>\n",
       "      <th>50%</th>\n",
       "      <td>1.086595e+01</td>\n",
       "      <td>5.204808e+00</td>\n",
       "      <td>1.434429e+01</td>\n",
       "      <td>7.444819e+00</td>\n",
       "    </tr>\n",
       "    <tr>\n",
       "      <th>75%</th>\n",
       "      <td>1.581054e+01</td>\n",
       "      <td>7.724062e+00</td>\n",
       "      <td>2.119268e+01</td>\n",
       "      <td>1.172646e+01</td>\n",
       "    </tr>\n",
       "    <tr>\n",
       "      <th>max</th>\n",
       "      <td>3.421422e+19</td>\n",
       "      <td>8.780618e+05</td>\n",
       "      <td>2.250281e+20</td>\n",
       "      <td>1.712306e+03</td>\n",
       "    </tr>\n",
       "  </tbody>\n",
       "</table>\n",
       "</div>"
      ],
      "text/plain": [
       "       vectorRRKLD_ALL  vectorFAmpKLD_ALL  vectorUFAmpKLD_ALL  \\\n",
       "count     5.025234e+07       5.025340e+07        5.025340e+07   \n",
       "mean      2.874678e+14       1.004443e+02        1.835926e+14   \n",
       "std       5.768096e+16       3.783401e+03        2.032571e+17   \n",
       "min      -1.196758e+01       0.000000e+00       -1.520206e+00   \n",
       "25%       8.378836e+00       3.710933e+00        1.080609e+01   \n",
       "50%       1.086595e+01       5.204808e+00        1.434429e+01   \n",
       "75%       1.581054e+01       7.724062e+00        2.119268e+01   \n",
       "max       3.421422e+19       8.780618e+05        2.250281e+20   \n",
       "\n",
       "       vectorCorrKLD_ALL  \n",
       "count       4.933178e+07  \n",
       "mean        1.364375e+01  \n",
       "std         3.974665e+01  \n",
       "min         0.000000e+00  \n",
       "25%         4.991971e+00  \n",
       "50%         7.444819e+00  \n",
       "75%         1.172646e+01  \n",
       "max         1.712306e+03  "
      ]
     },
     "execution_count": 5,
     "metadata": {},
     "output_type": "execute_result"
    }
   ],
   "source": [
    "df_ALL.describe()"
   ]
  },
  {
   "cell_type": "code",
   "execution_count": 6,
   "metadata": {},
   "outputs": [
    {
     "data": {
      "text/html": [
       "<div>\n",
       "<style scoped>\n",
       "    .dataframe tbody tr th:only-of-type {\n",
       "        vertical-align: middle;\n",
       "    }\n",
       "\n",
       "    .dataframe tbody tr th {\n",
       "        vertical-align: top;\n",
       "    }\n",
       "\n",
       "    .dataframe thead th {\n",
       "        text-align: right;\n",
       "    }\n",
       "</style>\n",
       "<table border=\"1\" class=\"dataframe\">\n",
       "  <thead>\n",
       "    <tr style=\"text-align: right;\">\n",
       "      <th></th>\n",
       "      <th>vectorRRKLD_ALL</th>\n",
       "      <th>vectorFAmpKLD_ALL</th>\n",
       "      <th>vectorUFAmpKLD_ALL</th>\n",
       "      <th>vectorCorrKLD_ALL</th>\n",
       "    </tr>\n",
       "  </thead>\n",
       "  <tbody>\n",
       "    <tr>\n",
       "      <th>vectorRRKLD_ALL</th>\n",
       "      <td>1.000000</td>\n",
       "      <td>0.022457</td>\n",
       "      <td>-0.000004</td>\n",
       "      <td>0.001826</td>\n",
       "    </tr>\n",
       "    <tr>\n",
       "      <th>vectorFAmpKLD_ALL</th>\n",
       "      <td>0.022457</td>\n",
       "      <td>1.000000</td>\n",
       "      <td>0.002293</td>\n",
       "      <td>0.008833</td>\n",
       "    </tr>\n",
       "    <tr>\n",
       "      <th>vectorUFAmpKLD_ALL</th>\n",
       "      <td>-0.000004</td>\n",
       "      <td>0.002293</td>\n",
       "      <td>1.000000</td>\n",
       "      <td>0.043892</td>\n",
       "    </tr>\n",
       "    <tr>\n",
       "      <th>vectorCorrKLD_ALL</th>\n",
       "      <td>0.001826</td>\n",
       "      <td>0.008833</td>\n",
       "      <td>0.043892</td>\n",
       "      <td>1.000000</td>\n",
       "    </tr>\n",
       "  </tbody>\n",
       "</table>\n",
       "</div>"
      ],
      "text/plain": [
       "                    vectorRRKLD_ALL  vectorFAmpKLD_ALL  vectorUFAmpKLD_ALL  \\\n",
       "vectorRRKLD_ALL            1.000000           0.022457           -0.000004   \n",
       "vectorFAmpKLD_ALL          0.022457           1.000000            0.002293   \n",
       "vectorUFAmpKLD_ALL        -0.000004           0.002293            1.000000   \n",
       "vectorCorrKLD_ALL          0.001826           0.008833            0.043892   \n",
       "\n",
       "                    vectorCorrKLD_ALL  \n",
       "vectorRRKLD_ALL              0.001826  \n",
       "vectorFAmpKLD_ALL            0.008833  \n",
       "vectorUFAmpKLD_ALL           0.043892  \n",
       "vectorCorrKLD_ALL            1.000000  "
      ]
     },
     "execution_count": 6,
     "metadata": {},
     "output_type": "execute_result"
    }
   ],
   "source": [
    "df_ALL.corr()"
   ]
  },
  {
   "cell_type": "markdown",
   "metadata": {},
   "source": [
    "# Outliers"
   ]
  },
  {
   "cell_type": "markdown",
   "metadata": {},
   "source": [
    "## Prepare Data"
   ]
  },
  {
   "cell_type": "code",
   "execution_count": 7,
   "metadata": {},
   "outputs": [
    {
     "data": {
      "text/plain": [
       "vectorRRKLD_ALL         1066\n",
       "vectorFAmpKLD_ALL          0\n",
       "vectorUFAmpKLD_ALL         0\n",
       "vectorCorrKLD_ALL     921626\n",
       "dtype: int64"
      ]
     },
     "execution_count": 7,
     "metadata": {},
     "output_type": "execute_result"
    }
   ],
   "source": [
    "len(df_ALL) - df_ALL.count()"
   ]
  },
  {
   "cell_type": "code",
   "execution_count": 8,
   "metadata": {},
   "outputs": [],
   "source": [
    "num_attribs = list(df_ALL)\n",
    "\n",
    "pipeline = Pipeline([\n",
    "        ('selector', hp.DataFrameSelector(num_attribs)), # to handle pandas data frame\n",
    "        ('imputer', Imputer(strategy=\"median\")), # fill missing values with median\n",
    "    ])\n",
    "\n",
    "data_prepared = pipeline.fit_transform(df_ALL)\n",
    "del pipeline"
   ]
  },
  {
   "cell_type": "code",
   "execution_count": 9,
   "metadata": {},
   "outputs": [
    {
     "data": {
      "text/html": [
       "<div>\n",
       "<style scoped>\n",
       "    .dataframe tbody tr th:only-of-type {\n",
       "        vertical-align: middle;\n",
       "    }\n",
       "\n",
       "    .dataframe tbody tr th {\n",
       "        vertical-align: top;\n",
       "    }\n",
       "\n",
       "    .dataframe thead th {\n",
       "        text-align: right;\n",
       "    }\n",
       "</style>\n",
       "<table border=\"1\" class=\"dataframe\">\n",
       "  <thead>\n",
       "    <tr style=\"text-align: right;\">\n",
       "      <th></th>\n",
       "      <th>vectorRRKLD</th>\n",
       "      <th>vectorFAmpKLD</th>\n",
       "      <th>vectorUFAmpKLD</th>\n",
       "      <th>vectorCorrKLD</th>\n",
       "    </tr>\n",
       "  </thead>\n",
       "  <tbody>\n",
       "    <tr>\n",
       "      <th>count</th>\n",
       "      <td>5.025340e+07</td>\n",
       "      <td>5.025340e+07</td>\n",
       "      <td>5.025340e+07</td>\n",
       "      <td>5.025340e+07</td>\n",
       "    </tr>\n",
       "    <tr>\n",
       "      <th>mean</th>\n",
       "      <td>2.874617e+14</td>\n",
       "      <td>1.004443e+02</td>\n",
       "      <td>1.835926e+14</td>\n",
       "      <td>1.353007e+01</td>\n",
       "    </tr>\n",
       "    <tr>\n",
       "      <th>std</th>\n",
       "      <td>5.768034e+16</td>\n",
       "      <td>3.783401e+03</td>\n",
       "      <td>2.032571e+17</td>\n",
       "      <td>3.938928e+01</td>\n",
       "    </tr>\n",
       "    <tr>\n",
       "      <th>min</th>\n",
       "      <td>-1.196758e+01</td>\n",
       "      <td>0.000000e+00</td>\n",
       "      <td>-1.520206e+00</td>\n",
       "      <td>0.000000e+00</td>\n",
       "    </tr>\n",
       "    <tr>\n",
       "      <th>25%</th>\n",
       "      <td>8.378883e+00</td>\n",
       "      <td>3.710933e+00</td>\n",
       "      <td>1.080609e+01</td>\n",
       "      <td>5.037284e+00</td>\n",
       "    </tr>\n",
       "    <tr>\n",
       "      <th>50%</th>\n",
       "      <td>1.086595e+01</td>\n",
       "      <td>5.204808e+00</td>\n",
       "      <td>1.434429e+01</td>\n",
       "      <td>7.444819e+00</td>\n",
       "    </tr>\n",
       "    <tr>\n",
       "      <th>75%</th>\n",
       "      <td>1.581039e+01</td>\n",
       "      <td>7.724062e+00</td>\n",
       "      <td>2.119268e+01</td>\n",
       "      <td>1.159587e+01</td>\n",
       "    </tr>\n",
       "    <tr>\n",
       "      <th>max</th>\n",
       "      <td>3.421422e+19</td>\n",
       "      <td>8.780618e+05</td>\n",
       "      <td>2.250281e+20</td>\n",
       "      <td>1.712306e+03</td>\n",
       "    </tr>\n",
       "  </tbody>\n",
       "</table>\n",
       "</div>"
      ],
      "text/plain": [
       "        vectorRRKLD  vectorFAmpKLD  vectorUFAmpKLD  vectorCorrKLD\n",
       "count  5.025340e+07   5.025340e+07    5.025340e+07   5.025340e+07\n",
       "mean   2.874617e+14   1.004443e+02    1.835926e+14   1.353007e+01\n",
       "std    5.768034e+16   3.783401e+03    2.032571e+17   3.938928e+01\n",
       "min   -1.196758e+01   0.000000e+00   -1.520206e+00   0.000000e+00\n",
       "25%    8.378883e+00   3.710933e+00    1.080609e+01   5.037284e+00\n",
       "50%    1.086595e+01   5.204808e+00    1.434429e+01   7.444819e+00\n",
       "75%    1.581039e+01   7.724062e+00    2.119268e+01   1.159587e+01\n",
       "max    3.421422e+19   8.780618e+05    2.250281e+20   1.712306e+03"
      ]
     },
     "execution_count": 9,
     "metadata": {},
     "output_type": "execute_result"
    }
   ],
   "source": [
    "df_prepare = hp.convertDictInDF(hp.putDataInDict(\n",
    "        [data_prepared[:,0], data_prepared[:,1], data_prepared[:,2], data_prepared[:,3]],\n",
    "        ['vectorRRKLD', 'vectorFAmpKLD', 'vectorUFAmpKLD', 'vectorCorrKLD']\n",
    "    ))\n",
    "del data_prepared\n",
    "df_prepare.describe()"
   ]
  },
  {
   "cell_type": "code",
   "execution_count": 10,
   "metadata": {},
   "outputs": [
    {
     "data": {
      "text/plain": [
       "(50253405, 4)"
      ]
     },
     "execution_count": 10,
     "metadata": {},
     "output_type": "execute_result"
    }
   ],
   "source": [
    "df_prepare.shape"
   ]
  },
  {
   "cell_type": "code",
   "execution_count": 11,
   "metadata": {},
   "outputs": [
    {
     "data": {
      "text/plain": [
       "<matplotlib.axes._subplots.AxesSubplot at 0x7f97a329eef0>"
      ]
     },
     "execution_count": 11,
     "metadata": {},
     "output_type": "execute_result"
    },
    {
     "data": {
      "image/png": "[encoded data removed]",
      "text/plain": [
       "<Figure size 432x288 with 1 Axes>"
      ]
     },
     "metadata": {},
     "output_type": "display_data"
    }
   ],
   "source": [
    "df_prepare.boxplot()"
   ]
  },
  {
   "cell_type": "code",
   "execution_count": 12,
   "metadata": {},
   "outputs": [],
   "source": [
    "plt.clf()\n",
    "plt.close()"
   ]
  },
  {
   "cell_type": "markdown",
   "metadata": {},
   "source": [
    "## Take out outliers \n",
    "\n",
    "> threshold = 100 ( zscore )"
   ]
  },
  {
   "cell_type": "code",
   "execution_count": 13,
   "metadata": {},
   "outputs": [],
   "source": [
    "df_o = df_prepare.copy()\n",
    "del df_prepare, df_ALL\n",
    "gc.collect()\n",
    "threshold = 100"
   ]
  },
  {
   "cell_type": "code",
   "execution_count": 14,
   "metadata": {
    "scrolled": true
   },
   "outputs": [
    {
     "name": "stdout",
     "output_type": "stream",
     "text": [
      "(array([], dtype=int64),)\n",
      "(50253405, 4)\n"
     ]
    }
   ],
   "source": [
    "z = np.abs(stats.zscore(df_o['vectorCorrKLD']))\n",
    "print(np.where(z > threshold))\n",
    "df_o3 = df_o.copy()\n",
    "df_o3 = df_o3[(z <= threshold)]\n",
    "print(df_o3.shape)"
   ]
  },
  {
   "cell_type": "code",
   "execution_count": 15,
   "metadata": {},
   "outputs": [
    {
     "name": "stdout",
     "output_type": "stream",
     "text": [
      "(array([18590265, 18590266, 18590267, 18590268, 18590269, 18590977,\n",
      "       18650381, 18650382, 18650383, 18650384, 18650385, 18650386,\n",
      "       18650387, 18650388, 18650389, 18650390, 18650391, 18650392,\n",
      "       18650393, 18650394, 18650395, 18650396, 18650397, 18650398,\n",
      "       18650399, 18650400, 18650401, 18650402, 18650403, 18650404,\n",
      "       18650405, 18650406, 18650407, 18650408, 18650409, 18650410,\n",
      "       18650411, 18650412, 18650413, 18650414, 18650415, 18650416,\n",
      "       18650417, 18650418, 18650419, 18650420, 18650421, 18650422,\n",
      "       18650423, 18650424, 18650425, 18650426, 18650427, 18650428,\n",
      "       18650429, 18650430, 18650431, 18650432, 18650433, 18650434,\n",
      "       18650435, 18650436, 18650437, 18650438, 18650439, 18650440,\n",
      "       18650441, 18650442, 18650443, 18650444, 18650445, 18650446,\n",
      "       18650447, 18650448, 18650449, 18650450, 18650451, 18650452,\n",
      "       18650453, 18650454, 18650455, 18650456, 18650457, 18650458,\n",
      "       18650459, 18650460, 18650461, 18650462, 18650463, 18650464,\n",
      "       18650465, 18650466, 18650467, 18650468, 18650469, 18650470,\n",
      "       18650471, 18650472, 18650473, 18650474, 18650475, 18650476,\n",
      "       18650477, 18650478, 18650479, 18650480, 18650481, 18650482,\n",
      "       18650483, 18650484, 18650485, 18650486, 18650487, 18650488,\n",
      "       18650489, 18650490, 18650491, 18650492, 18650493, 18650494,\n",
      "       18650495, 18650496, 18650497, 18650498, 18650499, 18650500,\n",
      "       18650501, 18650502, 18650503, 18650504, 18650505, 18650506,\n",
      "       18650507, 18650508, 18650509, 18650510, 18650511, 18650512,\n",
      "       18650513, 18650514, 18650515, 18650516, 18650517, 18650518,\n",
      "       18650519, 18650520, 18650521, 18650522, 18650523, 18650524,\n",
      "       18650525, 18650526, 18650527, 18650528, 18650529, 18650530,\n",
      "       18650531, 18650532, 18650533, 18650534, 18650535, 18650536,\n",
      "       18650537, 18650538, 18650539, 18650540, 18650541, 18650542,\n",
      "       18650543, 18650544, 18650545, 18650546, 18650547, 18650548,\n",
      "       18650549, 18650550, 18650551, 18650552, 18650553, 18650554,\n",
      "       18650555, 18650556, 18650557, 18650558, 18650559, 18650560,\n",
      "       18650561, 18650562, 18650563, 18650564, 18650565, 18650566,\n",
      "       18650567, 18650568, 18650569, 18650570, 18650571, 18650572,\n",
      "       18650573, 18650574, 18650575, 18650576, 18650577, 18650578,\n",
      "       18650579, 18650580, 18650581, 18650582, 18650583, 18650584,\n",
      "       18650585, 18650586, 18650587, 18650588, 18650589, 18650590,\n",
      "       18650591, 18650592, 18650593, 18650594, 18650595, 18650596,\n",
      "       18650597, 18650598, 18650599, 18650600, 18650601, 18650602,\n",
      "       18650603, 18650604, 18650605, 18650606, 18650607, 18650608,\n",
      "       18650609, 18650610, 18650611, 18650612, 18650613, 18650614,\n",
      "       18650615, 18650616, 18650617, 18650618, 18650619, 18650620,\n",
      "       18650621, 18650622, 18650623, 18650624, 18650625, 18650626,\n",
      "       18650627, 18650628, 18650629, 18650630, 18650631, 18650632,\n",
      "       18650633, 18650634, 18650635, 18650636, 18650637, 18650638,\n",
      "       18650639, 18650640, 18650641, 18650642, 18650643, 18650644,\n",
      "       18650645, 18650646, 18650647, 18650648, 18650649, 18650650,\n",
      "       18650651, 18650652, 18650653, 18650654, 18650655, 18650656,\n",
      "       18650657, 18650658, 18650659, 18650660, 18650661, 18650662,\n",
      "       18650663, 18650664, 18650665, 18650666, 18650667, 18650668,\n",
      "       18650669, 18650670, 18650671, 18650672, 18650673, 18650674,\n",
      "       18650675, 18650676, 18650677, 18650678, 18650679, 18650680,\n",
      "       18650681, 18650682, 18650683, 18650684, 18650685, 18650686,\n",
      "       18650687, 18650688, 18650689, 18650690, 18650691, 18650692,\n",
      "       18650693, 18650694, 18650695, 18650696, 18650697, 18650698,\n",
      "       18650699, 18650700, 18650701, 18650702, 18650703, 18650704,\n",
      "       18650705, 18650706, 18650707, 18650708, 18650709, 18650710,\n",
      "       18650711, 18650712, 18650713, 18650714, 18650715, 18650716,\n",
      "       18650717, 18650718, 18650719, 18650720, 18650721, 18650722,\n",
      "       18650723, 18650724, 18650725, 18650726, 18650727, 18650728,\n",
      "       18650729, 18650730, 18650731, 18650732, 18650733, 18650734,\n",
      "       18650735, 18650736, 18650737, 18650738, 18650739, 18650740,\n",
      "       18650741, 18650742, 18650743, 18650744, 18650745, 18650746,\n",
      "       18650747, 18650748, 18650749, 18650750, 18650751, 18650752,\n",
      "       18650753, 18650754, 18650755, 18650756, 18650757, 18650758,\n",
      "       18650759, 18650760, 18650761, 18650762, 18650763, 18650764,\n",
      "       18650765, 18650766, 18650767, 18650768, 18650769, 18650770,\n",
      "       18650771, 18650772, 18650773, 18650774, 18650775, 18650776,\n",
      "       18650777, 18650778, 18650779, 18650780, 18650781, 18650782,\n",
      "       18650783, 18650784, 18650785, 18650786, 18650787, 18650788,\n",
      "       18650789, 18650790, 18650791, 18650792, 18650793, 18650794,\n",
      "       18650795, 18650796, 18650797, 18650798, 18650799, 18650800,\n",
      "       18650801, 18650802, 18650803, 18650804, 18650805, 18650806,\n",
      "       18650807, 18650808, 18650809, 18650810, 18650811, 18650812,\n",
      "       18650813, 18650814, 18650815, 18650816, 18650817, 18650818,\n",
      "       18650819, 18650820, 18650821, 18650822, 18650823, 18650824,\n",
      "       18650825, 18650826, 18650827, 18650828, 18650829, 18650830,\n",
      "       18650831, 18650832, 18650833, 18650834, 18650835, 18650836,\n",
      "       18650837, 18650838, 18650839, 18650840, 18650841, 18650842,\n",
      "       18650843, 18650844]),)\n",
      "(50252935, 4)\n"
     ]
    }
   ],
   "source": [
    "z = np.abs(stats.zscore(df_o3['vectorRRKLD']))\n",
    "print(np.where(z > threshold))\n",
    "df_o = df_o3.copy()\n",
    "df_o = df_o[(z <= threshold)]\n",
    "print(df_o.shape)"
   ]
  },
  {
   "cell_type": "code",
   "execution_count": 16,
   "metadata": {},
   "outputs": [
    {
     "name": "stdout",
     "output_type": "stream",
     "text": [
      "(array([18618061, 18618062, 18618063, ..., 18646801, 18646802, 18646803]),)\n",
      "(50251891, 4)\n"
     ]
    }
   ],
   "source": [
    "z = np.abs(stats.zscore(df_o['vectorFAmpKLD']))\n",
    "print(np.where(z > threshold))\n",
    "df_o3 = df_o.copy()\n",
    "df_o3 = df_o3[(z <= threshold)]\n",
    "print(df_o3.shape)"
   ]
  },
  {
   "cell_type": "code",
   "execution_count": null,
   "metadata": {},
   "outputs": [
    {
     "name": "stdout",
     "output_type": "stream",
     "text": [
      "(array([18621082, 18621083, 18621084, 18621085, 18621086, 18621087,\n",
      "       18621088, 18621089, 18621090, 18621091, 18621092, 18621093,\n",
      "       18621094, 18621095, 18621096, 18621097, 18621098, 18621099,\n",
      "       18621100, 18621101, 18621102, 18621103, 18621104, 18621105,\n",
      "       18621106, 18621107, 18621108, 18621109, 18621110, 18621111,\n",
      "       18621112, 18621113, 18621114, 18621115, 18621116, 18621117,\n",
      "       18621118, 18621119, 18621120, 18621121, 18621122]),)\n",
      "(50251850, 4)\n"
     ]
    }
   ],
   "source": [
    "z = np.abs(stats.zscore(df_o3['vectorUFAmpKLD']))\n",
    "print(np.where(z > threshold))\n",
    "df_o = df_o3.copy()\n",
    "df_o = df_o[(z <= threshold)]\n",
    "print(df_o.shape)"
   ]
  },
  {
   "cell_type": "code",
   "execution_count": null,
   "metadata": {
    "scrolled": true
   },
   "outputs": [
    {
     "data": {
      "text/plain": [
       "<matplotlib.axes._subplots.AxesSubplot at 0x7f97d861ef60>"
      ]
     },
     "execution_count": 18,
     "metadata": {},
     "output_type": "execute_result"
    }
   ],
   "source": [
    "del z\n",
    "df_o.boxplot()"
   ]
  },
  {
   "cell_type": "code",
   "execution_count": null,
   "metadata": {},
   "outputs": [],
   "source": [
    "plt.clf()\n",
    "plt.close()"
   ]
  },
  {
   "cell_type": "markdown",
   "metadata": {},
   "source": [
    "# Pre processing"
   ]
  },
  {
   "cell_type": "markdown",
   "metadata": {},
   "source": [
    "## Normalize data"
   ]
  },
  {
   "cell_type": "code",
   "execution_count": null,
   "metadata": {},
   "outputs": [],
   "source": [
    "df_final = df_o\n",
    "del df_o, df_o3\n",
    "gc.collect()"
   ]
  },
  {
   "cell_type": "code",
   "execution_count": null,
   "metadata": {},
   "outputs": [],
   "source": [
    "len(df_final) - df_final.count()"
   ]
  },
  {
   "cell_type": "code",
   "execution_count": null,
   "metadata": {},
   "outputs": [],
   "source": [
    "num_attribs = list(df_final)\n",
    "\n",
    "pipeline = Pipeline([\n",
    "        ('selector', hp.DataFrameSelector(num_attribs)), # to handle pandas data frame\n",
    "        ('std_scaler', StandardScaler())\n",
    "    ])\n",
    "\n",
    "full_pipeline = FeatureUnion(transformer_list=[\n",
    "    (\"main\", pipeline),\n",
    "    ])\n",
    "\n",
    "data_prepared = full_pipeline.fit_transform(df_final)"
   ]
  },
  {
   "cell_type": "code",
   "execution_count": null,
   "metadata": {},
   "outputs": [],
   "source": [
    "df_normalized = hp.convertDictInDF(hp.putDataInDict(\n",
    "        [data_prepared[:,0], data_prepared[:,1], data_prepared[:,2], data_prepared[:,3]],\n",
    "        ['vectorRRKLD_N', 'vectorFAmpKLD_N', 'vectorUFAmpKLD_N', 'vectorCorrKLD_N']\n",
    "    ))\n",
    "df_normalized.describe()"
   ]
  },
  {
   "cell_type": "code",
   "execution_count": null,
   "metadata": {},
   "outputs": [],
   "source": [
    "del data_prepared, full_pipeline, pipeline"
   ]
  },
  {
   "cell_type": "markdown",
   "metadata": {},
   "source": [
    "### PCA"
   ]
  },
  {
   "cell_type": "markdown",
   "metadata": {},
   "source": [
    ">*[0.50219192 0.28210948 0.20605092 0.00964767]* : first 3 carries the most info with standarized data (95%)\n",
    ">\n",
    ">*[0.92169138 0.04827627 0.02278563 0.00724673]* : first 1 carries the most info without standarizing data\n",
    ">\n",
    "> This is how we know we should standarize since it permits the other 2 axes to participate"
   ]
  },
  {
   "cell_type": "code",
   "execution_count": null,
   "metadata": {},
   "outputs": [],
   "source": [
    "X = df_normalized\n",
    "del df_normalized\n",
    "gc.collect()"
   ]
  },
  {
   "cell_type": "code",
   "execution_count": null,
   "metadata": {},
   "outputs": [],
   "source": [
    "pca = PCA(n_components=0.95)\n",
    "pca.fit(X)  \n",
    "print(pca.explained_variance_ratio_) \n",
    "print(pca.singular_values_)\n",
    "print(pca.components_)"
   ]
  },
  {
   "cell_type": "code",
   "execution_count": null,
   "metadata": {
    "scrolled": true
   },
   "outputs": [],
   "source": [
    "X = pca.transform(X)\n",
    "del pca\n",
    "gc.collect()\n",
    "principalDf = pd.DataFrame(data=X, columns=['pc1', 'pc2', 'pc3', 'pc4'])"
   ]
  },
  {
   "cell_type": "code",
   "execution_count": null,
   "metadata": {
    "scrolled": true
   },
   "outputs": [],
   "source": [
    "titles = principalDf.columns.tolist()\n",
    "principalDf.describe()"
   ]
  },
  {
   "cell_type": "code",
   "execution_count": null,
   "metadata": {},
   "outputs": [],
   "source": [
    "del principalDf\n",
    "gc.collect()"
   ]
  },
  {
   "cell_type": "markdown",
   "metadata": {},
   "source": [
    "## 1 Gaussian Mixture Model\n",
    "\n",
    "https://scikit-learn.org/stable/unsupervised_learning.html\n"
   ]
  },
  {
   "cell_type": "code",
   "execution_count": null,
   "metadata": {},
   "outputs": [],
   "source": [
    "n_components_range = range(1, 7)\n",
    "best_gmm, bic, cv_types = cl.getBestGMMUsingBIC(X, n_components_range)"
   ]
  },
  {
   "cell_type": "code",
   "execution_count": null,
   "metadata": {
    "scrolled": true
   },
   "outputs": [],
   "source": [
    "bic = np.array(bic)\n",
    "color_iter = itertools.cycle(['navy', 'turquoise', 'cornflowerblue',\n",
    "                              'darkorange', 'gold', 'tomato'])\n",
    "dp.plotBICScores(bic, cv_types, color_iter, n_components_range)"
   ]
  },
  {
   "cell_type": "code",
   "execution_count": null,
   "metadata": {},
   "outputs": [],
   "source": [
    "fig, ax = plt.subplots(1, 3, figsize=(15, 6))\n",
    "dp.getPlotGMM(best_gmm, X, color_iter, 0, 1, ax[0], titles)\n",
    "dp.getPlotGMM(best_gmm, X, color_iter, 1, 2, ax[1], titles)\n",
    "dp.getPlotGMM(best_gmm, X, color_iter, 0, 2, ax[2], titles)\n",
    "plt.show()\n",
    "fig.clf()\n",
    "plt.close()"
   ]
  },
  {
   "cell_type": "code",
   "execution_count": null,
   "metadata": {},
   "outputs": [],
   "source": [
    "hp.getRepresentativeness(best_gmm, X, best_gmm.predict(X))"
   ]
  },
  {
   "cell_type": "code",
   "execution_count": null,
   "metadata": {},
   "outputs": [],
   "source": [
    "del bic, best_gmm"
   ]
  },
  {
   "cell_type": "markdown",
   "metadata": {},
   "source": [
    "## 2 K-Means\n",
    "\n",
    "[4, 5, 6] components"
   ]
  },
  {
   "cell_type": "code",
   "execution_count": null,
   "metadata": {},
   "outputs": [],
   "source": [
    "Y_, km = cl.getKmeanskClusters(4, X)\n",
    "dp.printThreeKMaeans(X, Y_, titles)\n",
    "print(hp.getRepresentativenessKM(km, X, Y_))\n",
    "del km, Y_\n",
    "plt.clf()\n",
    "plt.close()"
   ]
  },
  {
   "cell_type": "code",
   "execution_count": null,
   "metadata": {},
   "outputs": [],
   "source": [
    "Y_, km = cl.getKmeanskClusters(5, X)\n",
    "dp.printThreeKMaeans(X, Y_, titles)\n",
    "print(hp.getRepresentativenessKM(km, X, Y_))\n",
    "del km, Y_\n",
    "plt.clf()\n",
    "plt.close()"
   ]
  },
  {
   "cell_type": "code",
   "execution_count": null,
   "metadata": {},
   "outputs": [],
   "source": [
    "Y_, km = cl.getKmeanskClusters(6, X)\n",
    "dp.printThreeKMaeans(X, Y_, titles)\n",
    "print(hp.getRepresentativenessKM(km, X, Y_))\n",
    "del km, Y_\n",
    "plt.clf()\n",
    "plt.close()"
   ]
  },
  {
   "cell_type": "markdown",
   "metadata": {},
   "source": [
    "## 3 Mean Shift\n",
    "https://scikit-learn.org/stable/tutorial/machine_learning_map/index.html"
   ]
  },
  {
   "cell_type": "markdown",
   "metadata": {},
   "source": [
    "> Bandwidth is not very different with quantity of samples 50000 or 100000, so for ease of computation, we will use 50000.\n",
    "> \n",
    "> Quantile, it increases  the value of the bandwith, 0.3, gets 1.76 with 7 components, 0.5, gets 2.26 with 4 components"
   ]
  },
  {
   "cell_type": "code",
   "execution_count": null,
   "metadata": {},
   "outputs": [],
   "source": [
    "bandwidth = estimate_bandwidth(X, n_samples=50000, quantile=0.3)\n",
    "bandwidth"
   ]
  },
  {
   "cell_type": "code",
   "execution_count": null,
   "metadata": {},
   "outputs": [],
   "source": [
    "bandwidth2 = estimate_bandwidth(X, n_samples=50000, quantile=0.5)\n",
    "bandwidth2"
   ]
  },
  {
   "cell_type": "code",
   "execution_count": null,
   "metadata": {},
   "outputs": [],
   "source": [
    "bandwidth3 = estimate_bandwidth(X, n_samples=50000, quantile=0.7)\n",
    "bandwidth3"
   ]
  },
  {
   "cell_type": "code",
   "execution_count": null,
   "metadata": {},
   "outputs": [],
   "source": [
    "bandwidth4 = estimate_bandwidth(X, n_samples=50000, quantile=0.2)\n",
    "bandwidth4"
   ]
  },
  {
   "cell_type": "code",
   "execution_count": null,
   "metadata": {
    "scrolled": true
   },
   "outputs": [],
   "source": [
    "ms, n_clusters_, cluster_centers, labels = cl.meanClustering(X, bandwidth)\n",
    "print(hp.getRepresentativenessKM(ms, X, ms.predict(X)))\n",
    "dp.plotMSh(X, ms, n_clusters_, cluster_centers, labels)"
   ]
  },
  {
   "cell_type": "code",
   "execution_count": null,
   "metadata": {},
   "outputs": [],
   "source": [
    "ms1, n_clusters_1, cluster_centers1, labels1 = cl.meanClustering(X, bandwidth2)\n",
    "print(hp.getRepresentativenessKM(ms1, X, ms1.predict(X)))\n",
    "dp.plotMSh(X, ms1, n_clusters_1, cluster_centers1, labels1)"
   ]
  },
  {
   "cell_type": "markdown",
   "metadata": {},
   "source": [
    "## 4 Variational Bayesian Gaussian Mixture"
   ]
  },
  {
   "cell_type": "markdown",
   "metadata": {},
   "source": [
    "Having 5 components, changig the n_init, it has a better distribution in \"representativeness\" with a value of 2 and max_iter = 200"
   ]
  },
  {
   "cell_type": "code",
   "execution_count": null,
   "metadata": {},
   "outputs": [],
   "source": [
    "dpgmm1 = BayesianGaussianMixture(n_components=5,\n",
    "                                max_iter=200, n_init=2,\n",
    "                                covariance_type='full').fit(X)\n",
    "#print(dpgmm1.means_)\n",
    "#print(dpgmm1.covariances_)\n",
    "Y_ = dpgmm1.predict(X)\n",
    "print(hp.getRepresentativeness(dpgmm1, X, Y_))\n",
    "fig, ax = plt.subplots(1, 3, figsize=(15, 6))\n",
    "dp.plotGM(X, Y_, dpgmm1.means_, dpgmm1.covariances_, ax[0], 0, 1, color_iter)\n",
    "dp.plotGM(X, Y_, dpgmm1.means_, dpgmm1.covariances_, ax[1], 1, 2, color_iter)\n",
    "dp.plotGM(X, Y_, dpgmm1.means_, dpgmm1.covariances_, ax[2], 0, 2, color_iter)\n",
    "plt.show()\n",
    "fig.clf()\n",
    "plt.close()"
   ]
  },
  {
   "cell_type": "code",
   "execution_count": null,
   "metadata": {},
   "outputs": [],
   "source": [
    "dpgmm3 = BayesianGaussianMixture(n_components=4,\n",
    "                                max_iter=200, n_init=2,\n",
    "                                covariance_type='full').fit(X)\n",
    "#print(dpgmm3.means_)\n",
    "#print(dpgmm3.covariances_)\n",
    "Y_ = dpgmm3.predict(X)\n",
    "print(hp.getRepresentativeness(dpgmm3, X, Y_))\n",
    "fig, ax = plt.subplots(1, 3, figsize=(15, 6))\n",
    "dp.plotGM(X, Y_, dpgmm3.means_, dpgmm3.covariances_, ax[0], 0, 1, color_iter)\n",
    "dp.plotGM(X, Y_, dpgmm3.means_, dpgmm3.covariances_, ax[1], 1, 2, color_iter)\n",
    "dp.plotGM(X, Y_, dpgmm3.means_, dpgmm3.covariances_, ax[2], 0, 2, color_iter)\n",
    "plt.show()\n",
    "fig.clf()\n",
    "plt.close()"
   ]
  },
  {
   "cell_type": "code",
   "execution_count": null,
   "metadata": {},
   "outputs": [],
   "source": [
    "# modify n_jobs maybe???,,"
   ]
  }
 ],
 "metadata": {
  "kernelspec": {
   "display_name": "Python 3",
   "language": "python",
   "name": "python3"
  },
  "language_info": {
   "codemirror_mode": {
    "name": "ipython",
    "version": 3
   },
   "file_extension": ".py",
   "mimetype": "text/x-python",
   "name": "python",
   "nbconvert_exporter": "python",
   "pygments_lexer": "ipython3",
   "version": "3.6.8"
  }
 },
 "nbformat": 4,
 "nbformat_minor": 2
}
